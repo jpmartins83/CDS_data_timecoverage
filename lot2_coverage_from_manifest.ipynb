{
 "cells": [
  {
   "cell_type": "code",
   "execution_count": 1,
   "metadata": {},
   "outputs": [
    {
     "name": "stdout",
     "output_type": "stream",
     "text": [
      "         algorithm_version platform_sensor  startdate    enddate\n",
      "0        ADV_v2.30_ENVISAT   AATSR-ENVISAT 2002-05-01 2007-05-01\n",
      "1        ADV_v2.30_ENVISAT   AATSR-ENVISAT 2007-07-01 2012-04-01\n",
      "2           ADV_v2.30_ERS2      ATSR2-ERS2 1995-06-01 1995-12-01\n",
      "3           ADV_v2.30_ERS2      ATSR2-ERS2 1996-07-01 2003-04-01\n",
      "4        ADV_v3.11_ENVISAT   AATSR-ENVISAT 2002-05-01 2012-04-01\n",
      "..                     ...             ...        ...        ...\n",
      "185     ensemble_v3.0_ERS2      ATSR2-ERS2 1995-06-01 1995-12-01\n",
      "186     ensemble_v3.0_ERS2      ATSR2-ERS2 1996-07-01 2003-06-01\n",
      "187  ensemble_v3.1_ENVISAT   AATSR-ENVISAT 2002-05-01 2012-04-01\n",
      "188     ensemble_v3.1_ERS2      ATSR2-ERS2 1995-06-01 1995-12-01\n",
      "189     ensemble_v3.1_ERS2      ATSR2-ERS2 1996-07-01 2003-06-01\n",
      "\n",
      "[190 rows x 4 columns]\n"
     ]
    },
    {
     "data": {
      "application/vnd.plotly.v1+json": {
       "config": {
        "plotlyServerURL": "https://plot.ly"
       },
       "data": [
        {
         "alignmentgroup": "True",
         "base": [
          "2002-05-01T00:00:00",
          "2007-07-01T00:00:00",
          "2002-05-01T00:00:00",
          "2002-08-01T00:00:00",
          "2002-06-01T00:00:00",
          "2003-05-01T00:00:00",
          "2003-08-01T00:00:00",
          "2002-05-01T00:00:00",
          "2003-04-01T00:00:00",
          "2004-12-01T00:00:00",
          "2011-12-01T00:00:00",
          "2002-05-01T00:00:00",
          "2002-05-01T00:00:00",
          "2002-05-01T00:00:00",
          "2002-05-01T00:00:00",
          "2002-01-01T00:00:00",
          "2002-05-01T00:00:00",
          "2003-04-01T00:00:00",
          "2002-05-01T00:00:00",
          "2002-05-01T00:00:00"
         ],
         "hovertemplate": "platform_sensor=AATSR-ENVISAT<br>startdate=%{base}<br>enddate=%{x}<br>algorithm_version=%{y}<extra></extra>",
         "legendgroup": "AATSR-ENVISAT",
         "marker": {
          "color": "#636efa",
          "pattern": {
           "shape": ""
          }
         },
         "name": "AATSR-ENVISAT",
         "offsetgroup": "AATSR-ENVISAT",
         "orientation": "h",
         "showlegend": true,
         "textposition": "auto",
         "type": "bar",
         "x": [
          157766400000,
          149990400000,
          313027200000,
          305078400000,
          2592000000,
          0,
          273542400000,
          18489600000,
          44841600000,
          215568000000,
          10540800000,
          313027200000,
          313027200000,
          313027200000,
          313027200000,
          323395200000,
          18489600000,
          284083200000,
          313027200000,
          313027200000
         ],
         "xaxis": "x",
         "y": [
          "ADV_v2.30_ENVISAT",
          "ADV_v2.30_ENVISAT",
          "ADV_v3.11_ENVISAT",
          "ADV_v4.0_ENVISAT",
          "ADV_v4.1_ENVISAT",
          "ADV_v4.1_ENVISAT",
          "ADV_v4.1_ENVISAT",
          "ORAC_v4.01_ENVISAT",
          "ORAC_v4.01_ENVISAT",
          "ORAC_v4.01_ENVISAT",
          "ORAC_v4.01_ENVISAT",
          "ORAC_v4.02_ENVISAT",
          "SWANSEA_v4.3_ENVISAT",
          "SWANSEA_v4.32_ENVISAT",
          "SWANSEA_v4.33_ENVISAT",
          "ensemble_v2.6_ENVISAT",
          "ensemble_v2.9_ENVISAT",
          "ensemble_v2.9_ENVISAT",
          "ensemble_v3.0_ENVISAT",
          "ensemble_v3.1_ENVISAT"
         ],
         "yaxis": "y"
        },
        {
         "alignmentgroup": "True",
         "base": [
          "1995-06-01T00:00:00",
          "1996-07-01T00:00:00",
          "1995-06-01T00:00:00",
          "1996-07-01T00:00:00",
          "1995-06-01T00:00:00",
          "1996-07-01T00:00:00",
          "1995-06-01T00:00:00",
          "1996-07-01T00:00:00",
          "1995-06-01T00:00:00",
          "1996-07-01T00:00:00",
          "2000-10-01T00:00:00",
          "1995-06-01T00:00:00",
          "1996-07-01T00:00:00",
          "1995-06-01T00:00:00",
          "1996-07-01T00:00:00",
          "1995-06-01T00:00:00",
          "1996-07-01T00:00:00",
          "1995-06-01T00:00:00",
          "1996-07-01T00:00:00",
          "1997-01-01T00:00:00",
          "1997-11-01T00:00:00",
          "2000-08-01T00:00:00",
          "2001-03-01T00:00:00",
          "1995-06-01T00:00:00",
          "1996-07-01T00:00:00",
          "1996-07-01T00:00:00",
          "1995-06-01T00:00:00",
          "1996-07-01T00:00:00",
          "1995-06-01T00:00:00",
          "1996-07-01T00:00:00",
          "1995-06-01T00:00:00",
          "1996-07-01T00:00:00"
         ],
         "hovertemplate": "platform_sensor=ATSR2-ERS2<br>startdate=%{base}<br>enddate=%{x}<br>algorithm_version=%{y}<extra></extra>",
         "legendgroup": "ATSR2-ERS2",
         "marker": {
          "color": "#EF553B",
          "pattern": {
           "shape": ""
          }
         },
         "name": "ATSR2-ERS2",
         "offsetgroup": "ATSR2-ERS2",
         "orientation": "h",
         "showlegend": true,
         "textposition": "auto",
         "type": "bar",
         "x": [
          15811200000,
          212976000000,
          15811200000,
          170985600000,
          15811200000,
          212976000000,
          15811200000,
          212976000000,
          15811200000,
          128908800000,
          84067200000,
          15811200000,
          223516800000,
          15811200000,
          218246400000,
          15811200000,
          218246400000,
          15811200000,
          10627200000,
          20995200000,
          81475200000,
          13219200000,
          71020800000,
          15811200000,
          218246400000,
          202521600000,
          15811200000,
          202521600000,
          15811200000,
          218246400000,
          15811200000,
          218246400000
         ],
         "xaxis": "x",
         "y": [
          "ADV_v2.30_ERS2",
          "ADV_v2.30_ERS2",
          "ADV_v3.11_ERS2",
          "ADV_v3.11_ERS2",
          "ADV_v4.0_ERS2",
          "ADV_v4.0_ERS2",
          "ADV_v4.1_ERS2",
          "ADV_v4.1_ERS2",
          "ORAC_v4.01_ERS2",
          "ORAC_v4.01_ERS2",
          "ORAC_v4.01_ERS2",
          "ORAC_v4.02_ERS2",
          "ORAC_v4.02_ERS2",
          "SWANSEA_v4.3_ERS2",
          "SWANSEA_v4.3_ERS2",
          "SWANSEA_v4.32_ERS2",
          "SWANSEA_v4.32_ERS2",
          "SWANSEA_v4.32.latest_ERS2",
          "SWANSEA_v4.32.latest_ERS2",
          "SWANSEA_v4.32.latest_ERS2",
          "SWANSEA_v4.32.latest_ERS2",
          "SWANSEA_v4.32.latest_ERS2",
          "SWANSEA_v4.32.latest_ERS2",
          "SWANSEA_v4.33_ERS2",
          "SWANSEA_v4.33_ERS2",
          "ensemble_v2.6_ERS2",
          "ensemble_v2.9_ERS2",
          "ensemble_v2.9_ERS2",
          "ensemble_v3.0_ERS2",
          "ensemble_v3.0_ERS2",
          "ensemble_v3.1_ERS2",
          "ensemble_v3.1_ERS2"
         ],
         "yaxis": "y"
        },
        {
         "alignmentgroup": "True",
         "base": [
          "2005-03-01T00:00:00",
          "2005-03-01T00:00:00",
          "2012-01-01T00:00:00",
          "2013-01-01T00:00:00",
          "2005-03-01T00:00:00",
          "2005-04-01T00:00:00"
         ],
         "hovertemplate": "platform_sensor=POLDER-PARASOL<br>startdate=%{base}<br>enddate=%{x}<br>algorithm_version=%{y}<extra></extra>",
         "legendgroup": "POLDER-PARASOL",
         "marker": {
          "color": "#00cc96",
          "pattern": {
           "shape": ""
          }
         },
         "name": "POLDER-PARASOL",
         "offsetgroup": "POLDER-PARASOL",
         "orientation": "h",
         "showlegend": true,
         "textposition": "auto",
         "type": "bar",
         "x": [
          270950400000,
          210470400000,
          26352000000,
          23587200000,
          270950400000,
          268272000000
         ],
         "xaxis": "x",
         "y": [
          "GRASP_v0.08_PARASOL",
          "GRASP_v2.01_PARASOL",
          "GRASP_v2.01_PARASOL",
          "GRASP_v2.01_PARASOL",
          "GRASP_v2.10_PARASOL",
          "GRASP_v2.20_PARASOL"
         ],
         "yaxis": "y"
        },
        {
         "alignmentgroup": "True",
         "base": [
          "2007-05-01T00:00:00",
          "2010-03-01T00:00:00",
          "2010-09-01T00:00:00",
          "2011-04-01T00:00:00",
          "2011-06-01T00:00:00",
          "2014-12-01T00:00:00",
          "2015-08-01T00:00:00",
          "2017-07-01T00:00:00",
          "2007-05-01T00:00:00",
          "2010-03-01T00:00:00",
          "2010-09-01T00:00:00",
          "2011-04-01T00:00:00",
          "2011-06-01T00:00:00",
          "2014-12-01T00:00:00",
          "2015-08-01T00:00:00",
          "2017-07-01T00:00:00",
          "2007-05-01T00:00:00",
          "2010-03-01T00:00:00",
          "2010-09-01T00:00:00",
          "2011-04-01T00:00:00",
          "2011-06-01T00:00:00",
          "2014-12-01T00:00:00",
          "2015-08-01T00:00:00",
          "2017-07-01T00:00:00",
          "2007-05-01T00:00:00",
          "2007-05-01T00:00:00",
          "2007-05-01T00:00:00",
          "2007-05-01T00:00:00",
          "2007-05-01T00:00:00",
          "2007-05-01T00:00:00",
          "2007-07-01T00:00:00",
          "2007-07-01T00:00:00",
          "2007-07-01T00:00:00",
          "2007-07-01T00:00:00",
          "2007-07-01T00:00:00",
          "2007-07-01T00:00:00",
          "2017-10-01T00:00:00",
          "2018-10-01T00:00:00",
          "2007-01-01T00:00:00",
          "2007-01-01T00:00:00",
          "2007-09-01T00:00:00",
          "2007-09-01T00:00:00",
          "2007-09-01T00:00:00",
          "2017-07-01T00:00:00",
          "2017-07-01T00:00:00",
          "2017-07-01T00:00:00",
          "2018-01-01T00:00:00",
          "2018-01-01T00:00:00",
          "2018-01-01T00:00:00",
          "2007-09-01T00:00:00",
          "2007-09-01T00:00:00",
          "2007-09-01T00:00:00",
          "2007-08-01T00:00:00",
          "2007-08-01T00:00:00",
          "2007-08-01T00:00:00",
          "2007-10-01T00:00:00",
          "2007-10-01T00:00:00",
          "2007-10-01T00:00:00",
          "2007-10-01T00:00:00",
          "2007-10-01T00:00:00",
          "2007-10-01T00:00:00",
          "2018-07-01T00:00:00",
          "2007-10-01T00:00:00",
          "2007-07-01T00:00:00"
         ],
         "hovertemplate": "platform_sensor=IASI-METOPA<br>startdate=%{base}<br>enddate=%{x}<br>algorithm_version=%{y}<extra></extra>",
         "legendgroup": "IASI-METOPA",
         "marker": {
          "color": "#ab63fa",
          "pattern": {
           "shape": ""
          }
         },
         "name": "IASI-METOPA",
         "offsetgroup": "IASI-METOPA",
         "orientation": "h",
         "showlegend": true,
         "textposition": "auto",
         "type": "bar",
         "x": [
          81648000000,
          10540800000,
          7862400000,
          0,
          94694400000,
          15724800000,
          0,
          20995200000,
          81648000000,
          10540800000,
          7862400000,
          0,
          94694400000,
          15724800000,
          0,
          20995200000,
          81648000000,
          10540800000,
          7862400000,
          0,
          94694400000,
          15724800000,
          0,
          20995200000,
          412992000000,
          412992000000,
          412992000000,
          412992000000,
          412992000000,
          412992000000,
          407721600000,
          407721600000,
          407721600000,
          297302400000,
          297302400000,
          318297600000,
          26265600000,
          94694400000,
          465436800000,
          465436800000,
          270864000000,
          270864000000,
          270864000000,
          13219200000,
          13219200000,
          13219200000,
          5097600000,
          5097600000,
          5097600000,
          412905600000,
          412905600000,
          412905600000,
          441849600000,
          441849600000,
          441849600000,
          399772800000,
          399772800000,
          399772800000,
          441849600000,
          441849600000,
          441849600000,
          60566400000,
          399772800000,
          407721600000
         ],
         "xaxis": "x",
         "y": [
          "IMARS_v5.2ALL_METOPA",
          "IMARS_v5.2ALL_METOPA",
          "IMARS_v5.2ALL_METOPA",
          "IMARS_v5.2ALL_METOPA",
          "IMARS_v5.2ALL_METOPA",
          "IMARS_v5.2ALL_METOPA",
          "IMARS_v5.2ALL_METOPA",
          "IMARS_v5.2ALL_METOPA",
          "IMARS_v5.2AN_METOPA",
          "IMARS_v5.2AN_METOPA",
          "IMARS_v5.2AN_METOPA",
          "IMARS_v5.2AN_METOPA",
          "IMARS_v5.2AN_METOPA",
          "IMARS_v5.2AN_METOPA",
          "IMARS_v5.2AN_METOPA",
          "IMARS_v5.2AN_METOPA",
          "IMARS_v5.2DN_METOPA",
          "IMARS_v5.2DN_METOPA",
          "IMARS_v5.2DN_METOPA",
          "IMARS_v5.2DN_METOPA",
          "IMARS_v5.2DN_METOPA",
          "IMARS_v5.2DN_METOPA",
          "IMARS_v5.2DN_METOPA",
          "IMARS_v5.2DN_METOPA",
          "IMARS_v6.0ALL_METOPA",
          "IMARS_v6.0AN_METOPA",
          "IMARS_v6.0DN_METOPA",
          "IMARS_v7.0ALL_METOPA",
          "IMARS_v7.0AN_METOPA",
          "IMARS_v7.0DN_METOPA",
          "IMARS_v7.1ALL_METOPA",
          "IMARS_v7.1AN_METOPA",
          "IMARS_v7.1DN_METOPA",
          "LMD_v2.1AN_METOPA",
          "LMD_v2.1DN_METOPA",
          "LMD_v2.2ALL_METOPA",
          "LMD_v2.2ALL_METOPA",
          "LMD_v2.2ALL_METOPA",
          "LMD_v2.2AN_METOPA",
          "LMD_v2.2DN_METOPA",
          "MAPIR_v3.51ALL_METOPA",
          "MAPIR_v3.51AN_METOPA",
          "MAPIR_v3.51DN_METOPA",
          "MAPIR_v3.7ALL_METOPA",
          "MAPIR_v3.7AN_METOPA",
          "MAPIR_v3.7DN_METOPA",
          "MAPIR_v4.0ALL_METOPA",
          "MAPIR_v4.0AN_METOPA",
          "MAPIR_v4.0DN_METOPA",
          "MAPIR_v4.1ALL_METOPA",
          "MAPIR_v4.1AN_METOPA",
          "MAPIR_v4.1DN_METOPA",
          "MAPIR_v5.1ALL_METOPA",
          "MAPIR_v5.1AN_METOPA",
          "MAPIR_v5.1DN_METOPA",
          "ULB_v8ALL_METOPA",
          "ULB_v8AN_METOPA",
          "ULB_v8DN_METOPA",
          "ULB_v9ALL_METOPA",
          "ULB_v9AN_METOPA",
          "ULB_v9DN_METOPA",
          "ensemble_v1.0DN_METOPA",
          "ensemble_v1.1DN_METOPA",
          "ensemble_v1.4DN_METOPA"
         ],
         "yaxis": "y"
        },
        {
         "alignmentgroup": "True",
         "base": [
          "2020-07-01T00:00:00",
          "2022-07-01T00:00:00",
          "2020-07-01T00:00:00",
          "2020-07-01T00:00:00",
          "2020-07-01T00:00:00",
          "2020-07-01T00:00:00",
          "2020-07-01T00:00:00",
          "2019-06-01T00:00:00",
          "2019-06-01T00:00:00",
          "2019-06-01T00:00:00",
          "2019-09-01T00:00:00",
          "2019-09-01T00:00:00",
          "2019-09-01T00:00:00",
          "2023-01-01T00:00:00",
          "2023-01-01T00:00:00",
          "2023-01-01T00:00:00",
          "2019-11-01T00:00:00",
          "2019-11-01T00:00:00",
          "2019-11-01T00:00:00",
          "2020-01-01T00:00:00",
          "2020-01-01T00:00:00",
          "2020-01-01T00:00:00",
          "2019-09-01T00:00:00",
          "2019-09-01T00:00:00",
          "2019-09-01T00:00:00",
          "2020-07-01T00:00:00",
          "2022-01-01T00:00:00",
          "2023-01-01T00:00:00",
          "2020-07-01T00:00:00"
         ],
         "hovertemplate": "platform_sensor=IASI-METOPC<br>startdate=%{base}<br>enddate=%{x}<br>algorithm_version=%{y}<extra></extra>",
         "legendgroup": "IASI-METOPC",
         "marker": {
          "color": "#FFA15A",
          "pattern": {
           "shape": ""
          }
         },
         "name": "IASI-METOPC",
         "offsetgroup": "IASI-METOPC",
         "orientation": "h",
         "showlegend": true,
         "textposition": "auto",
         "type": "bar",
         "x": [
          57801600000,
          28944000000,
          92016000000,
          92016000000,
          92016000000,
          92016000000,
          92016000000,
          136771200000,
          136771200000,
          136771200000,
          102556800000,
          102556800000,
          102556800000,
          13046400000,
          13046400000,
          13046400000,
          113011200000,
          113011200000,
          113011200000,
          60480000000,
          60480000000,
          60480000000,
          126230400000,
          126230400000,
          126230400000,
          44755200000,
          28857600000,
          13046400000,
          92016000000
         ],
         "xaxis": "x",
         "y": [
          "IMARS_v7.0ALL_METOPC",
          "IMARS_v7.0ALL_METOPC",
          "IMARS_v7.0AN_METOPC",
          "IMARS_v7.0DN_METOPC",
          "IMARS_v7.1ALL_METOPC",
          "IMARS_v7.1AN_METOPC",
          "IMARS_v7.1DN_METOPC",
          "LMD_v2.2ALL_METOPC",
          "LMD_v2.2AN_METOPC",
          "LMD_v2.2DN_METOPC",
          "MAPIR_v4.1ALL_METOPC",
          "MAPIR_v4.1AN_METOPC",
          "MAPIR_v4.1DN_METOPC",
          "MAPIR_v5.0ALL_METOPC",
          "MAPIR_v5.0AN_METOPC",
          "MAPIR_v5.0DN_METOPC",
          "MAPIR_v5.1ALL_METOPC",
          "MAPIR_v5.1AN_METOPC",
          "MAPIR_v5.1DN_METOPC",
          "ULB_v8ALL_METOPC",
          "ULB_v8AN_METOPC",
          "ULB_v8DN_METOPC",
          "ULB_v9ALL_METOPC",
          "ULB_v9AN_METOPC",
          "ULB_v9DN_METOPC",
          "ensemble_v1.1DN_METOPC",
          "ensemble_v1.2DN_METOPC",
          "ensemble_v1.3DN_METOPC",
          "ensemble_v1.4DN_METOPC"
         ],
         "yaxis": "y"
        },
        {
         "alignmentgroup": "True",
         "base": [
          "2017-01-01T00:00:00",
          "2017-07-01T00:00:00",
          "2017-07-01T00:00:00",
          "2017-07-01T00:00:00",
          "2018-01-01T00:00:00",
          "2018-05-01T00:00:00",
          "2017-06-01T00:00:00",
          "2017-06-01T00:00:00",
          "2020-07-01T00:00:00",
          "2017-06-01T00:00:00",
          "2017-07-01T00:00:00",
          "2017-07-01T00:00:00",
          "2017-07-01T00:00:00",
          "2019-01-01T00:00:00",
          "2020-01-01T00:00:00",
          "2017-07-01T00:00:00",
          "2020-07-01T00:00:00",
          "2017-07-01T00:00:00"
         ],
         "hovertemplate": "platform_sensor=SLSTR-SENTINEL3A<br>startdate=%{base}<br>enddate=%{x}<br>algorithm_version=%{y}<extra></extra>",
         "legendgroup": "SLSTR-SENTINEL3A",
         "marker": {
          "color": "#19d3f3",
          "pattern": {
           "shape": ""
          }
         },
         "name": "SLSTR-SENTINEL3A",
         "offsetgroup": "SLSTR-SENTINEL3A",
         "orientation": "h",
         "showlegend": true,
         "textposition": "auto",
         "type": "bar",
         "x": [
          2678400000,
          186710400000,
          20995200000,
          44755200000,
          5097600000,
          65836800000,
          94694400000,
          81561600000,
          92016000000,
          189302400000,
          20995200000,
          76291200000,
          186710400000,
          28857600000,
          13132800000,
          92102400000,
          92016000000,
          186710400000
         ],
         "xaxis": "x",
         "y": [
          "ORAC_v1.00_SENTINEL3A",
          "ORAC_v1.00_SENTINEL3A",
          "SDV_v1.00_SENTINEL3A",
          "SDV_v1.10_SENTINEL3A",
          "SDV_v2.00_SENTINEL3A",
          "SDV_v2.00_SENTINEL3A",
          "SDV_v2.10_SENTINEL3A",
          "SDV_v2.20_SENTINEL3A",
          "SDV_v2.20_SENTINEL3A",
          "SDV_v2.30_SENTINEL3A",
          "SWANSEA_v1.00_SENTINEL3A",
          "SWANSEA_v1.11_SENTINEL3A",
          "SWANSEA_v1.12_SENTINEL3A",
          "ensemble_v1.2_SENTINEL3A",
          "ensemble_v2.0_SENTINEL3A",
          "ensemble_v2.1_SENTINEL3A",
          "ensemble_v2.2_SENTINEL3A",
          "ensemble_v2.3_SENTINEL3A"
         ],
         "yaxis": "y"
        },
        {
         "alignmentgroup": "True",
         "base": [
          "2008-01-01T00:00:00",
          "2002-05-01T00:00:00",
          "2007-12-01T00:00:00",
          "2008-01-01T00:00:00",
          "2002-04-01T00:00:00",
          "2012-01-01T00:00:00",
          "2002-05-01T00:00:00",
          "2012-01-01T00:00:00"
         ],
         "hovertemplate": "platform_sensor=MERIS-ENVISAT<br>startdate=%{base}<br>enddate=%{x}<br>algorithm_version=%{y}<extra></extra>",
         "legendgroup": "MERIS-ENVISAT",
         "marker": {
          "color": "#FF6692",
          "pattern": {
           "shape": ""
          }
         },
         "name": "MERIS-ENVISAT",
         "offsetgroup": "MERIS-ENVISAT",
         "orientation": "h",
         "showlegend": true,
         "textposition": "auto",
         "type": "bar",
         "x": [
          28944000000,
          170985600000,
          136771200000,
          28944000000,
          299808000000,
          7862400000,
          297216000000,
          5184000000
         ],
         "xaxis": "x",
         "y": [
          "S4M_v4.8a_ENVISAT",
          "S4M_v7.0a_ENVISAT",
          "S4M_v7.0a_ENVISAT",
          "XBAER_v2.1_ENVISAT",
          "XBAER_v2.3_ENVISAT",
          "XBAER_v2.3_ENVISAT",
          "ensemble_v1.0_ENVISAT",
          "ensemble_v1.0_ENVISAT"
         ],
         "yaxis": "y"
        },
        {
         "alignmentgroup": "True",
         "base": [
          "2018-07-01T00:00:00",
          "2016-04-01T00:00:00",
          "2016-11-01T00:00:00",
          "2018-07-01T00:00:00",
          "2016-11-01T00:00:00"
         ],
         "hovertemplate": "platform_sensor=OLCI-SENTINEL3A<br>startdate=%{base}<br>enddate=%{x}<br>algorithm_version=%{y}<extra></extra>",
         "legendgroup": "OLCI-SENTINEL3A",
         "marker": {
          "color": "#B6E880",
          "pattern": {
           "shape": ""
          }
         },
         "name": "OLCI-SENTINEL3A",
         "offsetgroup": "OLCI-SENTINEL3A",
         "orientation": "h",
         "showlegend": true,
         "textposition": "auto",
         "type": "bar",
         "x": [
          60566400000,
          226108800000,
          207619200000,
          60566400000,
          207619200000
         ],
         "xaxis": "x",
         "y": [
          "S4O_v1.0_SENTINEL3A",
          "S4O_v2.0_SENTINEL3A",
          "XBAER_v1.0_SENTINEL3A",
          "ensemble_v1.0_SENTINEL3A",
          "ensemble_v1.1_SENTINEL3A"
         ],
         "yaxis": "y"
        },
        {
         "alignmentgroup": "True",
         "base": [
          "2018-11-01T00:00:00",
          "2019-01-01T00:00:00",
          "2020-05-01T00:00:00",
          "2018-11-01T00:00:00",
          "2018-11-01T00:00:00"
         ],
         "hovertemplate": "platform_sensor=SLSTR-SENTINEL3B<br>startdate=%{base}<br>enddate=%{x}<br>algorithm_version=%{y}<extra></extra>",
         "legendgroup": "SLSTR-SENTINEL3B",
         "marker": {
          "color": "#FF97FF",
          "pattern": {
           "shape": ""
          }
         },
         "name": "SLSTR-SENTINEL3B",
         "offsetgroup": "SLSTR-SENTINEL3B",
         "orientation": "h",
         "showlegend": true,
         "textposition": "auto",
         "type": "bar",
         "x": [
          2592000000,
          28857600000,
          0,
          49939200000,
          144547200000
         ],
         "xaxis": "x",
         "y": [
          "SDV_v1.10_SENTINEL3B",
          "SDV_v2.00_SENTINEL3B",
          "SDV_v2.00_SENTINEL3B",
          "SDV_v2.10_SENTINEL3B",
          "SWANSEA_v1.12_SENTINEL3B"
         ],
         "yaxis": "y"
        },
        {
         "alignmentgroup": "True",
         "base": [
          "2013-03-01T00:00:00",
          "2013-03-01T00:00:00",
          "2013-03-01T00:00:00"
         ],
         "hovertemplate": "platform_sensor=IASI-METOPB<br>startdate=%{base}<br>enddate=%{x}<br>algorithm_version=%{y}<extra></extra>",
         "legendgroup": "IASI-METOPB",
         "marker": {
          "color": "#FECB52",
          "pattern": {
           "shape": ""
          }
         },
         "name": "IASI-METOPB",
         "offsetgroup": "IASI-METOPB",
         "orientation": "h",
         "showlegend": true,
         "textposition": "auto",
         "type": "bar",
         "x": [
          331430400000,
          331430400000,
          331430400000
         ],
         "xaxis": "x",
         "y": [
          "ULB_v9ALL_METOPB",
          "ULB_v9AN_METOPB",
          "ULB_v9DN_METOPB"
         ],
         "yaxis": "y"
        }
       ],
       "layout": {
        "autosize": true,
        "barmode": "overlay",
        "height": 2000,
        "legend": {
         "title": {
          "text": "platform_sensor"
         },
         "tracegroupgap": 0
        },
        "template": {
         "data": {
          "bar": [
           {
            "error_x": {
             "color": "#2a3f5f"
            },
            "error_y": {
             "color": "#2a3f5f"
            },
            "marker": {
             "line": {
              "color": "#E5ECF6",
              "width": 0.5
             },
             "pattern": {
              "fillmode": "overlay",
              "size": 10,
              "solidity": 0.2
             }
            },
            "type": "bar"
           }
          ],
          "barpolar": [
           {
            "marker": {
             "line": {
              "color": "#E5ECF6",
              "width": 0.5
             },
             "pattern": {
              "fillmode": "overlay",
              "size": 10,
              "solidity": 0.2
             }
            },
            "type": "barpolar"
           }
          ],
          "carpet": [
           {
            "aaxis": {
             "endlinecolor": "#2a3f5f",
             "gridcolor": "white",
             "linecolor": "white",
             "minorgridcolor": "white",
             "startlinecolor": "#2a3f5f"
            },
            "baxis": {
             "endlinecolor": "#2a3f5f",
             "gridcolor": "white",
             "linecolor": "white",
             "minorgridcolor": "white",
             "startlinecolor": "#2a3f5f"
            },
            "type": "carpet"
           }
          ],
          "choropleth": [
           {
            "colorbar": {
             "outlinewidth": 0,
             "ticks": ""
            },
            "type": "choropleth"
           }
          ],
          "contour": [
           {
            "colorbar": {
             "outlinewidth": 0,
             "ticks": ""
            },
            "colorscale": [
             [
              0,
              "#0d0887"
             ],
             [
              0.1111111111111111,
              "#46039f"
             ],
             [
              0.2222222222222222,
              "#7201a8"
             ],
             [
              0.3333333333333333,
              "#9c179e"
             ],
             [
              0.4444444444444444,
              "#bd3786"
             ],
             [
              0.5555555555555556,
              "#d8576b"
             ],
             [
              0.6666666666666666,
              "#ed7953"
             ],
             [
              0.7777777777777778,
              "#fb9f3a"
             ],
             [
              0.8888888888888888,
              "#fdca26"
             ],
             [
              1,
              "#f0f921"
             ]
            ],
            "type": "contour"
           }
          ],
          "contourcarpet": [
           {
            "colorbar": {
             "outlinewidth": 0,
             "ticks": ""
            },
            "type": "contourcarpet"
           }
          ],
          "heatmap": [
           {
            "colorbar": {
             "outlinewidth": 0,
             "ticks": ""
            },
            "colorscale": [
             [
              0,
              "#0d0887"
             ],
             [
              0.1111111111111111,
              "#46039f"
             ],
             [
              0.2222222222222222,
              "#7201a8"
             ],
             [
              0.3333333333333333,
              "#9c179e"
             ],
             [
              0.4444444444444444,
              "#bd3786"
             ],
             [
              0.5555555555555556,
              "#d8576b"
             ],
             [
              0.6666666666666666,
              "#ed7953"
             ],
             [
              0.7777777777777778,
              "#fb9f3a"
             ],
             [
              0.8888888888888888,
              "#fdca26"
             ],
             [
              1,
              "#f0f921"
             ]
            ],
            "type": "heatmap"
           }
          ],
          "heatmapgl": [
           {
            "colorbar": {
             "outlinewidth": 0,
             "ticks": ""
            },
            "colorscale": [
             [
              0,
              "#0d0887"
             ],
             [
              0.1111111111111111,
              "#46039f"
             ],
             [
              0.2222222222222222,
              "#7201a8"
             ],
             [
              0.3333333333333333,
              "#9c179e"
             ],
             [
              0.4444444444444444,
              "#bd3786"
             ],
             [
              0.5555555555555556,
              "#d8576b"
             ],
             [
              0.6666666666666666,
              "#ed7953"
             ],
             [
              0.7777777777777778,
              "#fb9f3a"
             ],
             [
              0.8888888888888888,
              "#fdca26"
             ],
             [
              1,
              "#f0f921"
             ]
            ],
            "type": "heatmapgl"
           }
          ],
          "histogram": [
           {
            "marker": {
             "pattern": {
              "fillmode": "overlay",
              "size": 10,
              "solidity": 0.2
             }
            },
            "type": "histogram"
           }
          ],
          "histogram2d": [
           {
            "colorbar": {
             "outlinewidth": 0,
             "ticks": ""
            },
            "colorscale": [
             [
              0,
              "#0d0887"
             ],
             [
              0.1111111111111111,
              "#46039f"
             ],
             [
              0.2222222222222222,
              "#7201a8"
             ],
             [
              0.3333333333333333,
              "#9c179e"
             ],
             [
              0.4444444444444444,
              "#bd3786"
             ],
             [
              0.5555555555555556,
              "#d8576b"
             ],
             [
              0.6666666666666666,
              "#ed7953"
             ],
             [
              0.7777777777777778,
              "#fb9f3a"
             ],
             [
              0.8888888888888888,
              "#fdca26"
             ],
             [
              1,
              "#f0f921"
             ]
            ],
            "type": "histogram2d"
           }
          ],
          "histogram2dcontour": [
           {
            "colorbar": {
             "outlinewidth": 0,
             "ticks": ""
            },
            "colorscale": [
             [
              0,
              "#0d0887"
             ],
             [
              0.1111111111111111,
              "#46039f"
             ],
             [
              0.2222222222222222,
              "#7201a8"
             ],
             [
              0.3333333333333333,
              "#9c179e"
             ],
             [
              0.4444444444444444,
              "#bd3786"
             ],
             [
              0.5555555555555556,
              "#d8576b"
             ],
             [
              0.6666666666666666,
              "#ed7953"
             ],
             [
              0.7777777777777778,
              "#fb9f3a"
             ],
             [
              0.8888888888888888,
              "#fdca26"
             ],
             [
              1,
              "#f0f921"
             ]
            ],
            "type": "histogram2dcontour"
           }
          ],
          "mesh3d": [
           {
            "colorbar": {
             "outlinewidth": 0,
             "ticks": ""
            },
            "type": "mesh3d"
           }
          ],
          "parcoords": [
           {
            "line": {
             "colorbar": {
              "outlinewidth": 0,
              "ticks": ""
             }
            },
            "type": "parcoords"
           }
          ],
          "pie": [
           {
            "automargin": true,
            "type": "pie"
           }
          ],
          "scatter": [
           {
            "fillpattern": {
             "fillmode": "overlay",
             "size": 10,
             "solidity": 0.2
            },
            "type": "scatter"
           }
          ],
          "scatter3d": [
           {
            "line": {
             "colorbar": {
              "outlinewidth": 0,
              "ticks": ""
             }
            },
            "marker": {
             "colorbar": {
              "outlinewidth": 0,
              "ticks": ""
             }
            },
            "type": "scatter3d"
           }
          ],
          "scattercarpet": [
           {
            "marker": {
             "colorbar": {
              "outlinewidth": 0,
              "ticks": ""
             }
            },
            "type": "scattercarpet"
           }
          ],
          "scattergeo": [
           {
            "marker": {
             "colorbar": {
              "outlinewidth": 0,
              "ticks": ""
             }
            },
            "type": "scattergeo"
           }
          ],
          "scattergl": [
           {
            "marker": {
             "colorbar": {
              "outlinewidth": 0,
              "ticks": ""
             }
            },
            "type": "scattergl"
           }
          ],
          "scattermapbox": [
           {
            "marker": {
             "colorbar": {
              "outlinewidth": 0,
              "ticks": ""
             }
            },
            "type": "scattermapbox"
           }
          ],
          "scatterpolar": [
           {
            "marker": {
             "colorbar": {
              "outlinewidth": 0,
              "ticks": ""
             }
            },
            "type": "scatterpolar"
           }
          ],
          "scatterpolargl": [
           {
            "marker": {
             "colorbar": {
              "outlinewidth": 0,
              "ticks": ""
             }
            },
            "type": "scatterpolargl"
           }
          ],
          "scatterternary": [
           {
            "marker": {
             "colorbar": {
              "outlinewidth": 0,
              "ticks": ""
             }
            },
            "type": "scatterternary"
           }
          ],
          "surface": [
           {
            "colorbar": {
             "outlinewidth": 0,
             "ticks": ""
            },
            "colorscale": [
             [
              0,
              "#0d0887"
             ],
             [
              0.1111111111111111,
              "#46039f"
             ],
             [
              0.2222222222222222,
              "#7201a8"
             ],
             [
              0.3333333333333333,
              "#9c179e"
             ],
             [
              0.4444444444444444,
              "#bd3786"
             ],
             [
              0.5555555555555556,
              "#d8576b"
             ],
             [
              0.6666666666666666,
              "#ed7953"
             ],
             [
              0.7777777777777778,
              "#fb9f3a"
             ],
             [
              0.8888888888888888,
              "#fdca26"
             ],
             [
              1,
              "#f0f921"
             ]
            ],
            "type": "surface"
           }
          ],
          "table": [
           {
            "cells": {
             "fill": {
              "color": "#EBF0F8"
             },
             "line": {
              "color": "white"
             }
            },
            "header": {
             "fill": {
              "color": "#C8D4E3"
             },
             "line": {
              "color": "white"
             }
            },
            "type": "table"
           }
          ]
         },
         "layout": {
          "annotationdefaults": {
           "arrowcolor": "#2a3f5f",
           "arrowhead": 0,
           "arrowwidth": 1
          },
          "autotypenumbers": "strict",
          "coloraxis": {
           "colorbar": {
            "outlinewidth": 0,
            "ticks": ""
           }
          },
          "colorscale": {
           "diverging": [
            [
             0,
             "#8e0152"
            ],
            [
             0.1,
             "#c51b7d"
            ],
            [
             0.2,
             "#de77ae"
            ],
            [
             0.3,
             "#f1b6da"
            ],
            [
             0.4,
             "#fde0ef"
            ],
            [
             0.5,
             "#f7f7f7"
            ],
            [
             0.6,
             "#e6f5d0"
            ],
            [
             0.7,
             "#b8e186"
            ],
            [
             0.8,
             "#7fbc41"
            ],
            [
             0.9,
             "#4d9221"
            ],
            [
             1,
             "#276419"
            ]
           ],
           "sequential": [
            [
             0,
             "#0d0887"
            ],
            [
             0.1111111111111111,
             "#46039f"
            ],
            [
             0.2222222222222222,
             "#7201a8"
            ],
            [
             0.3333333333333333,
             "#9c179e"
            ],
            [
             0.4444444444444444,
             "#bd3786"
            ],
            [
             0.5555555555555556,
             "#d8576b"
            ],
            [
             0.6666666666666666,
             "#ed7953"
            ],
            [
             0.7777777777777778,
             "#fb9f3a"
            ],
            [
             0.8888888888888888,
             "#fdca26"
            ],
            [
             1,
             "#f0f921"
            ]
           ],
           "sequentialminus": [
            [
             0,
             "#0d0887"
            ],
            [
             0.1111111111111111,
             "#46039f"
            ],
            [
             0.2222222222222222,
             "#7201a8"
            ],
            [
             0.3333333333333333,
             "#9c179e"
            ],
            [
             0.4444444444444444,
             "#bd3786"
            ],
            [
             0.5555555555555556,
             "#d8576b"
            ],
            [
             0.6666666666666666,
             "#ed7953"
            ],
            [
             0.7777777777777778,
             "#fb9f3a"
            ],
            [
             0.8888888888888888,
             "#fdca26"
            ],
            [
             1,
             "#f0f921"
            ]
           ]
          },
          "colorway": [
           "#636efa",
           "#EF553B",
           "#00cc96",
           "#ab63fa",
           "#FFA15A",
           "#19d3f3",
           "#FF6692",
           "#B6E880",
           "#FF97FF",
           "#FECB52"
          ],
          "font": {
           "color": "#2a3f5f"
          },
          "geo": {
           "bgcolor": "white",
           "lakecolor": "white",
           "landcolor": "#E5ECF6",
           "showlakes": true,
           "showland": true,
           "subunitcolor": "white"
          },
          "hoverlabel": {
           "align": "left"
          },
          "hovermode": "closest",
          "mapbox": {
           "style": "light"
          },
          "paper_bgcolor": "white",
          "plot_bgcolor": "#E5ECF6",
          "polar": {
           "angularaxis": {
            "gridcolor": "white",
            "linecolor": "white",
            "ticks": ""
           },
           "bgcolor": "#E5ECF6",
           "radialaxis": {
            "gridcolor": "white",
            "linecolor": "white",
            "ticks": ""
           }
          },
          "scene": {
           "xaxis": {
            "backgroundcolor": "#E5ECF6",
            "gridcolor": "white",
            "gridwidth": 2,
            "linecolor": "white",
            "showbackground": true,
            "ticks": "",
            "zerolinecolor": "white"
           },
           "yaxis": {
            "backgroundcolor": "#E5ECF6",
            "gridcolor": "white",
            "gridwidth": 2,
            "linecolor": "white",
            "showbackground": true,
            "ticks": "",
            "zerolinecolor": "white"
           },
           "zaxis": {
            "backgroundcolor": "#E5ECF6",
            "gridcolor": "white",
            "gridwidth": 2,
            "linecolor": "white",
            "showbackground": true,
            "ticks": "",
            "zerolinecolor": "white"
           }
          },
          "shapedefaults": {
           "line": {
            "color": "#2a3f5f"
           }
          },
          "ternary": {
           "aaxis": {
            "gridcolor": "white",
            "linecolor": "white",
            "ticks": ""
           },
           "baxis": {
            "gridcolor": "white",
            "linecolor": "white",
            "ticks": ""
           },
           "bgcolor": "#E5ECF6",
           "caxis": {
            "gridcolor": "white",
            "linecolor": "white",
            "ticks": ""
           }
          },
          "title": {
           "x": 0.05
          },
          "xaxis": {
           "automargin": true,
           "gridcolor": "white",
           "linecolor": "white",
           "ticks": "",
           "title": {
            "standoff": 15
           },
           "zerolinecolor": "white",
           "zerolinewidth": 2
          },
          "yaxis": {
           "automargin": true,
           "gridcolor": "white",
           "linecolor": "white",
           "ticks": "",
           "title": {
            "standoff": 15
           },
           "zerolinecolor": "white",
           "zerolinewidth": 2
          }
         }
        },
        "title": {
         "text": "Aerosols Monthly Products"
        },
        "width": 1200,
        "xaxis": {
         "anchor": "y",
         "domain": [
          0,
          1
         ],
         "type": "date"
        },
        "yaxis": {
         "anchor": "x",
         "autorange": "reversed",
         "domain": [
          0,
          1
         ],
         "title": {
          "text": "algorithm_version"
         }
        }
       }
      }
     },
     "metadata": {},
     "output_type": "display_data"
    }
   ],
   "source": [
    "import pandas as pd\n",
    "import urllib.request\n",
    "import os\n",
    "from datetime import datetime,date\n",
    "import numpy as np\n",
    "import matplotlib.pyplot as plt\n",
    "import plotly.express as px\n",
    "\n",
    "# Aerosols -  monthly\n",
    "\n",
    "reclist=[]\n",
    "\n",
    "# Read manifest file for Lot2 AER - latest and get relaevant information into a Pandas Dataframe\n",
    "# -- check if this is the correct manifest file...\n",
    "\n",
    "# note: the variable name is not been taking into account here, because it is repeated for each platform/sensor pair\n",
    "# to retrieve that information, just do varname=line.decode('utf-8').split('/')[5]\n",
    "\n",
    "fname = 'http://wdc.dlr.de/C3S_312b_Lot2/manifest_C3S_312b_Lot2_AER_L3MONTHLY_latest.txt'\n",
    "for line in urllib.request.urlopen(fname):\n",
    "    recstr = line.decode('utf-8').split('/')[-1].split('-')\n",
    "    rec = {\n",
    "        'level': recstr[2],\n",
    "        # 'variable': recstr[3],\n",
    "        'platform': recstr[5],\n",
    "        'sensor': recstr[4],\n",
    "        'algorithm': recstr[6],\n",
    "        'frequency': recstr[7],\n",
    "        'version' : recstr[8][0:-4],\n",
    "        'date' : pd.Timestamp(datetime(int(recstr[0][0:4]),int(recstr[0][4:6]),1,0,0,0)),\n",
    "    }\n",
    "    if rec not in reclist: reclist.append(rec) # records of the same platform/sensor pair - different variable - are removed here\n",
    "df = pd.DataFrame(reclist)\n",
    "\n",
    "algorithms = sorted(list(df['algorithm'].unique()))\n",
    "\n",
    "# timeseries go from 1970 until end of last year with available data in the manifest file\n",
    "lastyear=df['date'].max().year\n",
    "dates = pd.date_range('1970-01-15',f'{lastyear}-12-1',freq='MS')\n",
    "\n",
    "# for each variable , then for each algorithm, then for each of its versions, check which months are covered\n",
    "# colors will be platform/sensor pairs\n",
    "\n",
    "barList = []\n",
    "for algo in algorithms:\n",
    "    # print(df[df['algorithm']==algo])\n",
    "    \n",
    "    df2 = df[df['algorithm']==algo].copy()\n",
    "    versions=sorted(list(df2['version'].unique()))\n",
    "    \n",
    "    for v,version in enumerate(versions):\n",
    "        df3 = df2[df2['version']==version]\n",
    "        platforms=sorted(list(df3['platform'].unique()))\n",
    "        for p,platform in enumerate(platforms):\n",
    "            df4 = df3[df3['platform']==platform]\n",
    "            timeseries = np.ones([len(dates)])*-1\n",
    "            sens_plat_list=[] # list of all sensor/platforms that could use this algo version\n",
    "\n",
    "            for t,date in enumerate(dates):\n",
    "                if (date.to_datetime64() in df4['date'].values):\n",
    "                    platform = df4.loc[df4['date']==date.to_datetime64(),['platform']].values[0][0]\n",
    "                    # print(df4.loc[df4['date']==date.to_datetime64(),['platform']])\n",
    "                    # raise SystemExit\n",
    "                    sensor = df4.loc[df4['date']==date.to_datetime64(),['sensor']].values[0][0]\n",
    "                    sensor_platform = f'{sensor}-{platform}'\n",
    "                    if sensor_platform not in sens_plat_list:\n",
    "                        sens_plat_list.append(sensor_platform)\n",
    "                    #find index of this pair on the list\n",
    "                    index=[i for i in range(len(sens_plat_list)) if (sens_plat_list[i]==sensor_platform)]\n",
    "                    # print(platform_sensor)\n",
    "                    # raise SystemExit\n",
    "                    timeseries[t]=index[0]\n",
    "            # plt.figure()\n",
    "            # plt.plot(dates,timeseries)\n",
    "            # plt.show()\n",
    "            \n",
    "            # now extract information about the bars to draw in the final plot\n",
    "            # each individual bar is a new entry in a new DataFrame\n",
    "\n",
    "            for i in range(len(dates)):\n",
    "                if i==0:\n",
    "                    if timeseries[1]==-1: # no data in beginning of timeseries, then do nothing\n",
    "                        continue\n",
    "                    else: # data in the very beginning - create new bar\n",
    "                        bar = {\n",
    "                            'algorithm_version' : f'{algo}_{version}_{platform}',\n",
    "                            'platform_sensor': sens_plat_list[timeseries[t]],\n",
    "                            'startdate': dates[i],\n",
    "                        }\n",
    "                        continue\n",
    "                elif i==len(timeseries)-1: # case of last date\n",
    "                    if(timeseries[i]==timeseries[i-1]):\n",
    "                        if timeseries[i]==-1: # no data in last date, no active bar\n",
    "                            continue\n",
    "                        else: # active bar, needs to be closed\n",
    "                            bar['enddate']=dates[i]\n",
    "                            barList.append(bar)\n",
    "                            continue\n",
    "                    else: #there is a change in the timeseries. weather new satellite or end of last bar\n",
    "                        if timeseries[i]==-1:\n",
    "                            bar['enddate']=dates[i-1] # no data in last date, just close last active bar\n",
    "                            barList.append(bar)\n",
    "                        else: # new bar in the very last date. need to close last and initialize and close a new one\n",
    "                            bar['enddate']=dates[i-1]\n",
    "                            barList.append(bar)\n",
    "                            bar = {\n",
    "                                'algorithm_version' : f'{algo}_{version}_{platform}',\n",
    "                                'platform_sensor': sens_plat_list[timeseries[t]],\n",
    "                                'startdate': dates[i],\n",
    "                                'enddate': dates[i],\n",
    "                            }\n",
    "                            barList.append(bar)\n",
    "                            continue\n",
    "                else: # general case\n",
    "                    if(timeseries[i]==timeseries[i-1]): # no change, just continue to next date\n",
    "                        continue\n",
    "                    else: # weather no data or new satellite takes over. previous bar needs to be closed\n",
    "                        if (timeseries[i]==-1) and (timeseries[i-1]!=-1): # no data from now on, just continue\n",
    "                            bar['enddate']=dates[i-1]\n",
    "                            barList.append(bar) \n",
    "                            continue\n",
    "                        \n",
    "                        else: #a different satellite takes over. close last bar and start new one\n",
    "                            if timeseries[i-1]!=-1: # if i-1 had active bar, it needs to be closed\n",
    "                                bar['enddate']=dates[i-1]\n",
    "                                barList.append(bar)\n",
    "                            # then open new bar    \n",
    "                            bar = {\n",
    "                                'algorithm_version' : f'{algo}_{version}_{platform}',\n",
    "                                'platform_sensor': sens_plat_list[int(timeseries[t])],\n",
    "                                'startdate': dates[i],\n",
    "                            }\n",
    "                            continue\n",
    "\n",
    "df_bars = pd.DataFrame(barList)\n",
    "print(df_bars)\n",
    "\n",
    "fig = px.timeline(df_bars, x_start=\"startdate\", x_end=\"enddate\", y='algorithm_version',color='platform_sensor',title='Aerosols Monthly Products')\n",
    "# fig = px.timeline(df_bars, x_start=\"startdate\", x_end=\"enddate\", y='algorithm_version')\n",
    "# fig = px.timeline(datasets_df, x_start=\"startdate\", x_end=\"enddate\", y='ECV')\n",
    "fig.update_yaxes(autorange=\"reversed\")\n",
    "fig.update_layout(\n",
    "    autosize=True,\n",
    "    width=1200,\n",
    "    height=2000,\n",
    ")\n",
    "fig.show()\n",
    "today_date = pd.Timestamp.today().strftime('%Y%m%d') \n",
    "fig.write_image(f'aerosols_coverage_byalgoversion_by mission_{today_date}.png')\n",
    "# fig.write_html('aerosols_coverage_byalgoversion_by mission.htm')"
   ]
  },
  {
   "cell_type": "code",
   "execution_count": 2,
   "metadata": {},
   "outputs": [
    {
     "name": "stdout",
     "output_type": "stream",
     "text": [
      "      algorithm_version  platform_sensor  startdate    enddate\n",
      "0         ALG_v0001_ACE       SCISAT-ACE 2004-02-01 2011-05-01\n",
      "1         ALG_v0001_ACE       SCISAT-ACE 2011-07-01 2011-09-01\n",
      "2         ALG_v0001_ACE       SCISAT-ACE 2012-01-01 2012-02-01\n",
      "3         ALG_v0001_ACE       SCISAT-ACE 2012-04-01 2020-12-01\n",
      "4    ALG_v0001_ANOM_LLG  MERGED-ANOM_LLG 2001-11-01 2019-12-01\n",
      "..                  ...              ...        ...        ...\n",
      "142      UBR_v0002_OMPS         NPP-OMPS 2012-02-01 2013-11-01\n",
      "143      UBR_v0002_OMPS         NPP-OMPS 2014-01-01 2022-12-01\n",
      "144    USASK_v0002_OMPS         NPP-OMPS 2012-02-01 2013-11-01\n",
      "145    USASK_v0002_OMPS         NPP-OMPS 2014-01-01 2022-12-01\n",
      "146    USASK_v0100_OMPS         NPP-OMPS 2012-01-01 2023-04-01\n",
      "\n",
      "[147 rows x 4 columns]\n"
     ]
    },
    {
     "data": {
      "application/vnd.plotly.v1+json": {
       "config": {
        "plotlyServerURL": "https://plot.ly"
       },
       "data": [
        {
         "alignmentgroup": "True",
         "base": [
          "2004-02-01T00:00:00",
          "2011-07-01T00:00:00",
          "2012-01-01T00:00:00",
          "2012-04-01T00:00:00",
          "2004-02-01T00:00:00"
         ],
         "hovertemplate": "platform_sensor=SCISAT-ACE<br>startdate=%{base}<br>enddate=%{x}<br>algorithm_version=%{y}<extra></extra>",
         "legendgroup": "SCISAT-ACE",
         "marker": {
          "color": "#636efa",
          "pattern": {
           "shape": ""
          }
         },
         "name": "SCISAT-ACE",
         "offsetgroup": "SCISAT-ACE",
         "orientation": "h",
         "showlegend": true,
         "textposition": "auto",
         "type": "bar",
         "x": [
          228614400000,
          5356800000,
          2678400000,
          273542400000,
          594259200000
         ],
         "xaxis": "x",
         "y": [
          "ALG_v0001_ACE",
          "ALG_v0001_ACE",
          "ALG_v0001_ACE",
          "ALG_v0001_ACE",
          "ALG_v0002_ACE"
         ],
         "yaxis": "y"
        },
        {
         "alignmentgroup": "True",
         "base": [
          "2001-11-01T00:00:00",
          "2001-11-01T00:00:00",
          "2001-11-01T00:00:00",
          "2001-11-01T00:00:00"
         ],
         "hovertemplate": "platform_sensor=MERGED-ANOM_LLG<br>startdate=%{base}<br>enddate=%{x}<br>algorithm_version=%{y}<extra></extra>",
         "legendgroup": "MERGED-ANOM_LLG",
         "marker": {
          "color": "#EF553B",
          "pattern": {
           "shape": ""
          }
         },
         "name": "MERGED-ANOM_LLG",
         "offsetgroup": "MERGED-ANOM_LLG",
         "orientation": "h",
         "showlegend": true,
         "textposition": "auto",
         "type": "bar",
         "x": [
          570585600000,
          602208000000,
          633744000000,
          665280000000
         ],
         "xaxis": "x",
         "y": [
          "ALG_v0001_ANOM_LLG",
          "ALG_v0002_ANOM_LLG",
          "ALG_v0003_ANOM_LLG",
          "ALG_v0004_ANOM_LLG"
         ],
         "yaxis": "y"
        },
        {
         "alignmentgroup": "True",
         "base": [
          "1984-10-01T00:00:00",
          "1984-10-01T00:00:00",
          "1984-10-01T00:00:00",
          "2018-01-01T00:00:00",
          "1984-10-01T00:00:00",
          "1984-10-01T00:00:00",
          "1984-10-01T00:00:00",
          "1984-10-01T00:00:00"
         ],
         "hovertemplate": "platform_sensor=MERGED-ANOM_MZM<br>startdate=%{base}<br>enddate=%{x}<br>algorithm_version=%{y}<extra></extra>",
         "legendgroup": "MERGED-ANOM_MZM",
         "marker": {
          "color": "#00cc96",
          "pattern": {
           "shape": ""
          }
         },
         "name": "MERGED-ANOM_MZM",
         "offsetgroup": "MERGED-ANOM_MZM",
         "orientation": "h",
         "showlegend": true,
         "textposition": "auto",
         "type": "bar",
         "x": [
          1020470400000,
          1049328000000,
          1078185600000,
          60393600000,
          1109721600000,
          1141344000000,
          1172880000000,
          1204416000000
         ],
         "xaxis": "x",
         "y": [
          "ALG_v0001_ANOM_MZM",
          "ALG_v0002_ANOM_MZM",
          "ALG_v0003_ANOM_MZM",
          "ALG_v0004_ANOM_MZM",
          "ALG_v0005_ANOM_MZM",
          "ALG_v0006_ANOM_MZM",
          "ALG_v0007_ANOM_MZM",
          "ALG_v0008_ANOM_MZM"
         ],
         "yaxis": "y"
        },
        {
         "alignmentgroup": "True",
         "base": [
          "2001-11-01T00:00:00",
          "2001-11-01T00:00:00",
          "2001-11-01T00:00:00",
          "2001-11-01T00:00:00"
         ],
         "hovertemplate": "platform_sensor=MERGED-CONC_LLG<br>startdate=%{base}<br>enddate=%{x}<br>algorithm_version=%{y}<extra></extra>",
         "legendgroup": "MERGED-CONC_LLG",
         "marker": {
          "color": "#ab63fa",
          "pattern": {
           "shape": ""
          }
         },
         "name": "MERGED-CONC_LLG",
         "offsetgroup": "MERGED-CONC_LLG",
         "orientation": "h",
         "showlegend": true,
         "textposition": "auto",
         "type": "bar",
         "x": [
          570585600000,
          602208000000,
          633744000000,
          665280000000
         ],
         "xaxis": "x",
         "y": [
          "ALG_v0001_CONC_LLG",
          "ALG_v0002_CONC_LLG",
          "ALG_v0003_CONC_LLG",
          "ALG_v0004_CONC_LLG"
         ],
         "yaxis": "y"
        },
        {
         "alignmentgroup": "True",
         "base": [
          "1984-10-01T00:00:00",
          "1984-10-01T00:00:00",
          "1984-10-01T00:00:00",
          "2018-01-01T00:00:00",
          "1984-10-01T00:00:00",
          "1984-10-01T00:00:00",
          "1984-10-01T00:00:00",
          "1984-10-01T00:00:00"
         ],
         "hovertemplate": "platform_sensor=MERGED-CONC_MZM<br>startdate=%{base}<br>enddate=%{x}<br>algorithm_version=%{y}<extra></extra>",
         "legendgroup": "MERGED-CONC_MZM",
         "marker": {
          "color": "#FFA15A",
          "pattern": {
           "shape": ""
          }
         },
         "name": "MERGED-CONC_MZM",
         "offsetgroup": "MERGED-CONC_MZM",
         "orientation": "h",
         "showlegend": true,
         "textposition": "auto",
         "type": "bar",
         "x": [
          1020470400000,
          1049328000000,
          1078185600000,
          60393600000,
          1109721600000,
          1141344000000,
          1172880000000,
          1204416000000
         ],
         "xaxis": "x",
         "y": [
          "ALG_v0001_CONC_MZM",
          "ALG_v0002_CONC_MZM",
          "ALG_v0003_CONC_MZM",
          "ALG_v0004_CONC_MZM",
          "ALG_v0005_CONC_MZM",
          "ALG_v0006_CONC_MZM",
          "ALG_v0007_CONC_MZM",
          "ALG_v0008_CONC_MZM"
         ],
         "yaxis": "y"
        },
        {
         "alignmentgroup": "True",
         "base": [
          "2002-08-01T00:00:00",
          "2005-07-01T00:00:00",
          "2011-12-01T00:00:00"
         ],
         "hovertemplate": "platform_sensor=ENVISAT-GOMOS<br>startdate=%{base}<br>enddate=%{x}<br>algorithm_version=%{y}<extra></extra>",
         "legendgroup": "ENVISAT-GOMOS",
         "marker": {
          "color": "#19d3f3",
          "pattern": {
           "shape": ""
          }
         },
         "name": "ENVISAT-GOMOS",
         "offsetgroup": "ENVISAT-GOMOS",
         "orientation": "h",
         "showlegend": true,
         "textposition": "auto",
         "type": "bar",
         "x": [
          76377600000,
          197251200000,
          0
         ],
         "xaxis": "x",
         "y": [
          "ALG_v0001_GOMOS",
          "ALG_v0001_GOMOS",
          "ALG_v0001_GOMOS"
         ],
         "yaxis": "y"
        },
        {
         "alignmentgroup": "True",
         "base": [
          "1991-10-01T00:00:00"
         ],
         "hovertemplate": "platform_sensor=UARS-HALOE<br>startdate=%{base}<br>enddate=%{x}<br>algorithm_version=%{y}<extra></extra>",
         "legendgroup": "UARS-HALOE",
         "marker": {
          "color": "#FF6692",
          "pattern": {
           "shape": ""
          }
         },
         "name": "UARS-HALOE",
         "offsetgroup": "UARS-HALOE",
         "orientation": "h",
         "showlegend": true,
         "textposition": "auto",
         "type": "bar",
         "x": [
          439257600000
         ],
         "xaxis": "x",
         "y": [
          "ALG_v0001_HALOE"
         ],
         "yaxis": "y"
        },
        {
         "alignmentgroup": "True",
         "base": [
          "2007-10-01T00:00:00",
          "2015-04-01T00:00:00",
          "2015-10-01T00:00:00",
          "2019-12-01T00:00:00",
          "2021-09-01T00:00:00",
          "2007-10-01T00:00:00",
          "2021-09-01T00:00:00"
         ],
         "hovertemplate": "platform_sensor=METOPB-IASI_IR<br>startdate=%{base}<br>enddate=%{x}<br>algorithm_version=%{y}<extra></extra>",
         "legendgroup": "METOPB-IASI_IR",
         "marker": {
          "color": "#B6E880",
          "pattern": {
           "shape": ""
          }
         },
         "name": "METOPB-IASI_IR",
         "offsetgroup": "METOPB-IASI_IR",
         "orientation": "h",
         "showlegend": true,
         "textposition": "auto",
         "type": "bar",
         "x": [
          233971200000,
          13219200000,
          134179200000,
          52617600000,
          57715200000,
          436579200000,
          57715200000
         ],
         "xaxis": "x",
         "y": [
          "ALG_v0001_IASI_IR",
          "ALG_v0001_IASI_IR",
          "ALG_v0001_IASI_IR",
          "ALG_v0003_IASI_IR",
          "ALG_v0003_IASI_IR",
          "ALG_v0004_IASI_IR",
          "ALG_v0004_IASI_IR"
         ],
         "yaxis": "y"
        },
        {
         "alignmentgroup": "True",
         "base": [
          "2002-07-01T00:00:00",
          "2005-01-01T00:00:00",
          "2005-12-01T00:00:00",
          "2006-03-01T00:00:00",
          "2006-05-01T00:00:00",
          "2002-07-01T00:00:00",
          "2005-01-01T00:00:00",
          "2005-12-01T00:00:00",
          "2006-03-01T00:00:00",
          "2006-05-01T00:00:00"
         ],
         "hovertemplate": "platform_sensor=ENVISAT-MIPAS<br>startdate=%{base}<br>enddate=%{x}<br>algorithm_version=%{y}<extra></extra>",
         "legendgroup": "ENVISAT-MIPAS",
         "marker": {
          "color": "#FF97FF",
          "pattern": {
           "shape": ""
          }
         },
         "name": "ENVISAT-MIPAS",
         "offsetgroup": "ENVISAT-MIPAS",
         "orientation": "h",
         "showlegend": true,
         "textposition": "auto",
         "type": "bar",
         "x": [
          52617600000,
          18316800000,
          2678400000,
          0,
          186796800000,
          52617600000,
          18316800000,
          2678400000,
          0,
          186796800000
         ],
         "xaxis": "x",
         "y": [
          "ALG_v0001_MIPAS",
          "ALG_v0001_MIPAS",
          "ALG_v0001_MIPAS",
          "ALG_v0001_MIPAS",
          "ALG_v0001_MIPAS",
          "ALG_v0002_MIPAS",
          "ALG_v0002_MIPAS",
          "ALG_v0002_MIPAS",
          "ALG_v0002_MIPAS",
          "ALG_v0002_MIPAS"
         ],
         "yaxis": "y"
        },
        {
         "alignmentgroup": "True",
         "base": [
          "2004-08-01T00:00:00",
          "2005-01-01T00:00:00",
          "2004-08-01T00:00:00",
          "2005-01-01T00:00:00",
          "2004-08-01T00:00:00",
          "2005-01-01T00:00:00"
         ],
         "hovertemplate": "platform_sensor=AURA-MLS<br>startdate=%{base}<br>enddate=%{x}<br>algorithm_version=%{y}<extra></extra>",
         "legendgroup": "AURA-MLS",
         "marker": {
          "color": "#FECB52",
          "pattern": {
           "shape": ""
          }
         },
         "name": "AURA-MLS",
         "offsetgroup": "AURA-MLS",
         "orientation": "h",
         "showlegend": true,
         "textposition": "auto",
         "type": "bar",
         "x": [
          7948800000,
          457401600000,
          7948800000,
          533779200000,
          7948800000,
          565315200000
         ],
         "xaxis": "x",
         "y": [
          "ALG_v0001_MLS",
          "ALG_v0001_MLS",
          "ALG_v0002_MLS",
          "ALG_v0002_MLS",
          "ALG_v0003_MLS",
          "ALG_v0003_MLS"
         ],
         "yaxis": "y"
        },
        {
         "alignmentgroup": "True",
         "base": [
          "2001-11-01T00:00:00",
          "2018-07-01T00:00:00",
          "2019-07-01T00:00:00",
          "2020-07-01T00:00:00",
          "2001-11-01T00:00:00",
          "2018-07-01T00:00:00",
          "2019-07-01T00:00:00",
          "2020-07-01T00:00:00",
          "2021-07-01T00:00:00"
         ],
         "hovertemplate": "platform_sensor=ODIN-OSIRIS<br>startdate=%{base}<br>enddate=%{x}<br>algorithm_version=%{y}<extra></extra>",
         "legendgroup": "ODIN-OSIRIS",
         "marker": {
          "color": "#636efa",
          "pattern": {
           "shape": ""
          }
         },
         "name": "ODIN-OSIRIS",
         "offsetgroup": "ODIN-OSIRIS",
         "orientation": "h",
         "showlegend": true,
         "textposition": "auto",
         "type": "bar",
         "x": [
          520560000000,
          26265600000,
          26352000000,
          13219200000,
          520560000000,
          26265600000,
          26352000000,
          26265600000,
          44755200000
         ],
         "xaxis": "x",
         "y": [
          "ALG_v0001_OSIRIS",
          "ALG_v0001_OSIRIS",
          "ALG_v0001_OSIRIS",
          "ALG_v0001_OSIRIS",
          "ALG_v0002_OSIRIS",
          "ALG_v0002_OSIRIS",
          "ALG_v0002_OSIRIS",
          "ALG_v0002_OSIRIS",
          "ALG_v0002_OSIRIS"
         ],
         "yaxis": "y"
        },
        {
         "alignmentgroup": "True",
         "base": [
          "2002-01-01T00:00:00",
          "2002-06-01T00:00:00",
          "2002-12-01T00:00:00",
          "2003-12-01T00:00:00",
          "2005-04-01T00:00:00",
          "2007-10-01T00:00:00",
          "2011-10-01T00:00:00",
          "2002-01-01T00:00:00",
          "2002-06-01T00:00:00",
          "2002-12-01T00:00:00",
          "2003-12-01T00:00:00",
          "2005-04-01T00:00:00",
          "2007-10-01T00:00:00",
          "2011-10-01T00:00:00"
         ],
         "hovertemplate": "platform_sensor=TIMED-SABER<br>startdate=%{base}<br>enddate=%{x}<br>algorithm_version=%{y}<extra></extra>",
         "legendgroup": "TIMED-SABER",
         "marker": {
          "color": "#EF553B",
          "pattern": {
           "shape": ""
          }
         },
         "name": "TIMED-SABER",
         "offsetgroup": "TIMED-SABER",
         "orientation": "h",
         "showlegend": true,
         "textposition": "auto",
         "type": "bar",
         "x": [
          7776000000,
          10540800000,
          26265600000,
          36979200000,
          73612800000,
          120960000000,
          244512000000,
          7776000000,
          10540800000,
          26265600000,
          36979200000,
          73612800000,
          120960000000,
          352425600000
         ],
         "xaxis": "x",
         "y": [
          "ALG_v0001_SABER",
          "ALG_v0001_SABER",
          "ALG_v0001_SABER",
          "ALG_v0001_SABER",
          "ALG_v0001_SABER",
          "ALG_v0001_SABER",
          "ALG_v0001_SABER",
          "ALG_v0002_SABER",
          "ALG_v0002_SABER",
          "ALG_v0002_SABER",
          "ALG_v0002_SABER",
          "ALG_v0002_SABER",
          "ALG_v0002_SABER",
          "ALG_v0002_SABER"
         ],
         "yaxis": "y"
        },
        {
         "alignmentgroup": "True",
         "base": [
          "1984-10-01T00:00:00",
          "2000-11-01T00:00:00"
         ],
         "hovertemplate": "platform_sensor=ERBS-SAGE_II<br>startdate=%{base}<br>enddate=%{x}<br>algorithm_version=%{y}<extra></extra>",
         "legendgroup": "ERBS-SAGE_II",
         "marker": {
          "color": "#00cc96",
          "pattern": {
           "shape": ""
          }
         },
         "name": "ERBS-SAGE_II",
         "offsetgroup": "ERBS-SAGE_II",
         "orientation": "h",
         "showlegend": true,
         "textposition": "auto",
         "type": "bar",
         "x": [
          496972800000,
          149817600000
         ],
         "xaxis": "x",
         "y": [
          "ALG_v0001_SAGE_II",
          "ALG_v0001_SAGE_II"
         ],
         "yaxis": "y"
        },
        {
         "alignmentgroup": "True",
         "base": [
          "2017-06-01T00:00:00"
         ],
         "hovertemplate": "platform_sensor=ISS-SAGE_III<br>startdate=%{base}<br>enddate=%{x}<br>algorithm_version=%{y}<extra></extra>",
         "legendgroup": "ISS-SAGE_III",
         "marker": {
          "color": "#ab63fa",
          "pattern": {
           "shape": ""
          }
         },
         "name": "ISS-SAGE_III",
         "offsetgroup": "ISS-SAGE_III",
         "orientation": "h",
         "showlegend": true,
         "textposition": "auto",
         "type": "bar",
         "x": [
          173577600000
         ],
         "xaxis": "x",
         "y": [
          "ALG_v0001_SAGE_III"
         ],
         "yaxis": "y"
        },
        {
         "alignmentgroup": "True",
         "base": [
          "2002-08-01T00:00:00",
          "2002-08-01T00:00:00",
          "2002-08-01T00:00:00",
          "2002-08-01T00:00:00",
          "2002-08-01T00:00:00"
         ],
         "hovertemplate": "platform_sensor=ENVISAT-SCIAMACHY<br>startdate=%{base}<br>enddate=%{x}<br>algorithm_version=%{y}<extra></extra>",
         "legendgroup": "ENVISAT-SCIAMACHY",
         "marker": {
          "color": "#FFA15A",
          "pattern": {
           "shape": ""
          }
         },
         "name": "ENVISAT-SCIAMACHY",
         "offsetgroup": "ENVISAT-SCIAMACHY",
         "orientation": "h",
         "showlegend": true,
         "textposition": "auto",
         "type": "bar",
         "x": [
          302400000000,
          268358400000,
          305078400000,
          305078400000,
          305078400000
         ],
         "xaxis": "x",
         "y": [
          "ALG_v0001_SCIAMACHY",
          "ALG_v0004_SCIAMACHY",
          "ALG_v0005_SCIAMACHY",
          "ALG_v0006_SCIAMACHY",
          "ALG_v0100_SCIAMACHY"
         ],
         "yaxis": "y"
        },
        {
         "alignmentgroup": "True",
         "base": [
          "2001-07-01T00:00:00",
          "2001-10-01T00:00:00"
         ],
         "hovertemplate": "platform_sensor=ODIN-SMR<br>startdate=%{base}<br>enddate=%{x}<br>algorithm_version=%{y}<extra></extra>",
         "legendgroup": "ODIN-SMR",
         "marker": {
          "color": "#19d3f3",
          "pattern": {
           "shape": ""
          }
         },
         "name": "ODIN-SMR",
         "offsetgroup": "ODIN-SMR",
         "orientation": "h",
         "showlegend": true,
         "textposition": "auto",
         "type": "bar",
         "x": [
          2678400000,
          404956800000
         ],
         "xaxis": "x",
         "y": [
          "ALG_v0001_SMR",
          "ALG_v0001_SMR"
         ],
         "yaxis": "y"
        },
        {
         "alignmentgroup": "True",
         "base": [
          "2020-02-01T00:00:00"
         ],
         "hovertemplate": "platform_sensor=METOPA-IASI_IR<br>startdate=%{base}<br>enddate=%{x}<br>algorithm_version=%{y}<extra></extra>",
         "legendgroup": "METOPA-IASI_IR",
         "marker": {
          "color": "#FF6692",
          "pattern": {
           "shape": ""
          }
         },
         "name": "METOPA-IASI_IR",
         "offsetgroup": "METOPA-IASI_IR",
         "orientation": "h",
         "showlegend": true,
         "textposition": "auto",
         "type": "bar",
         "x": [
          13046400000
         ],
         "xaxis": "x",
         "y": [
          "ALG_v0002_IASI_IR"
         ],
         "yaxis": "y"
        },
        {
         "alignmentgroup": "True",
         "base": [
          "1995-07-01T00:00:00",
          "1995-06-01T00:00:00",
          "1995-06-01T00:00:00",
          "1995-06-01T00:00:00"
         ],
         "hovertemplate": "platform_sensor=ERS2-GOME<br>startdate=%{base}<br>enddate=%{x}<br>algorithm_version=%{y}<extra></extra>",
         "legendgroup": "ERS2-GOME",
         "marker": {
          "color": "#B6E880",
          "pattern": {
           "shape": ""
          }
         },
         "name": "ERS2-GOME",
         "offsetgroup": "ERS2-GOME",
         "orientation": "h",
         "showlegend": true,
         "textposition": "auto",
         "type": "bar",
         "x": [
          499651200000,
          504921600000,
          504921600000,
          507513600000
         ],
         "xaxis": "x",
         "y": [
          "ALG_v0004_GOME",
          "ALG_v0005_GOME",
          "ALG_v0006_GOME",
          "ALG_v0100_GOME"
         ],
         "yaxis": "y"
        },
        {
         "alignmentgroup": "True",
         "base": [
          "2007-04-01T00:00:00",
          "2007-01-01T00:00:00",
          "2007-01-01T00:00:00",
          "2014-06-01T00:00:00",
          "2019-09-01T00:00:00",
          "2020-11-01T00:00:00"
         ],
         "hovertemplate": "platform_sensor=METOPA-GOME2<br>startdate=%{base}<br>enddate=%{x}<br>algorithm_version=%{y}<extra></extra>",
         "legendgroup": "METOPA-GOME2",
         "marker": {
          "color": "#FF97FF",
          "pattern": {
           "shape": ""
          }
         },
         "name": "METOPA-GOME2",
         "offsetgroup": "METOPA-GOME2",
         "orientation": "h",
         "showlegend": true,
         "textposition": "auto",
         "type": "bar",
         "x": [
          194659200000,
          344476800000,
          397008000000,
          163036800000,
          34214400000,
          0
         ],
         "xaxis": "x",
         "y": [
          "ALG_v0004_GOME2",
          "ALG_v0005_GOME2",
          "ALG_v0006_GOME2",
          "ALG_v0007_GOME2",
          "ALG_v0007_GOME2",
          "ALG_v0007_GOME2"
         ],
         "yaxis": "y"
        },
        {
         "alignmentgroup": "True",
         "base": [
          "2004-10-01T00:00:00",
          "2012-06-01T00:00:00",
          "2016-01-01T00:00:00",
          "2004-10-01T00:00:00",
          "2019-09-01T00:00:00",
          "2004-10-01T00:00:00",
          "2017-01-01T00:00:00",
          "2004-10-01T00:00:00"
         ],
         "hovertemplate": "platform_sensor=AURA-OMI<br>startdate=%{base}<br>enddate=%{x}<br>algorithm_version=%{y}<extra></extra>",
         "legendgroup": "AURA-OMI",
         "marker": {
          "color": "#FECB52",
          "pattern": {
           "shape": ""
          }
         },
         "name": "AURA-OMI",
         "offsetgroup": "AURA-OMI",
         "orientation": "h",
         "showlegend": true,
         "textposition": "auto",
         "type": "bar",
         "x": [
          236649600000,
          110419200000,
          60480000000,
          468028800000,
          65750400000,
          449712000000,
          197078400000,
          583718400000
         ],
         "xaxis": "x",
         "y": [
          "ALG_v0004_OMI",
          "ALG_v0004_OMI",
          "ALG_v0005_OMI",
          "ALG_v0006_OMI",
          "ALG_v0007_OMI",
          "ALG_v0100_OMI",
          "ALG_v0101_OMI",
          "ALG_v0200_OMI"
         ],
         "yaxis": "y"
        },
        {
         "alignmentgroup": "True",
         "base": [
          "2020-11-01T00:00:00",
          "2021-07-01T00:00:00",
          "2018-07-01T00:00:00",
          "2013-01-01T00:00:00"
         ],
         "hovertemplate": "platform_sensor=METOPB-GOME2<br>startdate=%{base}<br>enddate=%{x}<br>algorithm_version=%{y}<extra></extra>",
         "legendgroup": "METOPB-GOME2",
         "marker": {
          "color": "#636efa",
          "pattern": {
           "shape": ""
          }
         },
         "name": "METOPB-GOME2",
         "offsetgroup": "METOPB-GOME2",
         "orientation": "h",
         "showlegend": true,
         "textposition": "auto",
         "type": "bar",
         "x": [
          28857600000,
          60480000000,
          149904000000,
          323308800000
         ],
         "xaxis": "x",
         "y": [
          "ALG_v0008_GOME2",
          "ALG_v0009_GOME2",
          "ALG_v0101_GOME2",
          "ALG_v0200_GOME2"
         ],
         "yaxis": "y"
        },
        {
         "alignmentgroup": "True",
         "base": [
          "1970-04-01T00:00:00",
          "1976-10-01T00:00:00",
          "1977-09-01T00:00:00",
          "1978-10-01T00:00:00",
          "1979-01-01T00:00:00",
          "2018-12-01T00:00:00",
          "1970-04-01T00:00:00",
          "1976-10-01T00:00:00",
          "1977-09-01T00:00:00",
          "1978-10-01T00:00:00",
          "2018-12-01T00:00:00",
          "2022-01-01T00:00:00"
         ],
         "hovertemplate": "platform_sensor=ASSIM-MSR<br>startdate=%{base}<br>enddate=%{x}<br>algorithm_version=%{y}<extra></extra>",
         "legendgroup": "ASSIM-MSR",
         "marker": {
          "color": "#EF553B",
          "pattern": {
           "shape": ""
          }
         },
         "name": "ASSIM-MSR",
         "offsetgroup": "ASSIM-MSR",
         "orientation": "h",
         "showlegend": true,
         "textposition": "auto",
         "type": "bar",
         "x": [
          194659200000,
          23587200000,
          5270400000,
          1238716800000,
          1259625600000,
          63158400000,
          194659200000,
          23587200000,
          5270400000,
          1267574400000,
          94694400000,
          28857600000
         ],
         "xaxis": "x",
         "y": [
          "ALG_v0020_MSR",
          "ALG_v0020_MSR",
          "ALG_v0020_MSR",
          "ALG_v0020_MSR",
          "ALG_v0021_MSR",
          "ALG_v0022_MSR",
          "ALG_v0023_MSR",
          "ALG_v0023_MSR",
          "ALG_v0023_MSR",
          "ALG_v0023_MSR",
          "ALG_v0024_MSR",
          "ALG_v0025_MSR"
         ],
         "yaxis": "y"
        },
        {
         "alignmentgroup": "True",
         "base": [
          "2007-01-01T00:00:00",
          "2021-11-01T00:00:00"
         ],
         "hovertemplate": "platform_sensor=METOPC-GOME2<br>startdate=%{base}<br>enddate=%{x}<br>algorithm_version=%{y}<extra></extra>",
         "legendgroup": "METOPC-GOME2",
         "marker": {
          "color": "#00cc96",
          "pattern": {
           "shape": ""
          }
         },
         "name": "METOPC-GOME2",
         "offsetgroup": "METOPC-GOME2",
         "orientation": "h",
         "showlegend": true,
         "textposition": "auto",
         "type": "bar",
         "x": [
          465436800000,
          44582400000
         ],
         "xaxis": "x",
         "y": [
          "ALG_v0100_GOME2",
          "ALG_v0100_GOME2"
         ],
         "yaxis": "y"
        },
        {
         "alignmentgroup": "True",
         "base": [
          "1995-07-01T00:00:00"
         ],
         "hovertemplate": "platform_sensor=MERGED-MERGED<br>startdate=%{base}<br>enddate=%{x}<br>algorithm_version=%{y}<extra></extra>",
         "legendgroup": "MERGED-MERGED",
         "marker": {
          "color": "#ab63fa",
          "pattern": {
           "shape": ""
          }
         },
         "name": "MERGED-MERGED",
         "offsetgroup": "MERGED-MERGED",
         "orientation": "h",
         "showlegend": true,
         "textposition": "auto",
         "type": "bar",
         "x": [
          828489600000
         ],
         "xaxis": "x",
         "y": [
          "ALG_v0100_MERGED"
         ],
         "yaxis": "y"
        },
        {
         "alignmentgroup": "True",
         "base": [
          "1995-07-01T00:00:00",
          "2007-01-01T00:00:00",
          "2007-01-01T00:00:00",
          "2007-01-01T00:00:00",
          "2007-01-01T00:00:00",
          "2007-01-01T00:00:00",
          "2007-01-01T00:00:00",
          "2007-01-01T00:00:00",
          "2013-01-01T00:00:00",
          "2013-01-01T00:00:00",
          "2013-01-01T00:00:00",
          "1995-07-01T00:00:00"
         ],
         "hovertemplate": "platform_sensor=MERGED-MERGED_UV<br>startdate=%{base}<br>enddate=%{x}<br>algorithm_version=%{y}<extra></extra>",
         "legendgroup": "MERGED-MERGED_UV",
         "marker": {
          "color": "#FFA15A",
          "pattern": {
           "shape": ""
          }
         },
         "name": "MERGED-MERGED_UV",
         "offsetgroup": "MERGED-MERGED_UV",
         "orientation": "h",
         "showlegend": true,
         "textposition": "auto",
         "type": "bar",
         "x": [
          691718400000,
          360201600000,
          370742400000,
          394329600000,
          402278400000,
          418089600000,
          433900800000,
          465436800000,
          291772800000,
          307584000000,
          323308800000,
          875750400000
         ],
         "xaxis": "x",
         "y": [
          "ALG_v0100_MERGED_UV",
          "ALG_v0200_MERGED_UV",
          "ALG_v0300_MERGED_UV",
          "ALG_v0400_MERGED_UV",
          "ALG_v0500_MERGED_UV",
          "ALG_v0600_MERGED_UV",
          "ALG_v0700_MERGED_UV",
          "ALG_v0800_MERGED_UV",
          "ALG_v0900_MERGED_UV",
          "ALG_v1000_MERGED_UV",
          "ALG_v1100_MERGED_UV",
          "ALG_v2000_MERGED_UV"
         ],
         "yaxis": "y"
        },
        {
         "alignmentgroup": "True",
         "base": [
          "2018-05-01T00:00:00"
         ],
         "hovertemplate": "platform_sensor=SENTINEL5P-TROPOMI<br>startdate=%{base}<br>enddate=%{x}<br>algorithm_version=%{y}<extra></extra>",
         "legendgroup": "SENTINEL5P-TROPOMI",
         "marker": {
          "color": "#19d3f3",
          "pattern": {
           "shape": ""
          }
         },
         "name": "SENTINEL5P-TROPOMI",
         "offsetgroup": "SENTINEL5P-TROPOMI",
         "orientation": "h",
         "showlegend": true,
         "textposition": "auto",
         "type": "bar",
         "x": [
          155174400000
         ],
         "xaxis": "x",
         "y": [
          "ALG_v0100_TROPOMI"
         ],
         "yaxis": "y"
        },
        {
         "alignmentgroup": "True",
         "base": [
          "2012-02-01T00:00:00",
          "2014-01-01T00:00:00",
          "2012-02-01T00:00:00",
          "2014-01-01T00:00:00",
          "2012-02-01T00:00:00",
          "2014-01-01T00:00:00",
          "2012-01-01T00:00:00"
         ],
         "hovertemplate": "platform_sensor=NPP-OMPS<br>startdate=%{base}<br>enddate=%{x}<br>algorithm_version=%{y}<extra></extra>",
         "legendgroup": "NPP-OMPS",
         "marker": {
          "color": "#FF6692",
          "pattern": {
           "shape": ""
          }
         },
         "name": "NPP-OMPS",
         "offsetgroup": "NPP-OMPS",
         "orientation": "h",
         "showlegend": true,
         "textposition": "auto",
         "type": "bar",
         "x": [
          55209600000,
          249782400000,
          55209600000,
          281318400000,
          55209600000,
          281318400000,
          354931200000
         ],
         "xaxis": "x",
         "y": [
          "UBR_v0001_OMPS",
          "UBR_v0001_OMPS",
          "UBR_v0002_OMPS",
          "UBR_v0002_OMPS",
          "USASK_v0002_OMPS",
          "USASK_v0002_OMPS",
          "USASK_v0100_OMPS"
         ],
         "yaxis": "y"
        }
       ],
       "layout": {
        "autosize": true,
        "barmode": "overlay",
        "height": 2000,
        "legend": {
         "title": {
          "text": "platform_sensor"
         },
         "tracegroupgap": 0
        },
        "template": {
         "data": {
          "bar": [
           {
            "error_x": {
             "color": "#2a3f5f"
            },
            "error_y": {
             "color": "#2a3f5f"
            },
            "marker": {
             "line": {
              "color": "#E5ECF6",
              "width": 0.5
             },
             "pattern": {
              "fillmode": "overlay",
              "size": 10,
              "solidity": 0.2
             }
            },
            "type": "bar"
           }
          ],
          "barpolar": [
           {
            "marker": {
             "line": {
              "color": "#E5ECF6",
              "width": 0.5
             },
             "pattern": {
              "fillmode": "overlay",
              "size": 10,
              "solidity": 0.2
             }
            },
            "type": "barpolar"
           }
          ],
          "carpet": [
           {
            "aaxis": {
             "endlinecolor": "#2a3f5f",
             "gridcolor": "white",
             "linecolor": "white",
             "minorgridcolor": "white",
             "startlinecolor": "#2a3f5f"
            },
            "baxis": {
             "endlinecolor": "#2a3f5f",
             "gridcolor": "white",
             "linecolor": "white",
             "minorgridcolor": "white",
             "startlinecolor": "#2a3f5f"
            },
            "type": "carpet"
           }
          ],
          "choropleth": [
           {
            "colorbar": {
             "outlinewidth": 0,
             "ticks": ""
            },
            "type": "choropleth"
           }
          ],
          "contour": [
           {
            "colorbar": {
             "outlinewidth": 0,
             "ticks": ""
            },
            "colorscale": [
             [
              0,
              "#0d0887"
             ],
             [
              0.1111111111111111,
              "#46039f"
             ],
             [
              0.2222222222222222,
              "#7201a8"
             ],
             [
              0.3333333333333333,
              "#9c179e"
             ],
             [
              0.4444444444444444,
              "#bd3786"
             ],
             [
              0.5555555555555556,
              "#d8576b"
             ],
             [
              0.6666666666666666,
              "#ed7953"
             ],
             [
              0.7777777777777778,
              "#fb9f3a"
             ],
             [
              0.8888888888888888,
              "#fdca26"
             ],
             [
              1,
              "#f0f921"
             ]
            ],
            "type": "contour"
           }
          ],
          "contourcarpet": [
           {
            "colorbar": {
             "outlinewidth": 0,
             "ticks": ""
            },
            "type": "contourcarpet"
           }
          ],
          "heatmap": [
           {
            "colorbar": {
             "outlinewidth": 0,
             "ticks": ""
            },
            "colorscale": [
             [
              0,
              "#0d0887"
             ],
             [
              0.1111111111111111,
              "#46039f"
             ],
             [
              0.2222222222222222,
              "#7201a8"
             ],
             [
              0.3333333333333333,
              "#9c179e"
             ],
             [
              0.4444444444444444,
              "#bd3786"
             ],
             [
              0.5555555555555556,
              "#d8576b"
             ],
             [
              0.6666666666666666,
              "#ed7953"
             ],
             [
              0.7777777777777778,
              "#fb9f3a"
             ],
             [
              0.8888888888888888,
              "#fdca26"
             ],
             [
              1,
              "#f0f921"
             ]
            ],
            "type": "heatmap"
           }
          ],
          "heatmapgl": [
           {
            "colorbar": {
             "outlinewidth": 0,
             "ticks": ""
            },
            "colorscale": [
             [
              0,
              "#0d0887"
             ],
             [
              0.1111111111111111,
              "#46039f"
             ],
             [
              0.2222222222222222,
              "#7201a8"
             ],
             [
              0.3333333333333333,
              "#9c179e"
             ],
             [
              0.4444444444444444,
              "#bd3786"
             ],
             [
              0.5555555555555556,
              "#d8576b"
             ],
             [
              0.6666666666666666,
              "#ed7953"
             ],
             [
              0.7777777777777778,
              "#fb9f3a"
             ],
             [
              0.8888888888888888,
              "#fdca26"
             ],
             [
              1,
              "#f0f921"
             ]
            ],
            "type": "heatmapgl"
           }
          ],
          "histogram": [
           {
            "marker": {
             "pattern": {
              "fillmode": "overlay",
              "size": 10,
              "solidity": 0.2
             }
            },
            "type": "histogram"
           }
          ],
          "histogram2d": [
           {
            "colorbar": {
             "outlinewidth": 0,
             "ticks": ""
            },
            "colorscale": [
             [
              0,
              "#0d0887"
             ],
             [
              0.1111111111111111,
              "#46039f"
             ],
             [
              0.2222222222222222,
              "#7201a8"
             ],
             [
              0.3333333333333333,
              "#9c179e"
             ],
             [
              0.4444444444444444,
              "#bd3786"
             ],
             [
              0.5555555555555556,
              "#d8576b"
             ],
             [
              0.6666666666666666,
              "#ed7953"
             ],
             [
              0.7777777777777778,
              "#fb9f3a"
             ],
             [
              0.8888888888888888,
              "#fdca26"
             ],
             [
              1,
              "#f0f921"
             ]
            ],
            "type": "histogram2d"
           }
          ],
          "histogram2dcontour": [
           {
            "colorbar": {
             "outlinewidth": 0,
             "ticks": ""
            },
            "colorscale": [
             [
              0,
              "#0d0887"
             ],
             [
              0.1111111111111111,
              "#46039f"
             ],
             [
              0.2222222222222222,
              "#7201a8"
             ],
             [
              0.3333333333333333,
              "#9c179e"
             ],
             [
              0.4444444444444444,
              "#bd3786"
             ],
             [
              0.5555555555555556,
              "#d8576b"
             ],
             [
              0.6666666666666666,
              "#ed7953"
             ],
             [
              0.7777777777777778,
              "#fb9f3a"
             ],
             [
              0.8888888888888888,
              "#fdca26"
             ],
             [
              1,
              "#f0f921"
             ]
            ],
            "type": "histogram2dcontour"
           }
          ],
          "mesh3d": [
           {
            "colorbar": {
             "outlinewidth": 0,
             "ticks": ""
            },
            "type": "mesh3d"
           }
          ],
          "parcoords": [
           {
            "line": {
             "colorbar": {
              "outlinewidth": 0,
              "ticks": ""
             }
            },
            "type": "parcoords"
           }
          ],
          "pie": [
           {
            "automargin": true,
            "type": "pie"
           }
          ],
          "scatter": [
           {
            "fillpattern": {
             "fillmode": "overlay",
             "size": 10,
             "solidity": 0.2
            },
            "type": "scatter"
           }
          ],
          "scatter3d": [
           {
            "line": {
             "colorbar": {
              "outlinewidth": 0,
              "ticks": ""
             }
            },
            "marker": {
             "colorbar": {
              "outlinewidth": 0,
              "ticks": ""
             }
            },
            "type": "scatter3d"
           }
          ],
          "scattercarpet": [
           {
            "marker": {
             "colorbar": {
              "outlinewidth": 0,
              "ticks": ""
             }
            },
            "type": "scattercarpet"
           }
          ],
          "scattergeo": [
           {
            "marker": {
             "colorbar": {
              "outlinewidth": 0,
              "ticks": ""
             }
            },
            "type": "scattergeo"
           }
          ],
          "scattergl": [
           {
            "marker": {
             "colorbar": {
              "outlinewidth": 0,
              "ticks": ""
             }
            },
            "type": "scattergl"
           }
          ],
          "scattermapbox": [
           {
            "marker": {
             "colorbar": {
              "outlinewidth": 0,
              "ticks": ""
             }
            },
            "type": "scattermapbox"
           }
          ],
          "scatterpolar": [
           {
            "marker": {
             "colorbar": {
              "outlinewidth": 0,
              "ticks": ""
             }
            },
            "type": "scatterpolar"
           }
          ],
          "scatterpolargl": [
           {
            "marker": {
             "colorbar": {
              "outlinewidth": 0,
              "ticks": ""
             }
            },
            "type": "scatterpolargl"
           }
          ],
          "scatterternary": [
           {
            "marker": {
             "colorbar": {
              "outlinewidth": 0,
              "ticks": ""
             }
            },
            "type": "scatterternary"
           }
          ],
          "surface": [
           {
            "colorbar": {
             "outlinewidth": 0,
             "ticks": ""
            },
            "colorscale": [
             [
              0,
              "#0d0887"
             ],
             [
              0.1111111111111111,
              "#46039f"
             ],
             [
              0.2222222222222222,
              "#7201a8"
             ],
             [
              0.3333333333333333,
              "#9c179e"
             ],
             [
              0.4444444444444444,
              "#bd3786"
             ],
             [
              0.5555555555555556,
              "#d8576b"
             ],
             [
              0.6666666666666666,
              "#ed7953"
             ],
             [
              0.7777777777777778,
              "#fb9f3a"
             ],
             [
              0.8888888888888888,
              "#fdca26"
             ],
             [
              1,
              "#f0f921"
             ]
            ],
            "type": "surface"
           }
          ],
          "table": [
           {
            "cells": {
             "fill": {
              "color": "#EBF0F8"
             },
             "line": {
              "color": "white"
             }
            },
            "header": {
             "fill": {
              "color": "#C8D4E3"
             },
             "line": {
              "color": "white"
             }
            },
            "type": "table"
           }
          ]
         },
         "layout": {
          "annotationdefaults": {
           "arrowcolor": "#2a3f5f",
           "arrowhead": 0,
           "arrowwidth": 1
          },
          "autotypenumbers": "strict",
          "coloraxis": {
           "colorbar": {
            "outlinewidth": 0,
            "ticks": ""
           }
          },
          "colorscale": {
           "diverging": [
            [
             0,
             "#8e0152"
            ],
            [
             0.1,
             "#c51b7d"
            ],
            [
             0.2,
             "#de77ae"
            ],
            [
             0.3,
             "#f1b6da"
            ],
            [
             0.4,
             "#fde0ef"
            ],
            [
             0.5,
             "#f7f7f7"
            ],
            [
             0.6,
             "#e6f5d0"
            ],
            [
             0.7,
             "#b8e186"
            ],
            [
             0.8,
             "#7fbc41"
            ],
            [
             0.9,
             "#4d9221"
            ],
            [
             1,
             "#276419"
            ]
           ],
           "sequential": [
            [
             0,
             "#0d0887"
            ],
            [
             0.1111111111111111,
             "#46039f"
            ],
            [
             0.2222222222222222,
             "#7201a8"
            ],
            [
             0.3333333333333333,
             "#9c179e"
            ],
            [
             0.4444444444444444,
             "#bd3786"
            ],
            [
             0.5555555555555556,
             "#d8576b"
            ],
            [
             0.6666666666666666,
             "#ed7953"
            ],
            [
             0.7777777777777778,
             "#fb9f3a"
            ],
            [
             0.8888888888888888,
             "#fdca26"
            ],
            [
             1,
             "#f0f921"
            ]
           ],
           "sequentialminus": [
            [
             0,
             "#0d0887"
            ],
            [
             0.1111111111111111,
             "#46039f"
            ],
            [
             0.2222222222222222,
             "#7201a8"
            ],
            [
             0.3333333333333333,
             "#9c179e"
            ],
            [
             0.4444444444444444,
             "#bd3786"
            ],
            [
             0.5555555555555556,
             "#d8576b"
            ],
            [
             0.6666666666666666,
             "#ed7953"
            ],
            [
             0.7777777777777778,
             "#fb9f3a"
            ],
            [
             0.8888888888888888,
             "#fdca26"
            ],
            [
             1,
             "#f0f921"
            ]
           ]
          },
          "colorway": [
           "#636efa",
           "#EF553B",
           "#00cc96",
           "#ab63fa",
           "#FFA15A",
           "#19d3f3",
           "#FF6692",
           "#B6E880",
           "#FF97FF",
           "#FECB52"
          ],
          "font": {
           "color": "#2a3f5f"
          },
          "geo": {
           "bgcolor": "white",
           "lakecolor": "white",
           "landcolor": "#E5ECF6",
           "showlakes": true,
           "showland": true,
           "subunitcolor": "white"
          },
          "hoverlabel": {
           "align": "left"
          },
          "hovermode": "closest",
          "mapbox": {
           "style": "light"
          },
          "paper_bgcolor": "white",
          "plot_bgcolor": "#E5ECF6",
          "polar": {
           "angularaxis": {
            "gridcolor": "white",
            "linecolor": "white",
            "ticks": ""
           },
           "bgcolor": "#E5ECF6",
           "radialaxis": {
            "gridcolor": "white",
            "linecolor": "white",
            "ticks": ""
           }
          },
          "scene": {
           "xaxis": {
            "backgroundcolor": "#E5ECF6",
            "gridcolor": "white",
            "gridwidth": 2,
            "linecolor": "white",
            "showbackground": true,
            "ticks": "",
            "zerolinecolor": "white"
           },
           "yaxis": {
            "backgroundcolor": "#E5ECF6",
            "gridcolor": "white",
            "gridwidth": 2,
            "linecolor": "white",
            "showbackground": true,
            "ticks": "",
            "zerolinecolor": "white"
           },
           "zaxis": {
            "backgroundcolor": "#E5ECF6",
            "gridcolor": "white",
            "gridwidth": 2,
            "linecolor": "white",
            "showbackground": true,
            "ticks": "",
            "zerolinecolor": "white"
           }
          },
          "shapedefaults": {
           "line": {
            "color": "#2a3f5f"
           }
          },
          "ternary": {
           "aaxis": {
            "gridcolor": "white",
            "linecolor": "white",
            "ticks": ""
           },
           "baxis": {
            "gridcolor": "white",
            "linecolor": "white",
            "ticks": ""
           },
           "bgcolor": "#E5ECF6",
           "caxis": {
            "gridcolor": "white",
            "linecolor": "white",
            "ticks": ""
           }
          },
          "title": {
           "x": 0.05
          },
          "xaxis": {
           "automargin": true,
           "gridcolor": "white",
           "linecolor": "white",
           "ticks": "",
           "title": {
            "standoff": 15
           },
           "zerolinecolor": "white",
           "zerolinewidth": 2
          },
          "yaxis": {
           "automargin": true,
           "gridcolor": "white",
           "linecolor": "white",
           "ticks": "",
           "title": {
            "standoff": 15
           },
           "zerolinecolor": "white",
           "zerolinewidth": 2
          }
         }
        },
        "title": {
         "text": "Ozone Monthly Products"
        },
        "width": 1200,
        "xaxis": {
         "anchor": "y",
         "domain": [
          0,
          1
         ],
         "type": "date"
        },
        "yaxis": {
         "anchor": "x",
         "autorange": "reversed",
         "domain": [
          0,
          1
         ],
         "title": {
          "text": "algorithm_version"
         }
        }
       }
      }
     },
     "metadata": {},
     "output_type": "display_data"
    }
   ],
   "source": [
    "\n",
    "reclist=[]\n",
    "\n",
    "# Read manifest file for Lot2 O3 - latest and get relaevant information into a Pandas Dataframe\n",
    "# -- check if this is the correct manifest file...\n",
    "\n",
    "# note: the variable name is not been taking into account here, because it is repeated for each platform/sensor pair\n",
    "# to retrieve that information, just do varname=line.decode('utf-8').split('/')[5]\n",
    "\n",
    "fname = 'http://wdc.dlr.de/C3S_312b_Lot2/manifest_C3S_312b_Lot2_O3_MONTHLY_latest.txt'\n",
    "for line in urllib.request.urlopen(fname):\n",
    "    recstr = line.decode('utf-8').split('/')[-1].split('-')\n",
    "    # print(recstr)\n",
    "    rec = {\n",
    "        'level': recstr[2],\n",
    "        # 'variable': recstr[3],\n",
    "        'platform': recstr[4],\n",
    "        'sensor': recstr[5],\n",
    "        'algorithm': recstr[6],\n",
    "        'frequency': recstr[7],\n",
    "        'version' : recstr[8][0:-4],\n",
    "        'date' : pd.Timestamp(datetime(int(recstr[0][0:4]),int(recstr[0][4:6]),1,0,0,0)),\n",
    "    }\n",
    "\n",
    "    if rec not in reclist: reclist.append(rec) # records of the same platform/sensor pair - different variable - are removed here\n",
    "df = pd.DataFrame(reclist)\n",
    "\n",
    "algorithms = sorted(list(df['algorithm'].unique()))\n",
    "\n",
    "# timeseries go from 1970 until end of last year with available data in the manifest file\n",
    "lastyear=df['date'].max().year\n",
    "dates = pd.date_range('1970-01-15',f'{lastyear}-12-1',freq='MS')\n",
    "\n",
    "# for each variable , then for each algorithm, then for each of its versions, check which months are covered\n",
    "# colors will be platform/sensor pairs\n",
    "\n",
    "barList = []\n",
    "for algo in algorithms:\n",
    "    \n",
    "    df2 = df[df['algorithm']==algo].copy()\n",
    "    versions=sorted(list(df2['version'].unique()))\n",
    "    \n",
    "    for v,version in enumerate(versions):\n",
    "        df3 = df2[df2['version']==version]\n",
    "        platforms=sorted(list(df3['platform'].unique()))\n",
    "        for p,platform in enumerate(platforms):\n",
    "            df4 = df3[df3['platform']==platform]\n",
    "            timeseries = np.ones([len(dates)])*-1\n",
    "            sens_plat_list=[] # list of all sensor/platforms that could use this algo version\n",
    "\n",
    "            for t,date in enumerate(dates):\n",
    "                if (date.to_datetime64() in df4['date'].values):\n",
    "                    platform = df4.loc[df4['date']==date.to_datetime64(),['platform']].values[0][0]\n",
    "                    # print(df4.loc[df4['date']==date.to_datetime64(),['platform']])\n",
    "                    # raise SystemExit\n",
    "                    sensor = df4.loc[df4['date']==date.to_datetime64(),['sensor']].values[0][0]\n",
    "                    sensor_platform = f'{sensor}-{platform}'\n",
    "                    if sensor_platform not in sens_plat_list:\n",
    "                        sens_plat_list.append(sensor_platform)\n",
    "                    #find index of this pair on the list\n",
    "                    index=[i for i in range(len(sens_plat_list)) if (sens_plat_list[i]==sensor_platform)]\n",
    "                    # print(platform_sensor)\n",
    "                    # raise SystemExit\n",
    "                    timeseries[t]=index[0]\n",
    "            # plt.figure()\n",
    "            # plt.plot(dates,timeseries)\n",
    "            # plt.show()\n",
    "            \n",
    "            # now extract information about the bars to draw in the final plot\n",
    "            # each individual bar is a new entry in a new DataFrame\n",
    "\n",
    "            for i in range(len(dates)):\n",
    "                if i==0:\n",
    "                    if timeseries[1]==-1: # no data in beginning of timeseries, then do nothing\n",
    "                        continue\n",
    "                    else: # data in the very beginning - create new bar\n",
    "                        bar = {\n",
    "                            'algorithm_version' : f'{algo}_{version}_{platform}',\n",
    "                            'platform_sensor': sens_plat_list[timeseries[t]],\n",
    "                            'startdate': dates[i],\n",
    "                        }\n",
    "                        continue\n",
    "                elif i==len(timeseries)-1: # case of last date\n",
    "                    if(timeseries[i]==timeseries[i-1]):\n",
    "                        if timeseries[i]==-1: # no data in last date, no active bar\n",
    "                            continue\n",
    "                        else: # active bar, needs to be closed\n",
    "                            bar['enddate']=dates[i]\n",
    "                            barList.append(bar)\n",
    "                            continue\n",
    "                    else: #there is a change in the timeseries. weather new satellite or end of last bar\n",
    "                        if timeseries[i]==-1:\n",
    "                            bar['enddate']=dates[i-1] # no data in last date, just close last active bar\n",
    "                            barList.append(bar)\n",
    "                        else: # new bar in the very last date. need to close last and initialize and close a new one\n",
    "                            bar['enddate']=dates[i-1]\n",
    "                            barList.append(bar)\n",
    "                            bar = {\n",
    "                                'algorithm_version' : f'{algo}_{version}_{platform}',\n",
    "                                'platform_sensor': sens_plat_list[timeseries[t]],\n",
    "                                'startdate': dates[i],\n",
    "                                'enddate': dates[i],\n",
    "                            }\n",
    "                            barList.append(bar)\n",
    "                            continue\n",
    "                else: # general case\n",
    "                    if(timeseries[i]==timeseries[i-1]): # no change, just continue to next date\n",
    "                        continue\n",
    "                    else: # weather no data or new satellite takes over. previous bar needs to be closed\n",
    "                        if (timeseries[i]==-1) and (timeseries[i-1]!=-1): # no data from now on, just continue\n",
    "                            bar['enddate']=dates[i-1]\n",
    "                            barList.append(bar) \n",
    "                            continue\n",
    "                        \n",
    "                        else: #a different satellite takes over. close last bar and start new one\n",
    "                            if timeseries[i-1]!=-1: # if i-1 had active bar, it needs to be closed\n",
    "                                bar['enddate']=dates[i-1]\n",
    "                                barList.append(bar)\n",
    "                            # then open new bar    \n",
    "                            bar = {\n",
    "                                'algorithm_version' : f'{algo}_{version}_{platform}',\n",
    "                                'platform_sensor': sens_plat_list[int(timeseries[t])],\n",
    "                                'startdate': dates[i],\n",
    "                            }\n",
    "                            continue\n",
    "\n",
    "df_bars = pd.DataFrame(barList)\n",
    "print(df_bars)\n",
    "\n",
    "fig = px.timeline(df_bars, x_start=\"startdate\", x_end=\"enddate\", y='algorithm_version',color='platform_sensor',title='Ozone Monthly Products')\n",
    "# fig = px.timeline(df_bars, x_start=\"startdate\", x_end=\"enddate\", y='algorithm_version')\n",
    "# fig = px.timeline(datasets_df, x_start=\"startdate\", x_end=\"enddate\", y='ECV')\n",
    "fig.update_yaxes(autorange=\"reversed\")\n",
    "fig.update_layout(\n",
    "    autosize=True,\n",
    "    width=1200,\n",
    "    height=2000,\n",
    ")\n",
    "fig.show()\n",
    "today_date = pd.Timestamp.today().strftime('%Y%m%d') \n",
    "fig.write_image(f'ozone_coverage_byalgoversion_by mission_{today_date}.png')\n",
    "# fig.write_html('ozone_coverage_byalgoversion_by mission.htm')"
   ]
  },
  {
   "cell_type": "code",
   "execution_count": 3,
   "metadata": {},
   "outputs": [
    {
     "name": "stdout",
     "output_type": "stream",
     "text": [
      "           algorithm_version    platform_sensor  startdate    enddate\n",
      "0   BESD_v02.01.02_SCIAMACHY  ENVISAT-SCIAMACHY 2003-01-01 2012-03-01\n",
      "1           EMMA_v3.0_MERGED      MERGED-MERGED 2003-01-01 2014-12-01\n",
      "2           EMMA_v3.0_MERGED      MERGED-MERGED 2015-02-01 2016-12-01\n",
      "3           EMMA_v3.1_MERGED      MERGED-MERGED 2003-01-01 2014-12-01\n",
      "4           EMMA_v3.1_MERGED      MERGED-MERGED 2015-02-01 2017-12-01\n",
      "5           EMMA_v4.1_MERGED      MERGED-MERGED 2003-01-01 2014-12-01\n",
      "6           EMMA_v4.1_MERGED      MERGED-MERGED 2015-02-01 2018-12-01\n",
      "7           EMMA_v4.2_MERGED      MERGED-MERGED 2003-01-01 2014-12-01\n",
      "8           EMMA_v4.2_MERGED      MERGED-MERGED 2015-02-01 2019-12-01\n",
      "9           EMMA_v4.3_MERGED      MERGED-MERGED 2003-01-01 2014-12-01\n",
      "10          EMMA_v4.3_MERGED      MERGED-MERGED 2015-02-01 2020-06-01\n",
      "11          EMMA_v4.4_MERGED      MERGED-MERGED 2003-01-01 2014-12-01\n",
      "12          EMMA_v4.4_MERGED      MERGED-MERGED 2015-02-01 2021-12-01\n",
      "13          EMMA_v4.5_MERGED      MERGED-MERGED 2003-01-01 2014-12-01\n",
      "14          EMMA_v4.5_MERGED      MERGED-MERGED 2015-02-01 2022-12-01\n",
      "15       IMAP_v7.2_SCIAMACHY  ENVISAT-SCIAMACHY 2003-01-01 2012-04-01\n",
      "16           NLIS_v10.1_IASI        METOPB-IASI 2007-07-01 2021-10-01\n",
      "17           NLIS_v10.1_IASI        METOPB-IASI 2021-11-01 2022-12-01\n",
      "18           NLIS_v10.2_IASI        METOPB-IASI 2007-07-01 2021-10-01\n",
      "19           NLIS_v10.2_IASI        METOPB-IASI 2021-11-01 2022-12-01\n",
      "20            NLIS_v3.0_AIRS          AQUA-AIRS 2003-04-01 2007-07-01\n",
      "21            NLIS_v4.0_IASI        METOPB-IASI 2013-02-01 2016-12-01\n",
      "22            NLIS_v4.2_IASI        METOPB-IASI 2013-02-01 2019-12-01\n",
      "23            NLIS_v8.0_IASI        METOPA-IASI 2007-07-01 2015-05-01\n",
      "24            NLIS_v8.1_IASI        METOPB-IASI 2013-02-01 2019-12-01\n",
      "25            NLIS_v8.4_IASI        METOPA-IASI 2007-07-01 2015-09-01\n",
      "26            NLIS_v9.1_IASI        METOPB-IASI 2007-07-01 2021-08-01\n",
      "27            NLIS_v9.1_IASI        METOPB-IASI 2021-09-01 2021-12-01\n",
      "28           OCFP_v7.1_TANSO        GOSAT-TANSO 2009-04-01 2016-12-01\n",
      "29           OCFP_v7.2_TANSO        GOSAT-TANSO 2009-04-01 2018-12-01\n",
      "30           OCFP_v7.3_TANSO        GOSAT-TANSO 2009-04-01 2022-12-01\n",
      "31           OCPR_v7.0_TANSO        GOSAT-TANSO 2009-04-01 2016-12-01\n",
      "32           OCPR_v7.2_TANSO        GOSAT-TANSO 2009-04-01 2018-12-01\n",
      "33           OCPR_v9.0_TANSO        GOSAT-TANSO 2009-04-01 2014-12-01\n",
      "34           OCPR_v9.0_TANSO        GOSAT-TANSO 2015-02-01 2022-12-01\n",
      "35        SRFP_v2.0.0_TANSO2      GOSAT2-TANSO2 2019-02-01 2022-12-01\n",
      "36         SRFP_v2.3.8_TANSO        GOSAT-TANSO 2009-04-01 2014-12-01\n",
      "37         SRFP_v2.3.8_TANSO        GOSAT-TANSO 2015-02-01 2022-12-01\n",
      "38        SRPR_v2.0.0_TANSO2      GOSAT2-TANSO2 2019-02-01 2021-12-01\n",
      "39        SRPR_v2.0.1_TANSO2      GOSAT2-TANSO2 2019-02-01 2022-12-01\n",
      "40         SRPR_v2.3.8_TANSO        GOSAT-TANSO 2009-04-01 2014-12-01\n",
      "41         SRPR_v2.3.8_TANSO        GOSAT-TANSO 2015-02-01 2016-12-01\n",
      "42         SRPR_v2.3.9_TANSO        GOSAT-TANSO 2009-04-01 2014-12-01\n",
      "43         SRPR_v2.3.9_TANSO        GOSAT-TANSO 2015-02-01 2022-12-01\n",
      "44       WFMD_v4.0_SCIAMACHY  ENVISAT-SCIAMACHY 2002-10-01 2012-04-01\n"
     ]
    },
    {
     "data": {
      "application/vnd.plotly.v1+json": {
       "config": {
        "plotlyServerURL": "https://plot.ly"
       },
       "data": [
        {
         "alignmentgroup": "True",
         "base": [
          "2003-01-01T00:00:00",
          "2003-01-01T00:00:00",
          "2002-10-01T00:00:00"
         ],
         "hovertemplate": "platform_sensor=ENVISAT-SCIAMACHY<br>startdate=%{base}<br>enddate=%{x}<br>algorithm_version=%{y}<extra></extra>",
         "legendgroup": "ENVISAT-SCIAMACHY",
         "marker": {
          "color": "#636efa",
          "pattern": {
           "shape": ""
          }
         },
         "name": "ENVISAT-SCIAMACHY",
         "offsetgroup": "ENVISAT-SCIAMACHY",
         "orientation": "h",
         "showlegend": true,
         "textposition": "auto",
         "type": "bar",
         "x": [
          289180800000,
          291859200000,
          299808000000
         ],
         "xaxis": "x",
         "y": [
          "BESD_v02.01.02_SCIAMACHY",
          "IMAP_v7.2_SCIAMACHY",
          "WFMD_v4.0_SCIAMACHY"
         ],
         "yaxis": "y"
        },
        {
         "alignmentgroup": "True",
         "base": [
          "2003-01-01T00:00:00",
          "2015-02-01T00:00:00",
          "2003-01-01T00:00:00",
          "2015-02-01T00:00:00",
          "2003-01-01T00:00:00",
          "2015-02-01T00:00:00",
          "2003-01-01T00:00:00",
          "2015-02-01T00:00:00",
          "2003-01-01T00:00:00",
          "2015-02-01T00:00:00",
          "2003-01-01T00:00:00",
          "2015-02-01T00:00:00",
          "2003-01-01T00:00:00",
          "2015-02-01T00:00:00"
         ],
         "hovertemplate": "platform_sensor=MERGED-MERGED<br>startdate=%{base}<br>enddate=%{x}<br>algorithm_version=%{y}<extra></extra>",
         "legendgroup": "MERGED-MERGED",
         "marker": {
          "color": "#EF553B",
          "pattern": {
           "shape": ""
          }
         },
         "name": "MERGED-MERGED",
         "offsetgroup": "MERGED-MERGED",
         "orientation": "h",
         "showlegend": true,
         "textposition": "auto",
         "type": "bar",
         "x": [
          376012800000,
          57801600000,
          376012800000,
          89337600000,
          376012800000,
          120873600000,
          376012800000,
          152409600000,
          376012800000,
          168220800000,
          376012800000,
          215568000000,
          376012800000,
          247104000000
         ],
         "xaxis": "x",
         "y": [
          "EMMA_v3.0_MERGED",
          "EMMA_v3.0_MERGED",
          "EMMA_v3.1_MERGED",
          "EMMA_v3.1_MERGED",
          "EMMA_v4.1_MERGED",
          "EMMA_v4.1_MERGED",
          "EMMA_v4.2_MERGED",
          "EMMA_v4.2_MERGED",
          "EMMA_v4.3_MERGED",
          "EMMA_v4.3_MERGED",
          "EMMA_v4.4_MERGED",
          "EMMA_v4.4_MERGED",
          "EMMA_v4.5_MERGED",
          "EMMA_v4.5_MERGED"
         ],
         "yaxis": "y"
        },
        {
         "alignmentgroup": "True",
         "base": [
          "2007-07-01T00:00:00",
          "2021-11-01T00:00:00",
          "2007-07-01T00:00:00",
          "2021-11-01T00:00:00",
          "2013-02-01T00:00:00",
          "2013-02-01T00:00:00",
          "2013-02-01T00:00:00",
          "2007-07-01T00:00:00",
          "2021-09-01T00:00:00"
         ],
         "hovertemplate": "platform_sensor=METOPB-IASI<br>startdate=%{base}<br>enddate=%{x}<br>algorithm_version=%{y}<extra></extra>",
         "legendgroup": "METOPB-IASI",
         "marker": {
          "color": "#00cc96",
          "pattern": {
           "shape": ""
          }
         },
         "name": "METOPB-IASI",
         "offsetgroup": "METOPB-IASI",
         "orientation": "h",
         "showlegend": true,
         "textposition": "auto",
         "type": "bar",
         "x": [
          449798400000,
          34128000000,
          449798400000,
          34128000000,
          120873600000,
          215481600000,
          215481600000,
          444528000000,
          7862400000
         ],
         "xaxis": "x",
         "y": [
          "NLIS_v10.1_IASI",
          "NLIS_v10.1_IASI",
          "NLIS_v10.2_IASI",
          "NLIS_v10.2_IASI",
          "NLIS_v4.0_IASI",
          "NLIS_v4.2_IASI",
          "NLIS_v8.1_IASI",
          "NLIS_v9.1_IASI",
          "NLIS_v9.1_IASI"
         ],
         "yaxis": "y"
        },
        {
         "alignmentgroup": "True",
         "base": [
          "2003-04-01T00:00:00"
         ],
         "hovertemplate": "platform_sensor=AQUA-AIRS<br>startdate=%{base}<br>enddate=%{x}<br>algorithm_version=%{y}<extra></extra>",
         "legendgroup": "AQUA-AIRS",
         "marker": {
          "color": "#ab63fa",
          "pattern": {
           "shape": ""
          }
         },
         "name": "AQUA-AIRS",
         "offsetgroup": "AQUA-AIRS",
         "orientation": "h",
         "showlegend": true,
         "textposition": "auto",
         "type": "bar",
         "x": [
          134092800000
         ],
         "xaxis": "x",
         "y": [
          "NLIS_v3.0_AIRS"
         ],
         "yaxis": "y"
        },
        {
         "alignmentgroup": "True",
         "base": [
          "2007-07-01T00:00:00",
          "2007-07-01T00:00:00"
         ],
         "hovertemplate": "platform_sensor=METOPA-IASI<br>startdate=%{base}<br>enddate=%{x}<br>algorithm_version=%{y}<extra></extra>",
         "legendgroup": "METOPA-IASI",
         "marker": {
          "color": "#FFA15A",
          "pattern": {
           "shape": ""
          }
         },
         "name": "METOPA-IASI",
         "offsetgroup": "METOPA-IASI",
         "orientation": "h",
         "showlegend": true,
         "textposition": "auto",
         "type": "bar",
         "x": [
          247190400000,
          257817600000
         ],
         "xaxis": "x",
         "y": [
          "NLIS_v8.0_IASI",
          "NLIS_v8.4_IASI"
         ],
         "yaxis": "y"
        },
        {
         "alignmentgroup": "True",
         "base": [
          "2009-04-01T00:00:00",
          "2009-04-01T00:00:00",
          "2009-04-01T00:00:00",
          "2009-04-01T00:00:00",
          "2009-04-01T00:00:00",
          "2009-04-01T00:00:00",
          "2015-02-01T00:00:00",
          "2009-04-01T00:00:00",
          "2015-02-01T00:00:00",
          "2009-04-01T00:00:00",
          "2015-02-01T00:00:00",
          "2009-04-01T00:00:00",
          "2015-02-01T00:00:00"
         ],
         "hovertemplate": "platform_sensor=GOSAT-TANSO<br>startdate=%{base}<br>enddate=%{x}<br>algorithm_version=%{y}<extra></extra>",
         "legendgroup": "GOSAT-TANSO",
         "marker": {
          "color": "#19d3f3",
          "pattern": {
           "shape": ""
          }
         },
         "name": "GOSAT-TANSO",
         "offsetgroup": "GOSAT-TANSO",
         "orientation": "h",
         "showlegend": true,
         "textposition": "auto",
         "type": "bar",
         "x": [
          242006400000,
          305078400000,
          431308800000,
          242006400000,
          305078400000,
          178848000000,
          247104000000,
          178848000000,
          247104000000,
          178848000000,
          57801600000,
          178848000000,
          247104000000
         ],
         "xaxis": "x",
         "y": [
          "OCFP_v7.1_TANSO",
          "OCFP_v7.2_TANSO",
          "OCFP_v7.3_TANSO",
          "OCPR_v7.0_TANSO",
          "OCPR_v7.2_TANSO",
          "OCPR_v9.0_TANSO",
          "OCPR_v9.0_TANSO",
          "SRFP_v2.3.8_TANSO",
          "SRFP_v2.3.8_TANSO",
          "SRPR_v2.3.8_TANSO",
          "SRPR_v2.3.8_TANSO",
          "SRPR_v2.3.9_TANSO",
          "SRPR_v2.3.9_TANSO"
         ],
         "yaxis": "y"
        },
        {
         "alignmentgroup": "True",
         "base": [
          "2019-02-01T00:00:00",
          "2019-02-01T00:00:00",
          "2019-02-01T00:00:00"
         ],
         "hovertemplate": "platform_sensor=GOSAT2-TANSO2<br>startdate=%{base}<br>enddate=%{x}<br>algorithm_version=%{y}<extra></extra>",
         "legendgroup": "GOSAT2-TANSO2",
         "marker": {
          "color": "#FF6692",
          "pattern": {
           "shape": ""
          }
         },
         "name": "GOSAT2-TANSO2",
         "offsetgroup": "GOSAT2-TANSO2",
         "orientation": "h",
         "showlegend": true,
         "textposition": "auto",
         "type": "bar",
         "x": [
          120873600000,
          89337600000,
          120873600000
         ],
         "xaxis": "x",
         "y": [
          "SRFP_v2.0.0_TANSO2",
          "SRPR_v2.0.0_TANSO2",
          "SRPR_v2.0.1_TANSO2"
         ],
         "yaxis": "y"
        }
       ],
       "layout": {
        "autosize": true,
        "barmode": "overlay",
        "height": 1000,
        "legend": {
         "title": {
          "text": "platform_sensor"
         },
         "tracegroupgap": 0
        },
        "template": {
         "data": {
          "bar": [
           {
            "error_x": {
             "color": "#2a3f5f"
            },
            "error_y": {
             "color": "#2a3f5f"
            },
            "marker": {
             "line": {
              "color": "#E5ECF6",
              "width": 0.5
             },
             "pattern": {
              "fillmode": "overlay",
              "size": 10,
              "solidity": 0.2
             }
            },
            "type": "bar"
           }
          ],
          "barpolar": [
           {
            "marker": {
             "line": {
              "color": "#E5ECF6",
              "width": 0.5
             },
             "pattern": {
              "fillmode": "overlay",
              "size": 10,
              "solidity": 0.2
             }
            },
            "type": "barpolar"
           }
          ],
          "carpet": [
           {
            "aaxis": {
             "endlinecolor": "#2a3f5f",
             "gridcolor": "white",
             "linecolor": "white",
             "minorgridcolor": "white",
             "startlinecolor": "#2a3f5f"
            },
            "baxis": {
             "endlinecolor": "#2a3f5f",
             "gridcolor": "white",
             "linecolor": "white",
             "minorgridcolor": "white",
             "startlinecolor": "#2a3f5f"
            },
            "type": "carpet"
           }
          ],
          "choropleth": [
           {
            "colorbar": {
             "outlinewidth": 0,
             "ticks": ""
            },
            "type": "choropleth"
           }
          ],
          "contour": [
           {
            "colorbar": {
             "outlinewidth": 0,
             "ticks": ""
            },
            "colorscale": [
             [
              0,
              "#0d0887"
             ],
             [
              0.1111111111111111,
              "#46039f"
             ],
             [
              0.2222222222222222,
              "#7201a8"
             ],
             [
              0.3333333333333333,
              "#9c179e"
             ],
             [
              0.4444444444444444,
              "#bd3786"
             ],
             [
              0.5555555555555556,
              "#d8576b"
             ],
             [
              0.6666666666666666,
              "#ed7953"
             ],
             [
              0.7777777777777778,
              "#fb9f3a"
             ],
             [
              0.8888888888888888,
              "#fdca26"
             ],
             [
              1,
              "#f0f921"
             ]
            ],
            "type": "contour"
           }
          ],
          "contourcarpet": [
           {
            "colorbar": {
             "outlinewidth": 0,
             "ticks": ""
            },
            "type": "contourcarpet"
           }
          ],
          "heatmap": [
           {
            "colorbar": {
             "outlinewidth": 0,
             "ticks": ""
            },
            "colorscale": [
             [
              0,
              "#0d0887"
             ],
             [
              0.1111111111111111,
              "#46039f"
             ],
             [
              0.2222222222222222,
              "#7201a8"
             ],
             [
              0.3333333333333333,
              "#9c179e"
             ],
             [
              0.4444444444444444,
              "#bd3786"
             ],
             [
              0.5555555555555556,
              "#d8576b"
             ],
             [
              0.6666666666666666,
              "#ed7953"
             ],
             [
              0.7777777777777778,
              "#fb9f3a"
             ],
             [
              0.8888888888888888,
              "#fdca26"
             ],
             [
              1,
              "#f0f921"
             ]
            ],
            "type": "heatmap"
           }
          ],
          "heatmapgl": [
           {
            "colorbar": {
             "outlinewidth": 0,
             "ticks": ""
            },
            "colorscale": [
             [
              0,
              "#0d0887"
             ],
             [
              0.1111111111111111,
              "#46039f"
             ],
             [
              0.2222222222222222,
              "#7201a8"
             ],
             [
              0.3333333333333333,
              "#9c179e"
             ],
             [
              0.4444444444444444,
              "#bd3786"
             ],
             [
              0.5555555555555556,
              "#d8576b"
             ],
             [
              0.6666666666666666,
              "#ed7953"
             ],
             [
              0.7777777777777778,
              "#fb9f3a"
             ],
             [
              0.8888888888888888,
              "#fdca26"
             ],
             [
              1,
              "#f0f921"
             ]
            ],
            "type": "heatmapgl"
           }
          ],
          "histogram": [
           {
            "marker": {
             "pattern": {
              "fillmode": "overlay",
              "size": 10,
              "solidity": 0.2
             }
            },
            "type": "histogram"
           }
          ],
          "histogram2d": [
           {
            "colorbar": {
             "outlinewidth": 0,
             "ticks": ""
            },
            "colorscale": [
             [
              0,
              "#0d0887"
             ],
             [
              0.1111111111111111,
              "#46039f"
             ],
             [
              0.2222222222222222,
              "#7201a8"
             ],
             [
              0.3333333333333333,
              "#9c179e"
             ],
             [
              0.4444444444444444,
              "#bd3786"
             ],
             [
              0.5555555555555556,
              "#d8576b"
             ],
             [
              0.6666666666666666,
              "#ed7953"
             ],
             [
              0.7777777777777778,
              "#fb9f3a"
             ],
             [
              0.8888888888888888,
              "#fdca26"
             ],
             [
              1,
              "#f0f921"
             ]
            ],
            "type": "histogram2d"
           }
          ],
          "histogram2dcontour": [
           {
            "colorbar": {
             "outlinewidth": 0,
             "ticks": ""
            },
            "colorscale": [
             [
              0,
              "#0d0887"
             ],
             [
              0.1111111111111111,
              "#46039f"
             ],
             [
              0.2222222222222222,
              "#7201a8"
             ],
             [
              0.3333333333333333,
              "#9c179e"
             ],
             [
              0.4444444444444444,
              "#bd3786"
             ],
             [
              0.5555555555555556,
              "#d8576b"
             ],
             [
              0.6666666666666666,
              "#ed7953"
             ],
             [
              0.7777777777777778,
              "#fb9f3a"
             ],
             [
              0.8888888888888888,
              "#fdca26"
             ],
             [
              1,
              "#f0f921"
             ]
            ],
            "type": "histogram2dcontour"
           }
          ],
          "mesh3d": [
           {
            "colorbar": {
             "outlinewidth": 0,
             "ticks": ""
            },
            "type": "mesh3d"
           }
          ],
          "parcoords": [
           {
            "line": {
             "colorbar": {
              "outlinewidth": 0,
              "ticks": ""
             }
            },
            "type": "parcoords"
           }
          ],
          "pie": [
           {
            "automargin": true,
            "type": "pie"
           }
          ],
          "scatter": [
           {
            "fillpattern": {
             "fillmode": "overlay",
             "size": 10,
             "solidity": 0.2
            },
            "type": "scatter"
           }
          ],
          "scatter3d": [
           {
            "line": {
             "colorbar": {
              "outlinewidth": 0,
              "ticks": ""
             }
            },
            "marker": {
             "colorbar": {
              "outlinewidth": 0,
              "ticks": ""
             }
            },
            "type": "scatter3d"
           }
          ],
          "scattercarpet": [
           {
            "marker": {
             "colorbar": {
              "outlinewidth": 0,
              "ticks": ""
             }
            },
            "type": "scattercarpet"
           }
          ],
          "scattergeo": [
           {
            "marker": {
             "colorbar": {
              "outlinewidth": 0,
              "ticks": ""
             }
            },
            "type": "scattergeo"
           }
          ],
          "scattergl": [
           {
            "marker": {
             "colorbar": {
              "outlinewidth": 0,
              "ticks": ""
             }
            },
            "type": "scattergl"
           }
          ],
          "scattermapbox": [
           {
            "marker": {
             "colorbar": {
              "outlinewidth": 0,
              "ticks": ""
             }
            },
            "type": "scattermapbox"
           }
          ],
          "scatterpolar": [
           {
            "marker": {
             "colorbar": {
              "outlinewidth": 0,
              "ticks": ""
             }
            },
            "type": "scatterpolar"
           }
          ],
          "scatterpolargl": [
           {
            "marker": {
             "colorbar": {
              "outlinewidth": 0,
              "ticks": ""
             }
            },
            "type": "scatterpolargl"
           }
          ],
          "scatterternary": [
           {
            "marker": {
             "colorbar": {
              "outlinewidth": 0,
              "ticks": ""
             }
            },
            "type": "scatterternary"
           }
          ],
          "surface": [
           {
            "colorbar": {
             "outlinewidth": 0,
             "ticks": ""
            },
            "colorscale": [
             [
              0,
              "#0d0887"
             ],
             [
              0.1111111111111111,
              "#46039f"
             ],
             [
              0.2222222222222222,
              "#7201a8"
             ],
             [
              0.3333333333333333,
              "#9c179e"
             ],
             [
              0.4444444444444444,
              "#bd3786"
             ],
             [
              0.5555555555555556,
              "#d8576b"
             ],
             [
              0.6666666666666666,
              "#ed7953"
             ],
             [
              0.7777777777777778,
              "#fb9f3a"
             ],
             [
              0.8888888888888888,
              "#fdca26"
             ],
             [
              1,
              "#f0f921"
             ]
            ],
            "type": "surface"
           }
          ],
          "table": [
           {
            "cells": {
             "fill": {
              "color": "#EBF0F8"
             },
             "line": {
              "color": "white"
             }
            },
            "header": {
             "fill": {
              "color": "#C8D4E3"
             },
             "line": {
              "color": "white"
             }
            },
            "type": "table"
           }
          ]
         },
         "layout": {
          "annotationdefaults": {
           "arrowcolor": "#2a3f5f",
           "arrowhead": 0,
           "arrowwidth": 1
          },
          "autotypenumbers": "strict",
          "coloraxis": {
           "colorbar": {
            "outlinewidth": 0,
            "ticks": ""
           }
          },
          "colorscale": {
           "diverging": [
            [
             0,
             "#8e0152"
            ],
            [
             0.1,
             "#c51b7d"
            ],
            [
             0.2,
             "#de77ae"
            ],
            [
             0.3,
             "#f1b6da"
            ],
            [
             0.4,
             "#fde0ef"
            ],
            [
             0.5,
             "#f7f7f7"
            ],
            [
             0.6,
             "#e6f5d0"
            ],
            [
             0.7,
             "#b8e186"
            ],
            [
             0.8,
             "#7fbc41"
            ],
            [
             0.9,
             "#4d9221"
            ],
            [
             1,
             "#276419"
            ]
           ],
           "sequential": [
            [
             0,
             "#0d0887"
            ],
            [
             0.1111111111111111,
             "#46039f"
            ],
            [
             0.2222222222222222,
             "#7201a8"
            ],
            [
             0.3333333333333333,
             "#9c179e"
            ],
            [
             0.4444444444444444,
             "#bd3786"
            ],
            [
             0.5555555555555556,
             "#d8576b"
            ],
            [
             0.6666666666666666,
             "#ed7953"
            ],
            [
             0.7777777777777778,
             "#fb9f3a"
            ],
            [
             0.8888888888888888,
             "#fdca26"
            ],
            [
             1,
             "#f0f921"
            ]
           ],
           "sequentialminus": [
            [
             0,
             "#0d0887"
            ],
            [
             0.1111111111111111,
             "#46039f"
            ],
            [
             0.2222222222222222,
             "#7201a8"
            ],
            [
             0.3333333333333333,
             "#9c179e"
            ],
            [
             0.4444444444444444,
             "#bd3786"
            ],
            [
             0.5555555555555556,
             "#d8576b"
            ],
            [
             0.6666666666666666,
             "#ed7953"
            ],
            [
             0.7777777777777778,
             "#fb9f3a"
            ],
            [
             0.8888888888888888,
             "#fdca26"
            ],
            [
             1,
             "#f0f921"
            ]
           ]
          },
          "colorway": [
           "#636efa",
           "#EF553B",
           "#00cc96",
           "#ab63fa",
           "#FFA15A",
           "#19d3f3",
           "#FF6692",
           "#B6E880",
           "#FF97FF",
           "#FECB52"
          ],
          "font": {
           "color": "#2a3f5f"
          },
          "geo": {
           "bgcolor": "white",
           "lakecolor": "white",
           "landcolor": "#E5ECF6",
           "showlakes": true,
           "showland": true,
           "subunitcolor": "white"
          },
          "hoverlabel": {
           "align": "left"
          },
          "hovermode": "closest",
          "mapbox": {
           "style": "light"
          },
          "paper_bgcolor": "white",
          "plot_bgcolor": "#E5ECF6",
          "polar": {
           "angularaxis": {
            "gridcolor": "white",
            "linecolor": "white",
            "ticks": ""
           },
           "bgcolor": "#E5ECF6",
           "radialaxis": {
            "gridcolor": "white",
            "linecolor": "white",
            "ticks": ""
           }
          },
          "scene": {
           "xaxis": {
            "backgroundcolor": "#E5ECF6",
            "gridcolor": "white",
            "gridwidth": 2,
            "linecolor": "white",
            "showbackground": true,
            "ticks": "",
            "zerolinecolor": "white"
           },
           "yaxis": {
            "backgroundcolor": "#E5ECF6",
            "gridcolor": "white",
            "gridwidth": 2,
            "linecolor": "white",
            "showbackground": true,
            "ticks": "",
            "zerolinecolor": "white"
           },
           "zaxis": {
            "backgroundcolor": "#E5ECF6",
            "gridcolor": "white",
            "gridwidth": 2,
            "linecolor": "white",
            "showbackground": true,
            "ticks": "",
            "zerolinecolor": "white"
           }
          },
          "shapedefaults": {
           "line": {
            "color": "#2a3f5f"
           }
          },
          "ternary": {
           "aaxis": {
            "gridcolor": "white",
            "linecolor": "white",
            "ticks": ""
           },
           "baxis": {
            "gridcolor": "white",
            "linecolor": "white",
            "ticks": ""
           },
           "bgcolor": "#E5ECF6",
           "caxis": {
            "gridcolor": "white",
            "linecolor": "white",
            "ticks": ""
           }
          },
          "title": {
           "x": 0.05
          },
          "xaxis": {
           "automargin": true,
           "gridcolor": "white",
           "linecolor": "white",
           "ticks": "",
           "title": {
            "standoff": 15
           },
           "zerolinecolor": "white",
           "zerolinewidth": 2
          },
          "yaxis": {
           "automargin": true,
           "gridcolor": "white",
           "linecolor": "white",
           "ticks": "",
           "title": {
            "standoff": 15
           },
           "zerolinecolor": "white",
           "zerolinewidth": 2
          }
         }
        },
        "title": {
         "text": "GHG Monthly Products"
        },
        "width": 1200,
        "xaxis": {
         "anchor": "y",
         "domain": [
          0,
          1
         ],
         "type": "date"
        },
        "yaxis": {
         "anchor": "x",
         "autorange": "reversed",
         "domain": [
          0,
          1
         ],
         "title": {
          "text": "algorithm_version"
         }
        }
       }
      }
     },
     "metadata": {},
     "output_type": "display_data"
    }
   ],
   "source": [
    "\n",
    "reclist=[]\n",
    "\n",
    "# Read manifest file for Lot2 O3 - latest and get relaevant information into a Pandas Dataframe\n",
    "# -- check if this is the correct manifest file...\n",
    "\n",
    "# note: the variable name is not been taking into account here, because it is repeated for each platform/sensor pair\n",
    "# to retrieve that information, just do varname=line.decode('utf-8').split('/')[5]\n",
    "\n",
    "fname = 'http://wdc.dlr.de/C3S_312b_Lot2/manifest_C3S_312b_Lot2_GHG_L2_latest.txt'\n",
    "for line in urllib.request.urlopen(fname):\n",
    "    recstr = line.decode('utf-8').split('/')[-1].split('-')\n",
    "\n",
    "    rec = {\n",
    "        'level': recstr[2],\n",
    "        # 'variable': recstr[3],\n",
    "        'platform': recstr[4],\n",
    "        'sensor': recstr[5],\n",
    "        'algorithm': recstr[6],\n",
    "        'frequency': recstr[7],\n",
    "        'version' : recstr[8][0:-4],\n",
    "        'date' : pd.Timestamp(datetime(int(recstr[0][0:4]),int(recstr[0][4:6]),1,0,0,0)),\n",
    "    }\n",
    "\n",
    "    if rec not in reclist: reclist.append(rec) # records of the same platform/sensor pair - different variable - are removed here\n",
    "df = pd.DataFrame(reclist)\n",
    "\n",
    "algorithms = sorted(list(df['algorithm'].unique()))\n",
    "\n",
    "# timeseries go from 1970 until end of last year with available data in the manifest file\n",
    "lastyear=df['date'].max().year\n",
    "dates = pd.date_range('1970-01-15',f'{lastyear}-12-1',freq='MS')\n",
    "\n",
    "# for each variable , then for each algorithm, then for each of its versions, check which months are covered\n",
    "# colors will be platform/sensor pairs\n",
    "\n",
    "barList = []\n",
    "for algo in algorithms:\n",
    "    \n",
    "    df2 = df[df['algorithm']==algo].copy()\n",
    "    versions=sorted(list(df2['version'].unique()))\n",
    "    \n",
    "    for v,version in enumerate(versions):\n",
    "        df3 = df2[df2['version']==version]\n",
    "        platforms=sorted(list(df3['platform'].unique()))\n",
    "        for p,platform in enumerate(platforms):\n",
    "            df4 = df3[df3['platform']==platform]\n",
    "            timeseries = np.ones([len(dates)])*-1\n",
    "            sens_plat_list=[] # list of all sensor/platforms that could use this algo version\n",
    "\n",
    "            for t,date in enumerate(dates):\n",
    "                if (date.to_datetime64() in df4['date'].values):\n",
    "                    platform = df4.loc[df4['date']==date.to_datetime64(),['platform']].values[0][0]\n",
    "                    # print(df4.loc[df4['date']==date.to_datetime64(),['platform']])\n",
    "                    # raise SystemExit\n",
    "                    sensor = df4.loc[df4['date']==date.to_datetime64(),['sensor']].values[0][0]\n",
    "                    sensor_platform = f'{sensor}-{platform}'\n",
    "                    if sensor_platform not in sens_plat_list:\n",
    "                        sens_plat_list.append(sensor_platform)\n",
    "                    #find index of this pair on the list\n",
    "                    index=[i for i in range(len(sens_plat_list)) if (sens_plat_list[i]==sensor_platform)]\n",
    "                    # print(platform_sensor)\n",
    "                    # raise SystemExit\n",
    "                    timeseries[t]=index[0]\n",
    "            # plt.figure()\n",
    "            # plt.plot(dates,timeseries)\n",
    "            # plt.show()\n",
    "            \n",
    "            # now extract information about the bars to draw in the final plot\n",
    "            # each individual bar is a new entry in a new DataFrame\n",
    "\n",
    "            for i in range(len(dates)):\n",
    "                if i==0:\n",
    "                    if timeseries[1]==-1: # no data in beginning of timeseries, then do nothing\n",
    "                        continue\n",
    "                    else: # data in the very beginning - create new bar\n",
    "                        bar = {\n",
    "                            'algorithm_version' : f'{algo}_{version}_{platform}',\n",
    "                            'platform_sensor': sens_plat_list[timeseries[t]],\n",
    "                            'startdate': dates[i],\n",
    "                        }\n",
    "                        continue\n",
    "                elif i==len(timeseries)-1: # case of last date\n",
    "                    if(timeseries[i]==timeseries[i-1]):\n",
    "                        if timeseries[i]==-1: # no data in last date, no active bar\n",
    "                            continue\n",
    "                        else: # active bar, needs to be closed\n",
    "                            bar['enddate']=dates[i]\n",
    "                            barList.append(bar)\n",
    "                            continue\n",
    "                    else: #there is a change in the timeseries. weather new satellite or end of last bar\n",
    "                        if timeseries[i]==-1:\n",
    "                            bar['enddate']=dates[i-1] # no data in last date, just close last active bar\n",
    "                            barList.append(bar)\n",
    "                        else: # new bar in the very last date. need to close last and initialize and close a new one\n",
    "                            bar['enddate']=dates[i-1]\n",
    "                            barList.append(bar)\n",
    "                            bar = {\n",
    "                                'algorithm_version' : f'{algo}_{version}_{platform}',\n",
    "                                'platform_sensor': sens_plat_list[timeseries[t]],\n",
    "                                'startdate': dates[i],\n",
    "                                'enddate': dates[i],\n",
    "                            }\n",
    "                            barList.append(bar)\n",
    "                            continue\n",
    "                else: # general case\n",
    "                    if(timeseries[i]==timeseries[i-1]): # no change, just continue to next date\n",
    "                        continue\n",
    "                    else: # weather no data or new satellite takes over. previous bar needs to be closed\n",
    "                        if (timeseries[i]==-1) and (timeseries[i-1]!=-1): # no data from now on, just continue\n",
    "                            bar['enddate']=dates[i-1]\n",
    "                            barList.append(bar) # debug HEREß\n",
    "                            continue\n",
    "                        \n",
    "                        else: #a different satellite takes over. close last bar and start new one\n",
    "                            if timeseries[i-1]!=-1: # if i-1 had active bar, it needs to be closed\n",
    "                                bar['enddate']=dates[i-1]\n",
    "                                barList.append(bar)\n",
    "                            # then open new bar    \n",
    "                            bar = {\n",
    "                                'algorithm_version' : f'{algo}_{version}_{platform}',\n",
    "                                'platform_sensor': sens_plat_list[int(timeseries[t])],\n",
    "                                'startdate': dates[i],\n",
    "                            }\n",
    "                            continue\n",
    "\n",
    "df_bars = pd.DataFrame(barList)\n",
    "print(df_bars)\n",
    "\n",
    "fig = px.timeline(df_bars, x_start=\"startdate\", x_end=\"enddate\", y='algorithm_version',color='platform_sensor',title='GHG Monthly Products')\n",
    "# fig = px.timeline(df_bars, x_start=\"startdate\", x_end=\"enddate\", y='algorithm_version')\n",
    "# fig = px.timeline(datasets_df, x_start=\"startdate\", x_end=\"enddate\", y='ECV')\n",
    "fig.update_yaxes(autorange=\"reversed\")\n",
    "fig.update_layout(\n",
    "    autosize=True,\n",
    "    width=1200,\n",
    "    height=1000,\n",
    ")\n",
    "fig.show()\n",
    "today_date = pd.Timestamp.today().strftime('%Y%m%d') \n",
    "fig.write_image(f'GHG_coverage_byalgoversion_by mission_{today_date}.png')\n",
    "# fig.write_html('GHG_coverage_byalgoversion_by mission.htm')"
   ]
  }
 ],
 "metadata": {
  "kernelspec": {
   "display_name": "base",
   "language": "python",
   "name": "python3"
  },
  "language_info": {
   "codemirror_mode": {
    "name": "ipython",
    "version": 3
   },
   "file_extension": ".py",
   "mimetype": "text/x-python",
   "name": "python",
   "nbconvert_exporter": "python",
   "pygments_lexer": "ipython3",
   "version": "3.12.2"
  },
  "orig_nbformat": 4
 },
 "nbformat": 4,
 "nbformat_minor": 2
}
