{
 "cells": [
  {
   "cell_type": "code",
   "execution_count": 3,
   "metadata": {},
   "outputs": [],
   "source": [
    "import pandas as pd\n",
    "import urllib.request\n",
    "import os\n",
    "from datetime import datetime,date\n",
    "import numpy as np\n",
    "import matplotlib.pyplot as plt\n",
    "import plotly.express as px\n",
    "import json\n",
    "import yaml\n",
    "from calendar import monthrange\n",
    "import xarray as xr\n",
    "import cdsapi\n",
    "import zipfile\n",
    "from glob import glob\n",
    "#important\n",
    "#before running this script, please git pull, then git checkout c3sprod\n",
    "\n",
    "\n",
    "# wishlist\n",
    "# - put land hydrology just below cryosphere\n",
    "# - update repository and change to c3sprod\n",
    "#   - git checkout c3sprod\n",
    "#   - git pull\n",
    "# - download datasets that only contain info in the time dimension from CDS\n",
    "# - try to make the code more path-independent\n",
    "# - install on athos and run every week. update some figure repo\n",
    "\n",
    "\n",
    "def extract_dates_from_TSI():\n",
    "    url='https://gerb.oma.be/tsi/C3S_RMIB_daily_TSI_composite_ICDR_v3_latest.txt'\n",
    "    c=pd.read_csv(url,skiprows=128,delim_whitespace=True,header=None)\n",
    "    return pd.Timestamp(str(c[3].iloc[0])),pd.Timestamp(str(c[3].iloc[-1]))\n",
    "def extract_dates_icesheets(datasets_dir):\n",
    "    # opens TCDR and ICDR files for both Antarctica and Greenland, then computes max/min dates\n",
    "    # needs adjustment for per product sorting\n",
    "    fnames = glob(datasets_dir+'C3S_*IS_RA*.nc')\n",
    "    print(fnames)\n",
    "    datebegs = []\n",
    "    dateends = []\n",
    "    for fname in fnames:\n",
    "        print('will open '+fname)\n",
    "        nc = xr.open_dataset(fname)\n",
    "        datebegs.append(pd.Timestamp(nc['time'].values[0]))\n",
    "        dateends.append(pd.Timestamp(nc['time'].values[-1]))\n",
    "    return min(datebegs),max(dateends)\n",
    "def extract_dates_massbalance(datasets_dir):\n",
    "    fname = datasets_dir+'C3S_GMB_GRACE_vers4.nc'\n",
    "    nc = xr.open_dataset(fname)\n",
    "    return pd.Timestamp(nc['time'].values[0]),pd.Timestamp(nc['time'].values[-1])\n",
    "def extract_dates_derived_glaciers(jfile):\n",
    "    with open(jfile) as f:\n",
    "        gen= yaml.safe_load(f)\n",
    "    years = gen['labels']['hydrological_year'].keys()\n",
    "    ymin=int(min(years))\n",
    "    ymax=int(max(years))+1\n",
    "    mmax=9\n",
    "    dmax=30\n",
    "    mmin=4\n",
    "    dmin=1\n",
    "    print('Glaciers ',ymin,ymax)\n",
    "    return pd.Timestamp(f'{ymin}-{mmin}-{dmin}'), pd.Timestamp(f'{ymax}-{mmax}-{dmax}')\n",
    "def extract_dates_lake_levels(datasets_dir):\n",
    "    # need better way of estimating this\n",
    "    # for v4, according to overview pages, coverage goes until 2022\n",
    "    # need to implement download of all lakes data and check their time coverage\n",
    "    print('...for lake water levels, only reading info for Lake Volta...')\n",
    "    fname = datasets_dir+'C3S_LWL_N-AFRICA_VOLTA_altimetry_4.0_19921013_20221222_R20230126.nc'\n",
    "    nc = xr.open_dataset(fname)\n",
    "    return pd.Timestamp(nc['time'].values[0]),pd.Timestamp(nc['time'].values[-1])\n",
    "def datemax2(row):\n",
    "    row = row.dropna()\n",
    "    ymax = int(max(row['year']))\n",
    "    if 'month' in row.keys():\n",
    "        mmax = int(max(row['month']))\n",
    "    else:\n",
    "        mmax=12\n",
    "    xx,dmax=monthrange(ymax,mmax)\n",
    "    datemax = pd.Timestamp(f'{ymax}-{mmax}-{dmax}')\n",
    "    return datemax\n",
    "def datemin2(row):\n",
    "    row = row.dropna()\n",
    "    ymin = int(min(row['year']))\n",
    "    if 'month' in row.keys():\n",
    "        mmin = int(min(row['month']))\n",
    "    else:\n",
    "        mmin=1\n",
    "    xx,dmin=monthrange(ymin,mmin)\n",
    "    datemin = pd.Timestamp(f'{ymin}-{mmin}-{dmin}')\n",
    "    return datemin\n",
    "def extract_dates_wv(jfilepath):\n",
    "    f = open(jfilepath)\n",
    "    # returns JSON object as \n",
    "    # a dictionary\n",
    "    data = json.load(f)\n",
    "    # print(data)\n",
    "    df = pd.DataFrame(data)\n",
    "    df['datemax'] = df.apply(datemax2,axis=1)\n",
    "    df['datemin'] = df.apply(datemin2,axis=1)\n",
    "    datemin = df['datemin'].min()\n",
    "    datemax = df['datemax'].max()\n",
    "    return datemin,datemax \n",
    "def check_time_agg(row):\n",
    "    row = row.dropna()\n",
    "    if 'time_aggregation' in row.keys():\n",
    "        time_aggregation = row['time_aggregation'][0]\n",
    "        # print('time_agg',time_aggregation)\n",
    "        if time_aggregation in ['daily_average','daily_mean','day','day_average']: \n",
    "            time_agg = 'day'\n",
    "            return time_agg\n",
    "        elif time_aggregation == 'daily':\n",
    "            time_agg='daily'\n",
    "            return time_agg\n",
    "        #note interim solution for 5-daily-composite...\n",
    "        elif time_aggregation in [\n",
    "            'monthly_average',\n",
    "            '5_daily_composite',\n",
    "            'monthly_mean',\n",
    "            '27_days',\n",
    "            'month',\n",
    "            'monthly',\n",
    "            'month_average',\n",
    "            '10_day_average', # debatable..\n",
    "            ]:\n",
    "            time_agg = 'monthly'\n",
    "            return time_agg\n",
    "        else:\n",
    "            # print(row)\n",
    "            print('Could not determine time_agg')\n",
    "            raise SystemExit\n",
    "    elif 'period' in row.keys(): # applies to ice_sheets\n",
    "        time_agg = 'period'\n",
    "        return time_agg\n",
    "    elif 'temporal_aggregation' in row.keys():\n",
    "        time_aggregation = row['temporal_aggregation'][0]\n",
    "        if time_aggregation in ['monthly','6-hourly']:\n",
    "            time_agg='monthly'\n",
    "        elif time_aggregation == 'daily':\n",
    "            time_agg='daily'\n",
    "        else:\n",
    "            print('Error in temporal aggregation')\n",
    "            raise SystemExit\n",
    "        return time_agg\n",
    "    else:\n",
    "        if ('day' in row.keys()):\n",
    "            time_agg='day'\n",
    "            return time_agg\n",
    "        elif  'nominal_day' in row.keys():\n",
    "            time_agg='nominal_day'\n",
    "            return time_agg\n",
    "        else:\n",
    "            time_agg = 'monthly'\n",
    "            return time_agg\n",
    "def compute_datemax(row):\n",
    " \n",
    "    time_agg=check_time_agg(row) # check time aggregation of data in this row\n",
    "    # print('time_agg',time_agg)\n",
    "    if time_agg =='period':\n",
    "        per_str=max(row['period'])\n",
    "        ymax=int(per_str[5::])\n",
    "        mmax=9\n",
    "        dmax=30\n",
    "    else: \n",
    "        ymax = int(max(row['year']))\n",
    "        if 'month' in row.keys():\n",
    "            mmax = int(max(row['month']))\n",
    "        else:\n",
    "            mmax=12\n",
    "        xx,ndays = monthrange(ymax,mmax)\n",
    "        if time_agg in ['day','nominal_day']:\n",
    "            # print(row[time_agg])\n",
    "            dmax = int(max(row[time_agg])) \n",
    "        elif time_agg in ['daily']:\n",
    "            dmax = int(max(row['day'])) \n",
    "        else:\n",
    "            dmax = ndays # last day of month\n",
    "        if dmax >ndays:\n",
    "            print('Beware error in allowed dates...')\n",
    "            # print(row)\n",
    "            dmax=ndays\n",
    "\n",
    "    datemax = pd.Timestamp(f'{ymax}-{mmax}-{dmax}')\n",
    "    return datemax\n",
    "def compute_datemin(row):\n",
    "    time_agg=check_time_agg(row) # check time aggregation of data in this row\n",
    "    if time_agg =='period':\n",
    "        per_str=max(row['period'])\n",
    "        ymin=int(per_str[0:4])\n",
    "        mmin=10\n",
    "        dmin=1\n",
    "    else:\n",
    "        ymin = int(min(row['year'])) \n",
    "        if 'month' in row.keys():\n",
    "            mmin = int(min(row['month']))\n",
    "        else:\n",
    "            mmin=1\n",
    "        if time_agg in ['day','nominal_day']:\n",
    "            dmin = int(min(row[time_agg])) \n",
    "        elif time_agg in ['daily']:\n",
    "            dmin = int(min(row['day'])) \n",
    "        else:\n",
    "            dmin = 1 # first day of month\n",
    "        xx,ndays = monthrange(ymin,mmin)     \n",
    "        if dmin>ndays:\n",
    "            print('Beware error in allowed dates...')\n",
    "            # print(row)\n",
    "            dmin=1\n",
    "    datemin = pd.Timestamp(f'{ymin}-{mmin}-{dmin}')\n",
    "    return datemin\n",
    "def calc_dateminmax_from_cds_form(jfilepath,ecv):\n",
    "    # Opening JSON file\n",
    "    f = open(jfilepath)\n",
    "    # returns JSON object as \n",
    "    # a dictionary\n",
    "    data = json.load(f)\n",
    "    # print(data)\n",
    "    df = pd.DataFrame(data)\n",
    "    # display(df)\n",
    "    # print(df.keys())\n",
    "    # print(len(df))\n",
    "    \n",
    "    # find records where dates cannot be defined\n",
    "    if 'sensor_and_algorithm' in df.keys():        \n",
    "        lst_erase=[]\n",
    "        for i in range(len(df)):\n",
    "            if (df['sensor_and_algorithm'][i][0]=='merged_obs4mips'): lst_erase.append(i)\n",
    "        # now .drop these problematic rows\n",
    "        for i in lst_erase:\n",
    "            df=df.drop(lst_erase)\n",
    "    if ecv == 'Earth Radiation Budget':        \n",
    "        lst_erase=[]\n",
    "        for i in range(len(df)):\n",
    "            if (df['variable'][i][0]=='total_solar_irradiance'): lst_erase.append(i) # this info is read from the dataset itself\n",
    "        # now .drop these problematic rows\n",
    "        for i in lst_erase:\n",
    "            df=df.drop(lst_erase)\n",
    "    # for i in range(len(df)):\n",
    "    #     print(df.loc[i])\n",
    "    #     if ('year' not in df[i]): lst_erase.append(i)\n",
    "\n",
    "    df['datemax'] = df.apply(compute_datemax,axis=1)\n",
    "    df['datemin'] = df.apply(compute_datemin,axis=1)\n",
    "    datemin = df['datemin'].min()\n",
    "    datemax = df['datemax'].max()\n",
    "    return datemin,datemax\n",
    "def datasets_download(datasets_dir):\n",
    "    c = cdsapi.Client()\n",
    "    # c.retrieve(\n",
    "    #     'satellite-ice-sheet-mass-balance',\n",
    "    #     {\n",
    "    #         'variable': 'all',\n",
    "    #         'format': 'zip',\n",
    "    #     },\n",
    "    #     datasets_dir+'download.zip')\n",
    "    # os.system(f'cd {datasets_dir} ; unzip download.zip; rm -rf download.zip ; cd ..')\n",
    "    \n",
    "    # Antarctica Ice sheet surface elevation change TCDR\n",
    "    # c.retrieve(\n",
    "    # 'satellite-ice-sheet-elevation-change',\n",
    "    # {\n",
    "    #     'domain': 'antarctica',\n",
    "    #     'climate_data_record_type': 'tcdr',\n",
    "    #     'version': '4_0',\n",
    "    #     'variable': 'all',\n",
    "    #     'format': 'zip',\n",
    "    # },\n",
    "    # datasets_dir+'download.zip')\n",
    "    # os.system(f'cd {datasets_dir} ; unzip download.zip; rm -rf download.zip ; cd ..')\n",
    "    \n",
    "    # Antarctica Ice sheet surface elevation change ICDR\n",
    "    # c.retrieve(\n",
    "    #     'satellite-ice-sheet-elevation-change',\n",
    "    # {\n",
    "    #     'domain': 'antarctica',\n",
    "    #     'climate_data_record_type': 'icdr',\n",
    "    #     'version': '3_0',\n",
    "    #     'variable': 'all',\n",
    "    #     'format': 'zip',\n",
    "    # },\n",
    "    # datasets_dir+'download.zip')\n",
    "    # os.system(f'cd {datasets_dir} ; unzip download.zip; rm -rf download.zip ; cd ..')\n",
    "    \n",
    "    \n",
    "    # Greenland Ice sheet surface elevation change TCDR\n",
    "    # c.retrieve(\n",
    "    #     'satellite-ice-sheet-elevation-change',\n",
    "    # {\n",
    "    #     'domain': 'greenland',\n",
    "    #     'climate_data_record_type': 'tcdr',\n",
    "    #     'version': '4_0',\n",
    "    #     'variable': 'all',\n",
    "    #     'format': 'zip',\n",
    "    # },\n",
    "    # datasets_dir+'download.zip')\n",
    "    # os.system(f'cd {datasets_dir} ; unzip download.zip; rm -rf download.zip ; cd ..')\n",
    "    \n",
    "    # Greenland Ice sheet surface elevation change ICDR\n",
    "    # c.retrieve(\n",
    "    #     'satellite-ice-sheet-elevation-change',\n",
    "    # {\n",
    "    #     'domain': 'greenland',\n",
    "    #     'climate_data_record_type': 'icdr',\n",
    "    #     'version': '4_0',\n",
    "    #     'variable': 'all',\n",
    "    #     'format': 'zip',\n",
    "    # },\n",
    "    # datasets_dir+'download.zip')\n",
    "    # os.system(f'cd {datasets_dir} ; unzip download.zip; rm -rf download.zip ; cd ..')\n",
    "    \n",
    "    # Lake water levels\n",
    "    \n",
    "    c.retrieve(\n",
    "        'satellite-lake-water-level',\n",
    "    {\n",
    "        'variable': 'all',\n",
    "        'version': 'version_4_0',\n",
    "        'format': 'zip',\n",
    "        'region': 'northern_africa',\n",
    "        'lake': 'volta',\n",
    "    },\n",
    "    datasets_dir+'download.zip')\n",
    "    os.system(f'cd {datasets_dir} ; unzip download.zip; rm -rf download.zip ; cd ..')\n",
    "    \n",
    "    \n",
    "    \n",
    "    \n",
    "    return\n",
    "with open('config.yml') as f:\n",
    "    conf= yaml.safe_load(f)\n",
    "\n",
    "cds_form_dir=conf['cds_form_dir']\n",
    "datasets_dir = conf['datasets_dir']\n",
    "\n",
    "# datasets_download(datasets_dir) # uncomment to update datasets downloaded from CDS\n",
    "\n"
   ]
  },
  {
   "cell_type": "markdown",
   "metadata": {},
   "source": [
    "### BUILD PANDAS DATAFRAME FOR TIME COVERAGE BY ECV "
   ]
  },
  {
   "cell_type": "code",
   "execution_count": null,
   "metadata": {},
   "outputs": [],
   "source": [
    "\n",
    "datesbeg = {}\n",
    "datesend = {}\n",
    "ecv_dic = {}\n",
    "for k,ecv in enumerate(conf['ECV']):\n",
    "    print(ecv)\n",
    "    entries = conf['ECV'][ecv]['entry']\n",
    "    print(entries)\n",
    "    datemin_list = []\n",
    "    datemax_list = []\n",
    "    if ecv in ['Earth Radiation Budget']: \n",
    "        datemin,datemax = extract_dates_from_TSI()\n",
    "        datemin_list.append(datemin)\n",
    "        datemax_list.append(datemax)\n",
    "    for entry in entries:\n",
    "        jfilepath=f'{cds_form_dir}{entry}/constraints.json'\n",
    "        print(jfilepath)\n",
    "        if jfilepath == '/Users/cxjo/Documents/cds-forms-c3s/satellite-ice-sheet-elevation-change/constraints.json':\n",
    "            datemin,datemax = extract_dates_icesheets(datasets_dir)\n",
    "            datemin_list.append(datemin)\n",
    "            datemax_list.append(datemax)\n",
    "        elif jfilepath == '/Users/cxjo/Documents/cds-forms-c3s/satellite-ice-sheet-mass-balance/constraints.json':\n",
    "            datemin,datemax = extract_dates_massbalance(datasets_dir)\n",
    "            datemin_list.append(datemin)\n",
    "            datemax_list.append(datemax)\n",
    "        elif jfilepath == '/Users/cxjo/Documents/cds-forms-c3s/derived-gridded-glacier-mass-change//constraints.json':\n",
    "            jfile = f'{cds_form_dir}{entry}/generate.yaml'\n",
    "            datemin,datemax = extract_dates_derived_glaciers(jfile)\n",
    "            datemin_list.append(datemin)\n",
    "            datemax_list.append(datemax)\n",
    "        elif jfilepath == '/Users/cxjo/Documents/cds-forms-c3s/insitu-glaciers-extent/constraints.json':    \n",
    "            datemin= pd.Timestamp('1990-01-01') # http://www.glims.org/rgi_user_guide/06_dataset_summary.html\n",
    "            datemax= pd.Timestamp('2010-12-31')\n",
    "            datemin_list.append(datemin)\n",
    "            datemax_list.append(datemax)\n",
    "        elif jfilepath =='/Users/cxjo/Documents/cds-forms-c3s/satellite-total-column-water-vapour-ocean/constraints.json':\n",
    "            # temporal aggregation is messed up. does not have the same meaning as other datasets\n",
    "            # monthly should be yearly\n",
    "            # 6-hourly should be monthly\n",
    "            # need to write a special function that accounts for this\n",
    "            datemin,datemax = extract_dates_wv(jfilepath)\n",
    "            datemin_list.append(datemin)\n",
    "            datemax_list.append(datemax)\n",
    "        elif jfilepath == '/Users/cxjo/Documents/cds-forms-c3s/satellite-lake-water-level/constraints.json':\n",
    "            datemin,datemax = extract_dates_lake_levels(datasets_dir)\n",
    "            datemin_list.append(datemin)\n",
    "            datemax_list.append(datemax)\n",
    "        # elif jfilepath == '/Users/cxjo/Documents/cds-forms-c3s/satellite-land-cover/constraints.json':\n",
    "        #     datemin_list.append(pd.Timestamp('1992-01-01'))\n",
    "        #     datemax_list.append(pd.Timestamp('2022-12-31'))\n",
    "        else:\n",
    "            # print(jfilepath)\n",
    "            datemin,datemax = calc_dateminmax_from_cds_form(jfilepath,ecv)\n",
    "            # print(ecv,datemin_list,datemax_list)\n",
    "            datemin_list.append(datemin)\n",
    "            datemax_list.append(datemax)\n",
    "            # print(ecv,datemin_list,datemax_list)\n",
    "\n",
    "    # now get the max and min per ECV, accounting for all products\n",
    "    datemin_list = np.array(datemin_list)\n",
    "    datemax_list = np.array(datemax_list)\n",
    "    # datesbeg[ecv] = np.min(datemin_list)\n",
    "    # datesend[ecv] = np.max(datemax_list)\n",
    "    ecv_dic[k] = {\n",
    "        'ECV'     : ecv,\n",
    "        'DateBeg' : np.min(datemin_list),\n",
    "        'DateEnd' : np.max(datemax_list),\n",
    "        'Thematic Hub' : conf['ECV'][ecv]['Thematic_hub']\n",
    "    }\n",
    "\n",
    "\n",
    "# ecv_pd = pd.DataFrame([conf['ECV'].keys(),datesbeg,datesend],index=['DateBeg','DateEnd']).T\n",
    "ecv_pd = pd.DataFrame.from_dict(ecv_dic,orient='index').sort_values(['Thematic Hub'])\n",
    "ecv_pd['DateBeg'] = ecv_pd['DateBeg'].dt.ceil(freq='s')  \n",
    "ecv_pd['DateEnd'] = ecv_pd['DateEnd'].dt.ceil(freq='s')  \n",
    "ecv_pd['DateEnd'] = ecv_pd['DateEnd'].apply(lambda dt: dt.strftime(\"%Y-%m-%d\"))\n",
    "ecv_pd['DateBeg'] = ecv_pd['DateBeg'].apply(lambda dt: dt.strftime(\"%Y-%m-%d\"))\n",
    "\n",
    "print(ecv_pd.to_markdown())\n",
    "\n",
    "# fig = px.timeline(ecv_pd, x_start=\"DateBeg\", x_end=\"DateEnd\", y='Product',color='Lot')\n",
    "fig = px.timeline(ecv_pd, x_start=\"DateBeg\", x_end=\"DateEnd\",y='ECV',color='Thematic Hub')\n",
    "\n",
    "# fig = px.timeline(datasets_df, x_start=\"startdate\", x_end=\"enddate\", y='ECV')\n",
    "fig.update_yaxes(autorange=\"reversed\")\n",
    "fig.update_layout(\n",
    "    autosize=False,\n",
    "    width=1200,\n",
    "    height=800,\n",
    ")\n",
    "# fig.update_layout(\n",
    "#     xaxis = dict(\n",
    "#         dtick = 'Y1',\n",
    "#         tickformat=\"%Y\",\n",
    "#     )\n",
    "# )\n",
    "\n",
    "xlab = np.arange(1970,2025).astype('int')\n",
    "xlabtxt = [f'{i}' for i in xlab]\n",
    "\n",
    "\n",
    "fig.update_xaxes(minor=dict(ticks=\"inside\", showgrid=True))\n",
    "fig.update_layout(\n",
    "    xaxis = dict(\n",
    "        tickmode = 'array',\n",
    "        tickvals = xlab,\n",
    "        ticktext = xlabtxt\n",
    "    )\n",
    ")\n",
    "fig.update_xaxes(tickangle=-45)\n",
    "fig.update_layout(\n",
    "    xaxis = dict(\n",
    "        tickfont = dict(\n",
    "            size=10),\n",
    "        )\n",
    "    )\n",
    "fig.update_xaxes(range = ['1970-01-01','2024-12-31'])\n",
    "# print(fig)\n",
    "today_date = pd.Timestamp.today().strftime('%Y%m%d') \n",
    "print(today_date)\n",
    "fig.write_image(f'temporal_coverage_by_ECV_{today_date}.pdf')\n",
    "fig.write_image(f'temporal_coverage_by_ECV_{today_date}.png')\n",
    "fig.show()"
   ]
  },
  {
   "cell_type": "markdown",
   "metadata": {},
   "source": [
    "### Build pandas dataframe for the figure ordered by product\n"
   ]
  },
  {
   "cell_type": "code",
   "execution_count": 6,
   "metadata": {},
   "outputs": [
    {
     "name": "stdout",
     "output_type": "stream",
     "text": [
      "/Users/cxjo/Documents/cds-forms-c3s/satellite-aerosol-properties/constraints.json Aerosols\n",
      "Aerosols 1995-06-01 00:00:00 2023-10-31 00:00:00\n",
      "/Users/cxjo/Documents/cds-forms-c3s/satellite-carbon-dioxide/constraints.json CO2\n",
      "CO2 2002-10-01 00:00:00 2021-12-31 00:00:00\n",
      "/Users/cxjo/Documents/cds-forms-c3s/satellite-methane/constraints.json CH4\n",
      "CH4 2002-10-01 00:00:00 2021-12-31 00:00:00\n",
      "/Users/cxjo/Documents/cds-forms-c3s/satellite-ozone-v1/constraints.json Ozone\n",
      "Ozone 1970-04-01 00:00:00 2023-07-31 00:00:00\n",
      "/Users/cxjo/Documents/cds-forms-c3s/satellite-cloud-properties/constraints.json Clouds_CCI\n",
      "Clouds_CCI 1979-01-01 00:00:00 2023-04-30 00:00:00\n",
      "/Users/cxjo/Documents/cds-forms-c3s/satellite-cloud-properties/constraints.json Clouds_CLARA\n",
      "Clouds_CLARA 1979-01-01 00:00:00 2023-04-30 00:00:00\n",
      "/Users/cxjo/Documents/cds-forms-c3s/satellite-earth-radiation-budget/constraints.json NASA_CERES_ERB\n",
      "NASA_CERES_ERB 1979-01-01 00:00:00 2024-03-10 00:00:00\n",
      "/Users/cxjo/Documents/cds-forms-c3s/satellite-earth-radiation-budget/constraints.json NOAA_HIRS\n",
      "NOAA_HIRS 1979-01-01 00:00:00 2024-03-10 00:00:00\n",
      "/Users/cxjo/Documents/cds-forms-c3s/satellite-earth-radiation-budget/constraints.json ESA_CLOUD_CCI_ERB\n",
      "ESA_CLOUD_CCI_ERB 1979-01-01 00:00:00 2024-03-10 00:00:00\n",
      "/Users/cxjo/Documents/cds-forms-c3s/satellite-earth-radiation-budget/constraints.json C3S_CCI_ERB\n",
      "C3S_CCI_ERB 1979-01-01 00:00:00 2024-03-10 00:00:00\n",
      "/Users/cxjo/Documents/cds-forms-c3s/satellite-earth-radiation-budget/constraints.json C3S_RMIB_ERB\n"
     ]
    },
    {
     "name": "stderr",
     "output_type": "stream",
     "text": [
      "/var/folders/dn/kdtm_xwj1qn0k6j3bhyqz0280000gn/T/ipykernel_88478/626824752.py:31: FutureWarning:\n",
      "\n",
      "The 'delim_whitespace' keyword in pd.read_csv is deprecated and will be removed in a future version. Use ``sep='\\s+'`` instead\n",
      "\n"
     ]
    },
    {
     "name": "stdout",
     "output_type": "stream",
     "text": [
      "C3S_RMIB_ERB 1979-01-01 00:00:00 2024-03-15 00:00:00\n",
      "/Users/cxjo/Documents/cds-forms-c3s/satellite-precipitation/constraints.json Precipitation\n",
      "Precipitation 1979-01-01 00:00:00 2022-06-30 00:00:00\n",
      "/Users/cxjo/Documents/cds-forms-c3s/satellite-precipitation-microwave/constraints.json Precipitation_microwave\n",
      "Precipitation_microwave 2000-01-01 00:00:00 2017-12-31 00:00:00\n",
      "/Users/cxjo/Documents/cds-forms-c3s/satellite-surface-radiation-budget/constraints.json Surface Radiation Budget (CMSAF/CLARA)\n",
      "Surface Radiation Budget (CMSAF/CLARA) 1979-01-01 00:00:00 2023-04-30 00:00:00\n",
      "/Users/cxjo/Documents/cds-forms-c3s/satellite-surface-radiation-budget/constraints.json Surface Radiation Budget (CCI)\n",
      "Surface Radiation Budget (CCI) 1979-01-01 00:00:00 2023-04-30 00:00:00\n",
      "/Users/cxjo/Documents/cds-forms-c3s/satellite-total-column-water-vapour-ocean/constraints.json Total Column Water Vapour (HOAPS)\n",
      "Total Column Water Vapour (HOAPS) 1988-01-31 00:00:00 2020-12-31 00:00:00\n",
      "/Users/cxjo/Documents/cds-forms-c3s/satellite-total-column-water-vapour-land-ocean/constraints.json Total Column Water Vapour (MERIS/SSMI)\n",
      "Total Column Water Vapour (MERIS/SSMI) 2002-05-01 00:00:00 2017-12-31 00:00:00\n",
      "/Users/cxjo/Documents/cds-forms-c3s/satellite-humidity-profiles/constraints.json Tropospheric Humidity Profiles (RO)\n",
      "Tropospheric Humidity Profiles (RO) 2006-12-01 00:00:00 2023-02-28 00:00:00\n",
      "/Users/cxjo/Documents/cds-forms-c3s/satellite-upper-troposphere-humidity/constraints.json Upper Tropospheric Humidity\n",
      "Upper Tropospheric Humidity 1999-01-01 00:00:00 2021-02-28 00:00:00\n",
      "/Users/cxjo/Documents/cds-forms-c3s/satellite-greenland-ice-sheet-velocity/constraints.json Ice Sheet Velocity (Greenland)\n",
      "Ice Sheet Velocity (Greenland) 2018-10-01 00:00:00 2021-09-30 00:00:00\n",
      "/Users/cxjo/Documents/cds-forms-c3s/satellite-ice-sheet-mass-balance/constraints.json Ice Sheet Gravimetric Mass Balance\n",
      "Ice Sheet Gravimetric Mass Balance 2002-04-16 20:23:54.375000 2022-12-17 09:35:37.500000\n",
      "/Users/cxjo/Documents/cds-forms-c3s/satellite-ice-sheet-elevation-change//constraints.json Ice Sheet Surface Elevation Change (Antarctica)\n",
      "will open /Users/cxjo/Library/CloudStorage/OneDrive-ECMWF/ECVs_General/CDS_data_timecoverage/datasets/C3S_AntIS_RA_SEC_vers3_2023-01-16.nc\n",
      "will open /Users/cxjo/Library/CloudStorage/OneDrive-ECMWF/ECVs_General/CDS_data_timecoverage/datasets/C3S_AntIS_RA_SEC_25km_vers4_2022-12-16.nc\n",
      "Ice Sheet Surface Elevation Change (Antarctica) 1994-11-01 09:21:19.687500 2020-06-01 17:13:07.500000\n",
      "/Users/cxjo/Documents/cds-forms-c3s/satellite-ice-sheet-elevation-change//constraints.json Ice Sheet Surface Elevation Change (Greenland)\n",
      "will open /Users/cxjo/Library/CloudStorage/OneDrive-ECMWF/ECVs_General/CDS_data_timecoverage/datasets/C3S_GrIS_RA_SEC_25km_vers4_2022-10-20.nc\n",
      "1992-01-01 00:00:00\n",
      "will open /Users/cxjo/Library/CloudStorage/OneDrive-ECMWF/ECVs_General/CDS_data_timecoverage/datasets/C3S_GrIS_RA_SEC_25km_vers4_2024-02-22.nc\n",
      "1992-01-01 00:00:00\n",
      "Ice Sheet Surface Elevation Change (Greenland) 1992-01-01 00:00:00 2023-08-01 00:00:00\n",
      "/Users/cxjo/Documents/cds-forms-c3s/derived-gridded-glacier-mass-change/constraints.json Glaciers elevation and mass change data\n",
      "/Users/cxjo/Documents/cds-forms-c3s/derived-gridded-glacier-mass-change/generate.yaml\n",
      "Glaciers  1975 2021\n",
      "Glaciers elevation and mass change data 1975-04-01 00:00:00 2021-09-30 00:00:00\n",
      "/Users/cxjo/Documents/cds-forms-c3s/insitu-glaciers-extent/constraints.json Randolph Glacier Inventory for the year 2000\n",
      "Randolph Glacier Inventory for the year 2000 1990-01-01 00:00:00 2010-12-31 00:00:00\n",
      "/Users/cxjo/Documents/cds-forms-c3s/satellite-lake-water-temperature/constraints.json Lake Surface Temperature\n",
      "Lake Surface Temperature 1995-06-01 00:00:00 2023-12-31 00:00:00\n",
      "/Users/cxjo/Documents/cds-forms-c3s/satellite-lake-water-level/constraints.json Lake Water Level\n",
      "...for lake water levels, only reading info for Lake Volta...\n",
      "Lake Water Level 1992-10-13 13:52:00.002174464 2022-12-22 22:52:59.997825536\n",
      "/Users/cxjo/Documents/cds-forms-c3s/satellite-soil-moisture/constraints.json Soil Moisture (active MW)\n",
      "Soil Moisture (active MW) 1978-11-01 00:00:00 2024-03-31 00:00:00\n",
      "/Users/cxjo/Documents/cds-forms-c3s/satellite-soil-moisture/constraints.json Soil Moisture (passive MW)\n",
      "Soil Moisture (passive MW) 1978-11-01 00:00:00 2024-03-31 00:00:00\n",
      "/Users/cxjo/Documents/cds-forms-c3s/satellite-soil-moisture/constraints.json Soil Moisture (merged)\n",
      "Soil Moisture (merged) 1978-11-01 00:00:00 2024-03-31 00:00:00\n",
      "/Users/cxjo/Documents/cds-forms-c3s/satellite-lai-fapar/constraints.json LAI\n",
      "LAI 1981-09-20 00:00:00 2020-06-30 00:00:00\n",
      "/Users/cxjo/Documents/cds-forms-c3s/satellite-lai-fapar/constraints.json FAPAR\n",
      "FAPAR 1981-09-20 00:00:00 2020-06-30 00:00:00\n",
      "/Users/cxjo/Documents/cds-forms-c3s/satellite-fire-burned-area/constraints.json Fire Burned Areas\n",
      "Fire Burned Areas 2001-01-01 00:00:00 2022-04-01 00:00:00\n",
      "/Users/cxjo/Documents/cds-forms-c3s/satellite-fire-radiative-power/constraints.json Fire Radiative Power\n",
      "Fire Radiative Power 2020-02-01 00:00:00 2021-02-28 00:00:00\n",
      "/Users/cxjo/Documents/cds-forms-c3s/satellite-land-cover/constraints.json Land Cover\n",
      "Land Cover 1992-01-01 00:00:00 2022-12-31 00:00:00\n",
      "/Users/cxjo/Documents/cds-forms-c3s/satellite-albedo/constraints.json Surface Albedo 10-daily\n",
      "Surface Albedo 10-daily 1981-09-20 00:00:00 2020-06-30 00:00:00\n",
      "/Users/cxjo/Documents/cds-forms-c3s/satellite-ocean-colour/constraints.json Ocean Colour\n",
      "Ocean Colour 1997-09-04 00:00:00 2023-12-31 00:00:00\n",
      "/Users/cxjo/Documents/cds-forms-c3s/satellite-sea-ice-concentration/constraints.json Sea Ice Concentration\n",
      "Sea Ice Concentration 1979-01-02 00:00:00 2023-04-30 00:00:00\n",
      "/Users/cxjo/Documents/cds-forms-c3s/satellite-sea-ice-edge-type/constraints.json Sea Ice Edge and Type\n",
      "Sea Ice Edge and Type 1978-10-25 00:00:00 2024-03-04 00:00:00\n",
      "/Users/cxjo/Documents/cds-forms-c3s/satellite-sea-ice-thickness/constraints.json Sea Ice Thickness\n",
      "Sea Ice Thickness 2002-10-01 00:00:00 2023-12-31 00:00:00\n",
      "/Users/cxjo/Documents/cds-forms-c3s/satellite-sea-surface-temperature/constraints.json SST\n",
      "SST 1981-08-24 00:00:00 2022-12-31 00:00:00\n",
      "/Users/cxjo/Documents/cds-forms-c3s/satellite-sea-surface-temperature-ensemble-product/constraints.json SST (ESA CCI GMPE)\n",
      "SST (ESA CCI GMPE) 1981-09-01 00:00:00 2016-12-31 00:00:00\n",
      "/Users/cxjo/Documents/cds-forms-c3s/satellite-sea-level-global/constraints.json Sea Level (Global)\n",
      "Sea Level (Global) 1993-01-01 00:00:00 2023-06-07 00:00:00\n",
      "/Users/cxjo/Documents/cds-forms-c3s/satellite-sea-level-black-sea/constraints.json Sea Level (Black Sea)\n",
      "Sea Level (Black Sea) 1993-01-01 00:00:00 2020-06-03 00:00:00\n",
      "/Users/cxjo/Documents/cds-forms-c3s/satellite-sea-level-mediterranean/constraints.json Sea Level (Mediterranean)\n",
      "Sea Level (Mediterranean) 1993-01-01 00:00:00 2020-06-03 00:00:00\n",
      "/Users/cxjo/Documents/cds-forms-c3s/satellite-sea-level-global/constraints.json Surface Currents\n",
      "Surface Currents 1993-01-01 00:00:00 2023-06-07 00:00:00\n"
     ]
    }
   ],
   "source": [
    "def calc_dateminmax_from_cds_form_2(jfilepath,ecv):\n",
    "    # Opening JSON file\n",
    "    f = open(jfilepath)\n",
    "    # returns JSON object as \n",
    "    # a dictionary\n",
    "    data = json.load(f)\n",
    "    # print(data)\n",
    "    df = pd.DataFrame(data)\n",
    "    # display(df)\n",
    "    \n",
    "    # print(df.keys())\n",
    "    # print(len(df))\n",
    "    \n",
    "    # find records where dates cannot be defined\n",
    "    if 'sensor_and_algorithm' in df.keys():        \n",
    "        lst_erase=[]\n",
    "        for i in range(len(df)):\n",
    "            if (df['sensor_and_algorithm'][i][0]=='merged_obs4mips'): lst_erase.append(i)\n",
    "        # now .drop these problematic rows\n",
    "        for i in lst_erase:\n",
    "            df=df.drop(lst_erase)\n",
    "    if ecv == 'Earth Radiation Budget':        \n",
    "        lst_erase=[]\n",
    "        for i in range(len(df)):\n",
    "            if (df['variable'][i][0]=='total_solar_irradiance'): lst_erase.append(i) # this info is read from the dataset itself\n",
    "        # now .drop these problematic rows\n",
    "        for i in lst_erase:\n",
    "            df=df.drop(lst_erase)\n",
    "    # for i in range(len(df)):\n",
    "    #     print(df.loc[i])\n",
    "    #     if ('year' not in df[i]): lst_erase.append(i)\n",
    "\n",
    "    df['datemax'] = df.apply(compute_datemax,axis=1)\n",
    "    df['datemin'] = df.apply(compute_datemin,axis=1)\n",
    "\n",
    "    datemin = df['datemin'].min()\n",
    "    datemax = df['datemax'].max()\n",
    "\n",
    "    return datemin,datemax\n",
    "\n",
    "prod_dic = {}\n",
    "datemax_list = []\n",
    "datemin_list = []\n",
    "\n",
    "for k,prod in enumerate(conf['PRODUCT']):\n",
    "    # print(prod, conf['PRODUCT'][prod]['ECV'])\n",
    "    ecv = conf['PRODUCT'][prod]['ECV']\n",
    "    entry = conf['PRODUCT'][prod]['entry'][0]\n",
    "    product = conf['PRODUCT'][prod]['Product']\n",
    "    themHub = conf['PRODUCT'][prod]['Thematic_hub']\n",
    "    jfilepath=f'{cds_form_dir}{entry}/constraints.json'\n",
    "    print(jfilepath,prod)\n",
    "    if prod == 'C3S_RMIB_ERB':\n",
    "        datemin,datemax = extract_dates_from_TSI()\n",
    "    elif prod == 'Ice Sheet Gravimetric Mass Balance':\n",
    "        fname = glob(datasets_dir+'C3S_GMB*')[0]\n",
    "        nc = xr.open_dataset(fname)\n",
    "        datemin,datemax=(pd.Timestamp(nc['time'].values[0]),pd.Timestamp(nc['time'].values[-1]))\n",
    "    elif prod == 'Ice Sheet Surface Elevation Change (Antarctica)':\n",
    "        fnames = glob(datasets_dir+'C3S_*AntIS_RA*.nc')\n",
    "        datebegs = []\n",
    "        dateends = []\n",
    "        for fname in fnames:\n",
    "            print('will open '+fname)\n",
    "            nc = xr.open_dataset(fname)\n",
    "            datebegs.append(pd.Timestamp(nc['time'].values[0]))\n",
    "            dateends.append(pd.Timestamp(nc['time'].values[-1]))\n",
    "        datemin,datemax=(min(datebegs),max(dateends))\n",
    "        # print(prod,datemin,datemax)\n",
    "        # raise SystemExit\n",
    "    elif prod == 'Ice Sheet Surface Elevation Change (Greenland)':\n",
    "        fnames = glob(datasets_dir+'C3S_*GrIS_RA*.nc')\n",
    "        datebegs = []\n",
    "        dateends = []\n",
    "        for fname in fnames:\n",
    "            print('will open '+fname)\n",
    "            nc = xr.open_dataset(fname)\n",
    "            print(pd.Timestamp(nc['time'].values[0]))\n",
    "            datebegs.append(pd.Timestamp(nc['time'].values[0]))\n",
    "            dateends.append(pd.Timestamp(nc['time'].values[-1]))\n",
    "        datemin,datemax=(min(datebegs),max(dateends))\n",
    "        # print(prod,datemin,datemax)\n",
    "        # raise SystemExit\n",
    "    elif prod == 'Glaciers elevation and mass change data':\n",
    "        jfile = f'{cds_form_dir}{entry}/generate.yaml'\n",
    "        print(jfile)\n",
    "        datemin,datemax = extract_dates_derived_glaciers(jfile)\n",
    "        datemin_list.append(datemin)\n",
    "        datemax_list.append(datemax)\n",
    "    elif jfilepath == '/Users/cxjo/Documents/cds-forms-c3s/insitu-glaciers-extent/constraints.json':    \n",
    "        datemin= pd.Timestamp('1990-01-01') # http://www.glims.org/rgi_user_guide/06_dataset_summary.html\n",
    "        datemax= pd.Timestamp('2010-12-31')\n",
    "        datemin_list.append(datemin)\n",
    "        datemax_list.append(datemax)\n",
    "    elif jfilepath =='/Users/cxjo/Documents/cds-forms-c3s/satellite-total-column-water-vapour-ocean/constraints.json':\n",
    "        # temporal aggregation is messed up. does not have the same meaning as other datasets\n",
    "        # monthly should be yearly\n",
    "        # 6-hourly should be monthly\n",
    "        # need to write a special function that accounts for this\n",
    "        datemin,datemax = extract_dates_wv(jfilepath)\n",
    "        datemin_list.append(datemin)\n",
    "        datemax_list.append(datemax)\n",
    "    elif jfilepath == '/Users/cxjo/Documents/cds-forms-c3s/satellite-lake-water-level/constraints.json':\n",
    "        datemin,datemax = extract_dates_lake_levels(datasets_dir)\n",
    "        datemin_list.append(datemin)\n",
    "        datemax_list.append(datemax)\n",
    "    else:\n",
    "        datemin,datemax = calc_dateminmax_from_cds_form_2(jfilepath,ecv)\n",
    "    print(prod,datemin,datemax)\n",
    "    datemin_list.append(datemin)\n",
    "    datemax_list.append(datemax)\n",
    "    \n",
    "    prod_dic[k] = {\n",
    "    'Product': product,\n",
    "    'ECV'     : ecv,\n",
    "    'DateBeg' : datemin,\n",
    "    'DateEnd' : datemax,\n",
    "    'Thematic Hub' : themHub\n",
    "}"
   ]
  },
  {
   "cell_type": "code",
   "execution_count": 9,
   "metadata": {},
   "outputs": [
    {
     "name": "stdout",
     "output_type": "stream",
     "text": [
      "|    | Product                                         | ECV                      | DateBeg    | DateEnd    | Thematic Hub            |\n",
      "|---:|:------------------------------------------------|:-------------------------|:-----------|:-----------|:------------------------|\n",
      "|  0 | Aerosols                                        | Aerosols                 | 1995-06-01 | 2023-10-31 | Atmospheric Composition |\n",
      "|  2 | CH4                                             | Greenhouse Gases         | 2002-10-01 | 2021-12-31 | Atmospheric Composition |\n",
      "|  1 | CO2                                             | Greenhouse Gases         | 2002-10-01 | 2021-12-31 | Atmospheric Composition |\n",
      "|  3 | Ozone                                           | Ozone                    | 1970-04-01 | 2023-07-31 | Atmospheric Composition |\n",
      "|  4 | Clouds (CCI)                                    | Clouds                   | 1979-01-01 | 2023-04-30 | Atmospheric Physics     |\n",
      "|  5 | Clouds (CMSAF/CLARA)                            | Clouds                   | 1979-01-01 | 2023-04-30 | Atmospheric Physics     |\n",
      "|  9 | Earth Rad Budget - C3S CCI                      | Earth Radiation Budget   | 1979-01-01 | 2024-03-10 | Atmospheric Physics     |\n",
      "| 10 | Earth Rad Budget - C3S RMIB TotSolarIrrad       | Earth Radiation Budget   | 1979-01-01 | 2024-03-15 | Atmospheric Physics     |\n",
      "|  8 | Earth Rad Budget - ESA CLOUD CCI                | Earth Radiation Budget   | 1979-01-01 | 2024-03-10 | Atmospheric Physics     |\n",
      "|  6 | Earth Rad Budget - NASA CERES EBAF              | Earth Radiation Budget   | 1979-01-01 | 2024-03-10 | Atmospheric Physics     |\n",
      "|  7 | Earth Rad Budget - NOAA/NCEI HIRS               | Earth Radiation Budget   | 1979-01-01 | 2024-03-10 | Atmospheric Physics     |\n",
      "| 11 | Precipitation                                   | Precipitation            | 1979-01-01 | 2022-06-30 | Atmospheric Physics     |\n",
      "| 12 | Precipitation_microwave                         | Precipitation            | 2000-01-01 | 2017-12-31 | Atmospheric Physics     |\n",
      "| 14 | Surface Rad Budget (CCI)                        | Surface Radiation Budget | 1979-01-01 | 2023-04-30 | Atmospheric Physics     |\n",
      "| 13 | Surface Rad Budget - (CMSAF/CLARA)              | Surface Radiation Budget | 1979-01-01 | 2023-04-30 | Atmospheric Physics     |\n",
      "| 15 | Total Column Water Vapour (HOAPS)               | Upper-air Water Vapour   | 1988-01-31 | 2020-12-31 | Atmospheric Physics     |\n",
      "| 16 | Total Column Water Vapour (MERIS/SSMI)          | Upper-air Water Vapour   | 2002-05-01 | 2017-12-31 | Atmospheric Physics     |\n",
      "| 17 | Tropospheric Humidity Profiles (RO)             | Upper-air Water Vapour   | 2006-12-01 | 2023-02-28 | Atmospheric Physics     |\n",
      "| 18 | Upper Tropospheric Humidity                     | Upper-air Water Vapour   | 1999-01-01 | 2021-02-28 | Atmospheric Physics     |\n",
      "| 23 | Glaciers elevation and mass change data         | Glaciers                 | 1975-04-01 | 2021-09-30 | Cryosphere              |\n",
      "| 24 | Randolph Glacier Inventory for the year 2000    | Glaciers                 | 1990-01-01 | 2010-12-31 | Cryosphere              |\n",
      "| 20 | Ice Sheet Gravimetric Mass Balance              | Ice Sheets               | 2002-04-16 | 2022-12-17 | Cryosphere              |\n",
      "| 21 | Ice Sheet Surface Elevation Change (Antarctica) | Ice Sheets               | 1994-11-01 | 2020-06-01 | Cryosphere              |\n",
      "| 22 | Ice Sheet Surface Elevation Change (Greenland)  | Ice Sheets               | 1992-01-01 | 2023-08-01 | Cryosphere              |\n",
      "| 19 | Ice Sheet Velocity (Greenland)                  | Ice Sheets               | 2018-10-01 | 2021-09-30 | Cryosphere              |\n",
      "| 35 | Surface Albedo 10-daily                         | Albedo                   | 1981-09-20 | 2020-06-30 | Land Biosphere          |\n",
      "| 31 | FAPAR                                           | FAPAR                    | 1981-09-20 | 2020-06-30 | Land Biosphere          |\n",
      "| 32 | Fire Burned Areas                               | Fire                     | 2001-01-01 | 2022-04-01 | Land Biosphere          |\n",
      "| 33 | Fire Radiative Power                            | Fire                     | 2020-02-01 | 2021-02-28 | Land Biosphere          |\n",
      "| 30 | LAI                                             | LAI                      | 1981-09-20 | 2020-06-30 | Land Biosphere          |\n",
      "| 34 | Land Cover                                      | Land Cover               | 1992-01-01 | 2022-12-31 | Land Biosphere          |\n",
      "| 25 | Lake Surface Temperature                        | Lakes                    | 1995-06-01 | 2023-12-31 | Land Hydrology          |\n",
      "| 26 | Lake Water Level                                | Lakes                    | 1992-10-13 | 2022-12-22 | Land Hydrology          |\n",
      "| 27 | Soil Moisture (active MW)                       | Soil Moisture            | 1978-11-01 | 2024-03-31 | Land Hydrology          |\n",
      "| 29 | Soil Moisture (merged)                          | Soil Moisture            | 1978-11-01 | 2024-03-31 | Land Hydrology          |\n",
      "| 28 | Soil Moisture (passive MW)                      | Soil Moisture            | 1978-11-01 | 2024-03-31 | Land Hydrology          |\n",
      "| 36 | Ocean Colour                                    | Ocean Colour             | 1997-09-04 | 2023-12-31 | Ocean                   |\n",
      "| 40 | SST                                             | SST                      | 1981-08-24 | 2022-12-31 | Ocean                   |\n",
      "| 41 | SST (ESA CCI GMPE)                              | SST                      | 1981-09-01 | 2016-12-31 | Ocean                   |\n",
      "| 37 | Sea Ice Concentration                           | Sea Ice                  | 1979-01-02 | 2023-04-30 | Ocean                   |\n",
      "| 38 | Sea Ice Edge and Type                           | Sea Ice                  | 1978-10-25 | 2024-03-04 | Ocean                   |\n",
      "| 39 | Sea Ice Thickness                               | Sea Ice                  | 2002-10-01 | 2023-12-31 | Ocean                   |\n",
      "| 43 | Sea Level (Black Sea)                           | Sea Level                | 1993-01-01 | 2020-06-03 | Ocean                   |\n",
      "| 42 | Sea Level (Global)                              | Sea Level                | 1993-01-01 | 2023-06-07 | Ocean                   |\n",
      "| 44 | Sea Level (Mediterranean)                       | Sea Level                | 1993-01-01 | 2020-06-03 | Ocean                   |\n",
      "| 45 | Surface Geostrophic Currents                    | Surface Currents         | 1993-01-01 | 2023-06-07 | Ocean                   |\n",
      "20240321\n"
     ]
    },
    {
     "data": {
      "application/vnd.plotly.v1+json": {
       "config": {
        "plotlyServerURL": "https://plot.ly"
       },
       "data": [
        {
         "alignmentgroup": "True",
         "base": [
          "1995-06-01",
          "2002-10-01",
          "2002-10-01",
          "1970-04-01"
         ],
         "hovertemplate": "Thematic Hub=Atmospheric Composition<br>DateBeg=%{base}<br>DateEnd=%{x}<br>Product=%{y}<extra></extra>",
         "legendgroup": "Atmospheric Composition",
         "marker": {
          "color": "#636efa",
          "pattern": {
           "shape": ""
          }
         },
         "name": "Atmospheric Composition",
         "offsetgroup": "Atmospheric Composition",
         "orientation": "h",
         "showlegend": true,
         "textposition": "auto",
         "type": "bar",
         "x": [
          896745600000,
          607478400000,
          607478400000,
          1682985600000
         ],
         "xaxis": "x",
         "y": [
          "Aerosols",
          "CH4",
          "CO2",
          "Ozone"
         ],
         "yaxis": "y"
        },
        {
         "alignmentgroup": "True",
         "base": [
          "1979-01-01",
          "1979-01-01",
          "1979-01-01",
          "1979-01-01",
          "1979-01-01",
          "1979-01-01",
          "1979-01-01",
          "1979-01-01",
          "2000-01-01",
          "1979-01-01",
          "1979-01-01",
          "1988-01-31",
          "2002-05-01",
          "2006-12-01",
          "1999-01-01"
         ],
         "hovertemplate": "Thematic Hub=Atmospheric Physics<br>DateBeg=%{base}<br>DateEnd=%{x}<br>Product=%{y}<extra></extra>",
         "legendgroup": "Atmospheric Physics",
         "marker": {
          "color": "#EF553B",
          "pattern": {
           "shape": ""
          }
         },
         "name": "Atmospheric Physics",
         "offsetgroup": "Atmospheric Physics",
         "orientation": "h",
         "showlegend": true,
         "textposition": "auto",
         "type": "bar",
         "x": [
          1398816000000,
          1398816000000,
          1426032000000,
          1426464000000,
          1426032000000,
          1426032000000,
          1426032000000,
          1372550400000,
          567993600000,
          1398816000000,
          1398816000000,
          1038787200000,
          494467200000,
          512611200000,
          699321600000
         ],
         "xaxis": "x",
         "y": [
          "Clouds (CCI)",
          "Clouds (CMSAF/CLARA)",
          "Earth Rad Budget - C3S CCI",
          "Earth Rad Budget - C3S RMIB TotSolarIrrad",
          "Earth Rad Budget - ESA CLOUD CCI",
          "Earth Rad Budget - NASA CERES EBAF",
          "Earth Rad Budget - NOAA/NCEI HIRS",
          "Precipitation",
          "Precipitation_microwave",
          "Surface Rad Budget (CCI)",
          "Surface Rad Budget - (CMSAF/CLARA)",
          "Total Column Water Vapour (HOAPS)",
          "Total Column Water Vapour (MERIS/SSMI)",
          "Tropospheric Humidity Profiles (RO)",
          "Upper Tropospheric Humidity"
         ],
         "yaxis": "y"
        },
        {
         "alignmentgroup": "True",
         "base": [
          "1975-04-01",
          "1990-01-01",
          "2002-04-16",
          "1994-11-01",
          "1992-01-01",
          "2018-10-01"
         ],
         "hovertemplate": "Thematic Hub=Cryosphere<br>DateBeg=%{base}<br>DateEnd=%{x}<br>Product=%{y}<extra></extra>",
         "legendgroup": "Cryosphere",
         "marker": {
          "color": "#00cc96",
          "pattern": {
           "shape": ""
          }
         },
         "name": "Cryosphere",
         "offsetgroup": "Cryosphere",
         "orientation": "h",
         "showlegend": true,
         "textposition": "auto",
         "type": "bar",
         "x": [
          1467417600000,
          662601600000,
          652320000000,
          807321600000,
          996624000000,
          94608000000
         ],
         "xaxis": "x",
         "y": [
          "Glaciers elevation and mass change data",
          "Randolph Glacier Inventory for the year 2000",
          "Ice Sheet Gravimetric Mass Balance",
          "Ice Sheet Surface Elevation Change (Antarctica)",
          "Ice Sheet Surface Elevation Change (Greenland)",
          "Ice Sheet Velocity (Greenland)"
         ],
         "yaxis": "y"
        },
        {
         "alignmentgroup": "True",
         "base": [
          "1981-09-20",
          "1981-09-20",
          "2001-01-01",
          "2020-02-01",
          "1981-09-20",
          "1992-01-01"
         ],
         "hovertemplate": "Thematic Hub=Land Biosphere<br>DateBeg=%{base}<br>DateEnd=%{x}<br>Product=%{y}<extra></extra>",
         "legendgroup": "Land Biosphere",
         "marker": {
          "color": "#ab63fa",
          "pattern": {
           "shape": ""
          }
         },
         "name": "Land Biosphere",
         "offsetgroup": "Land Biosphere",
         "orientation": "h",
         "showlegend": true,
         "textposition": "auto",
         "type": "bar",
         "x": [
          1223683200000,
          1223683200000,
          670464000000,
          33955200000,
          1223683200000,
          978220800000
         ],
         "xaxis": "x",
         "y": [
          "Surface Albedo 10-daily",
          "FAPAR",
          "Fire Burned Areas",
          "Fire Radiative Power",
          "LAI",
          "Land Cover"
         ],
         "yaxis": "y"
        },
        {
         "alignmentgroup": "True",
         "base": [
          "1995-06-01",
          "1992-10-13",
          "1978-11-01",
          "1978-11-01",
          "1978-11-01"
         ],
         "hovertemplate": "Thematic Hub=Land Hydrology<br>DateBeg=%{base}<br>DateEnd=%{x}<br>Product=%{y}<extra></extra>",
         "legendgroup": "Land Hydrology",
         "marker": {
          "color": "#FFA15A",
          "pattern": {
           "shape": ""
          }
         },
         "name": "Land Hydrology",
         "offsetgroup": "Land Hydrology",
         "orientation": "h",
         "showlegend": true,
         "textposition": "auto",
         "type": "bar",
         "x": [
          902016000000,
          952732800000,
          1433116800000,
          1433116800000,
          1433116800000
         ],
         "xaxis": "x",
         "y": [
          "Lake Surface Temperature",
          "Lake Water Level",
          "Soil Moisture (active MW)",
          "Soil Moisture (merged)",
          "Soil Moisture (passive MW)"
         ],
         "yaxis": "y"
        },
        {
         "alignmentgroup": "True",
         "base": [
          "1997-09-04",
          "1981-08-24",
          "1981-09-01",
          "1979-01-02",
          "1978-10-25",
          "2002-10-01",
          "1993-01-01",
          "1993-01-01",
          "1993-01-01",
          "1993-01-01"
         ],
         "hovertemplate": "Thematic Hub=Ocean<br>DateBeg=%{base}<br>DateEnd=%{x}<br>Product=%{y}<extra></extra>",
         "legendgroup": "Ocean",
         "marker": {
          "color": "#19d3f3",
          "pattern": {
           "shape": ""
          }
         },
         "name": "Ocean",
         "offsetgroup": "Ocean",
         "orientation": "h",
         "showlegend": true,
         "textposition": "auto",
         "type": "bar",
         "x": [
          830649600000,
          1304985600000,
          1114992000000,
          1398729600000,
          1431388800000,
          670550400000,
          865296000000,
          960249600000,
          865296000000,
          960249600000
         ],
         "xaxis": "x",
         "y": [
          "Ocean Colour",
          "SST",
          "SST (ESA CCI GMPE)",
          "Sea Ice Concentration",
          "Sea Ice Edge and Type",
          "Sea Ice Thickness",
          "Sea Level (Black Sea)",
          "Sea Level (Global)",
          "Sea Level (Mediterranean)",
          "Surface Geostrophic Currents"
         ],
         "yaxis": "y"
        }
       ],
       "layout": {
        "autosize": false,
        "barmode": "overlay",
        "height": 800,
        "legend": {
         "title": {
          "text": "Thematic Hub"
         },
         "tracegroupgap": 0
        },
        "margin": {
         "t": 60
        },
        "template": {
         "data": {
          "bar": [
           {
            "error_x": {
             "color": "#2a3f5f"
            },
            "error_y": {
             "color": "#2a3f5f"
            },
            "marker": {
             "line": {
              "color": "#E5ECF6",
              "width": 0.5
             },
             "pattern": {
              "fillmode": "overlay",
              "size": 10,
              "solidity": 0.2
             }
            },
            "type": "bar"
           }
          ],
          "barpolar": [
           {
            "marker": {
             "line": {
              "color": "#E5ECF6",
              "width": 0.5
             },
             "pattern": {
              "fillmode": "overlay",
              "size": 10,
              "solidity": 0.2
             }
            },
            "type": "barpolar"
           }
          ],
          "carpet": [
           {
            "aaxis": {
             "endlinecolor": "#2a3f5f",
             "gridcolor": "white",
             "linecolor": "white",
             "minorgridcolor": "white",
             "startlinecolor": "#2a3f5f"
            },
            "baxis": {
             "endlinecolor": "#2a3f5f",
             "gridcolor": "white",
             "linecolor": "white",
             "minorgridcolor": "white",
             "startlinecolor": "#2a3f5f"
            },
            "type": "carpet"
           }
          ],
          "choropleth": [
           {
            "colorbar": {
             "outlinewidth": 0,
             "ticks": ""
            },
            "type": "choropleth"
           }
          ],
          "contour": [
           {
            "colorbar": {
             "outlinewidth": 0,
             "ticks": ""
            },
            "colorscale": [
             [
              0,
              "#0d0887"
             ],
             [
              0.1111111111111111,
              "#46039f"
             ],
             [
              0.2222222222222222,
              "#7201a8"
             ],
             [
              0.3333333333333333,
              "#9c179e"
             ],
             [
              0.4444444444444444,
              "#bd3786"
             ],
             [
              0.5555555555555556,
              "#d8576b"
             ],
             [
              0.6666666666666666,
              "#ed7953"
             ],
             [
              0.7777777777777778,
              "#fb9f3a"
             ],
             [
              0.8888888888888888,
              "#fdca26"
             ],
             [
              1,
              "#f0f921"
             ]
            ],
            "type": "contour"
           }
          ],
          "contourcarpet": [
           {
            "colorbar": {
             "outlinewidth": 0,
             "ticks": ""
            },
            "type": "contourcarpet"
           }
          ],
          "heatmap": [
           {
            "colorbar": {
             "outlinewidth": 0,
             "ticks": ""
            },
            "colorscale": [
             [
              0,
              "#0d0887"
             ],
             [
              0.1111111111111111,
              "#46039f"
             ],
             [
              0.2222222222222222,
              "#7201a8"
             ],
             [
              0.3333333333333333,
              "#9c179e"
             ],
             [
              0.4444444444444444,
              "#bd3786"
             ],
             [
              0.5555555555555556,
              "#d8576b"
             ],
             [
              0.6666666666666666,
              "#ed7953"
             ],
             [
              0.7777777777777778,
              "#fb9f3a"
             ],
             [
              0.8888888888888888,
              "#fdca26"
             ],
             [
              1,
              "#f0f921"
             ]
            ],
            "type": "heatmap"
           }
          ],
          "heatmapgl": [
           {
            "colorbar": {
             "outlinewidth": 0,
             "ticks": ""
            },
            "colorscale": [
             [
              0,
              "#0d0887"
             ],
             [
              0.1111111111111111,
              "#46039f"
             ],
             [
              0.2222222222222222,
              "#7201a8"
             ],
             [
              0.3333333333333333,
              "#9c179e"
             ],
             [
              0.4444444444444444,
              "#bd3786"
             ],
             [
              0.5555555555555556,
              "#d8576b"
             ],
             [
              0.6666666666666666,
              "#ed7953"
             ],
             [
              0.7777777777777778,
              "#fb9f3a"
             ],
             [
              0.8888888888888888,
              "#fdca26"
             ],
             [
              1,
              "#f0f921"
             ]
            ],
            "type": "heatmapgl"
           }
          ],
          "histogram": [
           {
            "marker": {
             "pattern": {
              "fillmode": "overlay",
              "size": 10,
              "solidity": 0.2
             }
            },
            "type": "histogram"
           }
          ],
          "histogram2d": [
           {
            "colorbar": {
             "outlinewidth": 0,
             "ticks": ""
            },
            "colorscale": [
             [
              0,
              "#0d0887"
             ],
             [
              0.1111111111111111,
              "#46039f"
             ],
             [
              0.2222222222222222,
              "#7201a8"
             ],
             [
              0.3333333333333333,
              "#9c179e"
             ],
             [
              0.4444444444444444,
              "#bd3786"
             ],
             [
              0.5555555555555556,
              "#d8576b"
             ],
             [
              0.6666666666666666,
              "#ed7953"
             ],
             [
              0.7777777777777778,
              "#fb9f3a"
             ],
             [
              0.8888888888888888,
              "#fdca26"
             ],
             [
              1,
              "#f0f921"
             ]
            ],
            "type": "histogram2d"
           }
          ],
          "histogram2dcontour": [
           {
            "colorbar": {
             "outlinewidth": 0,
             "ticks": ""
            },
            "colorscale": [
             [
              0,
              "#0d0887"
             ],
             [
              0.1111111111111111,
              "#46039f"
             ],
             [
              0.2222222222222222,
              "#7201a8"
             ],
             [
              0.3333333333333333,
              "#9c179e"
             ],
             [
              0.4444444444444444,
              "#bd3786"
             ],
             [
              0.5555555555555556,
              "#d8576b"
             ],
             [
              0.6666666666666666,
              "#ed7953"
             ],
             [
              0.7777777777777778,
              "#fb9f3a"
             ],
             [
              0.8888888888888888,
              "#fdca26"
             ],
             [
              1,
              "#f0f921"
             ]
            ],
            "type": "histogram2dcontour"
           }
          ],
          "mesh3d": [
           {
            "colorbar": {
             "outlinewidth": 0,
             "ticks": ""
            },
            "type": "mesh3d"
           }
          ],
          "parcoords": [
           {
            "line": {
             "colorbar": {
              "outlinewidth": 0,
              "ticks": ""
             }
            },
            "type": "parcoords"
           }
          ],
          "pie": [
           {
            "automargin": true,
            "type": "pie"
           }
          ],
          "scatter": [
           {
            "fillpattern": {
             "fillmode": "overlay",
             "size": 10,
             "solidity": 0.2
            },
            "type": "scatter"
           }
          ],
          "scatter3d": [
           {
            "line": {
             "colorbar": {
              "outlinewidth": 0,
              "ticks": ""
             }
            },
            "marker": {
             "colorbar": {
              "outlinewidth": 0,
              "ticks": ""
             }
            },
            "type": "scatter3d"
           }
          ],
          "scattercarpet": [
           {
            "marker": {
             "colorbar": {
              "outlinewidth": 0,
              "ticks": ""
             }
            },
            "type": "scattercarpet"
           }
          ],
          "scattergeo": [
           {
            "marker": {
             "colorbar": {
              "outlinewidth": 0,
              "ticks": ""
             }
            },
            "type": "scattergeo"
           }
          ],
          "scattergl": [
           {
            "marker": {
             "colorbar": {
              "outlinewidth": 0,
              "ticks": ""
             }
            },
            "type": "scattergl"
           }
          ],
          "scattermapbox": [
           {
            "marker": {
             "colorbar": {
              "outlinewidth": 0,
              "ticks": ""
             }
            },
            "type": "scattermapbox"
           }
          ],
          "scatterpolar": [
           {
            "marker": {
             "colorbar": {
              "outlinewidth": 0,
              "ticks": ""
             }
            },
            "type": "scatterpolar"
           }
          ],
          "scatterpolargl": [
           {
            "marker": {
             "colorbar": {
              "outlinewidth": 0,
              "ticks": ""
             }
            },
            "type": "scatterpolargl"
           }
          ],
          "scatterternary": [
           {
            "marker": {
             "colorbar": {
              "outlinewidth": 0,
              "ticks": ""
             }
            },
            "type": "scatterternary"
           }
          ],
          "surface": [
           {
            "colorbar": {
             "outlinewidth": 0,
             "ticks": ""
            },
            "colorscale": [
             [
              0,
              "#0d0887"
             ],
             [
              0.1111111111111111,
              "#46039f"
             ],
             [
              0.2222222222222222,
              "#7201a8"
             ],
             [
              0.3333333333333333,
              "#9c179e"
             ],
             [
              0.4444444444444444,
              "#bd3786"
             ],
             [
              0.5555555555555556,
              "#d8576b"
             ],
             [
              0.6666666666666666,
              "#ed7953"
             ],
             [
              0.7777777777777778,
              "#fb9f3a"
             ],
             [
              0.8888888888888888,
              "#fdca26"
             ],
             [
              1,
              "#f0f921"
             ]
            ],
            "type": "surface"
           }
          ],
          "table": [
           {
            "cells": {
             "fill": {
              "color": "#EBF0F8"
             },
             "line": {
              "color": "white"
             }
            },
            "header": {
             "fill": {
              "color": "#C8D4E3"
             },
             "line": {
              "color": "white"
             }
            },
            "type": "table"
           }
          ]
         },
         "layout": {
          "annotationdefaults": {
           "arrowcolor": "#2a3f5f",
           "arrowhead": 0,
           "arrowwidth": 1
          },
          "autotypenumbers": "strict",
          "coloraxis": {
           "colorbar": {
            "outlinewidth": 0,
            "ticks": ""
           }
          },
          "colorscale": {
           "diverging": [
            [
             0,
             "#8e0152"
            ],
            [
             0.1,
             "#c51b7d"
            ],
            [
             0.2,
             "#de77ae"
            ],
            [
             0.3,
             "#f1b6da"
            ],
            [
             0.4,
             "#fde0ef"
            ],
            [
             0.5,
             "#f7f7f7"
            ],
            [
             0.6,
             "#e6f5d0"
            ],
            [
             0.7,
             "#b8e186"
            ],
            [
             0.8,
             "#7fbc41"
            ],
            [
             0.9,
             "#4d9221"
            ],
            [
             1,
             "#276419"
            ]
           ],
           "sequential": [
            [
             0,
             "#0d0887"
            ],
            [
             0.1111111111111111,
             "#46039f"
            ],
            [
             0.2222222222222222,
             "#7201a8"
            ],
            [
             0.3333333333333333,
             "#9c179e"
            ],
            [
             0.4444444444444444,
             "#bd3786"
            ],
            [
             0.5555555555555556,
             "#d8576b"
            ],
            [
             0.6666666666666666,
             "#ed7953"
            ],
            [
             0.7777777777777778,
             "#fb9f3a"
            ],
            [
             0.8888888888888888,
             "#fdca26"
            ],
            [
             1,
             "#f0f921"
            ]
           ],
           "sequentialminus": [
            [
             0,
             "#0d0887"
            ],
            [
             0.1111111111111111,
             "#46039f"
            ],
            [
             0.2222222222222222,
             "#7201a8"
            ],
            [
             0.3333333333333333,
             "#9c179e"
            ],
            [
             0.4444444444444444,
             "#bd3786"
            ],
            [
             0.5555555555555556,
             "#d8576b"
            ],
            [
             0.6666666666666666,
             "#ed7953"
            ],
            [
             0.7777777777777778,
             "#fb9f3a"
            ],
            [
             0.8888888888888888,
             "#fdca26"
            ],
            [
             1,
             "#f0f921"
            ]
           ]
          },
          "colorway": [
           "#636efa",
           "#EF553B",
           "#00cc96",
           "#ab63fa",
           "#FFA15A",
           "#19d3f3",
           "#FF6692",
           "#B6E880",
           "#FF97FF",
           "#FECB52"
          ],
          "font": {
           "color": "#2a3f5f"
          },
          "geo": {
           "bgcolor": "white",
           "lakecolor": "white",
           "landcolor": "#E5ECF6",
           "showlakes": true,
           "showland": true,
           "subunitcolor": "white"
          },
          "hoverlabel": {
           "align": "left"
          },
          "hovermode": "closest",
          "mapbox": {
           "style": "light"
          },
          "paper_bgcolor": "white",
          "plot_bgcolor": "#E5ECF6",
          "polar": {
           "angularaxis": {
            "gridcolor": "white",
            "linecolor": "white",
            "ticks": ""
           },
           "bgcolor": "#E5ECF6",
           "radialaxis": {
            "gridcolor": "white",
            "linecolor": "white",
            "ticks": ""
           }
          },
          "scene": {
           "xaxis": {
            "backgroundcolor": "#E5ECF6",
            "gridcolor": "white",
            "gridwidth": 2,
            "linecolor": "white",
            "showbackground": true,
            "ticks": "",
            "zerolinecolor": "white"
           },
           "yaxis": {
            "backgroundcolor": "#E5ECF6",
            "gridcolor": "white",
            "gridwidth": 2,
            "linecolor": "white",
            "showbackground": true,
            "ticks": "",
            "zerolinecolor": "white"
           },
           "zaxis": {
            "backgroundcolor": "#E5ECF6",
            "gridcolor": "white",
            "gridwidth": 2,
            "linecolor": "white",
            "showbackground": true,
            "ticks": "",
            "zerolinecolor": "white"
           }
          },
          "shapedefaults": {
           "line": {
            "color": "#2a3f5f"
           }
          },
          "ternary": {
           "aaxis": {
            "gridcolor": "white",
            "linecolor": "white",
            "ticks": ""
           },
           "baxis": {
            "gridcolor": "white",
            "linecolor": "white",
            "ticks": ""
           },
           "bgcolor": "#E5ECF6",
           "caxis": {
            "gridcolor": "white",
            "linecolor": "white",
            "ticks": ""
           }
          },
          "title": {
           "x": 0.05
          },
          "xaxis": {
           "automargin": true,
           "gridcolor": "white",
           "linecolor": "white",
           "ticks": "",
           "title": {
            "standoff": 15
           },
           "zerolinecolor": "white",
           "zerolinewidth": 2
          },
          "yaxis": {
           "automargin": true,
           "gridcolor": "white",
           "linecolor": "white",
           "ticks": "",
           "title": {
            "standoff": 15
           },
           "zerolinecolor": "white",
           "zerolinewidth": 2
          }
         }
        },
        "width": 1200,
        "xaxis": {
         "anchor": "y",
         "domain": [
          0,
          1
         ],
         "minor": {
          "showgrid": true,
          "ticks": "inside"
         },
         "range": [
          "1970-01-01",
          "2024-12-31"
         ],
         "tickangle": -45,
         "tickfont": {
          "size": 10
         },
         "tickmode": "array",
         "ticktext": [
          "1970",
          "1971",
          "1972",
          "1973",
          "1974",
          "1975",
          "1976",
          "1977",
          "1978",
          "1979",
          "1980",
          "1981",
          "1982",
          "1983",
          "1984",
          "1985",
          "1986",
          "1987",
          "1988",
          "1989",
          "1990",
          "1991",
          "1992",
          "1993",
          "1994",
          "1995",
          "1996",
          "1997",
          "1998",
          "1999",
          "2000",
          "2001",
          "2002",
          "2003",
          "2004",
          "2005",
          "2006",
          "2007",
          "2008",
          "2009",
          "2010",
          "2011",
          "2012",
          "2013",
          "2014",
          "2015",
          "2016",
          "2017",
          "2018",
          "2019",
          "2020",
          "2021",
          "2022",
          "2023",
          "2024"
         ],
         "tickvals": [
          1970,
          1971,
          1972,
          1973,
          1974,
          1975,
          1976,
          1977,
          1978,
          1979,
          1980,
          1981,
          1982,
          1983,
          1984,
          1985,
          1986,
          1987,
          1988,
          1989,
          1990,
          1991,
          1992,
          1993,
          1994,
          1995,
          1996,
          1997,
          1998,
          1999,
          2000,
          2001,
          2002,
          2003,
          2004,
          2005,
          2006,
          2007,
          2008,
          2009,
          2010,
          2011,
          2012,
          2013,
          2014,
          2015,
          2016,
          2017,
          2018,
          2019,
          2020,
          2021,
          2022,
          2023,
          2024
         ],
         "type": "date"
        },
        "yaxis": {
         "anchor": "x",
         "autorange": "reversed",
         "domain": [
          0,
          1
         ],
         "title": {
          "text": "Product"
         }
        }
       }
      }
     },
     "metadata": {},
     "output_type": "display_data"
    }
   ],
   "source": [
    "\n",
    "\n",
    "# ecv_pd = pd.DataFrame([conf['ECV'].keys(),datesbeg,datesend],index=['DateBeg','DateEnd']).T\n",
    "prod_pd = pd.DataFrame.from_dict(prod_dic,orient='index').sort_values(['Thematic Hub','ECV','Product'])\n",
    "prod_pd['DateBeg'] = prod_pd['DateBeg'].dt.ceil(freq='s')  \n",
    "prod_pd['DateEnd'] = prod_pd['DateEnd'].dt.ceil(freq='s')  \n",
    "prod_pd['DateEnd'] = prod_pd['DateEnd'].apply(lambda dt: dt.strftime(\"%Y-%m-%d\"))\n",
    "prod_pd['DateBeg'] = prod_pd['DateBeg'].apply(lambda dt: dt.strftime(\"%Y-%m-%d\"))\n",
    "\n",
    "print(prod_pd.to_markdown())\n",
    "\n",
    "# fig = px.timeline(ecv_pd, x_start=\"DateBeg\", x_end=\"DateEnd\", y='Product',color='Lot')\n",
    "fig = px.timeline(prod_pd, x_start=\"DateBeg\", x_end=\"DateEnd\",y='Product',color='Thematic Hub')\n",
    "\n",
    "# fig = px.timeline(datasets_df, x_start=\"startdate\", x_end=\"enddate\", y='ECV')\n",
    "fig.update_yaxes(autorange=\"reversed\")\n",
    "fig.update_layout(\n",
    "    autosize=False,\n",
    "    width=1200,\n",
    "    height=800,\n",
    ")\n",
    "# fig.update_layout(\n",
    "#     xaxis = dict(\n",
    "#         dtick = 'Y1',\n",
    "#         tickformat=\"%Y\",\n",
    "#     )\n",
    "# )\n",
    "\n",
    "xlab = np.arange(1970,2025).astype('int')\n",
    "xlabtxt = [f'{i}' for i in xlab]\n",
    "\n",
    "\n",
    "fig.update_xaxes(minor=dict(ticks=\"inside\", showgrid=True))\n",
    "fig.update_layout(\n",
    "    xaxis = dict(\n",
    "        tickmode = 'array',\n",
    "        tickvals = xlab,\n",
    "        ticktext = xlabtxt\n",
    "    )\n",
    ")\n",
    "fig.update_xaxes(tickangle=-45)\n",
    "fig.update_layout(\n",
    "    xaxis = dict(\n",
    "        tickfont = dict(\n",
    "            size=10),\n",
    "        )\n",
    "    )\n",
    "fig.update_xaxes(range = ['1970-01-01','2024-12-31'])\n",
    "# print(fig)\n",
    "today_date = pd.Timestamp.today().strftime('%Y%m%d') \n",
    "print(today_date)\n",
    "fig.write_image(f'temporal_coverage_by_Product_{today_date}.pdf')\n",
    "fig.write_image(f'temporal_coverage_by_Product_{today_date}.png')\n",
    "fig.show()"
   ]
  }
 ],
 "metadata": {
  "kernelspec": {
   "display_name": "base",
   "language": "python",
   "name": "python3"
  },
  "language_info": {
   "codemirror_mode": {
    "name": "ipython",
    "version": 3
   },
   "file_extension": ".py",
   "mimetype": "text/x-python",
   "name": "python",
   "nbconvert_exporter": "python",
   "pygments_lexer": "ipython3",
   "version": "3.12.2"
  }
 },
 "nbformat": 4,
 "nbformat_minor": 2
}
