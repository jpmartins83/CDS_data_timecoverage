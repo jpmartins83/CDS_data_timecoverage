{
 "cells": [
  {
   "cell_type": "code",
   "execution_count": 320,
   "metadata": {},
   "outputs": [
    {
     "name": "stdout",
     "output_type": "stream",
     "text": [
      "Aerosols\n",
      "['satellite-aerosol-properties']\n",
      "/Users/cxjo/Documents/cds-forms-c3s/satellite-aerosol-properties/constraints.json\n",
      "Beware error in allowed dates...\n",
      "Beware error in allowed dates...\n",
      "Albedo\n",
      "['satellite-albedo']\n",
      "/Users/cxjo/Documents/cds-forms-c3s/satellite-albedo/constraints.json\n",
      "Greenhouse Gases\n",
      "['satellite-carbon-dioxide', 'satellite-methane']\n",
      "/Users/cxjo/Documents/cds-forms-c3s/satellite-carbon-dioxide/constraints.json\n",
      "/Users/cxjo/Documents/cds-forms-c3s/satellite-methane/constraints.json\n",
      "Clouds\n",
      "['satellite-cloud-properties']\n",
      "/Users/cxjo/Documents/cds-forms-c3s/satellite-cloud-properties/constraints.json\n",
      "Earth Radiation Budget\n",
      "['satellite-earth-radiation-budget']\n",
      "/Users/cxjo/Documents/cds-forms-c3s/satellite-earth-radiation-budget/constraints.json\n",
      "Fire\n",
      "['satellite-fire-burned-area', 'satellite-fire-radiative-power']\n",
      "/Users/cxjo/Documents/cds-forms-c3s/satellite-fire-burned-area/constraints.json\n",
      "/Users/cxjo/Documents/cds-forms-c3s/satellite-fire-radiative-power/constraints.json\n",
      "Ice Sheets\n",
      "['satellite-greenland-ice-sheet-velocity', 'satellite-ice-sheet-elevation-change', 'satellite-ice-sheet-mass-balance', 'derived-gridded-glacier-mass-change/']\n",
      "/Users/cxjo/Documents/cds-forms-c3s/satellite-greenland-ice-sheet-velocity/constraints.json\n",
      "/Users/cxjo/Documents/cds-forms-c3s/satellite-ice-sheet-elevation-change/constraints.json\n",
      "/Users/cxjo/Documents/cds-forms-c3s/satellite-ice-sheet-mass-balance/constraints.json\n",
      "/Users/cxjo/Documents/cds-forms-c3s/derived-gridded-glacier-mass-change//constraints.json\n",
      "Glaciers\n",
      "['insitu-glaciers-extent']\n",
      "/Users/cxjo/Documents/cds-forms-c3s/insitu-glaciers-extent/constraints.json\n",
      "Upper-air Water Vapour\n",
      "['satellite-humidity-profiles', 'satellite-total-column-water-vapour-land-ocean', 'satellite-total-column-water-vapour-ocean', 'satellite-upper-troposphere-humidity']\n",
      "/Users/cxjo/Documents/cds-forms-c3s/satellite-humidity-profiles/constraints.json\n",
      "/Users/cxjo/Documents/cds-forms-c3s/satellite-total-column-water-vapour-land-ocean/constraints.json\n",
      "/Users/cxjo/Documents/cds-forms-c3s/satellite-total-column-water-vapour-ocean/constraints.json\n",
      "/Users/cxjo/Documents/cds-forms-c3s/satellite-upper-troposphere-humidity/constraints.json\n",
      "LAI\n",
      "['satellite-lai-fapar']\n",
      "/Users/cxjo/Documents/cds-forms-c3s/satellite-lai-fapar/constraints.json\n",
      "FAPAR\n",
      "['satellite-lai-fapar']\n",
      "/Users/cxjo/Documents/cds-forms-c3s/satellite-lai-fapar/constraints.json\n",
      "Lakes\n",
      "['satellite-lake-water-level', 'satellite-lake-water-temperature']\n",
      "/Users/cxjo/Documents/cds-forms-c3s/satellite-lake-water-level/constraints.json\n",
      "/Users/cxjo/Documents/cds-forms-c3s/satellite-lake-water-temperature/constraints.json\n",
      "Land Cover\n",
      "['satellite-land-cover']\n",
      "/Users/cxjo/Documents/cds-forms-c3s/satellite-land-cover/constraints.json\n",
      "Ocean Colour\n",
      "['satellite-ocean-colour']\n",
      "/Users/cxjo/Documents/cds-forms-c3s/satellite-ocean-colour/constraints.json\n",
      "Ozone\n",
      "['satellite-ozone-v1']\n",
      "/Users/cxjo/Documents/cds-forms-c3s/satellite-ozone-v1/constraints.json\n",
      "Precipitation\n",
      "['satellite-precipitation', 'satellite-precipitation-microwave']\n",
      "/Users/cxjo/Documents/cds-forms-c3s/satellite-precipitation/constraints.json\n",
      "/Users/cxjo/Documents/cds-forms-c3s/satellite-precipitation-microwave/constraints.json\n",
      "Sea Ice\n",
      "['satellite-sea-ice', 'satellite-sea-ice-concentration', 'satellite-sea-ice-edge-type', 'satellite-sea-ice-thickness']\n",
      "/Users/cxjo/Documents/cds-forms-c3s/satellite-sea-ice/constraints.json\n",
      "/Users/cxjo/Documents/cds-forms-c3s/satellite-sea-ice-concentration/constraints.json\n",
      "/Users/cxjo/Documents/cds-forms-c3s/satellite-sea-ice-edge-type/constraints.json\n",
      "/Users/cxjo/Documents/cds-forms-c3s/satellite-sea-ice-thickness/constraints.json\n",
      "Sea Level\n",
      "['satellite-sea-level-black-sea', 'satellite-sea-level-global', 'satellite-sea-level-mediterranean']\n",
      "/Users/cxjo/Documents/cds-forms-c3s/satellite-sea-level-black-sea/constraints.json\n",
      "/Users/cxjo/Documents/cds-forms-c3s/satellite-sea-level-global/constraints.json\n",
      "/Users/cxjo/Documents/cds-forms-c3s/satellite-sea-level-mediterranean/constraints.json\n",
      "SST\n",
      "['satellite-sea-surface-temperature', 'satellite-sea-surface-temperature-complete', 'satellite-sea-surface-temperature-ensemble-product']\n",
      "/Users/cxjo/Documents/cds-forms-c3s/satellite-sea-surface-temperature/constraints.json\n",
      "/Users/cxjo/Documents/cds-forms-c3s/satellite-sea-surface-temperature-complete/constraints.json\n",
      "/Users/cxjo/Documents/cds-forms-c3s/satellite-sea-surface-temperature-ensemble-product/constraints.json\n",
      "Soil Moisture\n",
      "['satellite-soil-moisture']\n",
      "/Users/cxjo/Documents/cds-forms-c3s/satellite-soil-moisture/constraints.json\n",
      "Surface Currents\n",
      "['satellite-sea-level-global']\n",
      "/Users/cxjo/Documents/cds-forms-c3s/satellite-sea-level-global/constraints.json\n",
      "Surface Radiation Budget\n",
      "['satellite-surface-radiation-budget']\n",
      "/Users/cxjo/Documents/cds-forms-c3s/satellite-surface-radiation-budget/constraints.json\n"
     ]
    }
   ],
   "source": [
    "import pandas as pd\n",
    "import urllib.request\n",
    "import os\n",
    "from datetime import datetime,date\n",
    "import numpy as np\n",
    "import matplotlib.pyplot as plt\n",
    "import plotly.express as px\n",
    "import json\n",
    "import yaml\n",
    "from calendar import monthrange\n",
    "import xarray as xr\n",
    "\n",
    "#important\n",
    "#before running this script, please git pull, then git checkout c3stest\n",
    "\n",
    "\n",
    "def extract_dates_from_TSI():\n",
    "    url='https://gerb.oma.be/tsi/C3S_RMIB_daily_TSI_composite_ICDR_v3_latest.txt'\n",
    "    c=pd.read_csv(url,skiprows=128,delim_whitespace=True,header=None)\n",
    "    return pd.Timestamp(str(c[3].iloc[0])),pd.Timestamp(str(c[3].iloc[-1]))\n",
    "def extract_dates_icesheets():\n",
    "    fname = '/Users/cxjo/Downloads/C3S_GrIS_RA_SEC_25km_vers4_2024-01-15.nc'\n",
    "    nc = xr.open_dataset(fname)\n",
    "    return pd.Timestamp(nc['time'].values[0]),pd.Timestamp(nc['time'].values[-1])\n",
    "def extract_dates_massbalance():\n",
    "    fname = '/Users/cxjo/Downloads/C3S_GMB_GRACE_vers4.nc'\n",
    "    nc = xr.open_dataset(fname)\n",
    "    return pd.Timestamp(nc['time'].values[0]),pd.Timestamp(nc['time'].values[-1])\n",
    "def extract_dates_derived_glaciers(jfile):\n",
    "    with open(jfile) as f:\n",
    "        gen= yaml.safe_load(f)\n",
    "    years = gen['labels']['hydrological_year'].keys()\n",
    "    ymin=int(min(years))\n",
    "    ymax=int(max(years))+1\n",
    "    mmax=9\n",
    "    dmax=30\n",
    "    mmin=4\n",
    "    dmin=1\n",
    "    print('Glaciers ',ymin,ymax)\n",
    "    return pd.Timestamp(f'{ymin}-{mmin}-{dmin}'), pd.Timestamp(f'{ymax}-{mmax}-{dmax}')\n",
    "def extract_dates_lake_levels():\n",
    "    # need better way of estimating this\n",
    "    fname = '/Users/cxjo/Downloads/C3S_LWL_N-AFRICA_VOLTA_altimetry_4.0_19921013_20221222_R20230126.nc'\n",
    "    nc = xr.open_dataset(fname)\n",
    "    return pd.Timestamp(nc['time'].values[0]),pd.Timestamp(nc['time'].values[-1])\n",
    "def datemax2(row):\n",
    "    row = row.dropna()\n",
    "    ymax = int(max(row['year']))\n",
    "    if 'month' in row.keys():\n",
    "        mmax = int(max(row['month']))\n",
    "    else:\n",
    "        mmax=12\n",
    "    xx,dmax=monthrange(ymax,mmax)\n",
    "    datemax = pd.Timestamp(f'{ymax}-{mmax}-{dmax}')\n",
    "    return datemax\n",
    "def datemin2(row):\n",
    "    row = row.dropna()\n",
    "    ymin = int(min(row['year']))\n",
    "    if 'month' in row.keys():\n",
    "        mmin = int(min(row['month']))\n",
    "    else:\n",
    "        mmin=1\n",
    "    xx,dmin=monthrange(ymin,mmin)\n",
    "    datemin = pd.Timestamp(f'{ymin}-{mmin}-{dmin}')\n",
    "    return datemin\n",
    "def extract_dates_wv(jfilepath):\n",
    "    f = open(jfilepath)\n",
    "    # returns JSON object as \n",
    "    # a dictionary\n",
    "    data = json.load(f)\n",
    "    # print(data)\n",
    "    df = pd.DataFrame(data)\n",
    "    df['datemax'] = df.apply(datemax2,axis=1)\n",
    "    df['datemin'] = df.apply(datemin2,axis=1)\n",
    "    datemin = df['datemin'].min()\n",
    "    datemax = df['datemax'].max()\n",
    "    return datemin,datemax \n",
    "def check_time_agg(row):\n",
    "    row = row.dropna()\n",
    "    if 'time_aggregation' in row.keys():\n",
    "        time_aggregation = row['time_aggregation'][0]\n",
    "        # print('time_agg',time_aggregation)\n",
    "        if time_aggregation in ['daily_average','daily_mean','day','day_average']: \n",
    "            time_agg = 'day'\n",
    "            return time_agg\n",
    "        elif time_aggregation == 'daily':\n",
    "            time_agg='daily'\n",
    "            return time_agg\n",
    "        #note interim solution for 5-daily-composite...\n",
    "        elif time_aggregation in [\n",
    "            'monthly_average',\n",
    "            '5_daily_composite',\n",
    "            'monthly_mean',\n",
    "            '27_days',\n",
    "            'month',\n",
    "            'monthly',\n",
    "            'month_average',\n",
    "            '10_day_average', # debatable..\n",
    "            ]:\n",
    "            time_agg = 'monthly'\n",
    "            return time_agg\n",
    "        else:\n",
    "            # print(row)\n",
    "            print('Could not determine time_agg')\n",
    "            raise SystemExit\n",
    "    elif 'period' in row.keys(): # applies to ice_sheets\n",
    "        time_agg = 'period'\n",
    "        return time_agg\n",
    "    elif 'temporal_aggregation' in row.keys():\n",
    "        time_aggregation = row['temporal_aggregation'][0]\n",
    "        if time_aggregation in ['monthly','6-hourly']:\n",
    "            time_agg='monthly'\n",
    "        elif time_aggregation == 'daily':\n",
    "            time_agg='daily'\n",
    "        else:\n",
    "            print('Error in temporal aggregation')\n",
    "            raise SystemExit\n",
    "        return time_agg\n",
    "    else:\n",
    "        if ('day' in row.keys()):\n",
    "            time_agg='day'\n",
    "            return time_agg\n",
    "        elif  'nominal_day' in row.keys():\n",
    "            time_agg='nominal_day'\n",
    "            return time_agg\n",
    "        else:\n",
    "            time_agg = 'monthly'\n",
    "            return time_agg\n",
    "def compute_datemax(row):\n",
    " \n",
    "    time_agg=check_time_agg(row) # check time aggregation of data in this row\n",
    "    # print('time_agg',time_agg)\n",
    "    if time_agg =='period':\n",
    "        per_str=max(row['period'])\n",
    "        ymax=int(per_str[5::])\n",
    "        mmax=9\n",
    "        dmax=30\n",
    "    else: \n",
    "        ymax = int(max(row['year']))\n",
    "        if 'month' in row.keys():\n",
    "            mmax = int(max(row['month']))\n",
    "        else:\n",
    "            mmax=12\n",
    "        xx,ndays = monthrange(ymax,mmax)\n",
    "        if time_agg in ['day','nominal_day']:\n",
    "            # print(row[time_agg])\n",
    "            dmax = int(max(row[time_agg])) \n",
    "        elif time_agg in ['daily']:\n",
    "            dmax = int(max(row['day'])) \n",
    "        else:\n",
    "            dmax = ndays # last day of month\n",
    "        if dmax >ndays:\n",
    "            print('Beware error in allowed dates...')\n",
    "            # print(row)\n",
    "            dmax=ndays\n",
    "\n",
    "    datemax = pd.Timestamp(f'{ymax}-{mmax}-{dmax}')\n",
    "    return datemax\n",
    "def compute_datemin(row):\n",
    "    time_agg=check_time_agg(row) # check time aggregation of data in this row\n",
    "    if time_agg =='period':\n",
    "        per_str=max(row['period'])\n",
    "        ymin=int(per_str[0:4])\n",
    "        mmin=10\n",
    "        dmin=1\n",
    "    else:\n",
    "        ymin = int(min(row['year'])) \n",
    "        if 'month' in row.keys():\n",
    "            mmin = int(min(row['month']))\n",
    "        else:\n",
    "            mmin=1\n",
    "        if time_agg in ['day','nominal_day']:\n",
    "            dmin = int(min(row[time_agg])) \n",
    "        elif time_agg in ['daily']:\n",
    "            dmin = int(min(row['day'])) \n",
    "        else:\n",
    "            dmin = 1 # first day of month\n",
    "        xx,ndays = monthrange(ymin,mmin)     \n",
    "        if dmin>ndays:\n",
    "            print('Beware error in allowed dates...')\n",
    "            # print(row)\n",
    "            dmin=1\n",
    "    datemin = pd.Timestamp(f'{ymin}-{mmin}-{dmin}')\n",
    "    return datemin\n",
    "def calc_dateminmax_from_cds_form(jfilepath,ecv):\n",
    "    # Opening JSON file\n",
    "    f = open(jfilepath)\n",
    "    # returns JSON object as \n",
    "    # a dictionary\n",
    "    data = json.load(f)\n",
    "    # print(data)\n",
    "    df = pd.DataFrame(data)\n",
    "    # display(df)\n",
    "    # print(df.keys())\n",
    "    # print(len(df))\n",
    "    \n",
    "    # find records where dates cannot be defined\n",
    "    if 'sensor_and_algorithm' in df.keys():        \n",
    "        lst_erase=[]\n",
    "        for i in range(len(df)):\n",
    "            if (df['sensor_and_algorithm'][i][0]=='merged_obs4mips'): lst_erase.append(i)\n",
    "        # now .drop these problematic rows\n",
    "        for i in lst_erase:\n",
    "            df=df.drop(lst_erase)\n",
    "    if ecv == 'Earth Radiation Budget':        \n",
    "        lst_erase=[]\n",
    "        for i in range(len(df)):\n",
    "            if (df['variable'][i][0]=='total_solar_irradiance'): lst_erase.append(i) # this info is read from the dataset itself\n",
    "        # now .drop these problematic rows\n",
    "        for i in lst_erase:\n",
    "            df=df.drop(lst_erase)\n",
    "    # for i in range(len(df)):\n",
    "    #     print(df.loc[i])\n",
    "    #     if ('year' not in df[i]): lst_erase.append(i)\n",
    "\n",
    "    df['datemax'] = df.apply(compute_datemax,axis=1)\n",
    "    df['datemin'] = df.apply(compute_datemin,axis=1)\n",
    "    datemin = df['datemin'].min()\n",
    "    datemax = df['datemax'].max()\n",
    "    return datemin,datemax\n",
    "\n",
    "with open('config.yml') as f:\n",
    "    conf= yaml.safe_load(f)\n",
    "\n",
    "cds_form_dir=conf['cds_form_dir']\n",
    "\n",
    "\n",
    "datesbeg = {}\n",
    "datesend = {}\n",
    "ecv_dic = {}\n",
    "for k,ecv in enumerate(conf['ECV']):\n",
    "    print(ecv)\n",
    "    entries = conf['ECV'][ecv]['entry']\n",
    "    print(entries)\n",
    "    datemin_list = []\n",
    "    datemax_list = []\n",
    "    if ecv in ['Earth Radiation Budget']: \n",
    "        datemin,datemax = extract_dates_from_TSI()\n",
    "        datemin_list.append(datemin)\n",
    "        datemax_list.append(datemax)\n",
    "    for entry in entries:\n",
    "        jfilepath=f'{cds_form_dir}{entry}/constraints.json'\n",
    "        print(jfilepath)\n",
    "        if jfilepath == '/Users/cxjo/Documents/cds-forms-c3s/satellite-ice-sheet-elevation-change/constraints.json':\n",
    "            datemin,datemax = extract_dates_icesheets()\n",
    "            datemin_list.append(datemin)\n",
    "            datemax_list.append(datemax)\n",
    "        elif jfilepath == '/Users/cxjo/Documents/cds-forms-c3s/satellite-ice-sheet-mass-balance/constraints.json':\n",
    "            datemin,datemax = extract_dates_massbalance()\n",
    "            datemin_list.append(datemin)\n",
    "            datemax_list.append(datemax)\n",
    "        elif jfilepath == '/Users/cxjo/Documents/cds-forms-c3s/derived-gridded-glacier-mass-change//constraints.json':\n",
    "            jfile = f'{cds_form_dir}{entry}/generate.yaml'\n",
    "            datemin,datemax = extract_dates_derived_glaciers(jfile)\n",
    "            datemin_list.append(datemin)\n",
    "            datemax_list.append(datemax)\n",
    "        elif jfilepath == '/Users/cxjo/Documents/cds-forms-c3s/insitu-glaciers-extent/constraints.json':    \n",
    "            datemin= pd.Timestamp('1990-01-01') # http://www.glims.org/rgi_user_guide/06_dataset_summary.html\n",
    "            datemax= pd.Timestamp('2010-12-31')\n",
    "            datemin_list.append(datemin)\n",
    "            datemax_list.append(datemax)\n",
    "        elif jfilepath =='/Users/cxjo/Documents/cds-forms-c3s/satellite-total-column-water-vapour-ocean/constraints.json':\n",
    "            # temporal aggregation is messed up. does not have the same meaning as other datasets\n",
    "            # monthly should be yearly\n",
    "            # 6-hourly should be monthly\n",
    "            # need to write a special function that accounts for this\n",
    "            datemin,datemax = extract_dates_wv(jfilepath)\n",
    "            datemin_list.append(datemin)\n",
    "            datemax_list.append(datemax)\n",
    "        elif jfilepath == '/Users/cxjo/Documents/cds-forms-c3s/satellite-lake-water-level/constraints.json':\n",
    "            datemin,datemax = extract_dates_lake_levels()\n",
    "            datemin_list.append(datemin)\n",
    "            datemax_list.append(datemax)\n",
    "        elif jfilepath == '/Users/cxjo/Documents/cds-forms-c3s/satellite-land-cover/constraints.json':\n",
    "            datemin_list.append(pd.Timestamp('1992-01-01'))\n",
    "            datemax_list.append(pd.Timestamp('2022-12-31'))\n",
    "        else:\n",
    "            datemin,datemax = calc_dateminmax_from_cds_form(jfilepath,ecv)\n",
    "            # print(ecv,datemin_list,datemax_list)\n",
    "            datemin_list.append(datemin)\n",
    "            datemax_list.append(datemax)\n",
    "            # print(ecv,datemin_list,datemax_list)\n",
    "\n",
    "    # now get the max and min per ECV, accounting for all products\n",
    "    datemin_list = np.array(datemin_list)\n",
    "    datemax_list = np.array(datemax_list)\n",
    "    # datesbeg[ecv] = np.min(datemin_list)\n",
    "    # datesend[ecv] = np.max(datemax_list)\n",
    "    ecv_dic[k] = {\n",
    "        'ECV'     : ecv,\n",
    "        'DateBeg' : np.min(datemin_list),\n",
    "        'DateEnd' : np.max(datemax_list),\n",
    "        'Thematic Hub' : conf['ECV'][ecv]['Thematic_hub']\n",
    "    }\n"
   ]
  },
  {
   "cell_type": "code",
   "execution_count": 323,
   "metadata": {},
   "outputs": [
    {
     "name": "stdout",
     "output_type": "stream",
     "text": [
      "|    | ECV                      | DateBeg    | DateEnd    | Thematic Hub            |\n",
      "|---:|:-------------------------|:-----------|:-----------|:------------------------|\n",
      "|  0 | Aerosols                 | 1995-06-01 | 2022-12-31 | Atmospheric Composition |\n",
      "|  2 | Greenhouse Gases         | 2002-10-01 | 2021-12-31 | Atmospheric Composition |\n",
      "| 14 | Ozone                    | 1970-04-01 | 2023-07-31 | Atmospheric Composition |\n",
      "| 15 | Precipitation            | 1979-01-01 | 2022-06-30 | Atmospheric Physics     |\n",
      "|  8 | Upper-air Water Vapour   | 1988-01-31 | 2023-02-28 | Atmospheric Physics     |\n",
      "| 21 | Surface Radiation Budget | 1982-01-01 | 2021-12-31 | Atmospheric Physics     |\n",
      "|  4 | Earth Radiation Budget   | 1979-01-01 | 2024-02-09 | Atmospheric Physics     |\n",
      "|  3 | Clouds                   | 1982-01-01 | 2021-12-31 | Atmospheric Physics     |\n",
      "|  6 | Ice Sheets               | 1975-04-01 | 2023-07-01 | Cryosphere              |\n",
      "|  7 | Glaciers                 | 1990-01-01 | 2010-12-31 | Cryosphere              |\n",
      "|  9 | LAI                      | 1981-09-20 | 2020-06-30 | Land Biosphere          |\n",
      "| 12 | Land Cover               | 1992-01-01 | 2022-12-31 | Land Biosphere          |\n",
      "|  1 | Albedo                   | 1981-09-20 | 2020-06-30 | Land Biosphere          |\n",
      "|  5 | Fire                     | 2001-01-01 | 2022-04-01 | Land Biosphere          |\n",
      "| 10 | FAPAR                    | 1981-09-20 | 2020-06-30 | Land Biosphere          |\n",
      "| 11 | Lakes                    | 1992-10-13 | 2022-12-22 | Land Hydrology          |\n",
      "| 19 | Soil Moisture            | 1978-11-01 | 2024-01-31 | Land Hydrology          |\n",
      "| 20 | Surface Currents         | 1993-01-01 | 2023-06-07 | Ocean                   |\n",
      "| 13 | Ocean Colour             | 1997-09-04 | 2023-12-31 | Ocean                   |\n",
      "| 16 | Sea Ice                  | 1978-10-25 | 2024-01-27 | Ocean                   |\n",
      "| 17 | Sea Level                | 1993-01-01 | 2023-06-07 | Ocean                   |\n",
      "| 18 | SST                      | 1981-08-24 | 2022-12-31 | Ocean                   |\n"
     ]
    },
    {
     "data": {
      "application/vnd.plotly.v1+json": {
       "config": {
        "plotlyServerURL": "https://plot.ly"
       },
       "data": [
        {
         "alignmentgroup": "True",
         "base": [
          "1995-06-01",
          "2002-10-01",
          "1970-04-01"
         ],
         "hovertemplate": "Thematic Hub=Atmospheric Composition<br>DateBeg=%{base}<br>DateEnd=%{x}<br>ECV=%{y}<extra></extra>",
         "legendgroup": "Atmospheric Composition",
         "marker": {
          "color": "#636efa",
          "pattern": {
           "shape": ""
          }
         },
         "name": "Atmospheric Composition",
         "offsetgroup": "Atmospheric Composition",
         "orientation": "h",
         "showlegend": true,
         "textposition": "auto",
         "type": "bar",
         "x": [
          870480000000,
          607478400000,
          1682985600000
         ],
         "xaxis": "x",
         "y": [
          "Aerosols",
          "Greenhouse Gases",
          "Ozone"
         ],
         "yaxis": "y"
        },
        {
         "alignmentgroup": "True",
         "base": [
          "1979-01-01",
          "1988-01-31",
          "1982-01-01",
          "1979-01-01",
          "1982-01-01"
         ],
         "hovertemplate": "Thematic Hub=Atmospheric Physics<br>DateBeg=%{base}<br>DateEnd=%{x}<br>ECV=%{y}<extra></extra>",
         "legendgroup": "Atmospheric Physics",
         "marker": {
          "color": "#EF553B",
          "pattern": {
           "shape": ""
          }
         },
         "name": "Atmospheric Physics",
         "offsetgroup": "Atmospheric Physics",
         "orientation": "h",
         "showlegend": true,
         "textposition": "auto",
         "type": "bar",
         "x": [
          1372550400000,
          1106956800000,
          1262217600000,
          1423440000000,
          1262217600000
         ],
         "xaxis": "x",
         "y": [
          "Precipitation",
          "Upper-air Water Vapour",
          "Surface Radiation Budget",
          "Earth Radiation Budget",
          "Clouds"
         ],
         "yaxis": "y"
        },
        {
         "alignmentgroup": "True",
         "base": [
          "1975-04-01",
          "1990-01-01"
         ],
         "hovertemplate": "Thematic Hub=Cryosphere<br>DateBeg=%{base}<br>DateEnd=%{x}<br>ECV=%{y}<extra></extra>",
         "legendgroup": "Cryosphere",
         "marker": {
          "color": "#00cc96",
          "pattern": {
           "shape": ""
          }
         },
         "name": "Cryosphere",
         "offsetgroup": "Cryosphere",
         "orientation": "h",
         "showlegend": true,
         "textposition": "auto",
         "type": "bar",
         "x": [
          1522627200000,
          662601600000
         ],
         "xaxis": "x",
         "y": [
          "Ice Sheets",
          "Glaciers"
         ],
         "yaxis": "y"
        },
        {
         "alignmentgroup": "True",
         "base": [
          "1981-09-20",
          "1992-01-01",
          "1981-09-20",
          "2001-01-01",
          "1981-09-20"
         ],
         "hovertemplate": "Thematic Hub=Land Biosphere<br>DateBeg=%{base}<br>DateEnd=%{x}<br>ECV=%{y}<extra></extra>",
         "legendgroup": "Land Biosphere",
         "marker": {
          "color": "#ab63fa",
          "pattern": {
           "shape": ""
          }
         },
         "name": "Land Biosphere",
         "offsetgroup": "Land Biosphere",
         "orientation": "h",
         "showlegend": true,
         "textposition": "auto",
         "type": "bar",
         "x": [
          1223683200000,
          978220800000,
          1223683200000,
          670464000000,
          1223683200000
         ],
         "xaxis": "x",
         "y": [
          "LAI",
          "Land Cover",
          "Albedo",
          "Fire",
          "FAPAR"
         ],
         "yaxis": "y"
        },
        {
         "alignmentgroup": "True",
         "base": [
          "1992-10-13",
          "1978-11-01"
         ],
         "hovertemplate": "Thematic Hub=Land Hydrology<br>DateBeg=%{base}<br>DateEnd=%{x}<br>ECV=%{y}<extra></extra>",
         "legendgroup": "Land Hydrology",
         "marker": {
          "color": "#FFA15A",
          "pattern": {
           "shape": ""
          }
         },
         "name": "Land Hydrology",
         "offsetgroup": "Land Hydrology",
         "orientation": "h",
         "showlegend": true,
         "textposition": "auto",
         "type": "bar",
         "x": [
          952732800000,
          1427932800000
         ],
         "xaxis": "x",
         "y": [
          "Lakes",
          "Soil Moisture"
         ],
         "yaxis": "y"
        },
        {
         "alignmentgroup": "True",
         "base": [
          "1993-01-01",
          "1997-09-04",
          "1978-10-25",
          "1993-01-01",
          "1981-08-24"
         ],
         "hovertemplate": "Thematic Hub=Ocean<br>DateBeg=%{base}<br>DateEnd=%{x}<br>ECV=%{y}<extra></extra>",
         "legendgroup": "Ocean",
         "marker": {
          "color": "#19d3f3",
          "pattern": {
           "shape": ""
          }
         },
         "name": "Ocean",
         "offsetgroup": "Ocean",
         "orientation": "h",
         "showlegend": true,
         "textposition": "auto",
         "type": "bar",
         "x": [
          960249600000,
          830649600000,
          1428192000000,
          960249600000,
          1304985600000
         ],
         "xaxis": "x",
         "y": [
          "Surface Currents",
          "Ocean Colour",
          "Sea Ice",
          "Sea Level",
          "SST"
         ],
         "yaxis": "y"
        }
       ],
       "layout": {
        "autosize": false,
        "barmode": "overlay",
        "height": 800,
        "legend": {
         "title": {
          "text": "Thematic Hub"
         },
         "tracegroupgap": 0
        },
        "margin": {
         "t": 60
        },
        "template": {
         "data": {
          "bar": [
           {
            "error_x": {
             "color": "#2a3f5f"
            },
            "error_y": {
             "color": "#2a3f5f"
            },
            "marker": {
             "line": {
              "color": "#E5ECF6",
              "width": 0.5
             },
             "pattern": {
              "fillmode": "overlay",
              "size": 10,
              "solidity": 0.2
             }
            },
            "type": "bar"
           }
          ],
          "barpolar": [
           {
            "marker": {
             "line": {
              "color": "#E5ECF6",
              "width": 0.5
             },
             "pattern": {
              "fillmode": "overlay",
              "size": 10,
              "solidity": 0.2
             }
            },
            "type": "barpolar"
           }
          ],
          "carpet": [
           {
            "aaxis": {
             "endlinecolor": "#2a3f5f",
             "gridcolor": "white",
             "linecolor": "white",
             "minorgridcolor": "white",
             "startlinecolor": "#2a3f5f"
            },
            "baxis": {
             "endlinecolor": "#2a3f5f",
             "gridcolor": "white",
             "linecolor": "white",
             "minorgridcolor": "white",
             "startlinecolor": "#2a3f5f"
            },
            "type": "carpet"
           }
          ],
          "choropleth": [
           {
            "colorbar": {
             "outlinewidth": 0,
             "ticks": ""
            },
            "type": "choropleth"
           }
          ],
          "contour": [
           {
            "colorbar": {
             "outlinewidth": 0,
             "ticks": ""
            },
            "colorscale": [
             [
              0,
              "#0d0887"
             ],
             [
              0.1111111111111111,
              "#46039f"
             ],
             [
              0.2222222222222222,
              "#7201a8"
             ],
             [
              0.3333333333333333,
              "#9c179e"
             ],
             [
              0.4444444444444444,
              "#bd3786"
             ],
             [
              0.5555555555555556,
              "#d8576b"
             ],
             [
              0.6666666666666666,
              "#ed7953"
             ],
             [
              0.7777777777777778,
              "#fb9f3a"
             ],
             [
              0.8888888888888888,
              "#fdca26"
             ],
             [
              1,
              "#f0f921"
             ]
            ],
            "type": "contour"
           }
          ],
          "contourcarpet": [
           {
            "colorbar": {
             "outlinewidth": 0,
             "ticks": ""
            },
            "type": "contourcarpet"
           }
          ],
          "heatmap": [
           {
            "colorbar": {
             "outlinewidth": 0,
             "ticks": ""
            },
            "colorscale": [
             [
              0,
              "#0d0887"
             ],
             [
              0.1111111111111111,
              "#46039f"
             ],
             [
              0.2222222222222222,
              "#7201a8"
             ],
             [
              0.3333333333333333,
              "#9c179e"
             ],
             [
              0.4444444444444444,
              "#bd3786"
             ],
             [
              0.5555555555555556,
              "#d8576b"
             ],
             [
              0.6666666666666666,
              "#ed7953"
             ],
             [
              0.7777777777777778,
              "#fb9f3a"
             ],
             [
              0.8888888888888888,
              "#fdca26"
             ],
             [
              1,
              "#f0f921"
             ]
            ],
            "type": "heatmap"
           }
          ],
          "heatmapgl": [
           {
            "colorbar": {
             "outlinewidth": 0,
             "ticks": ""
            },
            "colorscale": [
             [
              0,
              "#0d0887"
             ],
             [
              0.1111111111111111,
              "#46039f"
             ],
             [
              0.2222222222222222,
              "#7201a8"
             ],
             [
              0.3333333333333333,
              "#9c179e"
             ],
             [
              0.4444444444444444,
              "#bd3786"
             ],
             [
              0.5555555555555556,
              "#d8576b"
             ],
             [
              0.6666666666666666,
              "#ed7953"
             ],
             [
              0.7777777777777778,
              "#fb9f3a"
             ],
             [
              0.8888888888888888,
              "#fdca26"
             ],
             [
              1,
              "#f0f921"
             ]
            ],
            "type": "heatmapgl"
           }
          ],
          "histogram": [
           {
            "marker": {
             "pattern": {
              "fillmode": "overlay",
              "size": 10,
              "solidity": 0.2
             }
            },
            "type": "histogram"
           }
          ],
          "histogram2d": [
           {
            "colorbar": {
             "outlinewidth": 0,
             "ticks": ""
            },
            "colorscale": [
             [
              0,
              "#0d0887"
             ],
             [
              0.1111111111111111,
              "#46039f"
             ],
             [
              0.2222222222222222,
              "#7201a8"
             ],
             [
              0.3333333333333333,
              "#9c179e"
             ],
             [
              0.4444444444444444,
              "#bd3786"
             ],
             [
              0.5555555555555556,
              "#d8576b"
             ],
             [
              0.6666666666666666,
              "#ed7953"
             ],
             [
              0.7777777777777778,
              "#fb9f3a"
             ],
             [
              0.8888888888888888,
              "#fdca26"
             ],
             [
              1,
              "#f0f921"
             ]
            ],
            "type": "histogram2d"
           }
          ],
          "histogram2dcontour": [
           {
            "colorbar": {
             "outlinewidth": 0,
             "ticks": ""
            },
            "colorscale": [
             [
              0,
              "#0d0887"
             ],
             [
              0.1111111111111111,
              "#46039f"
             ],
             [
              0.2222222222222222,
              "#7201a8"
             ],
             [
              0.3333333333333333,
              "#9c179e"
             ],
             [
              0.4444444444444444,
              "#bd3786"
             ],
             [
              0.5555555555555556,
              "#d8576b"
             ],
             [
              0.6666666666666666,
              "#ed7953"
             ],
             [
              0.7777777777777778,
              "#fb9f3a"
             ],
             [
              0.8888888888888888,
              "#fdca26"
             ],
             [
              1,
              "#f0f921"
             ]
            ],
            "type": "histogram2dcontour"
           }
          ],
          "mesh3d": [
           {
            "colorbar": {
             "outlinewidth": 0,
             "ticks": ""
            },
            "type": "mesh3d"
           }
          ],
          "parcoords": [
           {
            "line": {
             "colorbar": {
              "outlinewidth": 0,
              "ticks": ""
             }
            },
            "type": "parcoords"
           }
          ],
          "pie": [
           {
            "automargin": true,
            "type": "pie"
           }
          ],
          "scatter": [
           {
            "fillpattern": {
             "fillmode": "overlay",
             "size": 10,
             "solidity": 0.2
            },
            "type": "scatter"
           }
          ],
          "scatter3d": [
           {
            "line": {
             "colorbar": {
              "outlinewidth": 0,
              "ticks": ""
             }
            },
            "marker": {
             "colorbar": {
              "outlinewidth": 0,
              "ticks": ""
             }
            },
            "type": "scatter3d"
           }
          ],
          "scattercarpet": [
           {
            "marker": {
             "colorbar": {
              "outlinewidth": 0,
              "ticks": ""
             }
            },
            "type": "scattercarpet"
           }
          ],
          "scattergeo": [
           {
            "marker": {
             "colorbar": {
              "outlinewidth": 0,
              "ticks": ""
             }
            },
            "type": "scattergeo"
           }
          ],
          "scattergl": [
           {
            "marker": {
             "colorbar": {
              "outlinewidth": 0,
              "ticks": ""
             }
            },
            "type": "scattergl"
           }
          ],
          "scattermapbox": [
           {
            "marker": {
             "colorbar": {
              "outlinewidth": 0,
              "ticks": ""
             }
            },
            "type": "scattermapbox"
           }
          ],
          "scatterpolar": [
           {
            "marker": {
             "colorbar": {
              "outlinewidth": 0,
              "ticks": ""
             }
            },
            "type": "scatterpolar"
           }
          ],
          "scatterpolargl": [
           {
            "marker": {
             "colorbar": {
              "outlinewidth": 0,
              "ticks": ""
             }
            },
            "type": "scatterpolargl"
           }
          ],
          "scatterternary": [
           {
            "marker": {
             "colorbar": {
              "outlinewidth": 0,
              "ticks": ""
             }
            },
            "type": "scatterternary"
           }
          ],
          "surface": [
           {
            "colorbar": {
             "outlinewidth": 0,
             "ticks": ""
            },
            "colorscale": [
             [
              0,
              "#0d0887"
             ],
             [
              0.1111111111111111,
              "#46039f"
             ],
             [
              0.2222222222222222,
              "#7201a8"
             ],
             [
              0.3333333333333333,
              "#9c179e"
             ],
             [
              0.4444444444444444,
              "#bd3786"
             ],
             [
              0.5555555555555556,
              "#d8576b"
             ],
             [
              0.6666666666666666,
              "#ed7953"
             ],
             [
              0.7777777777777778,
              "#fb9f3a"
             ],
             [
              0.8888888888888888,
              "#fdca26"
             ],
             [
              1,
              "#f0f921"
             ]
            ],
            "type": "surface"
           }
          ],
          "table": [
           {
            "cells": {
             "fill": {
              "color": "#EBF0F8"
             },
             "line": {
              "color": "white"
             }
            },
            "header": {
             "fill": {
              "color": "#C8D4E3"
             },
             "line": {
              "color": "white"
             }
            },
            "type": "table"
           }
          ]
         },
         "layout": {
          "annotationdefaults": {
           "arrowcolor": "#2a3f5f",
           "arrowhead": 0,
           "arrowwidth": 1
          },
          "autotypenumbers": "strict",
          "coloraxis": {
           "colorbar": {
            "outlinewidth": 0,
            "ticks": ""
           }
          },
          "colorscale": {
           "diverging": [
            [
             0,
             "#8e0152"
            ],
            [
             0.1,
             "#c51b7d"
            ],
            [
             0.2,
             "#de77ae"
            ],
            [
             0.3,
             "#f1b6da"
            ],
            [
             0.4,
             "#fde0ef"
            ],
            [
             0.5,
             "#f7f7f7"
            ],
            [
             0.6,
             "#e6f5d0"
            ],
            [
             0.7,
             "#b8e186"
            ],
            [
             0.8,
             "#7fbc41"
            ],
            [
             0.9,
             "#4d9221"
            ],
            [
             1,
             "#276419"
            ]
           ],
           "sequential": [
            [
             0,
             "#0d0887"
            ],
            [
             0.1111111111111111,
             "#46039f"
            ],
            [
             0.2222222222222222,
             "#7201a8"
            ],
            [
             0.3333333333333333,
             "#9c179e"
            ],
            [
             0.4444444444444444,
             "#bd3786"
            ],
            [
             0.5555555555555556,
             "#d8576b"
            ],
            [
             0.6666666666666666,
             "#ed7953"
            ],
            [
             0.7777777777777778,
             "#fb9f3a"
            ],
            [
             0.8888888888888888,
             "#fdca26"
            ],
            [
             1,
             "#f0f921"
            ]
           ],
           "sequentialminus": [
            [
             0,
             "#0d0887"
            ],
            [
             0.1111111111111111,
             "#46039f"
            ],
            [
             0.2222222222222222,
             "#7201a8"
            ],
            [
             0.3333333333333333,
             "#9c179e"
            ],
            [
             0.4444444444444444,
             "#bd3786"
            ],
            [
             0.5555555555555556,
             "#d8576b"
            ],
            [
             0.6666666666666666,
             "#ed7953"
            ],
            [
             0.7777777777777778,
             "#fb9f3a"
            ],
            [
             0.8888888888888888,
             "#fdca26"
            ],
            [
             1,
             "#f0f921"
            ]
           ]
          },
          "colorway": [
           "#636efa",
           "#EF553B",
           "#00cc96",
           "#ab63fa",
           "#FFA15A",
           "#19d3f3",
           "#FF6692",
           "#B6E880",
           "#FF97FF",
           "#FECB52"
          ],
          "font": {
           "color": "#2a3f5f"
          },
          "geo": {
           "bgcolor": "white",
           "lakecolor": "white",
           "landcolor": "#E5ECF6",
           "showlakes": true,
           "showland": true,
           "subunitcolor": "white"
          },
          "hoverlabel": {
           "align": "left"
          },
          "hovermode": "closest",
          "mapbox": {
           "style": "light"
          },
          "paper_bgcolor": "white",
          "plot_bgcolor": "#E5ECF6",
          "polar": {
           "angularaxis": {
            "gridcolor": "white",
            "linecolor": "white",
            "ticks": ""
           },
           "bgcolor": "#E5ECF6",
           "radialaxis": {
            "gridcolor": "white",
            "linecolor": "white",
            "ticks": ""
           }
          },
          "scene": {
           "xaxis": {
            "backgroundcolor": "#E5ECF6",
            "gridcolor": "white",
            "gridwidth": 2,
            "linecolor": "white",
            "showbackground": true,
            "ticks": "",
            "zerolinecolor": "white"
           },
           "yaxis": {
            "backgroundcolor": "#E5ECF6",
            "gridcolor": "white",
            "gridwidth": 2,
            "linecolor": "white",
            "showbackground": true,
            "ticks": "",
            "zerolinecolor": "white"
           },
           "zaxis": {
            "backgroundcolor": "#E5ECF6",
            "gridcolor": "white",
            "gridwidth": 2,
            "linecolor": "white",
            "showbackground": true,
            "ticks": "",
            "zerolinecolor": "white"
           }
          },
          "shapedefaults": {
           "line": {
            "color": "#2a3f5f"
           }
          },
          "ternary": {
           "aaxis": {
            "gridcolor": "white",
            "linecolor": "white",
            "ticks": ""
           },
           "baxis": {
            "gridcolor": "white",
            "linecolor": "white",
            "ticks": ""
           },
           "bgcolor": "#E5ECF6",
           "caxis": {
            "gridcolor": "white",
            "linecolor": "white",
            "ticks": ""
           }
          },
          "title": {
           "x": 0.05
          },
          "xaxis": {
           "automargin": true,
           "gridcolor": "white",
           "linecolor": "white",
           "ticks": "",
           "title": {
            "standoff": 15
           },
           "zerolinecolor": "white",
           "zerolinewidth": 2
          },
          "yaxis": {
           "automargin": true,
           "gridcolor": "white",
           "linecolor": "white",
           "ticks": "",
           "title": {
            "standoff": 15
           },
           "zerolinecolor": "white",
           "zerolinewidth": 2
          }
         }
        },
        "width": 1200,
        "xaxis": {
         "anchor": "y",
         "domain": [
          0,
          1
         ],
         "minor": {
          "showgrid": true,
          "ticks": "inside"
         },
         "range": [
          "1970-01-01",
          "2024-12-31"
         ],
         "tickangle": -45,
         "tickfont": {
          "size": 10
         },
         "tickmode": "array",
         "ticktext": [
          "1970",
          "1971",
          "1972",
          "1973",
          "1974",
          "1975",
          "1976",
          "1977",
          "1978",
          "1979",
          "1980",
          "1981",
          "1982",
          "1983",
          "1984",
          "1985",
          "1986",
          "1987",
          "1988",
          "1989",
          "1990",
          "1991",
          "1992",
          "1993",
          "1994",
          "1995",
          "1996",
          "1997",
          "1998",
          "1999",
          "2000",
          "2001",
          "2002",
          "2003",
          "2004",
          "2005",
          "2006",
          "2007",
          "2008",
          "2009",
          "2010",
          "2011",
          "2012",
          "2013",
          "2014",
          "2015",
          "2016",
          "2017",
          "2018",
          "2019",
          "2020",
          "2021",
          "2022",
          "2023",
          "2024"
         ],
         "tickvals": [
          1970,
          1971,
          1972,
          1973,
          1974,
          1975,
          1976,
          1977,
          1978,
          1979,
          1980,
          1981,
          1982,
          1983,
          1984,
          1985,
          1986,
          1987,
          1988,
          1989,
          1990,
          1991,
          1992,
          1993,
          1994,
          1995,
          1996,
          1997,
          1998,
          1999,
          2000,
          2001,
          2002,
          2003,
          2004,
          2005,
          2006,
          2007,
          2008,
          2009,
          2010,
          2011,
          2012,
          2013,
          2014,
          2015,
          2016,
          2017,
          2018,
          2019,
          2020,
          2021,
          2022,
          2023,
          2024
         ],
         "type": "date"
        },
        "yaxis": {
         "anchor": "x",
         "autorange": "reversed",
         "domain": [
          0,
          1
         ],
         "title": {
          "text": "ECV"
         }
        }
       }
      }
     },
     "metadata": {},
     "output_type": "display_data"
    }
   ],
   "source": [
    "\n",
    "# ecv_pd = pd.DataFrame([conf['ECV'].keys(),datesbeg,datesend],index=['DateBeg','DateEnd']).T\n",
    "ecv_pd = pd.DataFrame.from_dict(ecv_dic,orient='index').sort_values(['Thematic Hub'])\n",
    "ecv_pd['DateBeg'] = ecv_pd['DateBeg'].dt.ceil(freq='s')  \n",
    "ecv_pd['DateEnd'] = ecv_pd['DateEnd'].dt.ceil(freq='s')  \n",
    "ecv_pd['DateEnd'] = ecv_pd['DateEnd'].apply(lambda dt: dt.strftime(\"%Y-%m-%d\"))\n",
    "ecv_pd['DateBeg'] = ecv_pd['DateBeg'].apply(lambda dt: dt.strftime(\"%Y-%m-%d\"))\n",
    "\n",
    "print(ecv_pd.to_markdown())\n",
    "\n",
    "# fig = px.timeline(ecv_pd, x_start=\"DateBeg\", x_end=\"DateEnd\", y='Product',color='Lot')\n",
    "fig = px.timeline(ecv_pd, x_start=\"DateBeg\", x_end=\"DateEnd\",y='ECV',color='Thematic Hub')\n",
    "# fig = px.timeline(datasets_df, x_start=\"startdate\", x_end=\"enddate\", y='ECV')\n",
    "fig.update_yaxes(autorange=\"reversed\")\n",
    "fig.update_layout(\n",
    "    autosize=False,\n",
    "    width=1200,\n",
    "    height=800,\n",
    ")\n",
    "# fig.update_layout(\n",
    "#     xaxis = dict(\n",
    "#         dtick = 'Y1',\n",
    "#         tickformat=\"%Y\",\n",
    "#     )\n",
    "# )\n",
    "\n",
    "xlab = np.arange(1970,2025).astype('int')\n",
    "xlabtxt = [f'{i}' for i in xlab]\n",
    "\n",
    "\n",
    "fig.update_xaxes(minor=dict(ticks=\"inside\", showgrid=True))\n",
    "fig.update_layout(\n",
    "    xaxis = dict(\n",
    "        tickmode = 'array',\n",
    "        tickvals = xlab,\n",
    "        ticktext = xlabtxt\n",
    "    )\n",
    ")\n",
    "fig.update_xaxes(tickangle=-45)\n",
    "fig.update_layout(\n",
    "    xaxis = dict(\n",
    "        tickfont = dict(\n",
    "            size=10),\n",
    "        )\n",
    "    )\n",
    "fig.update_xaxes(range = ['1970-01-01','2024-12-31'])\n",
    "today = pd.Timestamp.today().strftime('%Y%m%d') \n",
    "fig.write_image(f'temporal_coverage_by_ECV_{today}.pdf')\n",
    "fig.show()"
   ]
  },
  {
   "cell_type": "code",
   "execution_count": 190,
   "metadata": {},
   "outputs": [
    {
     "name": "stdout",
     "output_type": "stream",
     "text": [
      "datemin: 1992-01-01 00:00:00 datemax: 2023-07-01 00:00:00\n"
     ]
    }
   ],
   "source": [
    "\n"
   ]
  }
 ],
 "metadata": {
  "kernelspec": {
   "display_name": "base",
   "language": "python",
   "name": "python3"
  },
  "language_info": {
   "codemirror_mode": {
    "name": "ipython",
    "version": 3
   },
   "file_extension": ".py",
   "mimetype": "text/x-python",
   "name": "python",
   "nbconvert_exporter": "python",
   "pygments_lexer": "ipython3",
   "version": "3.11.4"
  }
 },
 "nbformat": 4,
 "nbformat_minor": 2
}
