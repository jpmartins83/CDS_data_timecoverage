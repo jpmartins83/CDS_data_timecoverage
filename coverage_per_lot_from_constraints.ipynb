{
 "cells": [
  {
   "cell_type": "code",
   "execution_count": 14,
   "metadata": {},
   "outputs": [],
   "source": [
    "import pandas as pd\n",
    "import urllib.request\n",
    "import os\n",
    "from datetime import datetime,date\n",
    "import numpy as np\n",
    "import matplotlib.pyplot as plt\n",
    "import plotly.express as px\n",
    "import json\n",
    "import yaml\n",
    "from calendar import monthrange\n",
    "import xarray as xr\n",
    "import cdsapi\n",
    "import zipfile\n",
    "from glob import glob\n",
    "#important\n",
    "#before running this script, please go to cads-forms-json, git pull, then git checkout prod\n",
    "\n",
    "\n",
    "# wishlist\n",
    "# - put land hydrology just below cryosphere\n",
    "# - update repository cds-forms-c3s and change to c3sprod\n",
    "#   - git checkout c3sprod\n",
    "#   - git pull\n",
    "# - download datasets that only contain info in the time dimension from CDS\n",
    "# - try to make the code more path-independent\n",
    "# - install on athos and run every week. update some figure repo\n",
    "\n",
    "\n",
    "def extract_dates_from_TSI():\n",
    "    url='https://gerb.oma.be/tsi/C3S_RMIB_daily_TSI_composite_ICDR_v3_latest.txt'\n",
    "    c=pd.read_csv(url,skiprows=128,delim_whitespace=True,header=None)\n",
    "    return pd.Timestamp(str(c[3].iloc[0])),pd.Timestamp(str(c[3].iloc[-1]))\n",
    "def extract_dates_icesheets(datasets_dir):\n",
    "    # opens TCDR and ICDR files for both Antarctica and Greenland, then computes max/min dates\n",
    "    # needs adjustment for per product sorting\n",
    "    fnames = glob(datasets_dir+'C3S_*IS_RA*.nc')\n",
    "    print(fnames)\n",
    "    datebegs = []\n",
    "    dateends = []\n",
    "    for fname in fnames:\n",
    "        print('will open '+fname)\n",
    "        nc = xr.open_dataset(fname)\n",
    "        datebegs.append(pd.Timestamp(nc['time'].values[0]))\n",
    "        dateends.append(pd.Timestamp(nc['time'].values[-1]))\n",
    "    return min(datebegs),max(dateends)\n",
    "def extract_dates_massbalance(datasets_dir):\n",
    "    fname = datasets_dir+'C3S_GMB_GRACE_vers4.nc'\n",
    "    nc = xr.open_dataset(fname)\n",
    "    return pd.Timestamp(nc['time'].values[0]),pd.Timestamp(nc['time'].values[-1])\n",
    "def extract_dates_derived_glaciers(jfile):\n",
    "    with open(jfile) as f:\n",
    "        gen= yaml.safe_load(f)[0]\n",
    "    ymin = int(gen['hydrological_year'][0][0:4])\n",
    "    ymax = int(gen['hydrological_year'][-1][0:4])+1\n",
    "    mmax=9\n",
    "    dmax=30\n",
    "    mmin=4\n",
    "    dmin=1\n",
    "    print('Glaciers ',ymin,ymax)\n",
    "    return pd.Timestamp(f'{ymin}-{mmin}-{dmin}'), pd.Timestamp(f'{ymax}-{mmax}-{dmax}')\n",
    "def extract_dates_lake_levels(datasets_dir):\n",
    "    # need better way of estimating this\n",
    "    # for v4, according to overview pages, coverage goes until 2022\n",
    "    # need to implement download of all lakes data and check their time coverage\n",
    "    print('...for lake water levels, only reading info for Lake Volta...')\n",
    "    fname = datasets_dir+'C3S_LWL_N-AFRICA_VOLTA_HYLA0000156_07.45N_000.11E_altimetry_5.0_19921013_20231224_R20240109.nc'\n",
    "    nc = xr.open_dataset(fname)\n",
    "    return pd.Timestamp(nc['time'].values[0]),pd.Timestamp(nc['time'].values[-1])\n",
    "def datemax2(row):\n",
    "    row = row.dropna()\n",
    "    ymax = int(max(row['year']))\n",
    "    if 'month' in row.keys():\n",
    "        mmax = int(max(row['month']))\n",
    "    else:\n",
    "        mmax=12\n",
    "    xx,dmax=monthrange(ymax,mmax)\n",
    "    datemax = pd.Timestamp(f'{ymax}-{mmax}-{dmax}')\n",
    "    return datemax\n",
    "def datemin2(row):\n",
    "    row = row.dropna()\n",
    "    ymin = int(min(row['year']))\n",
    "    if 'month' in row.keys():\n",
    "        mmin = int(min(row['month']))\n",
    "    else:\n",
    "        mmin=1\n",
    "    xx,dmin=monthrange(ymin,mmin)\n",
    "    datemin = pd.Timestamp(f'{ymin}-{mmin}-{dmin}')\n",
    "    return datemin\n",
    "def extract_dates_wv(jfilepath):\n",
    "    f = open(jfilepath)\n",
    "    # returns JSON object as \n",
    "    # a dictionary\n",
    "    data = json.load(f)\n",
    "    # print(data)\n",
    "    df = pd.DataFrame(data)\n",
    "    df['datemax'] = df.apply(datemax2,axis=1)\n",
    "    df['datemin'] = df.apply(datemin2,axis=1)\n",
    "    datemin = df['datemin'].min()\n",
    "    datemax = df['datemax'].max()\n",
    "    return datemin,datemax \n",
    "def check_time_agg(row):\n",
    "    row = row.dropna()\n",
    "    if 'time_aggregation' in row.keys():\n",
    "        time_aggregation = row['time_aggregation'][0]\n",
    "        # print('time_agg',time_aggregation)\n",
    "        if time_aggregation in ['daily_average','daily_mean','day','day_average']: \n",
    "            time_agg = 'day'\n",
    "            return time_agg\n",
    "        elif time_aggregation == 'daily':\n",
    "            time_agg='daily'\n",
    "            return time_agg\n",
    "        #note interim solution for 5-daily-composite...\n",
    "        elif time_aggregation in [\n",
    "            'monthly_average',\n",
    "            '5_daily_composite',\n",
    "            'monthly_mean',\n",
    "            '27_days',\n",
    "            'month',\n",
    "            'monthly',\n",
    "            'month_average',\n",
    "            '10_day_average', # debatable..\n",
    "            ]:\n",
    "            time_agg = 'monthly'\n",
    "            return time_agg\n",
    "        else:\n",
    "            # print(row)\n",
    "            print('Could not determine time_agg')\n",
    "            raise SystemExit\n",
    "    elif 'period' in row.keys(): # applies to ice_sheets\n",
    "        time_agg = 'period'\n",
    "        return time_agg\n",
    "    elif 'temporal_aggregation' in row.keys():\n",
    "        time_aggregation = row['temporal_aggregation'][0]\n",
    "        if time_aggregation in ['monthly','6-hourly']:\n",
    "            time_agg='monthly'\n",
    "        elif time_aggregation == 'daily':\n",
    "            time_agg='daily'\n",
    "        else:\n",
    "            print('Error in temporal aggregation')\n",
    "            raise SystemExit\n",
    "        return time_agg\n",
    "    else:\n",
    "        if ('day' in row.keys()):\n",
    "            time_agg='day'\n",
    "            return time_agg\n",
    "        elif  'nominal_day' in row.keys():\n",
    "            time_agg='nominal_day'\n",
    "            return time_agg\n",
    "        else:\n",
    "            time_agg = 'monthly'\n",
    "            return time_agg\n",
    "def compute_datemax(row):\n",
    " \n",
    "    time_agg=check_time_agg(row) # check time aggregation of data in this row\n",
    "    # print('time_agg',time_agg)\n",
    "    if time_agg =='period':\n",
    "        per_str=max(row['period'])\n",
    "        ymax=int(per_str[5::])\n",
    "        mmax=9\n",
    "        dmax=30\n",
    "    else: \n",
    "        ymax = int(max(row['year']))\n",
    "        if 'month' in row.keys():\n",
    "            mmax = int(max(row['month']))\n",
    "        else:\n",
    "            mmax=12\n",
    "        xx,ndays = monthrange(ymax,mmax)\n",
    "        if time_agg in ['day','nominal_day']:\n",
    "            # print(row[time_agg])\n",
    "            dmax = int(max(row[time_agg])) \n",
    "        elif time_agg in ['daily']:\n",
    "            dmax = int(max(row['day'])) \n",
    "        else:\n",
    "            dmax = ndays # last day of month\n",
    "        if dmax >ndays:\n",
    "            print('Beware error in allowed dates...')\n",
    "            # print(row)\n",
    "            dmax=ndays\n",
    "\n",
    "    datemax = pd.Timestamp(f'{ymax}-{mmax}-{dmax}')\n",
    "    return datemax\n",
    "def compute_datemin(row):\n",
    "    time_agg=check_time_agg(row) # check time aggregation of data in this row\n",
    "    if time_agg =='period':\n",
    "        per_str=max(row['period'])\n",
    "        ymin=int(per_str[0:4])\n",
    "        mmin=10\n",
    "        dmin=1\n",
    "    else:\n",
    "        ymin = int(min(row['year'])) \n",
    "        if 'month' in row.keys():\n",
    "            mmin = int(min(row['month']))\n",
    "        else:\n",
    "            mmin=1\n",
    "        if time_agg in ['day','nominal_day']:\n",
    "            dmin = int(min(row[time_agg])) \n",
    "        elif time_agg in ['daily']:\n",
    "            dmin = int(min(row['day'])) \n",
    "        else:\n",
    "            dmin = 1 # first day of month\n",
    "        xx,ndays = monthrange(ymin,mmin)     \n",
    "        if dmin>ndays:\n",
    "            print('Beware error in allowed dates...')\n",
    "            # print(row)\n",
    "            dmin=1\n",
    "    datemin = pd.Timestamp(f'{ymin}-{mmin}-{dmin}')\n",
    "    return datemin\n",
    "def calc_dateminmax_from_cds_form(jfilepath,ecv):\n",
    "    # Opening JSON file\n",
    "    f = open(jfilepath)\n",
    "    # returns JSON object as \n",
    "    # a dictionary\n",
    "    data = json.load(f)\n",
    "    # print(data)\n",
    "    df = pd.DataFrame(data)\n",
    "    # display(df)\n",
    "    # print(df.keys())\n",
    "    # print(len(df))\n",
    "    \n",
    "    # find records where dates cannot be defined\n",
    "    if 'sensor_and_algorithm' in df.keys():        \n",
    "        lst_erase=[]\n",
    "        for i in range(len(df)):\n",
    "            if (df['sensor_and_algorithm'][i][0]=='merged_obs4mips'): lst_erase.append(i)\n",
    "        # now .drop these problematic rows\n",
    "        for i in lst_erase:\n",
    "            df=df.drop(lst_erase)\n",
    "    if ecv == 'Earth Radiation Budget':        \n",
    "        lst_erase=[]\n",
    "        for i in range(len(df)):\n",
    "            if (df['variable'][i][0]=='total_solar_irradiance'): lst_erase.append(i) # this info is read from the dataset itself\n",
    "        # now .drop these problematic rows\n",
    "        for i in lst_erase:\n",
    "            df=df.drop(lst_erase)\n",
    "    # for i in range(len(df)):\n",
    "    #     print(df.loc[i])\n",
    "    #     if ('year' not in df[i]): lst_erase.append(i)\n",
    "\n",
    "    df['datemax'] = df.apply(compute_datemax,axis=1)\n",
    "    df['datemin'] = df.apply(compute_datemin,axis=1)\n",
    "    datemin = df['datemin'].min()\n",
    "    datemax = df['datemax'].max()\n",
    "    return datemin,datemax\n",
    "def datasets_download(datasets_dir):\n",
    "    c = cdsapi.Client()\n",
    "    c.retrieve(\n",
    "        'satellite-ice-sheet-mass-balance',\n",
    "        {\n",
    "            'variable': 'all',\n",
    "            'format': 'zip',\n",
    "        },\n",
    "        datasets_dir+'download.zip')\n",
    "    os.system(f'cd {datasets_dir} ; unzip download.zip; rm -rf download.zip ; cd ..')\n",
    "    \n",
    "    # Antarctica Ice sheet surface elevation change TCDR\n",
    "    c.retrieve(\n",
    "    'satellite-ice-sheet-elevation-change',\n",
    "    {\n",
    "        'domain': 'antarctica',\n",
    "        'climate_data_record_type': 'tcdr',\n",
    "        'version': '5_0',\n",
    "        'variable': 'all',\n",
    "        'format': 'zip',\n",
    "    },\n",
    "    datasets_dir+'download.zip')\n",
    "    os.system(f'cd {datasets_dir} ; unzip download.zip; rm -rf download.zip ; cd ..')\n",
    "    \n",
    "    # Antarctica Ice sheet surface elevation change ICDR\n",
    "    c.retrieve(\n",
    "        'satellite-ice-sheet-elevation-change',\n",
    "    {\n",
    "        'domain': 'antarctica',\n",
    "        'climate_data_record_type': 'icdr',\n",
    "        'version': '3_0',\n",
    "        'variable': 'all',\n",
    "        'format': 'zip',\n",
    "    },\n",
    "    datasets_dir+'download.zip')\n",
    "    os.system(f'cd {datasets_dir} ; unzip download.zip; rm -rf download.zip ; cd ..')\n",
    "    \n",
    "    \n",
    "    # Greenland Ice sheet surface elevation change TCDR\n",
    "    c.retrieve(\n",
    "        'satellite-ice-sheet-elevation-change',\n",
    "    {\n",
    "        'domain': 'greenland',\n",
    "        'climate_data_record_type': 'tcdr',\n",
    "        'version': '4_0',\n",
    "        'variable': 'all',\n",
    "        'format': 'zip',\n",
    "    },\n",
    "    datasets_dir+'download.zip')\n",
    "    os.system(f'cd {datasets_dir} ; unzip download.zip; rm -rf download.zip ; cd ..')\n",
    "    \n",
    "    # Greenland Ice sheet surface elevation change ICDR\n",
    "    c.retrieve(\n",
    "        'satellite-ice-sheet-elevation-change',\n",
    "    {\n",
    "        'domain': 'greenland',\n",
    "        'climate_data_record_type': 'icdr',\n",
    "        'version': '4_0',\n",
    "        'variable': 'all',\n",
    "        'format': 'zip',\n",
    "    },\n",
    "    datasets_dir+'download.zip')\n",
    "    os.system(f'cd {datasets_dir} ; unzip download.zip; rm -rf download.zip ; cd ..')\n",
    "    \n",
    "    # Lake water levels\n",
    "    \n",
    "    c.retrieve(\n",
    "        'satellite-lake-water-level',\n",
    "    {\n",
    "        'variable': 'all',\n",
    "        'version': 'version_4_0',\n",
    "        'format': 'zip',\n",
    "        'region': 'northern_africa',\n",
    "        'lake': 'volta',\n",
    "    },\n",
    "    datasets_dir+'download.zip')\n",
    "    os.system(f'cd {datasets_dir} ; unzip download.zip; rm -rf download.zip ; cd ..')\n",
    "      \n",
    "    \n",
    "    \n",
    "    return\n",
    "with open('config-athos.yml') as f:\n",
    "    conf= yaml.safe_load(f)\n",
    "\n",
    "cds_form_dir=conf['cds_form_dir']\n",
    "datasets_dir = conf['datasets_dir']\n",
    "\n",
    "# datasets_download(datasets_dir) # uncomment to update datasets downloaded from CDS\n",
    "\n"
   ]
  },
  {
   "cell_type": "markdown",
   "metadata": {},
   "source": [
    "### BUILD PANDAS DATAFRAME FOR TIME COVERAGE BY ECV "
   ]
  },
  {
   "cell_type": "code",
   "execution_count": 15,
   "metadata": {},
   "outputs": [
    {
     "name": "stdout",
     "output_type": "stream",
     "text": [
      "Aerosols\n",
      "['satellite-aerosol-properties']\n",
      "/home/cxjo/C3S_stuff/cads-forms-json/satellite-aerosol-properties/constraints.json\n",
      "Albedo\n",
      "['satellite-albedo']\n",
      "/home/cxjo/C3S_stuff/cads-forms-json/satellite-albedo/constraints.json\n",
      "Greenhouse Gases\n",
      "['satellite-carbon-dioxide', 'satellite-methane']\n",
      "/home/cxjo/C3S_stuff/cads-forms-json/satellite-carbon-dioxide/constraints.json\n",
      "/home/cxjo/C3S_stuff/cads-forms-json/satellite-methane/constraints.json\n",
      "Clouds\n",
      "['satellite-cloud-properties']\n",
      "/home/cxjo/C3S_stuff/cads-forms-json/satellite-cloud-properties/constraints.json\n",
      "Earth Radiation Budget\n",
      "['satellite-earth-radiation-budget']\n"
     ]
    },
    {
     "name": "stderr",
     "output_type": "stream",
     "text": [
      "/etc/ecmwf/ssd/ssd1/tmpdirs/cxjo.3863126.20241218_113208.111/ipykernel_327573/2395731837.py:31: FutureWarning:\n",
      "\n",
      "The 'delim_whitespace' keyword in pd.read_csv is deprecated and will be removed in a future version. Use ``sep='\\s+'`` instead\n",
      "\n"
     ]
    },
    {
     "name": "stdout",
     "output_type": "stream",
     "text": [
      "/home/cxjo/C3S_stuff/cads-forms-json/satellite-earth-radiation-budget/constraints.json\n",
      "Fire\n",
      "['satellite-fire-burned-area', 'satellite-fire-radiative-power']\n",
      "/home/cxjo/C3S_stuff/cads-forms-json/satellite-fire-burned-area/constraints.json\n",
      "/home/cxjo/C3S_stuff/cads-forms-json/satellite-fire-radiative-power/constraints.json\n",
      "Ice Sheets\n",
      "['satellite-greenland-ice-sheet-velocity', 'satellite-ice-sheet-elevation-change', 'satellite-ice-sheet-mass-balance']\n",
      "/home/cxjo/C3S_stuff/cads-forms-json/satellite-greenland-ice-sheet-velocity/constraints.json\n",
      "/home/cxjo/C3S_stuff/cads-forms-json/satellite-ice-sheet-elevation-change/constraints.json\n",
      "['/home/cxjo/C3S_stuff/datasets/C3S_GrIS_RA_SEC_25km_vers4_2022-10-20.nc', '/home/cxjo/C3S_stuff/datasets/C3S_GrIS_RA_SEC_25km_vers5_2023-12-15.nc', '/home/cxjo/C3S_stuff/datasets/C3S_GrIS_RA_SEC_25km_vers5_2024-07-07.nc', '/home/cxjo/C3S_stuff/datasets/C3S_AntIS_RA_SEC_25km_vers4_2022-12-16.nc', '/home/cxjo/C3S_stuff/datasets/C3S_AntIS_RA_SEC_vers3_2023-01-16.nc']\n",
      "will open /home/cxjo/C3S_stuff/datasets/C3S_GrIS_RA_SEC_25km_vers4_2022-10-20.nc\n",
      "will open /home/cxjo/C3S_stuff/datasets/C3S_GrIS_RA_SEC_25km_vers5_2023-12-15.nc\n",
      "will open /home/cxjo/C3S_stuff/datasets/C3S_GrIS_RA_SEC_25km_vers5_2024-07-07.nc\n",
      "will open /home/cxjo/C3S_stuff/datasets/C3S_AntIS_RA_SEC_25km_vers4_2022-12-16.nc\n",
      "will open /home/cxjo/C3S_stuff/datasets/C3S_AntIS_RA_SEC_vers3_2023-01-16.nc\n",
      "/home/cxjo/C3S_stuff/cads-forms-json/satellite-ice-sheet-mass-balance/constraints.json\n",
      "Glaciers\n",
      "['insitu-glaciers-extent', 'derived-gridded-glacier-mass-change']\n",
      "/home/cxjo/C3S_stuff/cads-forms-json/insitu-glaciers-extent/constraints.json\n",
      "/home/cxjo/C3S_stuff/cads-forms-json/derived-gridded-glacier-mass-change/constraints.json\n",
      "Glaciers  1975 2021\n",
      "Upper-air Water Vapour\n",
      "['satellite-humidity-profiles', 'satellite-total-column-water-vapour-land-ocean', 'satellite-total-column-water-vapour-ocean', 'satellite-upper-troposphere-humidity']\n",
      "/home/cxjo/C3S_stuff/cads-forms-json/satellite-humidity-profiles/constraints.json\n",
      "/home/cxjo/C3S_stuff/cads-forms-json/satellite-total-column-water-vapour-land-ocean/constraints.json\n",
      "/home/cxjo/C3S_stuff/cads-forms-json/satellite-total-column-water-vapour-ocean/constraints.json\n",
      "/home/cxjo/C3S_stuff/cads-forms-json/satellite-upper-troposphere-humidity/constraints.json\n",
      "LAI\n",
      "['satellite-lai-fapar']\n",
      "/home/cxjo/C3S_stuff/cads-forms-json/satellite-lai-fapar/constraints.json\n",
      "FAPAR\n",
      "['satellite-lai-fapar']\n",
      "/home/cxjo/C3S_stuff/cads-forms-json/satellite-lai-fapar/constraints.json\n",
      "Lakes\n",
      "['satellite-lake-water-level', 'satellite-lake-water-temperature']\n",
      "/home/cxjo/C3S_stuff/cads-forms-json/satellite-lake-water-level/constraints.json\n",
      "...for lake water levels, only reading info for Lake Volta...\n",
      "/home/cxjo/C3S_stuff/cads-forms-json/satellite-lake-water-temperature/constraints.json\n",
      "Land Cover\n",
      "['satellite-land-cover']\n",
      "/home/cxjo/C3S_stuff/cads-forms-json/satellite-land-cover/constraints.json\n",
      "Ocean Colour\n",
      "['satellite-ocean-colour']\n",
      "/home/cxjo/C3S_stuff/cads-forms-json/satellite-ocean-colour/constraints.json\n",
      "Ozone\n",
      "['satellite-ozone-v1']\n",
      "/home/cxjo/C3S_stuff/cads-forms-json/satellite-ozone-v1/constraints.json\n",
      "Precipitation\n",
      "['satellite-precipitation', 'satellite-precipitation-microwave', 'satellite-precipitation-microwave-infrared']\n",
      "/home/cxjo/C3S_stuff/cads-forms-json/satellite-precipitation/constraints.json\n",
      "/home/cxjo/C3S_stuff/cads-forms-json/satellite-precipitation-microwave/constraints.json\n",
      "/home/cxjo/C3S_stuff/cads-forms-json/satellite-precipitation-microwave-infrared/constraints.json\n",
      "Sea Ice\n",
      "['satellite-sea-ice', 'satellite-sea-ice-concentration', 'satellite-sea-ice-edge-type', 'satellite-sea-ice-thickness']\n",
      "/home/cxjo/C3S_stuff/cads-forms-json/satellite-sea-ice/constraints.json\n",
      "/home/cxjo/C3S_stuff/cads-forms-json/satellite-sea-ice-concentration/constraints.json\n",
      "/home/cxjo/C3S_stuff/cads-forms-json/satellite-sea-ice-edge-type/constraints.json\n",
      "/home/cxjo/C3S_stuff/cads-forms-json/satellite-sea-ice-thickness/constraints.json\n",
      "Sea Level\n",
      "['satellite-sea-level-black-sea', 'satellite-sea-level-global', 'satellite-sea-level-mediterranean']\n",
      "/home/cxjo/C3S_stuff/cads-forms-json/satellite-sea-level-black-sea/constraints.json\n",
      "/home/cxjo/C3S_stuff/cads-forms-json/satellite-sea-level-global/constraints.json\n",
      "/home/cxjo/C3S_stuff/cads-forms-json/satellite-sea-level-mediterranean/constraints.json\n",
      "SST\n",
      "['satellite-sea-surface-temperature', 'satellite-sea-surface-temperature-ensemble-product']\n",
      "/home/cxjo/C3S_stuff/cads-forms-json/satellite-sea-surface-temperature/constraints.json\n",
      "/home/cxjo/C3S_stuff/cads-forms-json/satellite-sea-surface-temperature-ensemble-product/constraints.json\n",
      "Soil Moisture\n",
      "['satellite-soil-moisture']\n",
      "/home/cxjo/C3S_stuff/cads-forms-json/satellite-soil-moisture/constraints.json\n",
      "Surface Currents\n",
      "['satellite-sea-level-global']\n",
      "/home/cxjo/C3S_stuff/cads-forms-json/satellite-sea-level-global/constraints.json\n",
      "Surface Radiation Budget\n",
      "['satellite-surface-radiation-budget']\n",
      "/home/cxjo/C3S_stuff/cads-forms-json/satellite-surface-radiation-budget/constraints.json\n",
      "|    | ECV                      | DateBeg    | DateEnd    | Thematic Hub            |\n",
      "|---:|:-------------------------|:-----------|:-----------|:------------------------|\n",
      "|  0 | Aerosols                 | 1995-06-01 | 2023-10-31 | Atmospheric Composition |\n",
      "|  2 | Greenhouse Gases         | 2002-10-01 | 2022-12-31 | Atmospheric Composition |\n",
      "| 14 | Ozone                    | 1970-04-01 | 2023-07-31 | Atmospheric Composition |\n",
      "| 15 | Precipitation            | 1979-01-01 | 2024-03-31 | Atmospheric Physics     |\n",
      "|  8 | Upper-air Water Vapour   | 1988-01-31 | 2024-02-29 | Atmospheric Physics     |\n",
      "| 21 | Surface Radiation Budget | 1979-01-01 | 2023-10-31 | Atmospheric Physics     |\n",
      "|  4 | Earth Radiation Budget   | 1979-01-01 | 2024-12-13 | Atmospheric Physics     |\n",
      "|  3 | Clouds                   | 1979-01-01 | 2023-10-31 | Atmospheric Physics     |\n",
      "|  6 | Ice Sheets               | 1992-01-01 | 2024-01-01 | Cryosphere              |\n",
      "|  7 | Glaciers                 | 1975-04-01 | 2021-09-30 | Cryosphere              |\n",
      "|  9 | LAI                      | 1981-09-20 | 2020-06-30 | Land Biosphere          |\n",
      "| 12 | Land Cover               | 1992-01-01 | 2022-12-31 | Land Biosphere          |\n",
      "|  1 | Albedo                   | 1981-09-20 | 2020-06-30 | Land Biosphere          |\n",
      "|  5 | Fire                     | 2001-01-01 | 2024-02-29 | Land Biosphere          |\n",
      "| 10 | FAPAR                    | 1981-09-20 | 2020-06-30 | Land Biosphere          |\n",
      "| 11 | Lakes                    | 1992-10-13 | 2023-12-31 | Land Hydrology          |\n",
      "| 19 | Soil Moisture            | 1978-11-01 | 2024-11-30 | Land Hydrology          |\n",
      "| 20 | Surface Currents         | 1993-01-01 | 2023-12-31 | Ocean                   |\n",
      "| 13 | Ocean Colour             | 1997-09-04 | 2024-09-30 | Ocean                   |\n",
      "| 16 | Sea Ice                  | 1978-10-25 | 2024-12-02 | Ocean                   |\n",
      "| 17 | Sea Level                | 1993-01-01 | 2023-12-31 | Ocean                   |\n",
      "| 18 | SST                      | 1981-08-24 | 2022-12-31 | Ocean                   |\n",
      "20241218\n"
     ]
    },
    {
     "data": {
      "application/vnd.plotly.v1+json": {
       "config": {
        "plotlyServerURL": "https://plot.ly"
       },
       "data": [
        {
         "alignmentgroup": "True",
         "base": [
          "1995-06-01",
          "2002-10-01",
          "1970-04-01"
         ],
         "hovertemplate": "Thematic Hub=Atmospheric Composition<br>DateBeg=%{base}<br>DateEnd=%{x}<br>ECV=%{y}<extra></extra>",
         "legendgroup": "Atmospheric Composition",
         "marker": {
          "color": "#636efa",
          "pattern": {
           "shape": ""
          }
         },
         "name": "Atmospheric Composition",
         "offsetgroup": "Atmospheric Composition",
         "orientation": "h",
         "showlegend": true,
         "textposition": "auto",
         "type": "bar",
         "x": [
          896745600000,
          639014400000,
          1682985600000
         ],
         "xaxis": "x",
         "y": [
          "Aerosols",
          "Greenhouse Gases",
          "Ozone"
         ],
         "yaxis": "y"
        },
        {
         "alignmentgroup": "True",
         "base": [
          "1979-01-01",
          "1988-01-31",
          "1979-01-01",
          "1979-01-01",
          "1979-01-01"
         ],
         "hovertemplate": "Thematic Hub=Atmospheric Physics<br>DateBeg=%{base}<br>DateEnd=%{x}<br>ECV=%{y}<extra></extra>",
         "legendgroup": "Atmospheric Physics",
         "marker": {
          "color": "#EF553B",
          "pattern": {
           "shape": ""
          }
         },
         "name": "Atmospheric Physics",
         "offsetgroup": "Atmospheric Physics",
         "orientation": "h",
         "showlegend": true,
         "textposition": "auto",
         "type": "bar",
         "x": [
          1427846400000,
          1138579200000,
          1414713600000,
          1450051200000,
          1414713600000
         ],
         "xaxis": "x",
         "y": [
          "Precipitation",
          "Upper-air Water Vapour",
          "Surface Radiation Budget",
          "Earth Radiation Budget",
          "Clouds"
         ],
         "yaxis": "y"
        },
        {
         "alignmentgroup": "True",
         "base": [
          "1992-01-01",
          "1975-04-01"
         ],
         "hovertemplate": "Thematic Hub=Cryosphere<br>DateBeg=%{base}<br>DateEnd=%{x}<br>ECV=%{y}<extra></extra>",
         "legendgroup": "Cryosphere",
         "marker": {
          "color": "#00cc96",
          "pattern": {
           "shape": ""
          }
         },
         "name": "Cryosphere",
         "offsetgroup": "Cryosphere",
         "orientation": "h",
         "showlegend": true,
         "textposition": "auto",
         "type": "bar",
         "x": [
          1009843200000,
          1467417600000
         ],
         "xaxis": "x",
         "y": [
          "Ice Sheets",
          "Glaciers"
         ],
         "yaxis": "y"
        },
        {
         "alignmentgroup": "True",
         "base": [
          "1981-09-20",
          "1992-01-01",
          "1981-09-20",
          "2001-01-01",
          "1981-09-20"
         ],
         "hovertemplate": "Thematic Hub=Land Biosphere<br>DateBeg=%{base}<br>DateEnd=%{x}<br>ECV=%{y}<extra></extra>",
         "legendgroup": "Land Biosphere",
         "marker": {
          "color": "#ab63fa",
          "pattern": {
           "shape": ""
          }
         },
         "name": "Land Biosphere",
         "offsetgroup": "Land Biosphere",
         "orientation": "h",
         "showlegend": true,
         "textposition": "auto",
         "type": "bar",
         "x": [
          1223683200000,
          978220800000,
          1223683200000,
          730857600000,
          1223683200000
         ],
         "xaxis": "x",
         "y": [
          "LAI",
          "Land Cover",
          "Albedo",
          "Fire",
          "FAPAR"
         ],
         "yaxis": "y"
        },
        {
         "alignmentgroup": "True",
         "base": [
          "1992-10-13",
          "1978-11-01"
         ],
         "hovertemplate": "Thematic Hub=Land Hydrology<br>DateBeg=%{base}<br>DateEnd=%{x}<br>ECV=%{y}<extra></extra>",
         "legendgroup": "Land Hydrology",
         "marker": {
          "color": "#FFA15A",
          "pattern": {
           "shape": ""
          }
         },
         "name": "Land Hydrology",
         "offsetgroup": "Land Hydrology",
         "orientation": "h",
         "showlegend": true,
         "textposition": "auto",
         "type": "bar",
         "x": [
          985046400000,
          1454198400000
         ],
         "xaxis": "x",
         "y": [
          "Lakes",
          "Soil Moisture"
         ],
         "yaxis": "y"
        },
        {
         "alignmentgroup": "True",
         "base": [
          "1993-01-01",
          "1997-09-04",
          "1978-10-25",
          "1993-01-01",
          "1981-08-24"
         ],
         "hovertemplate": "Thematic Hub=Ocean<br>DateBeg=%{base}<br>DateEnd=%{x}<br>ECV=%{y}<extra></extra>",
         "legendgroup": "Ocean",
         "marker": {
          "color": "#19d3f3",
          "pattern": {
           "shape": ""
          }
         },
         "name": "Ocean",
         "offsetgroup": "Ocean",
         "orientation": "h",
         "showlegend": true,
         "textposition": "auto",
         "type": "bar",
         "x": [
          978134400000,
          854323200000,
          1454976000000,
          978134400000,
          1304985600000
         ],
         "xaxis": "x",
         "y": [
          "Surface Currents",
          "Ocean Colour",
          "Sea Ice",
          "Sea Level",
          "SST"
         ],
         "yaxis": "y"
        }
       ],
       "layout": {
        "autosize": false,
        "barmode": "overlay",
        "height": 800,
        "legend": {
         "title": {
          "text": "Thematic Hub"
         },
         "tracegroupgap": 0
        },
        "margin": {
         "t": 60
        },
        "template": {
         "data": {
          "bar": [
           {
            "error_x": {
             "color": "#2a3f5f"
            },
            "error_y": {
             "color": "#2a3f5f"
            },
            "marker": {
             "line": {
              "color": "#E5ECF6",
              "width": 0.5
             },
             "pattern": {
              "fillmode": "overlay",
              "size": 10,
              "solidity": 0.2
             }
            },
            "type": "bar"
           }
          ],
          "barpolar": [
           {
            "marker": {
             "line": {
              "color": "#E5ECF6",
              "width": 0.5
             },
             "pattern": {
              "fillmode": "overlay",
              "size": 10,
              "solidity": 0.2
             }
            },
            "type": "barpolar"
           }
          ],
          "carpet": [
           {
            "aaxis": {
             "endlinecolor": "#2a3f5f",
             "gridcolor": "white",
             "linecolor": "white",
             "minorgridcolor": "white",
             "startlinecolor": "#2a3f5f"
            },
            "baxis": {
             "endlinecolor": "#2a3f5f",
             "gridcolor": "white",
             "linecolor": "white",
             "minorgridcolor": "white",
             "startlinecolor": "#2a3f5f"
            },
            "type": "carpet"
           }
          ],
          "choropleth": [
           {
            "colorbar": {
             "outlinewidth": 0,
             "ticks": ""
            },
            "type": "choropleth"
           }
          ],
          "contour": [
           {
            "colorbar": {
             "outlinewidth": 0,
             "ticks": ""
            },
            "colorscale": [
             [
              0,
              "#0d0887"
             ],
             [
              0.1111111111111111,
              "#46039f"
             ],
             [
              0.2222222222222222,
              "#7201a8"
             ],
             [
              0.3333333333333333,
              "#9c179e"
             ],
             [
              0.4444444444444444,
              "#bd3786"
             ],
             [
              0.5555555555555556,
              "#d8576b"
             ],
             [
              0.6666666666666666,
              "#ed7953"
             ],
             [
              0.7777777777777778,
              "#fb9f3a"
             ],
             [
              0.8888888888888888,
              "#fdca26"
             ],
             [
              1,
              "#f0f921"
             ]
            ],
            "type": "contour"
           }
          ],
          "contourcarpet": [
           {
            "colorbar": {
             "outlinewidth": 0,
             "ticks": ""
            },
            "type": "contourcarpet"
           }
          ],
          "heatmap": [
           {
            "colorbar": {
             "outlinewidth": 0,
             "ticks": ""
            },
            "colorscale": [
             [
              0,
              "#0d0887"
             ],
             [
              0.1111111111111111,
              "#46039f"
             ],
             [
              0.2222222222222222,
              "#7201a8"
             ],
             [
              0.3333333333333333,
              "#9c179e"
             ],
             [
              0.4444444444444444,
              "#bd3786"
             ],
             [
              0.5555555555555556,
              "#d8576b"
             ],
             [
              0.6666666666666666,
              "#ed7953"
             ],
             [
              0.7777777777777778,
              "#fb9f3a"
             ],
             [
              0.8888888888888888,
              "#fdca26"
             ],
             [
              1,
              "#f0f921"
             ]
            ],
            "type": "heatmap"
           }
          ],
          "heatmapgl": [
           {
            "colorbar": {
             "outlinewidth": 0,
             "ticks": ""
            },
            "colorscale": [
             [
              0,
              "#0d0887"
             ],
             [
              0.1111111111111111,
              "#46039f"
             ],
             [
              0.2222222222222222,
              "#7201a8"
             ],
             [
              0.3333333333333333,
              "#9c179e"
             ],
             [
              0.4444444444444444,
              "#bd3786"
             ],
             [
              0.5555555555555556,
              "#d8576b"
             ],
             [
              0.6666666666666666,
              "#ed7953"
             ],
             [
              0.7777777777777778,
              "#fb9f3a"
             ],
             [
              0.8888888888888888,
              "#fdca26"
             ],
             [
              1,
              "#f0f921"
             ]
            ],
            "type": "heatmapgl"
           }
          ],
          "histogram": [
           {
            "marker": {
             "pattern": {
              "fillmode": "overlay",
              "size": 10,
              "solidity": 0.2
             }
            },
            "type": "histogram"
           }
          ],
          "histogram2d": [
           {
            "colorbar": {
             "outlinewidth": 0,
             "ticks": ""
            },
            "colorscale": [
             [
              0,
              "#0d0887"
             ],
             [
              0.1111111111111111,
              "#46039f"
             ],
             [
              0.2222222222222222,
              "#7201a8"
             ],
             [
              0.3333333333333333,
              "#9c179e"
             ],
             [
              0.4444444444444444,
              "#bd3786"
             ],
             [
              0.5555555555555556,
              "#d8576b"
             ],
             [
              0.6666666666666666,
              "#ed7953"
             ],
             [
              0.7777777777777778,
              "#fb9f3a"
             ],
             [
              0.8888888888888888,
              "#fdca26"
             ],
             [
              1,
              "#f0f921"
             ]
            ],
            "type": "histogram2d"
           }
          ],
          "histogram2dcontour": [
           {
            "colorbar": {
             "outlinewidth": 0,
             "ticks": ""
            },
            "colorscale": [
             [
              0,
              "#0d0887"
             ],
             [
              0.1111111111111111,
              "#46039f"
             ],
             [
              0.2222222222222222,
              "#7201a8"
             ],
             [
              0.3333333333333333,
              "#9c179e"
             ],
             [
              0.4444444444444444,
              "#bd3786"
             ],
             [
              0.5555555555555556,
              "#d8576b"
             ],
             [
              0.6666666666666666,
              "#ed7953"
             ],
             [
              0.7777777777777778,
              "#fb9f3a"
             ],
             [
              0.8888888888888888,
              "#fdca26"
             ],
             [
              1,
              "#f0f921"
             ]
            ],
            "type": "histogram2dcontour"
           }
          ],
          "mesh3d": [
           {
            "colorbar": {
             "outlinewidth": 0,
             "ticks": ""
            },
            "type": "mesh3d"
           }
          ],
          "parcoords": [
           {
            "line": {
             "colorbar": {
              "outlinewidth": 0,
              "ticks": ""
             }
            },
            "type": "parcoords"
           }
          ],
          "pie": [
           {
            "automargin": true,
            "type": "pie"
           }
          ],
          "scatter": [
           {
            "fillpattern": {
             "fillmode": "overlay",
             "size": 10,
             "solidity": 0.2
            },
            "type": "scatter"
           }
          ],
          "scatter3d": [
           {
            "line": {
             "colorbar": {
              "outlinewidth": 0,
              "ticks": ""
             }
            },
            "marker": {
             "colorbar": {
              "outlinewidth": 0,
              "ticks": ""
             }
            },
            "type": "scatter3d"
           }
          ],
          "scattercarpet": [
           {
            "marker": {
             "colorbar": {
              "outlinewidth": 0,
              "ticks": ""
             }
            },
            "type": "scattercarpet"
           }
          ],
          "scattergeo": [
           {
            "marker": {
             "colorbar": {
              "outlinewidth": 0,
              "ticks": ""
             }
            },
            "type": "scattergeo"
           }
          ],
          "scattergl": [
           {
            "marker": {
             "colorbar": {
              "outlinewidth": 0,
              "ticks": ""
             }
            },
            "type": "scattergl"
           }
          ],
          "scattermapbox": [
           {
            "marker": {
             "colorbar": {
              "outlinewidth": 0,
              "ticks": ""
             }
            },
            "type": "scattermapbox"
           }
          ],
          "scatterpolar": [
           {
            "marker": {
             "colorbar": {
              "outlinewidth": 0,
              "ticks": ""
             }
            },
            "type": "scatterpolar"
           }
          ],
          "scatterpolargl": [
           {
            "marker": {
             "colorbar": {
              "outlinewidth": 0,
              "ticks": ""
             }
            },
            "type": "scatterpolargl"
           }
          ],
          "scatterternary": [
           {
            "marker": {
             "colorbar": {
              "outlinewidth": 0,
              "ticks": ""
             }
            },
            "type": "scatterternary"
           }
          ],
          "surface": [
           {
            "colorbar": {
             "outlinewidth": 0,
             "ticks": ""
            },
            "colorscale": [
             [
              0,
              "#0d0887"
             ],
             [
              0.1111111111111111,
              "#46039f"
             ],
             [
              0.2222222222222222,
              "#7201a8"
             ],
             [
              0.3333333333333333,
              "#9c179e"
             ],
             [
              0.4444444444444444,
              "#bd3786"
             ],
             [
              0.5555555555555556,
              "#d8576b"
             ],
             [
              0.6666666666666666,
              "#ed7953"
             ],
             [
              0.7777777777777778,
              "#fb9f3a"
             ],
             [
              0.8888888888888888,
              "#fdca26"
             ],
             [
              1,
              "#f0f921"
             ]
            ],
            "type": "surface"
           }
          ],
          "table": [
           {
            "cells": {
             "fill": {
              "color": "#EBF0F8"
             },
             "line": {
              "color": "white"
             }
            },
            "header": {
             "fill": {
              "color": "#C8D4E3"
             },
             "line": {
              "color": "white"
             }
            },
            "type": "table"
           }
          ]
         },
         "layout": {
          "annotationdefaults": {
           "arrowcolor": "#2a3f5f",
           "arrowhead": 0,
           "arrowwidth": 1
          },
          "autotypenumbers": "strict",
          "coloraxis": {
           "colorbar": {
            "outlinewidth": 0,
            "ticks": ""
           }
          },
          "colorscale": {
           "diverging": [
            [
             0,
             "#8e0152"
            ],
            [
             0.1,
             "#c51b7d"
            ],
            [
             0.2,
             "#de77ae"
            ],
            [
             0.3,
             "#f1b6da"
            ],
            [
             0.4,
             "#fde0ef"
            ],
            [
             0.5,
             "#f7f7f7"
            ],
            [
             0.6,
             "#e6f5d0"
            ],
            [
             0.7,
             "#b8e186"
            ],
            [
             0.8,
             "#7fbc41"
            ],
            [
             0.9,
             "#4d9221"
            ],
            [
             1,
             "#276419"
            ]
           ],
           "sequential": [
            [
             0,
             "#0d0887"
            ],
            [
             0.1111111111111111,
             "#46039f"
            ],
            [
             0.2222222222222222,
             "#7201a8"
            ],
            [
             0.3333333333333333,
             "#9c179e"
            ],
            [
             0.4444444444444444,
             "#bd3786"
            ],
            [
             0.5555555555555556,
             "#d8576b"
            ],
            [
             0.6666666666666666,
             "#ed7953"
            ],
            [
             0.7777777777777778,
             "#fb9f3a"
            ],
            [
             0.8888888888888888,
             "#fdca26"
            ],
            [
             1,
             "#f0f921"
            ]
           ],
           "sequentialminus": [
            [
             0,
             "#0d0887"
            ],
            [
             0.1111111111111111,
             "#46039f"
            ],
            [
             0.2222222222222222,
             "#7201a8"
            ],
            [
             0.3333333333333333,
             "#9c179e"
            ],
            [
             0.4444444444444444,
             "#bd3786"
            ],
            [
             0.5555555555555556,
             "#d8576b"
            ],
            [
             0.6666666666666666,
             "#ed7953"
            ],
            [
             0.7777777777777778,
             "#fb9f3a"
            ],
            [
             0.8888888888888888,
             "#fdca26"
            ],
            [
             1,
             "#f0f921"
            ]
           ]
          },
          "colorway": [
           "#636efa",
           "#EF553B",
           "#00cc96",
           "#ab63fa",
           "#FFA15A",
           "#19d3f3",
           "#FF6692",
           "#B6E880",
           "#FF97FF",
           "#FECB52"
          ],
          "font": {
           "color": "#2a3f5f"
          },
          "geo": {
           "bgcolor": "white",
           "lakecolor": "white",
           "landcolor": "#E5ECF6",
           "showlakes": true,
           "showland": true,
           "subunitcolor": "white"
          },
          "hoverlabel": {
           "align": "left"
          },
          "hovermode": "closest",
          "mapbox": {
           "style": "light"
          },
          "paper_bgcolor": "white",
          "plot_bgcolor": "#E5ECF6",
          "polar": {
           "angularaxis": {
            "gridcolor": "white",
            "linecolor": "white",
            "ticks": ""
           },
           "bgcolor": "#E5ECF6",
           "radialaxis": {
            "gridcolor": "white",
            "linecolor": "white",
            "ticks": ""
           }
          },
          "scene": {
           "xaxis": {
            "backgroundcolor": "#E5ECF6",
            "gridcolor": "white",
            "gridwidth": 2,
            "linecolor": "white",
            "showbackground": true,
            "ticks": "",
            "zerolinecolor": "white"
           },
           "yaxis": {
            "backgroundcolor": "#E5ECF6",
            "gridcolor": "white",
            "gridwidth": 2,
            "linecolor": "white",
            "showbackground": true,
            "ticks": "",
            "zerolinecolor": "white"
           },
           "zaxis": {
            "backgroundcolor": "#E5ECF6",
            "gridcolor": "white",
            "gridwidth": 2,
            "linecolor": "white",
            "showbackground": true,
            "ticks": "",
            "zerolinecolor": "white"
           }
          },
          "shapedefaults": {
           "line": {
            "color": "#2a3f5f"
           }
          },
          "ternary": {
           "aaxis": {
            "gridcolor": "white",
            "linecolor": "white",
            "ticks": ""
           },
           "baxis": {
            "gridcolor": "white",
            "linecolor": "white",
            "ticks": ""
           },
           "bgcolor": "#E5ECF6",
           "caxis": {
            "gridcolor": "white",
            "linecolor": "white",
            "ticks": ""
           }
          },
          "title": {
           "x": 0.05
          },
          "xaxis": {
           "automargin": true,
           "gridcolor": "white",
           "linecolor": "white",
           "ticks": "",
           "title": {
            "standoff": 15
           },
           "zerolinecolor": "white",
           "zerolinewidth": 2
          },
          "yaxis": {
           "automargin": true,
           "gridcolor": "white",
           "linecolor": "white",
           "ticks": "",
           "title": {
            "standoff": 15
           },
           "zerolinecolor": "white",
           "zerolinewidth": 2
          }
         }
        },
        "width": 1200,
        "xaxis": {
         "anchor": "y",
         "domain": [
          0,
          1
         ],
         "minor": {
          "showgrid": true,
          "ticks": "inside"
         },
         "range": [
          "1970-01-01",
          "2024-12-31"
         ],
         "tickangle": -45,
         "tickfont": {
          "size": 10
         },
         "tickmode": "array",
         "ticktext": [
          "1970",
          "1971",
          "1972",
          "1973",
          "1974",
          "1975",
          "1976",
          "1977",
          "1978",
          "1979",
          "1980",
          "1981",
          "1982",
          "1983",
          "1984",
          "1985",
          "1986",
          "1987",
          "1988",
          "1989",
          "1990",
          "1991",
          "1992",
          "1993",
          "1994",
          "1995",
          "1996",
          "1997",
          "1998",
          "1999",
          "2000",
          "2001",
          "2002",
          "2003",
          "2004",
          "2005",
          "2006",
          "2007",
          "2008",
          "2009",
          "2010",
          "2011",
          "2012",
          "2013",
          "2014",
          "2015",
          "2016",
          "2017",
          "2018",
          "2019",
          "2020",
          "2021",
          "2022",
          "2023",
          "2024"
         ],
         "tickvals": [
          1970,
          1971,
          1972,
          1973,
          1974,
          1975,
          1976,
          1977,
          1978,
          1979,
          1980,
          1981,
          1982,
          1983,
          1984,
          1985,
          1986,
          1987,
          1988,
          1989,
          1990,
          1991,
          1992,
          1993,
          1994,
          1995,
          1996,
          1997,
          1998,
          1999,
          2000,
          2001,
          2002,
          2003,
          2004,
          2005,
          2006,
          2007,
          2008,
          2009,
          2010,
          2011,
          2012,
          2013,
          2014,
          2015,
          2016,
          2017,
          2018,
          2019,
          2020,
          2021,
          2022,
          2023,
          2024
         ],
         "type": "date"
        },
        "yaxis": {
         "anchor": "x",
         "autorange": "reversed",
         "domain": [
          0,
          1
         ],
         "title": {
          "text": "ECV"
         }
        }
       }
      },
      "text/html": [
       "<div>                            <div id=\"89891629-1988-479c-b99c-c011b9bcceff\" class=\"plotly-graph-div\" style=\"height:800px; width:1200px;\"></div>            <script type=\"text/javascript\">                require([\"plotly\"], function(Plotly) {                    window.PLOTLYENV=window.PLOTLYENV || {};                                    if (document.getElementById(\"89891629-1988-479c-b99c-c011b9bcceff\")) {                    Plotly.newPlot(                        \"89891629-1988-479c-b99c-c011b9bcceff\",                        [{\"alignmentgroup\":\"True\",\"base\":[\"1995-06-01\",\"2002-10-01\",\"1970-04-01\"],\"hovertemplate\":\"Thematic Hub=Atmospheric Composition\\u003cbr\\u003eDateBeg=%{base}\\u003cbr\\u003eDateEnd=%{x}\\u003cbr\\u003eECV=%{y}\\u003cextra\\u003e\\u003c\\u002fextra\\u003e\",\"legendgroup\":\"Atmospheric Composition\",\"marker\":{\"color\":\"#636efa\",\"pattern\":{\"shape\":\"\"}},\"name\":\"Atmospheric Composition\",\"offsetgroup\":\"Atmospheric Composition\",\"orientation\":\"h\",\"showlegend\":true,\"textposition\":\"auto\",\"x\":[896745600000.0,639014400000.0,1682985600000.0],\"xaxis\":\"x\",\"y\":[\"Aerosols\",\"Greenhouse Gases\",\"Ozone\"],\"yaxis\":\"y\",\"type\":\"bar\"},{\"alignmentgroup\":\"True\",\"base\":[\"1979-01-01\",\"1988-01-31\",\"1979-01-01\",\"1979-01-01\",\"1979-01-01\"],\"hovertemplate\":\"Thematic Hub=Atmospheric Physics\\u003cbr\\u003eDateBeg=%{base}\\u003cbr\\u003eDateEnd=%{x}\\u003cbr\\u003eECV=%{y}\\u003cextra\\u003e\\u003c\\u002fextra\\u003e\",\"legendgroup\":\"Atmospheric Physics\",\"marker\":{\"color\":\"#EF553B\",\"pattern\":{\"shape\":\"\"}},\"name\":\"Atmospheric Physics\",\"offsetgroup\":\"Atmospheric Physics\",\"orientation\":\"h\",\"showlegend\":true,\"textposition\":\"auto\",\"x\":[1427846400000.0,1138579200000.0,1414713600000.0,1450051200000.0,1414713600000.0],\"xaxis\":\"x\",\"y\":[\"Precipitation\",\"Upper-air Water Vapour\",\"Surface Radiation Budget\",\"Earth Radiation Budget\",\"Clouds\"],\"yaxis\":\"y\",\"type\":\"bar\"},{\"alignmentgroup\":\"True\",\"base\":[\"1992-01-01\",\"1975-04-01\"],\"hovertemplate\":\"Thematic Hub=Cryosphere\\u003cbr\\u003eDateBeg=%{base}\\u003cbr\\u003eDateEnd=%{x}\\u003cbr\\u003eECV=%{y}\\u003cextra\\u003e\\u003c\\u002fextra\\u003e\",\"legendgroup\":\"Cryosphere\",\"marker\":{\"color\":\"#00cc96\",\"pattern\":{\"shape\":\"\"}},\"name\":\"Cryosphere\",\"offsetgroup\":\"Cryosphere\",\"orientation\":\"h\",\"showlegend\":true,\"textposition\":\"auto\",\"x\":[1009843200000.0,1467417600000.0],\"xaxis\":\"x\",\"y\":[\"Ice Sheets\",\"Glaciers\"],\"yaxis\":\"y\",\"type\":\"bar\"},{\"alignmentgroup\":\"True\",\"base\":[\"1981-09-20\",\"1992-01-01\",\"1981-09-20\",\"2001-01-01\",\"1981-09-20\"],\"hovertemplate\":\"Thematic Hub=Land Biosphere\\u003cbr\\u003eDateBeg=%{base}\\u003cbr\\u003eDateEnd=%{x}\\u003cbr\\u003eECV=%{y}\\u003cextra\\u003e\\u003c\\u002fextra\\u003e\",\"legendgroup\":\"Land Biosphere\",\"marker\":{\"color\":\"#ab63fa\",\"pattern\":{\"shape\":\"\"}},\"name\":\"Land Biosphere\",\"offsetgroup\":\"Land Biosphere\",\"orientation\":\"h\",\"showlegend\":true,\"textposition\":\"auto\",\"x\":[1223683200000.0,978220800000.0,1223683200000.0,730857600000.0,1223683200000.0],\"xaxis\":\"x\",\"y\":[\"LAI\",\"Land Cover\",\"Albedo\",\"Fire\",\"FAPAR\"],\"yaxis\":\"y\",\"type\":\"bar\"},{\"alignmentgroup\":\"True\",\"base\":[\"1992-10-13\",\"1978-11-01\"],\"hovertemplate\":\"Thematic Hub=Land Hydrology\\u003cbr\\u003eDateBeg=%{base}\\u003cbr\\u003eDateEnd=%{x}\\u003cbr\\u003eECV=%{y}\\u003cextra\\u003e\\u003c\\u002fextra\\u003e\",\"legendgroup\":\"Land Hydrology\",\"marker\":{\"color\":\"#FFA15A\",\"pattern\":{\"shape\":\"\"}},\"name\":\"Land Hydrology\",\"offsetgroup\":\"Land Hydrology\",\"orientation\":\"h\",\"showlegend\":true,\"textposition\":\"auto\",\"x\":[985046400000.0,1454198400000.0],\"xaxis\":\"x\",\"y\":[\"Lakes\",\"Soil Moisture\"],\"yaxis\":\"y\",\"type\":\"bar\"},{\"alignmentgroup\":\"True\",\"base\":[\"1993-01-01\",\"1997-09-04\",\"1978-10-25\",\"1993-01-01\",\"1981-08-24\"],\"hovertemplate\":\"Thematic Hub=Ocean\\u003cbr\\u003eDateBeg=%{base}\\u003cbr\\u003eDateEnd=%{x}\\u003cbr\\u003eECV=%{y}\\u003cextra\\u003e\\u003c\\u002fextra\\u003e\",\"legendgroup\":\"Ocean\",\"marker\":{\"color\":\"#19d3f3\",\"pattern\":{\"shape\":\"\"}},\"name\":\"Ocean\",\"offsetgroup\":\"Ocean\",\"orientation\":\"h\",\"showlegend\":true,\"textposition\":\"auto\",\"x\":[978134400000.0,854323200000.0,1454976000000.0,978134400000.0,1304985600000.0],\"xaxis\":\"x\",\"y\":[\"Surface Currents\",\"Ocean Colour\",\"Sea Ice\",\"Sea Level\",\"SST\"],\"yaxis\":\"y\",\"type\":\"bar\"}],                        {\"template\":{\"data\":{\"histogram2dcontour\":[{\"type\":\"histogram2dcontour\",\"colorbar\":{\"outlinewidth\":0,\"ticks\":\"\"},\"colorscale\":[[0.0,\"#0d0887\"],[0.1111111111111111,\"#46039f\"],[0.2222222222222222,\"#7201a8\"],[0.3333333333333333,\"#9c179e\"],[0.4444444444444444,\"#bd3786\"],[0.5555555555555556,\"#d8576b\"],[0.6666666666666666,\"#ed7953\"],[0.7777777777777778,\"#fb9f3a\"],[0.8888888888888888,\"#fdca26\"],[1.0,\"#f0f921\"]]}],\"choropleth\":[{\"type\":\"choropleth\",\"colorbar\":{\"outlinewidth\":0,\"ticks\":\"\"}}],\"histogram2d\":[{\"type\":\"histogram2d\",\"colorbar\":{\"outlinewidth\":0,\"ticks\":\"\"},\"colorscale\":[[0.0,\"#0d0887\"],[0.1111111111111111,\"#46039f\"],[0.2222222222222222,\"#7201a8\"],[0.3333333333333333,\"#9c179e\"],[0.4444444444444444,\"#bd3786\"],[0.5555555555555556,\"#d8576b\"],[0.6666666666666666,\"#ed7953\"],[0.7777777777777778,\"#fb9f3a\"],[0.8888888888888888,\"#fdca26\"],[1.0,\"#f0f921\"]]}],\"heatmap\":[{\"type\":\"heatmap\",\"colorbar\":{\"outlinewidth\":0,\"ticks\":\"\"},\"colorscale\":[[0.0,\"#0d0887\"],[0.1111111111111111,\"#46039f\"],[0.2222222222222222,\"#7201a8\"],[0.3333333333333333,\"#9c179e\"],[0.4444444444444444,\"#bd3786\"],[0.5555555555555556,\"#d8576b\"],[0.6666666666666666,\"#ed7953\"],[0.7777777777777778,\"#fb9f3a\"],[0.8888888888888888,\"#fdca26\"],[1.0,\"#f0f921\"]]}],\"heatmapgl\":[{\"type\":\"heatmapgl\",\"colorbar\":{\"outlinewidth\":0,\"ticks\":\"\"},\"colorscale\":[[0.0,\"#0d0887\"],[0.1111111111111111,\"#46039f\"],[0.2222222222222222,\"#7201a8\"],[0.3333333333333333,\"#9c179e\"],[0.4444444444444444,\"#bd3786\"],[0.5555555555555556,\"#d8576b\"],[0.6666666666666666,\"#ed7953\"],[0.7777777777777778,\"#fb9f3a\"],[0.8888888888888888,\"#fdca26\"],[1.0,\"#f0f921\"]]}],\"contourcarpet\":[{\"type\":\"contourcarpet\",\"colorbar\":{\"outlinewidth\":0,\"ticks\":\"\"}}],\"contour\":[{\"type\":\"contour\",\"colorbar\":{\"outlinewidth\":0,\"ticks\":\"\"},\"colorscale\":[[0.0,\"#0d0887\"],[0.1111111111111111,\"#46039f\"],[0.2222222222222222,\"#7201a8\"],[0.3333333333333333,\"#9c179e\"],[0.4444444444444444,\"#bd3786\"],[0.5555555555555556,\"#d8576b\"],[0.6666666666666666,\"#ed7953\"],[0.7777777777777778,\"#fb9f3a\"],[0.8888888888888888,\"#fdca26\"],[1.0,\"#f0f921\"]]}],\"surface\":[{\"type\":\"surface\",\"colorbar\":{\"outlinewidth\":0,\"ticks\":\"\"},\"colorscale\":[[0.0,\"#0d0887\"],[0.1111111111111111,\"#46039f\"],[0.2222222222222222,\"#7201a8\"],[0.3333333333333333,\"#9c179e\"],[0.4444444444444444,\"#bd3786\"],[0.5555555555555556,\"#d8576b\"],[0.6666666666666666,\"#ed7953\"],[0.7777777777777778,\"#fb9f3a\"],[0.8888888888888888,\"#fdca26\"],[1.0,\"#f0f921\"]]}],\"mesh3d\":[{\"type\":\"mesh3d\",\"colorbar\":{\"outlinewidth\":0,\"ticks\":\"\"}}],\"scatter\":[{\"fillpattern\":{\"fillmode\":\"overlay\",\"size\":10,\"solidity\":0.2},\"type\":\"scatter\"}],\"parcoords\":[{\"type\":\"parcoords\",\"line\":{\"colorbar\":{\"outlinewidth\":0,\"ticks\":\"\"}}}],\"scatterpolargl\":[{\"type\":\"scatterpolargl\",\"marker\":{\"colorbar\":{\"outlinewidth\":0,\"ticks\":\"\"}}}],\"bar\":[{\"error_x\":{\"color\":\"#2a3f5f\"},\"error_y\":{\"color\":\"#2a3f5f\"},\"marker\":{\"line\":{\"color\":\"#E5ECF6\",\"width\":0.5},\"pattern\":{\"fillmode\":\"overlay\",\"size\":10,\"solidity\":0.2}},\"type\":\"bar\"}],\"scattergeo\":[{\"type\":\"scattergeo\",\"marker\":{\"colorbar\":{\"outlinewidth\":0,\"ticks\":\"\"}}}],\"scatterpolar\":[{\"type\":\"scatterpolar\",\"marker\":{\"colorbar\":{\"outlinewidth\":0,\"ticks\":\"\"}}}],\"histogram\":[{\"marker\":{\"pattern\":{\"fillmode\":\"overlay\",\"size\":10,\"solidity\":0.2}},\"type\":\"histogram\"}],\"scattergl\":[{\"type\":\"scattergl\",\"marker\":{\"colorbar\":{\"outlinewidth\":0,\"ticks\":\"\"}}}],\"scatter3d\":[{\"type\":\"scatter3d\",\"line\":{\"colorbar\":{\"outlinewidth\":0,\"ticks\":\"\"}},\"marker\":{\"colorbar\":{\"outlinewidth\":0,\"ticks\":\"\"}}}],\"scattermapbox\":[{\"type\":\"scattermapbox\",\"marker\":{\"colorbar\":{\"outlinewidth\":0,\"ticks\":\"\"}}}],\"scatterternary\":[{\"type\":\"scatterternary\",\"marker\":{\"colorbar\":{\"outlinewidth\":0,\"ticks\":\"\"}}}],\"scattercarpet\":[{\"type\":\"scattercarpet\",\"marker\":{\"colorbar\":{\"outlinewidth\":0,\"ticks\":\"\"}}}],\"carpet\":[{\"aaxis\":{\"endlinecolor\":\"#2a3f5f\",\"gridcolor\":\"white\",\"linecolor\":\"white\",\"minorgridcolor\":\"white\",\"startlinecolor\":\"#2a3f5f\"},\"baxis\":{\"endlinecolor\":\"#2a3f5f\",\"gridcolor\":\"white\",\"linecolor\":\"white\",\"minorgridcolor\":\"white\",\"startlinecolor\":\"#2a3f5f\"},\"type\":\"carpet\"}],\"table\":[{\"cells\":{\"fill\":{\"color\":\"#EBF0F8\"},\"line\":{\"color\":\"white\"}},\"header\":{\"fill\":{\"color\":\"#C8D4E3\"},\"line\":{\"color\":\"white\"}},\"type\":\"table\"}],\"barpolar\":[{\"marker\":{\"line\":{\"color\":\"#E5ECF6\",\"width\":0.5},\"pattern\":{\"fillmode\":\"overlay\",\"size\":10,\"solidity\":0.2}},\"type\":\"barpolar\"}],\"pie\":[{\"automargin\":true,\"type\":\"pie\"}]},\"layout\":{\"autotypenumbers\":\"strict\",\"colorway\":[\"#636efa\",\"#EF553B\",\"#00cc96\",\"#ab63fa\",\"#FFA15A\",\"#19d3f3\",\"#FF6692\",\"#B6E880\",\"#FF97FF\",\"#FECB52\"],\"font\":{\"color\":\"#2a3f5f\"},\"hovermode\":\"closest\",\"hoverlabel\":{\"align\":\"left\"},\"paper_bgcolor\":\"white\",\"plot_bgcolor\":\"#E5ECF6\",\"polar\":{\"bgcolor\":\"#E5ECF6\",\"angularaxis\":{\"gridcolor\":\"white\",\"linecolor\":\"white\",\"ticks\":\"\"},\"radialaxis\":{\"gridcolor\":\"white\",\"linecolor\":\"white\",\"ticks\":\"\"}},\"ternary\":{\"bgcolor\":\"#E5ECF6\",\"aaxis\":{\"gridcolor\":\"white\",\"linecolor\":\"white\",\"ticks\":\"\"},\"baxis\":{\"gridcolor\":\"white\",\"linecolor\":\"white\",\"ticks\":\"\"},\"caxis\":{\"gridcolor\":\"white\",\"linecolor\":\"white\",\"ticks\":\"\"}},\"coloraxis\":{\"colorbar\":{\"outlinewidth\":0,\"ticks\":\"\"}},\"colorscale\":{\"sequential\":[[0.0,\"#0d0887\"],[0.1111111111111111,\"#46039f\"],[0.2222222222222222,\"#7201a8\"],[0.3333333333333333,\"#9c179e\"],[0.4444444444444444,\"#bd3786\"],[0.5555555555555556,\"#d8576b\"],[0.6666666666666666,\"#ed7953\"],[0.7777777777777778,\"#fb9f3a\"],[0.8888888888888888,\"#fdca26\"],[1.0,\"#f0f921\"]],\"sequentialminus\":[[0.0,\"#0d0887\"],[0.1111111111111111,\"#46039f\"],[0.2222222222222222,\"#7201a8\"],[0.3333333333333333,\"#9c179e\"],[0.4444444444444444,\"#bd3786\"],[0.5555555555555556,\"#d8576b\"],[0.6666666666666666,\"#ed7953\"],[0.7777777777777778,\"#fb9f3a\"],[0.8888888888888888,\"#fdca26\"],[1.0,\"#f0f921\"]],\"diverging\":[[0,\"#8e0152\"],[0.1,\"#c51b7d\"],[0.2,\"#de77ae\"],[0.3,\"#f1b6da\"],[0.4,\"#fde0ef\"],[0.5,\"#f7f7f7\"],[0.6,\"#e6f5d0\"],[0.7,\"#b8e186\"],[0.8,\"#7fbc41\"],[0.9,\"#4d9221\"],[1,\"#276419\"]]},\"xaxis\":{\"gridcolor\":\"white\",\"linecolor\":\"white\",\"ticks\":\"\",\"title\":{\"standoff\":15},\"zerolinecolor\":\"white\",\"automargin\":true,\"zerolinewidth\":2},\"yaxis\":{\"gridcolor\":\"white\",\"linecolor\":\"white\",\"ticks\":\"\",\"title\":{\"standoff\":15},\"zerolinecolor\":\"white\",\"automargin\":true,\"zerolinewidth\":2},\"scene\":{\"xaxis\":{\"backgroundcolor\":\"#E5ECF6\",\"gridcolor\":\"white\",\"linecolor\":\"white\",\"showbackground\":true,\"ticks\":\"\",\"zerolinecolor\":\"white\",\"gridwidth\":2},\"yaxis\":{\"backgroundcolor\":\"#E5ECF6\",\"gridcolor\":\"white\",\"linecolor\":\"white\",\"showbackground\":true,\"ticks\":\"\",\"zerolinecolor\":\"white\",\"gridwidth\":2},\"zaxis\":{\"backgroundcolor\":\"#E5ECF6\",\"gridcolor\":\"white\",\"linecolor\":\"white\",\"showbackground\":true,\"ticks\":\"\",\"zerolinecolor\":\"white\",\"gridwidth\":2}},\"shapedefaults\":{\"line\":{\"color\":\"#2a3f5f\"}},\"annotationdefaults\":{\"arrowcolor\":\"#2a3f5f\",\"arrowhead\":0,\"arrowwidth\":1},\"geo\":{\"bgcolor\":\"white\",\"landcolor\":\"#E5ECF6\",\"subunitcolor\":\"white\",\"showland\":true,\"showlakes\":true,\"lakecolor\":\"white\"},\"title\":{\"x\":0.05},\"mapbox\":{\"style\":\"light\"}}},\"xaxis\":{\"anchor\":\"y\",\"domain\":[0.0,1.0],\"type\":\"date\",\"minor\":{\"ticks\":\"inside\",\"showgrid\":true},\"tickmode\":\"array\",\"tickvals\":[1970,1971,1972,1973,1974,1975,1976,1977,1978,1979,1980,1981,1982,1983,1984,1985,1986,1987,1988,1989,1990,1991,1992,1993,1994,1995,1996,1997,1998,1999,2000,2001,2002,2003,2004,2005,2006,2007,2008,2009,2010,2011,2012,2013,2014,2015,2016,2017,2018,2019,2020,2021,2022,2023,2024],\"ticktext\":[\"1970\",\"1971\",\"1972\",\"1973\",\"1974\",\"1975\",\"1976\",\"1977\",\"1978\",\"1979\",\"1980\",\"1981\",\"1982\",\"1983\",\"1984\",\"1985\",\"1986\",\"1987\",\"1988\",\"1989\",\"1990\",\"1991\",\"1992\",\"1993\",\"1994\",\"1995\",\"1996\",\"1997\",\"1998\",\"1999\",\"2000\",\"2001\",\"2002\",\"2003\",\"2004\",\"2005\",\"2006\",\"2007\",\"2008\",\"2009\",\"2010\",\"2011\",\"2012\",\"2013\",\"2014\",\"2015\",\"2016\",\"2017\",\"2018\",\"2019\",\"2020\",\"2021\",\"2022\",\"2023\",\"2024\"],\"tickangle\":-45,\"tickfont\":{\"size\":10},\"range\":[\"1970-01-01\",\"2024-12-31\"]},\"yaxis\":{\"anchor\":\"x\",\"domain\":[0.0,1.0],\"title\":{\"text\":\"ECV\"},\"autorange\":\"reversed\"},\"legend\":{\"title\":{\"text\":\"Thematic Hub\"},\"tracegroupgap\":0},\"margin\":{\"t\":60},\"barmode\":\"overlay\",\"autosize\":false,\"width\":1200,\"height\":800},                        {\"responsive\": true}                    ).then(function(){\n",
       "                            \n",
       "var gd = document.getElementById('89891629-1988-479c-b99c-c011b9bcceff');\n",
       "var x = new MutationObserver(function (mutations, observer) {{\n",
       "        var display = window.getComputedStyle(gd).display;\n",
       "        if (!display || display === 'none') {{\n",
       "            console.log([gd, 'removed!']);\n",
       "            Plotly.purge(gd);\n",
       "            observer.disconnect();\n",
       "        }}\n",
       "}});\n",
       "\n",
       "// Listen for the removal of the full notebook cells\n",
       "var notebookContainer = gd.closest('#notebook-container');\n",
       "if (notebookContainer) {{\n",
       "    x.observe(notebookContainer, {childList: true});\n",
       "}}\n",
       "\n",
       "// Listen for the clearing of the current output cell\n",
       "var outputEl = gd.closest('.output');\n",
       "if (outputEl) {{\n",
       "    x.observe(outputEl, {childList: true});\n",
       "}}\n",
       "\n",
       "                        })                };                });            </script>        </div>"
      ]
     },
     "metadata": {},
     "output_type": "display_data"
    }
   ],
   "source": [
    "\n",
    "datesbeg = {}\n",
    "datesend = {}\n",
    "ecv_dic = {}\n",
    "for k,ecv in enumerate(conf['ECV']):\n",
    "    print(ecv)\n",
    "    entries = conf['ECV'][ecv]['entry']\n",
    "    print(entries)\n",
    "    datemin_list = []\n",
    "    datemax_list = []\n",
    "    if ecv in ['Earth Radiation Budget']: \n",
    "        datemin,datemax = extract_dates_from_TSI()\n",
    "        datemin_list.append(datemin)\n",
    "        datemax_list.append(datemax)\n",
    "    for entry in entries:\n",
    "        jfilepath=f'{cds_form_dir}{entry}/constraints.json'\n",
    "        print(jfilepath)\n",
    "        if entry == 'satellite-ice-sheet-elevation-change':\n",
    "            datemin,datemax = extract_dates_icesheets(datasets_dir)\n",
    "            datemin_list.append(datemin)\n",
    "            datemax_list.append(datemax)\n",
    "        elif entry == 'satellite-ice-sheet-mass-balance':\n",
    "            datemin,datemax = extract_dates_massbalance(datasets_dir)\n",
    "            datemin_list.append(datemin)\n",
    "            datemax_list.append(datemax)\n",
    "        elif entry == 'derived-gridded-glacier-mass-change':\n",
    "            jfile = f'{cds_form_dir}{entry}/constraints.json'\n",
    "            datemin,datemax = extract_dates_derived_glaciers(jfile)\n",
    "            datemin_list.append(datemin)\n",
    "            datemax_list.append(datemax)\n",
    "        elif entry == 'insitu-glaciers-extent':    \n",
    "            datemin= pd.Timestamp('1990-01-01') # http://www.glims.org/rgi_user_guide/06_dataset_summary.html\n",
    "            datemax= pd.Timestamp('2010-12-31')\n",
    "            datemin_list.append(datemin)\n",
    "            datemax_list.append(datemax)\n",
    "        elif entry =='satellite-total-column-water-vapour-ocean':\n",
    "            # temporal aggregation is messed up. does not have the same meaning as other datasets\n",
    "            # monthly should be yearly\n",
    "            # 6-hourly should be monthly\n",
    "            # need to write a special function that accounts for this\n",
    "            datemin,datemax = extract_dates_wv(jfilepath)\n",
    "            datemin_list.append(datemin)\n",
    "            datemax_list.append(datemax)\n",
    "        elif entry == 'satellite-lake-water-level':\n",
    "            datemin,datemax = extract_dates_lake_levels(datasets_dir)\n",
    "            datemin_list.append(datemin)\n",
    "            datemax_list.append(datemax)\n",
    "        # elif jfilepath == '/Users/cxjo/Documents/cds-forms-c3s/satellite-land-cover/constraints.json':\n",
    "        #     datemin_list.append(pd.Timestamp('1992-01-01'))\n",
    "        #     datemax_list.append(pd.Timestamp('2022-12-31'))\n",
    "        else:\n",
    "            # print(jfilepath)\n",
    "            datemin,datemax = calc_dateminmax_from_cds_form(jfilepath,ecv)\n",
    "            # print(ecv,datemin_list,datemax_list)\n",
    "            datemin_list.append(datemin)\n",
    "            datemax_list.append(datemax)\n",
    "            # print(ecv,datemin_list,datemax_list)\n",
    "\n",
    "    # now get the max and min per ECV, accounting for all products\n",
    "    datemin_list = np.array(datemin_list)\n",
    "    datemax_list = np.array(datemax_list)\n",
    "    # datesbeg[ecv] = np.min(datemin_list)\n",
    "    # datesend[ecv] = np.max(datemax_list)\n",
    "    ecv_dic[k] = {\n",
    "        'ECV'     : ecv,\n",
    "        'DateBeg' : np.min(datemin_list),\n",
    "        'DateEnd' : np.max(datemax_list),\n",
    "        'Thematic Hub' : conf['ECV'][ecv]['Thematic_hub']\n",
    "    }\n",
    "\n",
    "\n",
    "# ecv_pd = pd.DataFrame([conf['ECV'].keys(),datesbeg,datesend],index=['DateBeg','DateEnd']).T\n",
    "ecv_pd = pd.DataFrame.from_dict(ecv_dic,orient='index').sort_values(['Thematic Hub'])\n",
    "ecv_pd['DateBeg'] = ecv_pd['DateBeg'].dt.ceil(freq='s')  \n",
    "ecv_pd['DateEnd'] = ecv_pd['DateEnd'].dt.ceil(freq='s')  \n",
    "ecv_pd['DateEnd'] = ecv_pd['DateEnd'].apply(lambda dt: dt.strftime(\"%Y-%m-%d\"))\n",
    "ecv_pd['DateBeg'] = ecv_pd['DateBeg'].apply(lambda dt: dt.strftime(\"%Y-%m-%d\"))\n",
    "\n",
    "print(ecv_pd.to_markdown())\n",
    "ecv_pd.to_excel('ECV_time_coverage_perECV.xlsx')\n",
    "# fig = px.timeline(ecv_pd, x_start=\"DateBeg\", x_end=\"DateEnd\", y='Product',color='Lot')\n",
    "fig = px.timeline(ecv_pd, x_start=\"DateBeg\", x_end=\"DateEnd\",y='ECV',color='Thematic Hub')\n",
    "\n",
    "# fig = px.timeline(datasets_df, x_start=\"startdate\", x_end=\"enddate\", y='ECV')\n",
    "fig.update_yaxes(autorange=\"reversed\")\n",
    "fig.update_layout(\n",
    "    autosize=False,\n",
    "    width=1200,\n",
    "    height=800,\n",
    ")\n",
    "# fig.update_layout(\n",
    "#     xaxis = dict(\n",
    "#         dtick = 'Y1',\n",
    "#         tickformat=\"%Y\",\n",
    "#     )\n",
    "# )\n",
    "\n",
    "xlab = np.arange(1970,2025).astype('int')\n",
    "xlabtxt = [f'{i}' for i in xlab]\n",
    "\n",
    "\n",
    "fig.update_xaxes(minor=dict(ticks=\"inside\", showgrid=True))\n",
    "fig.update_layout(\n",
    "    xaxis = dict(\n",
    "        tickmode = 'array',\n",
    "        tickvals = xlab,\n",
    "        ticktext = xlabtxt\n",
    "    )\n",
    ")\n",
    "fig.update_xaxes(tickangle=-45)\n",
    "fig.update_layout(\n",
    "    xaxis = dict(\n",
    "        tickfont = dict(\n",
    "            size=10),\n",
    "        )\n",
    "    )\n",
    "fig.update_xaxes(range = ['1970-01-01','2024-12-31'])\n",
    "# print(fig)\n",
    "today_date = pd.Timestamp.today().strftime('%Y%m%d') \n",
    "print(today_date)\n",
    "fig.write_image(f'temporal_coverage_by_ECV_{today_date}.pdf')\n",
    "fig.write_image(f'temporal_coverage_by_ECV_{today_date}.png')\n",
    "fig.show()"
   ]
  },
  {
   "cell_type": "markdown",
   "metadata": {},
   "source": [
    "### Build pandas dataframe for the figure ordered by product\n"
   ]
  },
  {
   "cell_type": "code",
   "execution_count": 16,
   "metadata": {},
   "outputs": [
    {
     "name": "stdout",
     "output_type": "stream",
     "text": [
      "/home/cxjo/C3S_stuff/cads-forms-json/satellite-aerosol-properties/constraints.json Aerosols\n",
      "Aerosols 1995-06-01 00:00:00 2023-10-31 00:00:00\n",
      "/home/cxjo/C3S_stuff/cads-forms-json/satellite-carbon-dioxide/constraints.json CO2\n",
      "CO2 2002-10-01 00:00:00 2022-12-31 00:00:00\n",
      "/home/cxjo/C3S_stuff/cads-forms-json/satellite-methane/constraints.json CH4\n",
      "CH4 2002-10-01 00:00:00 2022-12-31 00:00:00\n",
      "/home/cxjo/C3S_stuff/cads-forms-json/satellite-ozone-v1/constraints.json Ozone\n",
      "Ozone 1970-04-01 00:00:00 2023-07-31 00:00:00\n",
      "/home/cxjo/C3S_stuff/cads-forms-json/satellite-cloud-properties/constraints.json Clouds\n",
      "Clouds 1979-01-01 00:00:00 2023-10-31 00:00:00\n",
      "/home/cxjo/C3S_stuff/cads-forms-json/satellite-earth-radiation-budget/constraints.json NASA_CERES_ERB\n",
      "NASA_CERES_ERB 1979-01-01 00:00:00 2024-09-17 00:00:00\n",
      "/home/cxjo/C3S_stuff/cads-forms-json/satellite-earth-radiation-budget/constraints.json NOAA_HIRS\n",
      "NOAA_HIRS 1979-01-01 00:00:00 2024-09-17 00:00:00\n",
      "/home/cxjo/C3S_stuff/cads-forms-json/satellite-earth-radiation-budget/constraints.json ESA_CLOUD_CCI_ERB\n",
      "ESA_CLOUD_CCI_ERB 1979-01-01 00:00:00 2024-09-17 00:00:00\n",
      "/home/cxjo/C3S_stuff/cads-forms-json/satellite-earth-radiation-budget/constraints.json C3S_CCI_ERB\n",
      "C3S_CCI_ERB 1979-01-01 00:00:00 2024-09-17 00:00:00\n",
      "/home/cxjo/C3S_stuff/cads-forms-json/satellite-earth-radiation-budget/constraints.json C3S_RMIB_ERB\n"
     ]
    },
    {
     "name": "stderr",
     "output_type": "stream",
     "text": [
      "/etc/ecmwf/ssd/ssd1/tmpdirs/cxjo.3863126.20241218_113208.111/ipykernel_327573/2395731837.py:31: FutureWarning:\n",
      "\n",
      "The 'delim_whitespace' keyword in pd.read_csv is deprecated and will be removed in a future version. Use ``sep='\\s+'`` instead\n",
      "\n"
     ]
    },
    {
     "name": "stdout",
     "output_type": "stream",
     "text": [
      "C3S_RMIB_ERB 1979-01-01 00:00:00 2024-12-13 00:00:00\n",
      "/home/cxjo/C3S_stuff/cads-forms-json/satellite-precipitation/constraints.json Precipitation\n",
      "Precipitation 1979-01-01 00:00:00 2024-03-31 00:00:00\n",
      "/home/cxjo/C3S_stuff/cads-forms-json/satellite-precipitation-microwave/constraints.json Precipitation_microwave\n",
      "Precipitation_microwave 2000-01-01 00:00:00 2017-12-31 00:00:00\n",
      "/home/cxjo/C3S_stuff/cads-forms-json/satellite-precipitation-microwave-infrared/constraints.json Precipitation_GIRAFE\n",
      "Precipitation_GIRAFE 2002-01-01 00:00:00 2022-12-31 00:00:00\n",
      "/home/cxjo/C3S_stuff/cads-forms-json/satellite-surface-radiation-budget/constraints.json Surface Radiation Budget (CMSAF/CLARA)\n",
      "Surface Radiation Budget (CMSAF/CLARA) 1979-01-01 00:00:00 2023-10-31 00:00:00\n",
      "/home/cxjo/C3S_stuff/cads-forms-json/satellite-surface-radiation-budget/constraints.json Surface Radiation Budget (CCI)\n",
      "Surface Radiation Budget (CCI) 1979-01-01 00:00:00 2023-10-31 00:00:00\n",
      "/home/cxjo/C3S_stuff/cads-forms-json/satellite-total-column-water-vapour-ocean/constraints.json Total Column Water Vapour (HOAPS)\n",
      "Total Column Water Vapour (HOAPS) 1988-01-31 00:00:00 2020-12-31 00:00:00\n",
      "/home/cxjo/C3S_stuff/cads-forms-json/satellite-total-column-water-vapour-land-ocean/constraints.json Total Column Water Vapour (MERIS/SSMI)\n",
      "Total Column Water Vapour (MERIS/SSMI) 2002-05-01 00:00:00 2017-12-31 00:00:00\n",
      "/home/cxjo/C3S_stuff/cads-forms-json/satellite-humidity-profiles/constraints.json Tropospheric Humidity Profiles (RO)\n",
      "Tropospheric Humidity Profiles (RO) 2006-12-01 00:00:00 2024-02-29 00:00:00\n",
      "/home/cxjo/C3S_stuff/cads-forms-json/satellite-upper-troposphere-humidity/constraints.json Upper Tropospheric Humidity\n",
      "Upper Tropospheric Humidity 1999-01-01 00:00:00 2021-02-28 00:00:00\n",
      "/home/cxjo/C3S_stuff/cads-forms-json/satellite-greenland-ice-sheet-velocity/constraints.json Ice Sheet Velocity (Greenland)\n",
      "Ice Sheet Velocity (Greenland) 2018-10-01 00:00:00 2021-09-30 00:00:00\n",
      "/home/cxjo/C3S_stuff/cads-forms-json/satellite-ice-sheet-mass-balance/constraints.json Ice Sheet Gravimetric Mass Balance\n",
      "Ice Sheet Gravimetric Mass Balance 2002-04-16 20:23:54.375000 2022-12-17 09:35:37.500000\n",
      "/home/cxjo/C3S_stuff/cads-forms-json/satellite-ice-sheet-elevation-change//constraints.json Ice Sheet Surface Elevation Change (Antarctica)\n",
      "will open /home/cxjo/C3S_stuff/datasets/C3S_AntIS_RA_SEC_25km_vers4_2022-12-16.nc\n",
      "will open /home/cxjo/C3S_stuff/datasets/C3S_AntIS_RA_SEC_vers3_2023-01-16.nc\n",
      "Ice Sheet Surface Elevation Change (Antarctica) 1994-11-01 09:21:19.687500 2020-06-01 17:13:07.500000\n",
      "/home/cxjo/C3S_stuff/cads-forms-json/satellite-ice-sheet-elevation-change//constraints.json Ice Sheet Surface Elevation Change (Greenland)\n",
      "will open /home/cxjo/C3S_stuff/datasets/C3S_GrIS_RA_SEC_25km_vers4_2022-10-20.nc\n",
      "1992-01-01 00:00:00\n",
      "will open /home/cxjo/C3S_stuff/datasets/C3S_GrIS_RA_SEC_25km_vers5_2023-12-15.nc\n",
      "1992-01-01 00:00:00\n",
      "will open /home/cxjo/C3S_stuff/datasets/C3S_GrIS_RA_SEC_25km_vers5_2024-07-07.nc\n",
      "1992-01-01 00:00:00\n",
      "Ice Sheet Surface Elevation Change (Greenland) 1992-01-01 00:00:00 2024-01-01 00:00:00\n",
      "/home/cxjo/C3S_stuff/cads-forms-json/derived-gridded-glacier-mass-change/constraints.json Glaciers elevation and mass change data\n",
      "/home/cxjo/C3S_stuff/cads-forms-json/derived-gridded-glacier-mass-change/constraints.json\n",
      "Glaciers  1975 2021\n",
      "Glaciers elevation and mass change data 1975-04-01 00:00:00 2021-09-30 00:00:00\n",
      "/home/cxjo/C3S_stuff/cads-forms-json/insitu-glaciers-extent/constraints.json Randolph Glacier Inventory for the year 2000\n",
      "Randolph Glacier Inventory for the year 2000 1990-01-01 00:00:00 2010-12-31 00:00:00\n",
      "/home/cxjo/C3S_stuff/cads-forms-json/satellite-lake-water-temperature/constraints.json Lake Surface Temperature\n",
      "Lake Surface Temperature 1995-06-01 00:00:00 2023-12-31 00:00:00\n",
      "/home/cxjo/C3S_stuff/cads-forms-json/satellite-lake-water-level/constraints.json Lake Water Level\n",
      "...for lake water levels, only reading info for Lake Volta...\n",
      "Lake Water Level 1992-10-13 13:52:00.002174464 2023-12-24 19:58:00.001830912\n",
      "/home/cxjo/C3S_stuff/cads-forms-json/satellite-soil-moisture/constraints.json Soil Moisture\n",
      "Soil Moisture 1978-11-01 00:00:00 2024-11-30 00:00:00\n",
      "/home/cxjo/C3S_stuff/cads-forms-json/satellite-lai-fapar/constraints.json LAI\n",
      "LAI 1981-09-20 00:00:00 2020-06-30 00:00:00\n",
      "/home/cxjo/C3S_stuff/cads-forms-json/satellite-lai-fapar/constraints.json FAPAR\n",
      "FAPAR 1981-09-20 00:00:00 2020-06-30 00:00:00\n",
      "/home/cxjo/C3S_stuff/cads-forms-json/satellite-fire-burned-area/constraints.json Fire Burned Areas\n",
      "Fire Burned Areas 2001-01-01 00:00:00 2022-12-01 00:00:00\n",
      "/home/cxjo/C3S_stuff/cads-forms-json/satellite-fire-radiative-power/constraints.json Fire Radiative Power\n",
      "Fire Radiative Power 2020-01-01 00:00:00 2024-02-29 00:00:00\n",
      "/home/cxjo/C3S_stuff/cads-forms-json/satellite-land-cover/constraints.json Land Cover\n",
      "Land Cover 1992-01-01 00:00:00 2022-12-31 00:00:00\n",
      "/home/cxjo/C3S_stuff/cads-forms-json/satellite-albedo/constraints.json Surface Albedo 10-daily\n",
      "Surface Albedo 10-daily 1981-09-20 00:00:00 2020-06-30 00:00:00\n",
      "/home/cxjo/C3S_stuff/cads-forms-json/satellite-ocean-colour/constraints.json Ocean Colour\n",
      "Ocean Colour 1997-09-04 00:00:00 2024-09-30 00:00:00\n",
      "/home/cxjo/C3S_stuff/cads-forms-json/satellite-sea-ice-concentration/constraints.json Sea Ice Concentration\n",
      "Sea Ice Concentration 1978-10-25 00:00:00 2024-12-02 00:00:00\n",
      "/home/cxjo/C3S_stuff/cads-forms-json/satellite-sea-ice-edge-type/constraints.json Sea Ice Edge and Type\n",
      "Sea Ice Edge and Type 1978-10-25 00:00:00 2024-12-02 00:00:00\n",
      "/home/cxjo/C3S_stuff/cads-forms-json/satellite-sea-ice-thickness/constraints.json Sea Ice Thickness\n",
      "Sea Ice Thickness 2002-10-01 00:00:00 2024-04-30 00:00:00\n",
      "/home/cxjo/C3S_stuff/cads-forms-json/satellite-sea-surface-temperature/constraints.json SST\n",
      "SST 1981-08-24 00:00:00 2022-12-31 00:00:00\n",
      "/home/cxjo/C3S_stuff/cads-forms-json/satellite-sea-surface-temperature-ensemble-product/constraints.json SST (ESA CCI GMPE)\n",
      "SST (ESA CCI GMPE) 1981-09-01 00:00:00 2016-12-31 00:00:00\n",
      "/home/cxjo/C3S_stuff/cads-forms-json/satellite-sea-level-global/constraints.json Sea Level (Global)\n",
      "Sea Level (Global) 1993-01-01 00:00:00 2023-12-31 00:00:00\n",
      "/home/cxjo/C3S_stuff/cads-forms-json/satellite-sea-level-global/constraints.json Surface Currents\n",
      "Surface Currents 1993-01-01 00:00:00 2023-12-31 00:00:00\n"
     ]
    }
   ],
   "source": [
    "def calc_dateminmax_from_cds_form_2(jfilepath,ecv):\n",
    "    # Opening JSON file\n",
    "    f = open(jfilepath)\n",
    "    # returns JSON object as \n",
    "    # a dictionary\n",
    "    data = json.load(f)\n",
    "    # print(data)\n",
    "    df = pd.DataFrame(data)\n",
    "    # display(df)\n",
    "    \n",
    "    # print(df.keys())\n",
    "    # print(len(df))\n",
    "    \n",
    "    # find records where dates cannot be defined\n",
    "    if 'sensor_and_algorithm' in df.keys():        \n",
    "        lst_erase=[]\n",
    "        for i in range(len(df)):\n",
    "            if (df['sensor_and_algorithm'][i][0]=='merged_obs4mips'): lst_erase.append(i)\n",
    "        # now .drop these problematic rows\n",
    "        for i in lst_erase:\n",
    "            df=df.drop(lst_erase)\n",
    "    if ecv == 'Earth Radiation Budget':        \n",
    "        lst_erase=[]\n",
    "        for i in range(len(df)):\n",
    "            if (df['variable'][i][0]=='total_solar_irradiance'): lst_erase.append(i) # this info is read from the dataset itself\n",
    "        # now .drop these problematic rows\n",
    "        for i in lst_erase:\n",
    "            df=df.drop(lst_erase)\n",
    "    # for i in range(len(df)):\n",
    "    #     print(df.loc[i])\n",
    "    #     if ('year' not in df[i]): lst_erase.append(i)\n",
    "\n",
    "    df['datemax'] = df.apply(compute_datemax,axis=1)\n",
    "    df['datemin'] = df.apply(compute_datemin,axis=1)\n",
    "\n",
    "    datemin = df['datemin'].min()\n",
    "    datemax = df['datemax'].max()\n",
    "\n",
    "    return datemin,datemax\n",
    "\n",
    "prod_dic = {}\n",
    "datemax_list = []\n",
    "datemin_list = []\n",
    "\n",
    "for k,prod in enumerate(conf['PRODUCT']):\n",
    "    # print(prod, conf['PRODUCT'][prod]['ECV'])\n",
    "    ecv = conf['PRODUCT'][prod]['ECV']\n",
    "    entry = conf['PRODUCT'][prod]['entry'][0]\n",
    "    product = conf['PRODUCT'][prod]['Product']\n",
    "    themHub = conf['PRODUCT'][prod]['Thematic_hub']\n",
    "    jfilepath=f'{cds_form_dir}{entry}/constraints.json'\n",
    "    print(jfilepath,prod)\n",
    "    if prod == 'C3S_RMIB_ERB':\n",
    "        datemin,datemax = extract_dates_from_TSI()\n",
    "    elif prod == 'Ice Sheet Gravimetric Mass Balance':\n",
    "        fname = glob(datasets_dir+'C3S_GMB*')[0]\n",
    "        nc = xr.open_dataset(fname)\n",
    "        datemin,datemax=(pd.Timestamp(nc['time'].values[0]),pd.Timestamp(nc['time'].values[-1]))\n",
    "    elif prod == 'Ice Sheet Surface Elevation Change (Antarctica)':\n",
    "        fnames = glob(datasets_dir+'C3S_*AntIS_RA*.nc')\n",
    "        datebegs = []\n",
    "        dateends = []\n",
    "        for fname in fnames:\n",
    "            print('will open '+fname)\n",
    "            nc = xr.open_dataset(fname)\n",
    "            datebegs.append(pd.Timestamp(nc['time'].values[0]))\n",
    "            dateends.append(pd.Timestamp(nc['time'].values[-1]))\n",
    "        datemin,datemax=(min(datebegs),max(dateends))\n",
    "        # print(prod,datemin,datemax)\n",
    "        # raise SystemExit\n",
    "    elif prod == 'Ice Sheet Surface Elevation Change (Greenland)':\n",
    "        fnames = glob(datasets_dir+'C3S_*GrIS_RA*.nc')\n",
    "        datebegs = []\n",
    "        dateends = []\n",
    "        for fname in fnames:\n",
    "            print('will open '+fname)\n",
    "            nc = xr.open_dataset(fname)\n",
    "            print(pd.Timestamp(nc['time'].values[0]))\n",
    "            datebegs.append(pd.Timestamp(nc['time'].values[0]))\n",
    "            dateends.append(pd.Timestamp(nc['time'].values[-1]))\n",
    "        datemin,datemax=(min(datebegs),max(dateends))\n",
    "        # print(prod,datemin,datemax)\n",
    "        # raise SystemExit\n",
    "    elif prod == 'Glaciers elevation and mass change data':\n",
    "        jfile = f'{cds_form_dir}{entry}/constraints.json'\n",
    "        print(jfile)\n",
    "        datemin,datemax = extract_dates_derived_glaciers(jfile)\n",
    "        datemin_list.append(datemin)\n",
    "        datemax_list.append(datemax)\n",
    "    elif entry == 'insitu-glaciers-extent':    \n",
    "        datemin= pd.Timestamp('1990-01-01') # http://www.glims.org/rgi_user_guide/06_dataset_summary.html\n",
    "        datemax= pd.Timestamp('2010-12-31')\n",
    "        datemin_list.append(datemin)\n",
    "        datemax_list.append(datemax)\n",
    "    elif entry =='satellite-total-column-water-vapour-ocean':\n",
    "        # temporal aggregation is messed up. does not have the same meaning as other datasets\n",
    "        # monthly should be yearly\n",
    "        # 6-hourly should be monthly\n",
    "        # need to write a special function that accounts for this\n",
    "        datemin,datemax = extract_dates_wv(jfilepath)\n",
    "        datemin_list.append(datemin)\n",
    "        datemax_list.append(datemax)\n",
    "    elif entry == 'satellite-lake-water-level':\n",
    "        datemin,datemax = extract_dates_lake_levels(datasets_dir)\n",
    "        datemin_list.append(datemin)\n",
    "        datemax_list.append(datemax)\n",
    "    else:\n",
    "        datemin,datemax = calc_dateminmax_from_cds_form_2(jfilepath,ecv)\n",
    "    print(prod,datemin,datemax)\n",
    "    datemin_list.append(datemin)\n",
    "    datemax_list.append(datemax)\n",
    "    \n",
    "    prod_dic[k] = {\n",
    "    'Product': product,\n",
    "    'ECV'     : ecv,\n",
    "    'DateBeg' : datemin,\n",
    "    'DateEnd' : datemax,\n",
    "    'Thematic Hub' : themHub\n",
    "}"
   ]
  },
  {
   "cell_type": "code",
   "execution_count": 17,
   "metadata": {},
   "outputs": [
    {
     "name": "stdout",
     "output_type": "stream",
     "text": [
      "|    | Product                                         | ECV                      | DateBeg    | DateEnd    | Thematic Hub            |\n",
      "|---:|:------------------------------------------------|:-------------------------|:-----------|:-----------|:------------------------|\n",
      "|  0 | Aerosols                                        | Aerosols                 | 1995-06-01 | 2023-10-31 | Atmospheric Composition |\n",
      "|  2 | CH4                                             | Greenhouse Gases         | 2002-10-01 | 2022-12-31 | Atmospheric Composition |\n",
      "|  1 | CO2                                             | Greenhouse Gases         | 2002-10-01 | 2022-12-31 | Atmospheric Composition |\n",
      "|  3 | Ozone                                           | Ozone                    | 1970-04-01 | 2023-07-31 | Atmospheric Composition |\n",
      "|  4 | Clouds                                          | Clouds                   | 1979-01-01 | 2023-10-31 | Atmospheric Physics     |\n",
      "|  8 | Earth Rad Budget - C3S CCI                      | Earth Radiation Budget   | 1979-01-01 | 2024-09-17 | Atmospheric Physics     |\n",
      "|  9 | Earth Rad Budget - C3S RMIB TotSolarIrrad       | Earth Radiation Budget   | 1979-01-01 | 2024-12-13 | Atmospheric Physics     |\n",
      "|  7 | Earth Rad Budget - ESA CLOUD CCI                | Earth Radiation Budget   | 1979-01-01 | 2024-09-17 | Atmospheric Physics     |\n",
      "|  5 | Earth Rad Budget - NASA CERES EBAF              | Earth Radiation Budget   | 1979-01-01 | 2024-09-17 | Atmospheric Physics     |\n",
      "|  6 | Earth Rad Budget - NOAA/NCEI HIRS               | Earth Radiation Budget   | 1979-01-01 | 2024-09-17 | Atmospheric Physics     |\n",
      "| 10 | Precipitation                                   | Precipitation            | 1979-01-01 | 2024-03-31 | Atmospheric Physics     |\n",
      "| 12 | Precipitation_GIRAFE                            | Precipitation            | 2002-01-01 | 2022-12-31 | Atmospheric Physics     |\n",
      "| 11 | Precipitation_microwave                         | Precipitation            | 2000-01-01 | 2017-12-31 | Atmospheric Physics     |\n",
      "| 14 | Surface Rad Budget (CCI)                        | Surface Radiation Budget | 1979-01-01 | 2023-10-31 | Atmospheric Physics     |\n",
      "| 13 | Surface Rad Budget - (CMSAF/CLARA)              | Surface Radiation Budget | 1979-01-01 | 2023-10-31 | Atmospheric Physics     |\n",
      "| 15 | Total Column Water Vapour (HOAPS)               | Upper-air Water Vapour   | 1988-01-31 | 2020-12-31 | Atmospheric Physics     |\n",
      "| 16 | Total Column Water Vapour (MERIS/SSMI)          | Upper-air Water Vapour   | 2002-05-01 | 2017-12-31 | Atmospheric Physics     |\n",
      "| 17 | Tropospheric Humidity Profiles (RO)             | Upper-air Water Vapour   | 2006-12-01 | 2024-02-29 | Atmospheric Physics     |\n",
      "| 18 | Upper Tropospheric Humidity                     | Upper-air Water Vapour   | 1999-01-01 | 2021-02-28 | Atmospheric Physics     |\n",
      "| 23 | Glaciers elevation and mass change data         | Glaciers                 | 1975-04-01 | 2021-09-30 | Cryosphere              |\n",
      "| 24 | Randolph Glacier Inventory for the year 2000    | Glaciers                 | 1990-01-01 | 2010-12-31 | Cryosphere              |\n",
      "| 20 | Ice Sheet Gravimetric Mass Balance              | Ice Sheets               | 2002-04-16 | 2022-12-17 | Cryosphere              |\n",
      "| 21 | Ice Sheet Surface Elevation Change (Antarctica) | Ice Sheets               | 1994-11-01 | 2020-06-01 | Cryosphere              |\n",
      "| 22 | Ice Sheet Surface Elevation Change (Greenland)  | Ice Sheets               | 1992-01-01 | 2024-01-01 | Cryosphere              |\n",
      "| 19 | Ice Sheet Velocity (Greenland)                  | Ice Sheets               | 2018-10-01 | 2021-09-30 | Cryosphere              |\n",
      "| 33 | Surface Albedo 10-daily                         | Albedo                   | 1981-09-20 | 2020-06-30 | Land Biosphere          |\n",
      "| 29 | FAPAR                                           | FAPAR                    | 1981-09-20 | 2020-06-30 | Land Biosphere          |\n",
      "| 30 | Fire Burned Areas                               | Fire                     | 2001-01-01 | 2022-12-01 | Land Biosphere          |\n",
      "| 31 | Fire Radiative Power                            | Fire                     | 2020-01-01 | 2024-02-29 | Land Biosphere          |\n",
      "| 28 | LAI                                             | LAI                      | 1981-09-20 | 2020-06-30 | Land Biosphere          |\n",
      "| 32 | Land Cover                                      | Land Cover               | 1992-01-01 | 2022-12-31 | Land Biosphere          |\n",
      "| 25 | Lake Surface Temperature                        | Lakes                    | 1995-06-01 | 2023-12-31 | Land Hydrology          |\n",
      "| 26 | Lake Water Level                                | Lakes                    | 1992-10-13 | 2023-12-24 | Land Hydrology          |\n",
      "| 27 | Soil Moisture                                   | Soil Moisture            | 1978-11-01 | 2024-11-30 | Land Hydrology          |\n",
      "| 34 | Ocean Colour                                    | Ocean Colour             | 1997-09-04 | 2024-09-30 | Ocean                   |\n",
      "| 38 | SST                                             | SST                      | 1981-08-24 | 2022-12-31 | Ocean                   |\n",
      "| 39 | SST (ESA CCI GMPE)                              | SST                      | 1981-09-01 | 2016-12-31 | Ocean                   |\n",
      "| 35 | Sea Ice Concentration                           | Sea Ice                  | 1978-10-25 | 2024-12-02 | Ocean                   |\n",
      "| 36 | Sea Ice Edge and Type                           | Sea Ice                  | 1978-10-25 | 2024-12-02 | Ocean                   |\n",
      "| 37 | Sea Ice Thickness                               | Sea Ice                  | 2002-10-01 | 2024-04-30 | Ocean                   |\n",
      "| 40 | Sea Level                                       | Sea Level                | 1993-01-01 | 2023-12-31 | Ocean                   |\n",
      "| 41 | Surface Geostrophic Currents                    | Surface Currents         | 1993-01-01 | 2023-12-31 | Ocean                   |\n",
      "20241218\n"
     ]
    },
    {
     "data": {
      "application/vnd.plotly.v1+json": {
       "config": {
        "plotlyServerURL": "https://plot.ly"
       },
       "data": [
        {
         "alignmentgroup": "True",
         "base": [
          "1995-06-01",
          "2002-10-01",
          "2002-10-01",
          "1970-04-01"
         ],
         "hovertemplate": "Thematic Hub=Atmospheric Composition<br>DateBeg=%{base}<br>DateEnd=%{x}<br>Product=%{y}<extra></extra>",
         "legendgroup": "Atmospheric Composition",
         "marker": {
          "color": "#636efa",
          "pattern": {
           "shape": ""
          }
         },
         "name": "Atmospheric Composition",
         "offsetgroup": "Atmospheric Composition",
         "orientation": "h",
         "showlegend": true,
         "textposition": "auto",
         "type": "bar",
         "x": [
          896745600000,
          639014400000,
          639014400000,
          1682985600000
         ],
         "xaxis": "x",
         "y": [
          "Aerosols",
          "CH4",
          "CO2",
          "Ozone"
         ],
         "yaxis": "y"
        },
        {
         "alignmentgroup": "True",
         "base": [
          "1979-01-01",
          "1979-01-01",
          "1979-01-01",
          "1979-01-01",
          "1979-01-01",
          "1979-01-01",
          "1979-01-01",
          "2002-01-01",
          "2000-01-01",
          "1979-01-01",
          "1979-01-01",
          "1988-01-31",
          "2002-05-01",
          "2006-12-01",
          "1999-01-01"
         ],
         "hovertemplate": "Thematic Hub=Atmospheric Physics<br>DateBeg=%{base}<br>DateEnd=%{x}<br>Product=%{y}<extra></extra>",
         "legendgroup": "Atmospheric Physics",
         "marker": {
          "color": "#EF553B",
          "pattern": {
           "shape": ""
          }
         },
         "name": "Atmospheric Physics",
         "offsetgroup": "Atmospheric Physics",
         "orientation": "h",
         "showlegend": true,
         "textposition": "auto",
         "type": "bar",
         "x": [
          1414713600000,
          1442534400000,
          1450051200000,
          1442534400000,
          1442534400000,
          1442534400000,
          1427846400000,
          662601600000,
          567993600000,
          1414713600000,
          1414713600000,
          1038787200000,
          494467200000,
          544233600000,
          699321600000
         ],
         "xaxis": "x",
         "y": [
          "Clouds",
          "Earth Rad Budget - C3S CCI",
          "Earth Rad Budget - C3S RMIB TotSolarIrrad",
          "Earth Rad Budget - ESA CLOUD CCI",
          "Earth Rad Budget - NASA CERES EBAF",
          "Earth Rad Budget - NOAA/NCEI HIRS",
          "Precipitation",
          "Precipitation_GIRAFE",
          "Precipitation_microwave",
          "Surface Rad Budget (CCI)",
          "Surface Rad Budget - (CMSAF/CLARA)",
          "Total Column Water Vapour (HOAPS)",
          "Total Column Water Vapour (MERIS/SSMI)",
          "Tropospheric Humidity Profiles (RO)",
          "Upper Tropospheric Humidity"
         ],
         "yaxis": "y"
        },
        {
         "alignmentgroup": "True",
         "base": [
          "1975-04-01",
          "1990-01-01",
          "2002-04-16",
          "1994-11-01",
          "1992-01-01",
          "2018-10-01"
         ],
         "hovertemplate": "Thematic Hub=Cryosphere<br>DateBeg=%{base}<br>DateEnd=%{x}<br>Product=%{y}<extra></extra>",
         "legendgroup": "Cryosphere",
         "marker": {
          "color": "#00cc96",
          "pattern": {
           "shape": ""
          }
         },
         "name": "Cryosphere",
         "offsetgroup": "Cryosphere",
         "orientation": "h",
         "showlegend": true,
         "textposition": "auto",
         "type": "bar",
         "x": [
          1467417600000,
          662601600000,
          652320000000,
          807321600000,
          1009843200000,
          94608000000
         ],
         "xaxis": "x",
         "y": [
          "Glaciers elevation and mass change data",
          "Randolph Glacier Inventory for the year 2000",
          "Ice Sheet Gravimetric Mass Balance",
          "Ice Sheet Surface Elevation Change (Antarctica)",
          "Ice Sheet Surface Elevation Change (Greenland)",
          "Ice Sheet Velocity (Greenland)"
         ],
         "yaxis": "y"
        },
        {
         "alignmentgroup": "True",
         "base": [
          "1981-09-20",
          "1981-09-20",
          "2001-01-01",
          "2020-01-01",
          "1981-09-20",
          "1992-01-01"
         ],
         "hovertemplate": "Thematic Hub=Land Biosphere<br>DateBeg=%{base}<br>DateEnd=%{x}<br>Product=%{y}<extra></extra>",
         "legendgroup": "Land Biosphere",
         "marker": {
          "color": "#ab63fa",
          "pattern": {
           "shape": ""
          }
         },
         "name": "Land Biosphere",
         "offsetgroup": "Land Biosphere",
         "orientation": "h",
         "showlegend": true,
         "textposition": "auto",
         "type": "bar",
         "x": [
          1223683200000,
          1223683200000,
          691545600000,
          131328000000,
          1223683200000,
          978220800000
         ],
         "xaxis": "x",
         "y": [
          "Surface Albedo 10-daily",
          "FAPAR",
          "Fire Burned Areas",
          "Fire Radiative Power",
          "LAI",
          "Land Cover"
         ],
         "yaxis": "y"
        },
        {
         "alignmentgroup": "True",
         "base": [
          "1995-06-01",
          "1992-10-13",
          "1978-11-01"
         ],
         "hovertemplate": "Thematic Hub=Land Hydrology<br>DateBeg=%{base}<br>DateEnd=%{x}<br>Product=%{y}<extra></extra>",
         "legendgroup": "Land Hydrology",
         "marker": {
          "color": "#FFA15A",
          "pattern": {
           "shape": ""
          }
         },
         "name": "Land Hydrology",
         "offsetgroup": "Land Hydrology",
         "orientation": "h",
         "showlegend": true,
         "textposition": "auto",
         "type": "bar",
         "x": [
          902016000000,
          984441600000,
          1454198400000
         ],
         "xaxis": "x",
         "y": [
          "Lake Surface Temperature",
          "Lake Water Level",
          "Soil Moisture"
         ],
         "yaxis": "y"
        },
        {
         "alignmentgroup": "True",
         "base": [
          "1997-09-04",
          "1981-08-24",
          "1981-09-01",
          "1978-10-25",
          "1978-10-25",
          "2002-10-01",
          "1993-01-01",
          "1993-01-01"
         ],
         "hovertemplate": "Thematic Hub=Ocean<br>DateBeg=%{base}<br>DateEnd=%{x}<br>Product=%{y}<extra></extra>",
         "legendgroup": "Ocean",
         "marker": {
          "color": "#19d3f3",
          "pattern": {
           "shape": ""
          }
         },
         "name": "Ocean",
         "offsetgroup": "Ocean",
         "orientation": "h",
         "showlegend": true,
         "textposition": "auto",
         "type": "bar",
         "x": [
          854323200000,
          1304985600000,
          1114992000000,
          1454976000000,
          1454976000000,
          681004800000,
          978134400000,
          978134400000
         ],
         "xaxis": "x",
         "y": [
          "Ocean Colour",
          "SST",
          "SST (ESA CCI GMPE)",
          "Sea Ice Concentration",
          "Sea Ice Edge and Type",
          "Sea Ice Thickness",
          "Sea Level",
          "Surface Geostrophic Currents"
         ],
         "yaxis": "y"
        }
       ],
       "layout": {
        "autosize": false,
        "barmode": "overlay",
        "height": 800,
        "legend": {
         "title": {
          "text": "Thematic Hub"
         },
         "tracegroupgap": 0
        },
        "margin": {
         "t": 60
        },
        "template": {
         "data": {
          "bar": [
           {
            "error_x": {
             "color": "#2a3f5f"
            },
            "error_y": {
             "color": "#2a3f5f"
            },
            "marker": {
             "line": {
              "color": "#E5ECF6",
              "width": 0.5
             },
             "pattern": {
              "fillmode": "overlay",
              "size": 10,
              "solidity": 0.2
             }
            },
            "type": "bar"
           }
          ],
          "barpolar": [
           {
            "marker": {
             "line": {
              "color": "#E5ECF6",
              "width": 0.5
             },
             "pattern": {
              "fillmode": "overlay",
              "size": 10,
              "solidity": 0.2
             }
            },
            "type": "barpolar"
           }
          ],
          "carpet": [
           {
            "aaxis": {
             "endlinecolor": "#2a3f5f",
             "gridcolor": "white",
             "linecolor": "white",
             "minorgridcolor": "white",
             "startlinecolor": "#2a3f5f"
            },
            "baxis": {
             "endlinecolor": "#2a3f5f",
             "gridcolor": "white",
             "linecolor": "white",
             "minorgridcolor": "white",
             "startlinecolor": "#2a3f5f"
            },
            "type": "carpet"
           }
          ],
          "choropleth": [
           {
            "colorbar": {
             "outlinewidth": 0,
             "ticks": ""
            },
            "type": "choropleth"
           }
          ],
          "contour": [
           {
            "colorbar": {
             "outlinewidth": 0,
             "ticks": ""
            },
            "colorscale": [
             [
              0,
              "#0d0887"
             ],
             [
              0.1111111111111111,
              "#46039f"
             ],
             [
              0.2222222222222222,
              "#7201a8"
             ],
             [
              0.3333333333333333,
              "#9c179e"
             ],
             [
              0.4444444444444444,
              "#bd3786"
             ],
             [
              0.5555555555555556,
              "#d8576b"
             ],
             [
              0.6666666666666666,
              "#ed7953"
             ],
             [
              0.7777777777777778,
              "#fb9f3a"
             ],
             [
              0.8888888888888888,
              "#fdca26"
             ],
             [
              1,
              "#f0f921"
             ]
            ],
            "type": "contour"
           }
          ],
          "contourcarpet": [
           {
            "colorbar": {
             "outlinewidth": 0,
             "ticks": ""
            },
            "type": "contourcarpet"
           }
          ],
          "heatmap": [
           {
            "colorbar": {
             "outlinewidth": 0,
             "ticks": ""
            },
            "colorscale": [
             [
              0,
              "#0d0887"
             ],
             [
              0.1111111111111111,
              "#46039f"
             ],
             [
              0.2222222222222222,
              "#7201a8"
             ],
             [
              0.3333333333333333,
              "#9c179e"
             ],
             [
              0.4444444444444444,
              "#bd3786"
             ],
             [
              0.5555555555555556,
              "#d8576b"
             ],
             [
              0.6666666666666666,
              "#ed7953"
             ],
             [
              0.7777777777777778,
              "#fb9f3a"
             ],
             [
              0.8888888888888888,
              "#fdca26"
             ],
             [
              1,
              "#f0f921"
             ]
            ],
            "type": "heatmap"
           }
          ],
          "heatmapgl": [
           {
            "colorbar": {
             "outlinewidth": 0,
             "ticks": ""
            },
            "colorscale": [
             [
              0,
              "#0d0887"
             ],
             [
              0.1111111111111111,
              "#46039f"
             ],
             [
              0.2222222222222222,
              "#7201a8"
             ],
             [
              0.3333333333333333,
              "#9c179e"
             ],
             [
              0.4444444444444444,
              "#bd3786"
             ],
             [
              0.5555555555555556,
              "#d8576b"
             ],
             [
              0.6666666666666666,
              "#ed7953"
             ],
             [
              0.7777777777777778,
              "#fb9f3a"
             ],
             [
              0.8888888888888888,
              "#fdca26"
             ],
             [
              1,
              "#f0f921"
             ]
            ],
            "type": "heatmapgl"
           }
          ],
          "histogram": [
           {
            "marker": {
             "pattern": {
              "fillmode": "overlay",
              "size": 10,
              "solidity": 0.2
             }
            },
            "type": "histogram"
           }
          ],
          "histogram2d": [
           {
            "colorbar": {
             "outlinewidth": 0,
             "ticks": ""
            },
            "colorscale": [
             [
              0,
              "#0d0887"
             ],
             [
              0.1111111111111111,
              "#46039f"
             ],
             [
              0.2222222222222222,
              "#7201a8"
             ],
             [
              0.3333333333333333,
              "#9c179e"
             ],
             [
              0.4444444444444444,
              "#bd3786"
             ],
             [
              0.5555555555555556,
              "#d8576b"
             ],
             [
              0.6666666666666666,
              "#ed7953"
             ],
             [
              0.7777777777777778,
              "#fb9f3a"
             ],
             [
              0.8888888888888888,
              "#fdca26"
             ],
             [
              1,
              "#f0f921"
             ]
            ],
            "type": "histogram2d"
           }
          ],
          "histogram2dcontour": [
           {
            "colorbar": {
             "outlinewidth": 0,
             "ticks": ""
            },
            "colorscale": [
             [
              0,
              "#0d0887"
             ],
             [
              0.1111111111111111,
              "#46039f"
             ],
             [
              0.2222222222222222,
              "#7201a8"
             ],
             [
              0.3333333333333333,
              "#9c179e"
             ],
             [
              0.4444444444444444,
              "#bd3786"
             ],
             [
              0.5555555555555556,
              "#d8576b"
             ],
             [
              0.6666666666666666,
              "#ed7953"
             ],
             [
              0.7777777777777778,
              "#fb9f3a"
             ],
             [
              0.8888888888888888,
              "#fdca26"
             ],
             [
              1,
              "#f0f921"
             ]
            ],
            "type": "histogram2dcontour"
           }
          ],
          "mesh3d": [
           {
            "colorbar": {
             "outlinewidth": 0,
             "ticks": ""
            },
            "type": "mesh3d"
           }
          ],
          "parcoords": [
           {
            "line": {
             "colorbar": {
              "outlinewidth": 0,
              "ticks": ""
             }
            },
            "type": "parcoords"
           }
          ],
          "pie": [
           {
            "automargin": true,
            "type": "pie"
           }
          ],
          "scatter": [
           {
            "fillpattern": {
             "fillmode": "overlay",
             "size": 10,
             "solidity": 0.2
            },
            "type": "scatter"
           }
          ],
          "scatter3d": [
           {
            "line": {
             "colorbar": {
              "outlinewidth": 0,
              "ticks": ""
             }
            },
            "marker": {
             "colorbar": {
              "outlinewidth": 0,
              "ticks": ""
             }
            },
            "type": "scatter3d"
           }
          ],
          "scattercarpet": [
           {
            "marker": {
             "colorbar": {
              "outlinewidth": 0,
              "ticks": ""
             }
            },
            "type": "scattercarpet"
           }
          ],
          "scattergeo": [
           {
            "marker": {
             "colorbar": {
              "outlinewidth": 0,
              "ticks": ""
             }
            },
            "type": "scattergeo"
           }
          ],
          "scattergl": [
           {
            "marker": {
             "colorbar": {
              "outlinewidth": 0,
              "ticks": ""
             }
            },
            "type": "scattergl"
           }
          ],
          "scattermapbox": [
           {
            "marker": {
             "colorbar": {
              "outlinewidth": 0,
              "ticks": ""
             }
            },
            "type": "scattermapbox"
           }
          ],
          "scatterpolar": [
           {
            "marker": {
             "colorbar": {
              "outlinewidth": 0,
              "ticks": ""
             }
            },
            "type": "scatterpolar"
           }
          ],
          "scatterpolargl": [
           {
            "marker": {
             "colorbar": {
              "outlinewidth": 0,
              "ticks": ""
             }
            },
            "type": "scatterpolargl"
           }
          ],
          "scatterternary": [
           {
            "marker": {
             "colorbar": {
              "outlinewidth": 0,
              "ticks": ""
             }
            },
            "type": "scatterternary"
           }
          ],
          "surface": [
           {
            "colorbar": {
             "outlinewidth": 0,
             "ticks": ""
            },
            "colorscale": [
             [
              0,
              "#0d0887"
             ],
             [
              0.1111111111111111,
              "#46039f"
             ],
             [
              0.2222222222222222,
              "#7201a8"
             ],
             [
              0.3333333333333333,
              "#9c179e"
             ],
             [
              0.4444444444444444,
              "#bd3786"
             ],
             [
              0.5555555555555556,
              "#d8576b"
             ],
             [
              0.6666666666666666,
              "#ed7953"
             ],
             [
              0.7777777777777778,
              "#fb9f3a"
             ],
             [
              0.8888888888888888,
              "#fdca26"
             ],
             [
              1,
              "#f0f921"
             ]
            ],
            "type": "surface"
           }
          ],
          "table": [
           {
            "cells": {
             "fill": {
              "color": "#EBF0F8"
             },
             "line": {
              "color": "white"
             }
            },
            "header": {
             "fill": {
              "color": "#C8D4E3"
             },
             "line": {
              "color": "white"
             }
            },
            "type": "table"
           }
          ]
         },
         "layout": {
          "annotationdefaults": {
           "arrowcolor": "#2a3f5f",
           "arrowhead": 0,
           "arrowwidth": 1
          },
          "autotypenumbers": "strict",
          "coloraxis": {
           "colorbar": {
            "outlinewidth": 0,
            "ticks": ""
           }
          },
          "colorscale": {
           "diverging": [
            [
             0,
             "#8e0152"
            ],
            [
             0.1,
             "#c51b7d"
            ],
            [
             0.2,
             "#de77ae"
            ],
            [
             0.3,
             "#f1b6da"
            ],
            [
             0.4,
             "#fde0ef"
            ],
            [
             0.5,
             "#f7f7f7"
            ],
            [
             0.6,
             "#e6f5d0"
            ],
            [
             0.7,
             "#b8e186"
            ],
            [
             0.8,
             "#7fbc41"
            ],
            [
             0.9,
             "#4d9221"
            ],
            [
             1,
             "#276419"
            ]
           ],
           "sequential": [
            [
             0,
             "#0d0887"
            ],
            [
             0.1111111111111111,
             "#46039f"
            ],
            [
             0.2222222222222222,
             "#7201a8"
            ],
            [
             0.3333333333333333,
             "#9c179e"
            ],
            [
             0.4444444444444444,
             "#bd3786"
            ],
            [
             0.5555555555555556,
             "#d8576b"
            ],
            [
             0.6666666666666666,
             "#ed7953"
            ],
            [
             0.7777777777777778,
             "#fb9f3a"
            ],
            [
             0.8888888888888888,
             "#fdca26"
            ],
            [
             1,
             "#f0f921"
            ]
           ],
           "sequentialminus": [
            [
             0,
             "#0d0887"
            ],
            [
             0.1111111111111111,
             "#46039f"
            ],
            [
             0.2222222222222222,
             "#7201a8"
            ],
            [
             0.3333333333333333,
             "#9c179e"
            ],
            [
             0.4444444444444444,
             "#bd3786"
            ],
            [
             0.5555555555555556,
             "#d8576b"
            ],
            [
             0.6666666666666666,
             "#ed7953"
            ],
            [
             0.7777777777777778,
             "#fb9f3a"
            ],
            [
             0.8888888888888888,
             "#fdca26"
            ],
            [
             1,
             "#f0f921"
            ]
           ]
          },
          "colorway": [
           "#636efa",
           "#EF553B",
           "#00cc96",
           "#ab63fa",
           "#FFA15A",
           "#19d3f3",
           "#FF6692",
           "#B6E880",
           "#FF97FF",
           "#FECB52"
          ],
          "font": {
           "color": "#2a3f5f"
          },
          "geo": {
           "bgcolor": "white",
           "lakecolor": "white",
           "landcolor": "#E5ECF6",
           "showlakes": true,
           "showland": true,
           "subunitcolor": "white"
          },
          "hoverlabel": {
           "align": "left"
          },
          "hovermode": "closest",
          "mapbox": {
           "style": "light"
          },
          "paper_bgcolor": "white",
          "plot_bgcolor": "#E5ECF6",
          "polar": {
           "angularaxis": {
            "gridcolor": "white",
            "linecolor": "white",
            "ticks": ""
           },
           "bgcolor": "#E5ECF6",
           "radialaxis": {
            "gridcolor": "white",
            "linecolor": "white",
            "ticks": ""
           }
          },
          "scene": {
           "xaxis": {
            "backgroundcolor": "#E5ECF6",
            "gridcolor": "white",
            "gridwidth": 2,
            "linecolor": "white",
            "showbackground": true,
            "ticks": "",
            "zerolinecolor": "white"
           },
           "yaxis": {
            "backgroundcolor": "#E5ECF6",
            "gridcolor": "white",
            "gridwidth": 2,
            "linecolor": "white",
            "showbackground": true,
            "ticks": "",
            "zerolinecolor": "white"
           },
           "zaxis": {
            "backgroundcolor": "#E5ECF6",
            "gridcolor": "white",
            "gridwidth": 2,
            "linecolor": "white",
            "showbackground": true,
            "ticks": "",
            "zerolinecolor": "white"
           }
          },
          "shapedefaults": {
           "line": {
            "color": "#2a3f5f"
           }
          },
          "ternary": {
           "aaxis": {
            "gridcolor": "white",
            "linecolor": "white",
            "ticks": ""
           },
           "baxis": {
            "gridcolor": "white",
            "linecolor": "white",
            "ticks": ""
           },
           "bgcolor": "#E5ECF6",
           "caxis": {
            "gridcolor": "white",
            "linecolor": "white",
            "ticks": ""
           }
          },
          "title": {
           "x": 0.05
          },
          "xaxis": {
           "automargin": true,
           "gridcolor": "white",
           "linecolor": "white",
           "ticks": "",
           "title": {
            "standoff": 15
           },
           "zerolinecolor": "white",
           "zerolinewidth": 2
          },
          "yaxis": {
           "automargin": true,
           "gridcolor": "white",
           "linecolor": "white",
           "ticks": "",
           "title": {
            "standoff": 15
           },
           "zerolinecolor": "white",
           "zerolinewidth": 2
          }
         }
        },
        "width": 1200,
        "xaxis": {
         "anchor": "y",
         "domain": [
          0,
          1
         ],
         "minor": {
          "showgrid": true,
          "ticks": "inside"
         },
         "range": [
          "1970-01-01",
          "2024-12-31"
         ],
         "tickangle": -45,
         "tickfont": {
          "size": 10
         },
         "tickmode": "array",
         "ticktext": [
          "1970",
          "1971",
          "1972",
          "1973",
          "1974",
          "1975",
          "1976",
          "1977",
          "1978",
          "1979",
          "1980",
          "1981",
          "1982",
          "1983",
          "1984",
          "1985",
          "1986",
          "1987",
          "1988",
          "1989",
          "1990",
          "1991",
          "1992",
          "1993",
          "1994",
          "1995",
          "1996",
          "1997",
          "1998",
          "1999",
          "2000",
          "2001",
          "2002",
          "2003",
          "2004",
          "2005",
          "2006",
          "2007",
          "2008",
          "2009",
          "2010",
          "2011",
          "2012",
          "2013",
          "2014",
          "2015",
          "2016",
          "2017",
          "2018",
          "2019",
          "2020",
          "2021",
          "2022",
          "2023",
          "2024"
         ],
         "tickvals": [
          1970,
          1971,
          1972,
          1973,
          1974,
          1975,
          1976,
          1977,
          1978,
          1979,
          1980,
          1981,
          1982,
          1983,
          1984,
          1985,
          1986,
          1987,
          1988,
          1989,
          1990,
          1991,
          1992,
          1993,
          1994,
          1995,
          1996,
          1997,
          1998,
          1999,
          2000,
          2001,
          2002,
          2003,
          2004,
          2005,
          2006,
          2007,
          2008,
          2009,
          2010,
          2011,
          2012,
          2013,
          2014,
          2015,
          2016,
          2017,
          2018,
          2019,
          2020,
          2021,
          2022,
          2023,
          2024
         ],
         "type": "date"
        },
        "yaxis": {
         "anchor": "x",
         "autorange": "reversed",
         "domain": [
          0,
          1
         ],
         "title": {
          "text": "Product"
         }
        }
       }
      },
      "text/html": [
       "<div>                            <div id=\"1bb23259-b4b8-4483-adfa-ae1b48bcafe5\" class=\"plotly-graph-div\" style=\"height:800px; width:1200px;\"></div>            <script type=\"text/javascript\">                require([\"plotly\"], function(Plotly) {                    window.PLOTLYENV=window.PLOTLYENV || {};                                    if (document.getElementById(\"1bb23259-b4b8-4483-adfa-ae1b48bcafe5\")) {                    Plotly.newPlot(                        \"1bb23259-b4b8-4483-adfa-ae1b48bcafe5\",                        [{\"alignmentgroup\":\"True\",\"base\":[\"1995-06-01\",\"2002-10-01\",\"2002-10-01\",\"1970-04-01\"],\"hovertemplate\":\"Thematic Hub=Atmospheric Composition\\u003cbr\\u003eDateBeg=%{base}\\u003cbr\\u003eDateEnd=%{x}\\u003cbr\\u003eProduct=%{y}\\u003cextra\\u003e\\u003c\\u002fextra\\u003e\",\"legendgroup\":\"Atmospheric Composition\",\"marker\":{\"color\":\"#636efa\",\"pattern\":{\"shape\":\"\"}},\"name\":\"Atmospheric Composition\",\"offsetgroup\":\"Atmospheric Composition\",\"orientation\":\"h\",\"showlegend\":true,\"textposition\":\"auto\",\"x\":[896745600000.0,639014400000.0,639014400000.0,1682985600000.0],\"xaxis\":\"x\",\"y\":[\"Aerosols\",\"CH4\",\"CO2\",\"Ozone\"],\"yaxis\":\"y\",\"type\":\"bar\"},{\"alignmentgroup\":\"True\",\"base\":[\"1979-01-01\",\"1979-01-01\",\"1979-01-01\",\"1979-01-01\",\"1979-01-01\",\"1979-01-01\",\"1979-01-01\",\"2002-01-01\",\"2000-01-01\",\"1979-01-01\",\"1979-01-01\",\"1988-01-31\",\"2002-05-01\",\"2006-12-01\",\"1999-01-01\"],\"hovertemplate\":\"Thematic Hub=Atmospheric Physics\\u003cbr\\u003eDateBeg=%{base}\\u003cbr\\u003eDateEnd=%{x}\\u003cbr\\u003eProduct=%{y}\\u003cextra\\u003e\\u003c\\u002fextra\\u003e\",\"legendgroup\":\"Atmospheric Physics\",\"marker\":{\"color\":\"#EF553B\",\"pattern\":{\"shape\":\"\"}},\"name\":\"Atmospheric Physics\",\"offsetgroup\":\"Atmospheric Physics\",\"orientation\":\"h\",\"showlegend\":true,\"textposition\":\"auto\",\"x\":[1414713600000.0,1442534400000.0,1450051200000.0,1442534400000.0,1442534400000.0,1442534400000.0,1427846400000.0,662601600000.0,567993600000.0,1414713600000.0,1414713600000.0,1038787200000.0,494467200000.0,544233600000.0,699321600000.0],\"xaxis\":\"x\",\"y\":[\"Clouds\",\"Earth Rad Budget - C3S CCI\",\"Earth Rad Budget - C3S RMIB TotSolarIrrad\",\"Earth Rad Budget - ESA CLOUD CCI\",\"Earth Rad Budget - NASA CERES EBAF\",\"Earth Rad Budget - NOAA\\u002fNCEI HIRS\",\"Precipitation\",\"Precipitation_GIRAFE\",\"Precipitation_microwave\",\"Surface Rad Budget (CCI)\",\"Surface Rad Budget - (CMSAF\\u002fCLARA)\",\"Total Column Water Vapour (HOAPS)\",\"Total Column Water Vapour (MERIS\\u002fSSMI)\",\"Tropospheric Humidity Profiles (RO)\",\"Upper Tropospheric Humidity\"],\"yaxis\":\"y\",\"type\":\"bar\"},{\"alignmentgroup\":\"True\",\"base\":[\"1975-04-01\",\"1990-01-01\",\"2002-04-16\",\"1994-11-01\",\"1992-01-01\",\"2018-10-01\"],\"hovertemplate\":\"Thematic Hub=Cryosphere\\u003cbr\\u003eDateBeg=%{base}\\u003cbr\\u003eDateEnd=%{x}\\u003cbr\\u003eProduct=%{y}\\u003cextra\\u003e\\u003c\\u002fextra\\u003e\",\"legendgroup\":\"Cryosphere\",\"marker\":{\"color\":\"#00cc96\",\"pattern\":{\"shape\":\"\"}},\"name\":\"Cryosphere\",\"offsetgroup\":\"Cryosphere\",\"orientation\":\"h\",\"showlegend\":true,\"textposition\":\"auto\",\"x\":[1467417600000.0,662601600000.0,652320000000.0,807321600000.0,1009843200000.0,94608000000.0],\"xaxis\":\"x\",\"y\":[\"Glaciers elevation and mass change data\",\"Randolph Glacier Inventory for the year 2000\",\"Ice Sheet Gravimetric Mass Balance\",\"Ice Sheet Surface Elevation Change (Antarctica)\",\"Ice Sheet Surface Elevation Change (Greenland)\",\"Ice Sheet Velocity (Greenland)\"],\"yaxis\":\"y\",\"type\":\"bar\"},{\"alignmentgroup\":\"True\",\"base\":[\"1981-09-20\",\"1981-09-20\",\"2001-01-01\",\"2020-01-01\",\"1981-09-20\",\"1992-01-01\"],\"hovertemplate\":\"Thematic Hub=Land Biosphere\\u003cbr\\u003eDateBeg=%{base}\\u003cbr\\u003eDateEnd=%{x}\\u003cbr\\u003eProduct=%{y}\\u003cextra\\u003e\\u003c\\u002fextra\\u003e\",\"legendgroup\":\"Land Biosphere\",\"marker\":{\"color\":\"#ab63fa\",\"pattern\":{\"shape\":\"\"}},\"name\":\"Land Biosphere\",\"offsetgroup\":\"Land Biosphere\",\"orientation\":\"h\",\"showlegend\":true,\"textposition\":\"auto\",\"x\":[1223683200000.0,1223683200000.0,691545600000.0,131328000000.0,1223683200000.0,978220800000.0],\"xaxis\":\"x\",\"y\":[\"Surface Albedo 10-daily\",\"FAPAR\",\"Fire Burned Areas\",\"Fire Radiative Power\",\"LAI\",\"Land Cover\"],\"yaxis\":\"y\",\"type\":\"bar\"},{\"alignmentgroup\":\"True\",\"base\":[\"1995-06-01\",\"1992-10-13\",\"1978-11-01\"],\"hovertemplate\":\"Thematic Hub=Land Hydrology\\u003cbr\\u003eDateBeg=%{base}\\u003cbr\\u003eDateEnd=%{x}\\u003cbr\\u003eProduct=%{y}\\u003cextra\\u003e\\u003c\\u002fextra\\u003e\",\"legendgroup\":\"Land Hydrology\",\"marker\":{\"color\":\"#FFA15A\",\"pattern\":{\"shape\":\"\"}},\"name\":\"Land Hydrology\",\"offsetgroup\":\"Land Hydrology\",\"orientation\":\"h\",\"showlegend\":true,\"textposition\":\"auto\",\"x\":[902016000000.0,984441600000.0,1454198400000.0],\"xaxis\":\"x\",\"y\":[\"Lake Surface Temperature\",\"Lake Water Level\",\"Soil Moisture\"],\"yaxis\":\"y\",\"type\":\"bar\"},{\"alignmentgroup\":\"True\",\"base\":[\"1997-09-04\",\"1981-08-24\",\"1981-09-01\",\"1978-10-25\",\"1978-10-25\",\"2002-10-01\",\"1993-01-01\",\"1993-01-01\"],\"hovertemplate\":\"Thematic Hub=Ocean\\u003cbr\\u003eDateBeg=%{base}\\u003cbr\\u003eDateEnd=%{x}\\u003cbr\\u003eProduct=%{y}\\u003cextra\\u003e\\u003c\\u002fextra\\u003e\",\"legendgroup\":\"Ocean\",\"marker\":{\"color\":\"#19d3f3\",\"pattern\":{\"shape\":\"\"}},\"name\":\"Ocean\",\"offsetgroup\":\"Ocean\",\"orientation\":\"h\",\"showlegend\":true,\"textposition\":\"auto\",\"x\":[854323200000.0,1304985600000.0,1114992000000.0,1454976000000.0,1454976000000.0,681004800000.0,978134400000.0,978134400000.0],\"xaxis\":\"x\",\"y\":[\"Ocean Colour\",\"SST\",\"SST (ESA CCI GMPE)\",\"Sea Ice Concentration\",\"Sea Ice Edge and Type\",\"Sea Ice Thickness\",\"Sea Level\",\"Surface Geostrophic Currents\"],\"yaxis\":\"y\",\"type\":\"bar\"}],                        {\"template\":{\"data\":{\"histogram2dcontour\":[{\"type\":\"histogram2dcontour\",\"colorbar\":{\"outlinewidth\":0,\"ticks\":\"\"},\"colorscale\":[[0.0,\"#0d0887\"],[0.1111111111111111,\"#46039f\"],[0.2222222222222222,\"#7201a8\"],[0.3333333333333333,\"#9c179e\"],[0.4444444444444444,\"#bd3786\"],[0.5555555555555556,\"#d8576b\"],[0.6666666666666666,\"#ed7953\"],[0.7777777777777778,\"#fb9f3a\"],[0.8888888888888888,\"#fdca26\"],[1.0,\"#f0f921\"]]}],\"choropleth\":[{\"type\":\"choropleth\",\"colorbar\":{\"outlinewidth\":0,\"ticks\":\"\"}}],\"histogram2d\":[{\"type\":\"histogram2d\",\"colorbar\":{\"outlinewidth\":0,\"ticks\":\"\"},\"colorscale\":[[0.0,\"#0d0887\"],[0.1111111111111111,\"#46039f\"],[0.2222222222222222,\"#7201a8\"],[0.3333333333333333,\"#9c179e\"],[0.4444444444444444,\"#bd3786\"],[0.5555555555555556,\"#d8576b\"],[0.6666666666666666,\"#ed7953\"],[0.7777777777777778,\"#fb9f3a\"],[0.8888888888888888,\"#fdca26\"],[1.0,\"#f0f921\"]]}],\"heatmap\":[{\"type\":\"heatmap\",\"colorbar\":{\"outlinewidth\":0,\"ticks\":\"\"},\"colorscale\":[[0.0,\"#0d0887\"],[0.1111111111111111,\"#46039f\"],[0.2222222222222222,\"#7201a8\"],[0.3333333333333333,\"#9c179e\"],[0.4444444444444444,\"#bd3786\"],[0.5555555555555556,\"#d8576b\"],[0.6666666666666666,\"#ed7953\"],[0.7777777777777778,\"#fb9f3a\"],[0.8888888888888888,\"#fdca26\"],[1.0,\"#f0f921\"]]}],\"heatmapgl\":[{\"type\":\"heatmapgl\",\"colorbar\":{\"outlinewidth\":0,\"ticks\":\"\"},\"colorscale\":[[0.0,\"#0d0887\"],[0.1111111111111111,\"#46039f\"],[0.2222222222222222,\"#7201a8\"],[0.3333333333333333,\"#9c179e\"],[0.4444444444444444,\"#bd3786\"],[0.5555555555555556,\"#d8576b\"],[0.6666666666666666,\"#ed7953\"],[0.7777777777777778,\"#fb9f3a\"],[0.8888888888888888,\"#fdca26\"],[1.0,\"#f0f921\"]]}],\"contourcarpet\":[{\"type\":\"contourcarpet\",\"colorbar\":{\"outlinewidth\":0,\"ticks\":\"\"}}],\"contour\":[{\"type\":\"contour\",\"colorbar\":{\"outlinewidth\":0,\"ticks\":\"\"},\"colorscale\":[[0.0,\"#0d0887\"],[0.1111111111111111,\"#46039f\"],[0.2222222222222222,\"#7201a8\"],[0.3333333333333333,\"#9c179e\"],[0.4444444444444444,\"#bd3786\"],[0.5555555555555556,\"#d8576b\"],[0.6666666666666666,\"#ed7953\"],[0.7777777777777778,\"#fb9f3a\"],[0.8888888888888888,\"#fdca26\"],[1.0,\"#f0f921\"]]}],\"surface\":[{\"type\":\"surface\",\"colorbar\":{\"outlinewidth\":0,\"ticks\":\"\"},\"colorscale\":[[0.0,\"#0d0887\"],[0.1111111111111111,\"#46039f\"],[0.2222222222222222,\"#7201a8\"],[0.3333333333333333,\"#9c179e\"],[0.4444444444444444,\"#bd3786\"],[0.5555555555555556,\"#d8576b\"],[0.6666666666666666,\"#ed7953\"],[0.7777777777777778,\"#fb9f3a\"],[0.8888888888888888,\"#fdca26\"],[1.0,\"#f0f921\"]]}],\"mesh3d\":[{\"type\":\"mesh3d\",\"colorbar\":{\"outlinewidth\":0,\"ticks\":\"\"}}],\"scatter\":[{\"fillpattern\":{\"fillmode\":\"overlay\",\"size\":10,\"solidity\":0.2},\"type\":\"scatter\"}],\"parcoords\":[{\"type\":\"parcoords\",\"line\":{\"colorbar\":{\"outlinewidth\":0,\"ticks\":\"\"}}}],\"scatterpolargl\":[{\"type\":\"scatterpolargl\",\"marker\":{\"colorbar\":{\"outlinewidth\":0,\"ticks\":\"\"}}}],\"bar\":[{\"error_x\":{\"color\":\"#2a3f5f\"},\"error_y\":{\"color\":\"#2a3f5f\"},\"marker\":{\"line\":{\"color\":\"#E5ECF6\",\"width\":0.5},\"pattern\":{\"fillmode\":\"overlay\",\"size\":10,\"solidity\":0.2}},\"type\":\"bar\"}],\"scattergeo\":[{\"type\":\"scattergeo\",\"marker\":{\"colorbar\":{\"outlinewidth\":0,\"ticks\":\"\"}}}],\"scatterpolar\":[{\"type\":\"scatterpolar\",\"marker\":{\"colorbar\":{\"outlinewidth\":0,\"ticks\":\"\"}}}],\"histogram\":[{\"marker\":{\"pattern\":{\"fillmode\":\"overlay\",\"size\":10,\"solidity\":0.2}},\"type\":\"histogram\"}],\"scattergl\":[{\"type\":\"scattergl\",\"marker\":{\"colorbar\":{\"outlinewidth\":0,\"ticks\":\"\"}}}],\"scatter3d\":[{\"type\":\"scatter3d\",\"line\":{\"colorbar\":{\"outlinewidth\":0,\"ticks\":\"\"}},\"marker\":{\"colorbar\":{\"outlinewidth\":0,\"ticks\":\"\"}}}],\"scattermapbox\":[{\"type\":\"scattermapbox\",\"marker\":{\"colorbar\":{\"outlinewidth\":0,\"ticks\":\"\"}}}],\"scatterternary\":[{\"type\":\"scatterternary\",\"marker\":{\"colorbar\":{\"outlinewidth\":0,\"ticks\":\"\"}}}],\"scattercarpet\":[{\"type\":\"scattercarpet\",\"marker\":{\"colorbar\":{\"outlinewidth\":0,\"ticks\":\"\"}}}],\"carpet\":[{\"aaxis\":{\"endlinecolor\":\"#2a3f5f\",\"gridcolor\":\"white\",\"linecolor\":\"white\",\"minorgridcolor\":\"white\",\"startlinecolor\":\"#2a3f5f\"},\"baxis\":{\"endlinecolor\":\"#2a3f5f\",\"gridcolor\":\"white\",\"linecolor\":\"white\",\"minorgridcolor\":\"white\",\"startlinecolor\":\"#2a3f5f\"},\"type\":\"carpet\"}],\"table\":[{\"cells\":{\"fill\":{\"color\":\"#EBF0F8\"},\"line\":{\"color\":\"white\"}},\"header\":{\"fill\":{\"color\":\"#C8D4E3\"},\"line\":{\"color\":\"white\"}},\"type\":\"table\"}],\"barpolar\":[{\"marker\":{\"line\":{\"color\":\"#E5ECF6\",\"width\":0.5},\"pattern\":{\"fillmode\":\"overlay\",\"size\":10,\"solidity\":0.2}},\"type\":\"barpolar\"}],\"pie\":[{\"automargin\":true,\"type\":\"pie\"}]},\"layout\":{\"autotypenumbers\":\"strict\",\"colorway\":[\"#636efa\",\"#EF553B\",\"#00cc96\",\"#ab63fa\",\"#FFA15A\",\"#19d3f3\",\"#FF6692\",\"#B6E880\",\"#FF97FF\",\"#FECB52\"],\"font\":{\"color\":\"#2a3f5f\"},\"hovermode\":\"closest\",\"hoverlabel\":{\"align\":\"left\"},\"paper_bgcolor\":\"white\",\"plot_bgcolor\":\"#E5ECF6\",\"polar\":{\"bgcolor\":\"#E5ECF6\",\"angularaxis\":{\"gridcolor\":\"white\",\"linecolor\":\"white\",\"ticks\":\"\"},\"radialaxis\":{\"gridcolor\":\"white\",\"linecolor\":\"white\",\"ticks\":\"\"}},\"ternary\":{\"bgcolor\":\"#E5ECF6\",\"aaxis\":{\"gridcolor\":\"white\",\"linecolor\":\"white\",\"ticks\":\"\"},\"baxis\":{\"gridcolor\":\"white\",\"linecolor\":\"white\",\"ticks\":\"\"},\"caxis\":{\"gridcolor\":\"white\",\"linecolor\":\"white\",\"ticks\":\"\"}},\"coloraxis\":{\"colorbar\":{\"outlinewidth\":0,\"ticks\":\"\"}},\"colorscale\":{\"sequential\":[[0.0,\"#0d0887\"],[0.1111111111111111,\"#46039f\"],[0.2222222222222222,\"#7201a8\"],[0.3333333333333333,\"#9c179e\"],[0.4444444444444444,\"#bd3786\"],[0.5555555555555556,\"#d8576b\"],[0.6666666666666666,\"#ed7953\"],[0.7777777777777778,\"#fb9f3a\"],[0.8888888888888888,\"#fdca26\"],[1.0,\"#f0f921\"]],\"sequentialminus\":[[0.0,\"#0d0887\"],[0.1111111111111111,\"#46039f\"],[0.2222222222222222,\"#7201a8\"],[0.3333333333333333,\"#9c179e\"],[0.4444444444444444,\"#bd3786\"],[0.5555555555555556,\"#d8576b\"],[0.6666666666666666,\"#ed7953\"],[0.7777777777777778,\"#fb9f3a\"],[0.8888888888888888,\"#fdca26\"],[1.0,\"#f0f921\"]],\"diverging\":[[0,\"#8e0152\"],[0.1,\"#c51b7d\"],[0.2,\"#de77ae\"],[0.3,\"#f1b6da\"],[0.4,\"#fde0ef\"],[0.5,\"#f7f7f7\"],[0.6,\"#e6f5d0\"],[0.7,\"#b8e186\"],[0.8,\"#7fbc41\"],[0.9,\"#4d9221\"],[1,\"#276419\"]]},\"xaxis\":{\"gridcolor\":\"white\",\"linecolor\":\"white\",\"ticks\":\"\",\"title\":{\"standoff\":15},\"zerolinecolor\":\"white\",\"automargin\":true,\"zerolinewidth\":2},\"yaxis\":{\"gridcolor\":\"white\",\"linecolor\":\"white\",\"ticks\":\"\",\"title\":{\"standoff\":15},\"zerolinecolor\":\"white\",\"automargin\":true,\"zerolinewidth\":2},\"scene\":{\"xaxis\":{\"backgroundcolor\":\"#E5ECF6\",\"gridcolor\":\"white\",\"linecolor\":\"white\",\"showbackground\":true,\"ticks\":\"\",\"zerolinecolor\":\"white\",\"gridwidth\":2},\"yaxis\":{\"backgroundcolor\":\"#E5ECF6\",\"gridcolor\":\"white\",\"linecolor\":\"white\",\"showbackground\":true,\"ticks\":\"\",\"zerolinecolor\":\"white\",\"gridwidth\":2},\"zaxis\":{\"backgroundcolor\":\"#E5ECF6\",\"gridcolor\":\"white\",\"linecolor\":\"white\",\"showbackground\":true,\"ticks\":\"\",\"zerolinecolor\":\"white\",\"gridwidth\":2}},\"shapedefaults\":{\"line\":{\"color\":\"#2a3f5f\"}},\"annotationdefaults\":{\"arrowcolor\":\"#2a3f5f\",\"arrowhead\":0,\"arrowwidth\":1},\"geo\":{\"bgcolor\":\"white\",\"landcolor\":\"#E5ECF6\",\"subunitcolor\":\"white\",\"showland\":true,\"showlakes\":true,\"lakecolor\":\"white\"},\"title\":{\"x\":0.05},\"mapbox\":{\"style\":\"light\"}}},\"xaxis\":{\"anchor\":\"y\",\"domain\":[0.0,1.0],\"type\":\"date\",\"minor\":{\"ticks\":\"inside\",\"showgrid\":true},\"tickmode\":\"array\",\"tickvals\":[1970,1971,1972,1973,1974,1975,1976,1977,1978,1979,1980,1981,1982,1983,1984,1985,1986,1987,1988,1989,1990,1991,1992,1993,1994,1995,1996,1997,1998,1999,2000,2001,2002,2003,2004,2005,2006,2007,2008,2009,2010,2011,2012,2013,2014,2015,2016,2017,2018,2019,2020,2021,2022,2023,2024],\"ticktext\":[\"1970\",\"1971\",\"1972\",\"1973\",\"1974\",\"1975\",\"1976\",\"1977\",\"1978\",\"1979\",\"1980\",\"1981\",\"1982\",\"1983\",\"1984\",\"1985\",\"1986\",\"1987\",\"1988\",\"1989\",\"1990\",\"1991\",\"1992\",\"1993\",\"1994\",\"1995\",\"1996\",\"1997\",\"1998\",\"1999\",\"2000\",\"2001\",\"2002\",\"2003\",\"2004\",\"2005\",\"2006\",\"2007\",\"2008\",\"2009\",\"2010\",\"2011\",\"2012\",\"2013\",\"2014\",\"2015\",\"2016\",\"2017\",\"2018\",\"2019\",\"2020\",\"2021\",\"2022\",\"2023\",\"2024\"],\"tickangle\":-45,\"tickfont\":{\"size\":10},\"range\":[\"1970-01-01\",\"2024-12-31\"]},\"yaxis\":{\"anchor\":\"x\",\"domain\":[0.0,1.0],\"title\":{\"text\":\"Product\"},\"autorange\":\"reversed\"},\"legend\":{\"title\":{\"text\":\"Thematic Hub\"},\"tracegroupgap\":0},\"margin\":{\"t\":60},\"barmode\":\"overlay\",\"autosize\":false,\"width\":1200,\"height\":800},                        {\"responsive\": true}                    ).then(function(){\n",
       "                            \n",
       "var gd = document.getElementById('1bb23259-b4b8-4483-adfa-ae1b48bcafe5');\n",
       "var x = new MutationObserver(function (mutations, observer) {{\n",
       "        var display = window.getComputedStyle(gd).display;\n",
       "        if (!display || display === 'none') {{\n",
       "            console.log([gd, 'removed!']);\n",
       "            Plotly.purge(gd);\n",
       "            observer.disconnect();\n",
       "        }}\n",
       "}});\n",
       "\n",
       "// Listen for the removal of the full notebook cells\n",
       "var notebookContainer = gd.closest('#notebook-container');\n",
       "if (notebookContainer) {{\n",
       "    x.observe(notebookContainer, {childList: true});\n",
       "}}\n",
       "\n",
       "// Listen for the clearing of the current output cell\n",
       "var outputEl = gd.closest('.output');\n",
       "if (outputEl) {{\n",
       "    x.observe(outputEl, {childList: true});\n",
       "}}\n",
       "\n",
       "                        })                };                });            </script>        </div>"
      ]
     },
     "metadata": {},
     "output_type": "display_data"
    }
   ],
   "source": [
    "\n",
    "\n",
    "# ecv_pd = pd.DataFrame([conf['ECV'].keys(),datesbeg,datesend],index=['DateBeg','DateEnd']).T\n",
    "prod_pd = pd.DataFrame.from_dict(prod_dic,orient='index').sort_values(['Thematic Hub','ECV','Product'])\n",
    "prod_pd['DateBeg'] = prod_pd['DateBeg'].dt.ceil(freq='s')  \n",
    "prod_pd['DateEnd'] = prod_pd['DateEnd'].dt.ceil(freq='s')  \n",
    "prod_pd['DateEnd'] = prod_pd['DateEnd'].apply(lambda dt: dt.strftime(\"%Y-%m-%d\"))\n",
    "prod_pd['DateBeg'] = prod_pd['DateBeg'].apply(lambda dt: dt.strftime(\"%Y-%m-%d\"))\n",
    "\n",
    "print(prod_pd.to_markdown())\n",
    "prod_pd.to_excel('ECV_time_coverage_perProduct.xlsx')\n",
    "\n",
    "# fig = px.timeline(ecv_pd, x_start=\"DateBeg\", x_end=\"DateEnd\", y='Product',color='Lot')\n",
    "fig = px.timeline(prod_pd, x_start=\"DateBeg\", x_end=\"DateEnd\",y='Product',color='Thematic Hub')\n",
    "\n",
    "# fig = px.timeline(datasets_df, x_start=\"startdate\", x_end=\"enddate\", y='ECV')\n",
    "fig.update_yaxes(autorange=\"reversed\")\n",
    "fig.update_layout(\n",
    "    autosize=False,\n",
    "    width=1200,\n",
    "    height=800,\n",
    ")\n",
    "# fig.update_layout(\n",
    "#     xaxis = dict(\n",
    "#         dtick = 'Y1',\n",
    "#         tickformat=\"%Y\",\n",
    "#     )\n",
    "# )\n",
    "\n",
    "xlab = np.arange(1970,2025).astype('int')\n",
    "xlabtxt = [f'{i}' for i in xlab]\n",
    "\n",
    "\n",
    "fig.update_xaxes(minor=dict(ticks=\"inside\", showgrid=True))\n",
    "fig.update_layout(\n",
    "    xaxis = dict(\n",
    "        tickmode = 'array',\n",
    "        tickvals = xlab,\n",
    "        ticktext = xlabtxt\n",
    "    )\n",
    ")\n",
    "fig.update_xaxes(tickangle=-45)\n",
    "fig.update_layout(\n",
    "    xaxis = dict(\n",
    "        tickfont = dict(\n",
    "            size=10),\n",
    "        )\n",
    "    )\n",
    "fig.update_xaxes(range = ['1970-01-01','2024-12-31'])\n",
    "# print(fig)\n",
    "today_date = pd.Timestamp.today().strftime('%Y%m%d') \n",
    "print(today_date)\n",
    "fig.write_image(f'temporal_coverage_by_Product_{today_date}.pdf')\n",
    "fig.write_image(f'temporal_coverage_by_Product_{today_date}.png')\n",
    "fig.show()"
   ]
  }
 ],
 "metadata": {
  "kernelspec": {
   "display_name": "work",
   "language": "python",
   "name": "python3"
  },
  "language_info": {
   "codemirror_mode": {
    "name": "ipython",
    "version": 3
   },
   "file_extension": ".py",
   "mimetype": "text/x-python",
   "name": "python",
   "nbconvert_exporter": "python",
   "pygments_lexer": "ipython3",
   "version": "3.12.4"
  }
 },
 "nbformat": 4,
 "nbformat_minor": 2
}
