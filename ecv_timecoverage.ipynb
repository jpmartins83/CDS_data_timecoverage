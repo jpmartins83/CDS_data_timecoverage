{
 "cells": [
  {
   "cell_type": "code",
   "execution_count": 17,
   "metadata": {},
   "outputs": [
    {
     "ename": "ModuleNotFoundError",
     "evalue": "No module named 'datetimem'",
     "output_type": "error",
     "traceback": [
      "\u001b[0;31m---------------------------------------------------------------------------\u001b[0m",
      "\u001b[0;31mModuleNotFoundError\u001b[0m                       Traceback (most recent call last)",
      "\u001b[1;32m/Users/cxjo/Library/CloudStorage/OneDrive-ECMWF/ECVs_General/CDS_data_timecoverage/ecv_timecoverage.ipynb Cell 1\u001b[0m line \u001b[0;36m4\n\u001b[1;32m      <a href='vscode-notebook-cell:/Users/cxjo/Library/CloudStorage/OneDrive-ECMWF/ECVs_General/CDS_data_timecoverage/ecv_timecoverage.ipynb#W0sZmlsZQ%3D%3D?line=1'>2</a>\u001b[0m \u001b[39mimport\u001b[39;00m \u001b[39mpandas\u001b[39;00m \u001b[39mas\u001b[39;00m \u001b[39mpd\u001b[39;00m\n\u001b[1;32m      <a href='vscode-notebook-cell:/Users/cxjo/Library/CloudStorage/OneDrive-ECMWF/ECVs_General/CDS_data_timecoverage/ecv_timecoverage.ipynb#W0sZmlsZQ%3D%3D?line=2'>3</a>\u001b[0m \u001b[39mimport\u001b[39;00m \u001b[39myaml\u001b[39;00m\n\u001b[0;32m----> <a href='vscode-notebook-cell:/Users/cxjo/Library/CloudStorage/OneDrive-ECMWF/ECVs_General/CDS_data_timecoverage/ecv_timecoverage.ipynb#W0sZmlsZQ%3D%3D?line=3'>4</a>\u001b[0m \u001b[39mfrom\u001b[39;00m \u001b[39mdatetimem\u001b[39;00m \u001b[39mimport\u001b[39;00m datetime\n\u001b[1;32m      <a href='vscode-notebook-cell:/Users/cxjo/Library/CloudStorage/OneDrive-ECMWF/ECVs_General/CDS_data_timecoverage/ecv_timecoverage.ipynb#W0sZmlsZQ%3D%3D?line=4'>5</a>\u001b[0m \u001b[39m# Precipitation: 1979 - 2021\u001b[39;00m\n\u001b[1;32m      <a href='vscode-notebook-cell:/Users/cxjo/Library/CloudStorage/OneDrive-ECMWF/ECVs_General/CDS_data_timecoverage/ecv_timecoverage.ipynb#W0sZmlsZQ%3D%3D?line=5'>6</a>\u001b[0m \u001b[39m# Surface radiation budget: 1983 - 2020\u001b[39;00m\n\u001b[1;32m      <a href='vscode-notebook-cell:/Users/cxjo/Library/CloudStorage/OneDrive-ECMWF/ECVs_General/CDS_data_timecoverage/ecv_timecoverage.ipynb#W0sZmlsZQ%3D%3D?line=6'>7</a>\u001b[0m \u001b[39m# Upper air water vapour: 1988 - 2021\u001b[39;00m\n\u001b[0;32m   (...)\u001b[0m\n\u001b[1;32m     <a href='vscode-notebook-cell:/Users/cxjo/Library/CloudStorage/OneDrive-ECMWF/ECVs_General/CDS_data_timecoverage/ecv_timecoverage.ipynb#W0sZmlsZQ%3D%3D?line=22'>23</a>\u001b[0m \u001b[39m# Leaf Area Index: 1981 - 2020\u001b[39;00m\n\u001b[1;32m     <a href='vscode-notebook-cell:/Users/cxjo/Library/CloudStorage/OneDrive-ECMWF/ECVs_General/CDS_data_timecoverage/ecv_timecoverage.ipynb#W0sZmlsZQ%3D%3D?line=23'>24</a>\u001b[0m \u001b[39m# Land cover: 1992-2020 \u001b[39;00m\n\u001b[1;32m     <a href='vscode-notebook-cell:/Users/cxjo/Library/CloudStorage/OneDrive-ECMWF/ECVs_General/CDS_data_timecoverage/ecv_timecoverage.ipynb#W0sZmlsZQ%3D%3D?line=25'>26</a>\u001b[0m datasets \u001b[39m=\u001b[39m {}\n",
      "\u001b[0;31mModuleNotFoundError\u001b[0m: No module named 'datetimem'"
     ]
    }
   ],
   "source": [
    "import plotly.express as px\n",
    "import pandas as pd\n",
    "import yaml\n",
    "from datetime import datetime\n",
    "# Precipitation: 1979 - 2021\n",
    "# Surface radiation budget: 1983 - 2020\n",
    "# Upper air water vapour: 1988 - 2021\n",
    "# Earth radiation budget: 1979 - 2021\n",
    "# Aerosol - 1995-2020\n",
    "# GHG: 2002- 2020 \n",
    "# Ozone: 1970-2021\n",
    "# Ocean colour: 1997 - 2021\n",
    "# Sea Ice: 1978-2022\n",
    "# Sea level - 1993 - 2020\n",
    "# Sea surface temp: 1981 - 2022\n",
    "# Soil moisture: 1978 - 2022\n",
    "# Ice sheets: 1992- 2021\n",
    "# Glaciers: 1850 - 2019\n",
    "# Lakes 1992 - 2020\n",
    "# Fire - 2001-2021\n",
    "# Albedo: 1981 - 2020\n",
    "# FAPAR: 1981 -2020\n",
    "# Leaf Area Index: 1981 - 2020\n",
    "# Land cover: 1992-2020 \n",
    "\n",
    "datasets = {}\n",
    "\n",
    "# read precip data\n",
    "with open('product_coverages/precipitation.yml','r') as file:\n",
    "    datasets.update(yaml.safe_load(file))\n",
    "\n",
    "with open('product_coverages/SRB.yml','r') as file:\n",
    "    datasets.update(yaml.safe_load(file))\n",
    "\n",
    "with open('product_coverages/UpperAirWV.yml','r') as file:\n",
    "    datasets.update(yaml.safe_load(file))\n",
    "\n",
    "with open('product_coverages/ERB.yml','r') as file:\n",
    "    datasets.update(yaml.safe_load(file))\n",
    "\n",
    "with open('product_coverages/Aerosol.yml','r') as file:\n",
    "    datasets.update(yaml.safe_load(file))\n",
    "\n",
    "with open('product_coverages/GHG.yml','r') as file:\n",
    "    datasets.update(yaml.safe_load(file))\n",
    "\n",
    "with open('product_coverages/Ozone.yml','r') as file:\n",
    "    datasets.update(yaml.safe_load(file))\n",
    "\n",
    "with open('product_coverages/OceanColour.yml','r') as file:\n",
    "    datasets.update(yaml.safe_load(file))\n",
    "\n",
    "with open('product_coverages/SeaIce.yml','r') as file:\n",
    "    datasets.update(yaml.safe_load(file))\n",
    "\n",
    "with open('product_coverages/SeaLevel.yml','r') as file:\n",
    "    datasets.update(yaml.safe_load(file))\n",
    "\n",
    "with open('product_coverages/SST.yml','r') as file:\n",
    "    datasets.update(yaml.safe_load(file))\n",
    "\n",
    "with open('product_coverages/SoilMoisture.yml','r') as file:\n",
    "    datasets.update(yaml.safe_load(file))\n",
    "\n",
    "with open('product_coverages/IceSheets.yml','r') as file:\n",
    "    datasets.update(yaml.safe_load(file))\n",
    "\n",
    "with open('product_coverages/Glaciers.yml','r') as file:\n",
    "    datasets.update(yaml.safe_load(file))\n",
    "\n",
    "with open('product_coverages/Lakes.yml','r') as file:\n",
    "    datasets.update(yaml.safe_load(file))\n",
    "\n",
    "with open('product_coverages/Fire.yml','r') as file:\n",
    "    datasets.update(yaml.safe_load(file))\n",
    "\n",
    "with open('product_coverages/Albedo.yml','r') as file:\n",
    "    datasets.update(yaml.safe_load(file))\n",
    "\n",
    "with open('product_coverages/Fapar.yml','r') as file:\n",
    "    datasets.update(yaml.safe_load(file))\n",
    "\n",
    "with open('product_coverages/LAI.yml','r') as file:\n",
    "    datasets.update(yaml.safe_load(file))\n",
    "\n",
    "with open('product_coverages/LandCover.yml','r') as file:\n",
    "    datasets.update(yaml.safe_load(file))\n",
    "\n",
    "with open('product_coverages/Clouds.yml','r') as file:\n",
    "    datasets.update(yaml.safe_load(file))\n",
    "\n",
    "# print(datasets)\n",
    "\n",
    "datasets_df=pd.DataFrame.from_dict(datasets,orient='index').sort_values(['Lot','Product'])\n",
    "print(datasets_df.to_markdown())\n",
    "\n",
    "\n",
    "\n",
    "fig = px.timeline(datasets_df, x_start=\"startdate\", x_end=\"enddate\", y='Product',color='Lot')\n",
    "# fig = px.timeline(datasets_df, x_start=\"startdate\", x_end=\"enddate\", y='ECV')\n",
    "fig.update_yaxes(autorange=\"reversed\")\n",
    "fig.update_layout(\n",
    "    autosize=False,\n",
    "    width=1200,\n",
    "    height=1000,\n",
    ")\n",
    "fig.update_layout(\n",
    "    xaxis = dict(\n",
    "        tickmode = 'linear',\n",
    "        tick0 = datetime(1970,1,1),\n",
    "        dtick = 'Y1'\n",
    "    )\n",
    ")\n",
    "fig.show()\n"
   ]
  },
  {
   "cell_type": "code",
   "execution_count": 13,
   "metadata": {},
   "outputs": [
    {
     "name": "stdout",
     "output_type": "stream",
     "text": [
      "| ECV                      | startdate   | enddate    | Lot                      |\n",
      "|:-------------------------|:------------|:-----------|:-------------------------|\n",
      "| Aerosols                 | 1995-06-01  | 2022-12-30 | Atmospheric Composition  |\n",
      "| Albedo                   | 1981-09-01  | 2020-06-30 | Land Biosphere           |\n",
      "| Clouds                   | 1982-01-01  | 2021-12-31 | Atmospheric Physics      |\n",
      "| Earth Radiation Budget   | 1979-01-01  | 2023-03-31 | Atmospheric Physics      |\n",
      "| FAPAR                    | 1981-09-01  | 2020-06-30 | Land Biosphere           |\n",
      "| Fire                     | 2001-01-01  | 2022-04-30 | Land Biosphere           |\n",
      "| GHG                      | 2002-10-01  | 2021-12-31 | Atmospheric Composition  |\n",
      "| Glaciers                 | 1990-01-01  | 2019-12-31 | Hydrology and Cryosphere |\n",
      "| Ice Sheets               | 1992-01-01  | 2023-07-31 | Hydrology and Cryosphere |\n",
      "| LAI                      | 1981-09-01  | 2020-06-30 | Land Biosphere           |\n",
      "| Lakes                    | 1992-01-01  | 2022-12-31 | Hydrology and Cryosphere |\n",
      "| Land Cover               | 1992-01-01  | 2020-12-31 | Land Biosphere           |\n",
      "| Ocean Colour             | 1997-09-01  | 2023-03-31 | Ocean                    |\n",
      "| Ozone                    | 1970-04-01  | 2023-07-30 | Atmospheric Composition  |\n",
      "| Precipitation            | 1979-01-01  | 2022-06-30 | Atmospheric Physics      |\n",
      "| SST                      | 1981-08-24  | 2022-12-31 | Ocean                    |\n",
      "| Sea Ice                  | 1978-10-01  | 2023-08-31 | Ocean                    |\n",
      "| Sea Level                | 1993-01-01  | 2022-08-31 | Ocean                    |\n",
      "| Soil Moisture            | 1978-11-01  | 2023-10-20 | Hydrology and Cryosphere |\n",
      "| Surface Radiation Budget | 1982-01-01  | 2021-12-31 | Atmospheric Physics      |\n",
      "| Upper air water vapour   | 1988-01-01  | 2023-02-28 | Atmospheric Physics      |\n"
     ]
    },
    {
     "data": {
      "application/vnd.plotly.v1+json": {
       "config": {
        "plotlyServerURL": "https://plot.ly"
       },
       "data": [
        {
         "alignmentgroup": "True",
         "base": [
          "1995-06-01",
          "2002-10-01",
          "1970-04-01"
         ],
         "hovertemplate": "color=Atmospheric Composition<br>startdate=%{base}<br>enddate=%{x}<br>ECV=%{y}<extra></extra>",
         "legendgroup": "Atmospheric Composition",
         "marker": {
          "color": "#636efa",
          "pattern": {
           "shape": ""
          }
         },
         "name": "Atmospheric Composition",
         "offsetgroup": "Atmospheric Composition",
         "orientation": "h",
         "showlegend": true,
         "textposition": "auto",
         "type": "bar",
         "x": [
          870393600000,
          607478400000,
          1682899200000
         ],
         "xaxis": "x",
         "y": [
          "Aerosols",
          "GHG",
          "Ozone"
         ],
         "yaxis": "y"
        },
        {
         "alignmentgroup": "True",
         "base": [
          "1981-09-01",
          "1981-09-01",
          "2001-01-01",
          "1981-09-01",
          "1992-01-01"
         ],
         "hovertemplate": "color=Land Biosphere<br>startdate=%{base}<br>enddate=%{x}<br>ECV=%{y}<extra></extra>",
         "legendgroup": "Land Biosphere",
         "marker": {
          "color": "#EF553B",
          "pattern": {
           "shape": ""
          }
         },
         "name": "Land Biosphere",
         "offsetgroup": "Land Biosphere",
         "orientation": "h",
         "showlegend": true,
         "textposition": "auto",
         "type": "bar",
         "x": [
          1225324800000,
          1225324800000,
          672969600000,
          1225324800000,
          915148800000
         ],
         "xaxis": "x",
         "y": [
          "Albedo",
          "FAPAR",
          "Fire",
          "LAI",
          "Land Cover"
         ],
         "yaxis": "y"
        },
        {
         "alignmentgroup": "True",
         "base": [
          "1982-01-01",
          "1979-01-01",
          "1979-01-01",
          "1982-01-01",
          "1988-01-01"
         ],
         "hovertemplate": "color=Atmospheric Physics<br>startdate=%{base}<br>enddate=%{x}<br>ECV=%{y}<extra></extra>",
         "legendgroup": "Atmospheric Physics",
         "marker": {
          "color": "#00cc96",
          "pattern": {
           "shape": ""
          }
         },
         "name": "Atmospheric Physics",
         "offsetgroup": "Atmospheric Physics",
         "orientation": "h",
         "showlegend": true,
         "textposition": "auto",
         "type": "bar",
         "x": [
          1262217600000,
          1396224000000,
          1372550400000,
          1262217600000,
          1109548800000
         ],
         "xaxis": "x",
         "y": [
          "Clouds",
          "Earth Radiation Budget",
          "Precipitation",
          "Surface Radiation Budget",
          "Upper air water vapour"
         ],
         "yaxis": "y"
        },
        {
         "alignmentgroup": "True",
         "base": [
          "1990-01-01",
          "1992-01-01",
          "1992-01-01",
          "1978-11-01"
         ],
         "hovertemplate": "color=Hydrology and Cryosphere<br>startdate=%{base}<br>enddate=%{x}<br>ECV=%{y}<extra></extra>",
         "legendgroup": "Hydrology and Cryosphere",
         "marker": {
          "color": "#ab63fa",
          "pattern": {
           "shape": ""
          }
         },
         "name": "Hydrology and Cryosphere",
         "offsetgroup": "Hydrology and Cryosphere",
         "orientation": "h",
         "showlegend": true,
         "textposition": "auto",
         "type": "bar",
         "x": [
          946598400000,
          996537600000,
          978220800000,
          1419033600000
         ],
         "xaxis": "x",
         "y": [
          "Glaciers",
          "Ice Sheets",
          "Lakes",
          "Soil Moisture"
         ],
         "yaxis": "y"
        },
        {
         "alignmentgroup": "True",
         "base": [
          "1997-09-01",
          "1981-08-24",
          "1978-10-01",
          "1993-01-01"
         ],
         "hovertemplate": "color=Ocean<br>startdate=%{base}<br>enddate=%{x}<br>ECV=%{y}<extra></extra>",
         "legendgroup": "Ocean",
         "marker": {
          "color": "#FFA15A",
          "pattern": {
           "shape": ""
          }
         },
         "name": "Ocean",
         "offsetgroup": "Ocean",
         "orientation": "h",
         "showlegend": true,
         "textposition": "auto",
         "type": "bar",
         "x": [
          807148800000,
          1304985600000,
          1417392000000,
          936057600000
         ],
         "xaxis": "x",
         "y": [
          "Ocean Colour",
          "SST",
          "Sea Ice",
          "Sea Level"
         ],
         "yaxis": "y"
        }
       ],
       "layout": {
        "autosize": false,
        "barmode": "overlay",
        "height": 800,
        "legend": {
         "title": {
          "text": "color"
         },
         "tracegroupgap": 0
        },
        "margin": {
         "t": 60
        },
        "template": {
         "data": {
          "bar": [
           {
            "error_x": {
             "color": "#2a3f5f"
            },
            "error_y": {
             "color": "#2a3f5f"
            },
            "marker": {
             "line": {
              "color": "#E5ECF6",
              "width": 0.5
             },
             "pattern": {
              "fillmode": "overlay",
              "size": 10,
              "solidity": 0.2
             }
            },
            "type": "bar"
           }
          ],
          "barpolar": [
           {
            "marker": {
             "line": {
              "color": "#E5ECF6",
              "width": 0.5
             },
             "pattern": {
              "fillmode": "overlay",
              "size": 10,
              "solidity": 0.2
             }
            },
            "type": "barpolar"
           }
          ],
          "carpet": [
           {
            "aaxis": {
             "endlinecolor": "#2a3f5f",
             "gridcolor": "white",
             "linecolor": "white",
             "minorgridcolor": "white",
             "startlinecolor": "#2a3f5f"
            },
            "baxis": {
             "endlinecolor": "#2a3f5f",
             "gridcolor": "white",
             "linecolor": "white",
             "minorgridcolor": "white",
             "startlinecolor": "#2a3f5f"
            },
            "type": "carpet"
           }
          ],
          "choropleth": [
           {
            "colorbar": {
             "outlinewidth": 0,
             "ticks": ""
            },
            "type": "choropleth"
           }
          ],
          "contour": [
           {
            "colorbar": {
             "outlinewidth": 0,
             "ticks": ""
            },
            "colorscale": [
             [
              0,
              "#0d0887"
             ],
             [
              0.1111111111111111,
              "#46039f"
             ],
             [
              0.2222222222222222,
              "#7201a8"
             ],
             [
              0.3333333333333333,
              "#9c179e"
             ],
             [
              0.4444444444444444,
              "#bd3786"
             ],
             [
              0.5555555555555556,
              "#d8576b"
             ],
             [
              0.6666666666666666,
              "#ed7953"
             ],
             [
              0.7777777777777778,
              "#fb9f3a"
             ],
             [
              0.8888888888888888,
              "#fdca26"
             ],
             [
              1,
              "#f0f921"
             ]
            ],
            "type": "contour"
           }
          ],
          "contourcarpet": [
           {
            "colorbar": {
             "outlinewidth": 0,
             "ticks": ""
            },
            "type": "contourcarpet"
           }
          ],
          "heatmap": [
           {
            "colorbar": {
             "outlinewidth": 0,
             "ticks": ""
            },
            "colorscale": [
             [
              0,
              "#0d0887"
             ],
             [
              0.1111111111111111,
              "#46039f"
             ],
             [
              0.2222222222222222,
              "#7201a8"
             ],
             [
              0.3333333333333333,
              "#9c179e"
             ],
             [
              0.4444444444444444,
              "#bd3786"
             ],
             [
              0.5555555555555556,
              "#d8576b"
             ],
             [
              0.6666666666666666,
              "#ed7953"
             ],
             [
              0.7777777777777778,
              "#fb9f3a"
             ],
             [
              0.8888888888888888,
              "#fdca26"
             ],
             [
              1,
              "#f0f921"
             ]
            ],
            "type": "heatmap"
           }
          ],
          "heatmapgl": [
           {
            "colorbar": {
             "outlinewidth": 0,
             "ticks": ""
            },
            "colorscale": [
             [
              0,
              "#0d0887"
             ],
             [
              0.1111111111111111,
              "#46039f"
             ],
             [
              0.2222222222222222,
              "#7201a8"
             ],
             [
              0.3333333333333333,
              "#9c179e"
             ],
             [
              0.4444444444444444,
              "#bd3786"
             ],
             [
              0.5555555555555556,
              "#d8576b"
             ],
             [
              0.6666666666666666,
              "#ed7953"
             ],
             [
              0.7777777777777778,
              "#fb9f3a"
             ],
             [
              0.8888888888888888,
              "#fdca26"
             ],
             [
              1,
              "#f0f921"
             ]
            ],
            "type": "heatmapgl"
           }
          ],
          "histogram": [
           {
            "marker": {
             "pattern": {
              "fillmode": "overlay",
              "size": 10,
              "solidity": 0.2
             }
            },
            "type": "histogram"
           }
          ],
          "histogram2d": [
           {
            "colorbar": {
             "outlinewidth": 0,
             "ticks": ""
            },
            "colorscale": [
             [
              0,
              "#0d0887"
             ],
             [
              0.1111111111111111,
              "#46039f"
             ],
             [
              0.2222222222222222,
              "#7201a8"
             ],
             [
              0.3333333333333333,
              "#9c179e"
             ],
             [
              0.4444444444444444,
              "#bd3786"
             ],
             [
              0.5555555555555556,
              "#d8576b"
             ],
             [
              0.6666666666666666,
              "#ed7953"
             ],
             [
              0.7777777777777778,
              "#fb9f3a"
             ],
             [
              0.8888888888888888,
              "#fdca26"
             ],
             [
              1,
              "#f0f921"
             ]
            ],
            "type": "histogram2d"
           }
          ],
          "histogram2dcontour": [
           {
            "colorbar": {
             "outlinewidth": 0,
             "ticks": ""
            },
            "colorscale": [
             [
              0,
              "#0d0887"
             ],
             [
              0.1111111111111111,
              "#46039f"
             ],
             [
              0.2222222222222222,
              "#7201a8"
             ],
             [
              0.3333333333333333,
              "#9c179e"
             ],
             [
              0.4444444444444444,
              "#bd3786"
             ],
             [
              0.5555555555555556,
              "#d8576b"
             ],
             [
              0.6666666666666666,
              "#ed7953"
             ],
             [
              0.7777777777777778,
              "#fb9f3a"
             ],
             [
              0.8888888888888888,
              "#fdca26"
             ],
             [
              1,
              "#f0f921"
             ]
            ],
            "type": "histogram2dcontour"
           }
          ],
          "mesh3d": [
           {
            "colorbar": {
             "outlinewidth": 0,
             "ticks": ""
            },
            "type": "mesh3d"
           }
          ],
          "parcoords": [
           {
            "line": {
             "colorbar": {
              "outlinewidth": 0,
              "ticks": ""
             }
            },
            "type": "parcoords"
           }
          ],
          "pie": [
           {
            "automargin": true,
            "type": "pie"
           }
          ],
          "scatter": [
           {
            "fillpattern": {
             "fillmode": "overlay",
             "size": 10,
             "solidity": 0.2
            },
            "type": "scatter"
           }
          ],
          "scatter3d": [
           {
            "line": {
             "colorbar": {
              "outlinewidth": 0,
              "ticks": ""
             }
            },
            "marker": {
             "colorbar": {
              "outlinewidth": 0,
              "ticks": ""
             }
            },
            "type": "scatter3d"
           }
          ],
          "scattercarpet": [
           {
            "marker": {
             "colorbar": {
              "outlinewidth": 0,
              "ticks": ""
             }
            },
            "type": "scattercarpet"
           }
          ],
          "scattergeo": [
           {
            "marker": {
             "colorbar": {
              "outlinewidth": 0,
              "ticks": ""
             }
            },
            "type": "scattergeo"
           }
          ],
          "scattergl": [
           {
            "marker": {
             "colorbar": {
              "outlinewidth": 0,
              "ticks": ""
             }
            },
            "type": "scattergl"
           }
          ],
          "scattermapbox": [
           {
            "marker": {
             "colorbar": {
              "outlinewidth": 0,
              "ticks": ""
             }
            },
            "type": "scattermapbox"
           }
          ],
          "scatterpolar": [
           {
            "marker": {
             "colorbar": {
              "outlinewidth": 0,
              "ticks": ""
             }
            },
            "type": "scatterpolar"
           }
          ],
          "scatterpolargl": [
           {
            "marker": {
             "colorbar": {
              "outlinewidth": 0,
              "ticks": ""
             }
            },
            "type": "scatterpolargl"
           }
          ],
          "scatterternary": [
           {
            "marker": {
             "colorbar": {
              "outlinewidth": 0,
              "ticks": ""
             }
            },
            "type": "scatterternary"
           }
          ],
          "surface": [
           {
            "colorbar": {
             "outlinewidth": 0,
             "ticks": ""
            },
            "colorscale": [
             [
              0,
              "#0d0887"
             ],
             [
              0.1111111111111111,
              "#46039f"
             ],
             [
              0.2222222222222222,
              "#7201a8"
             ],
             [
              0.3333333333333333,
              "#9c179e"
             ],
             [
              0.4444444444444444,
              "#bd3786"
             ],
             [
              0.5555555555555556,
              "#d8576b"
             ],
             [
              0.6666666666666666,
              "#ed7953"
             ],
             [
              0.7777777777777778,
              "#fb9f3a"
             ],
             [
              0.8888888888888888,
              "#fdca26"
             ],
             [
              1,
              "#f0f921"
             ]
            ],
            "type": "surface"
           }
          ],
          "table": [
           {
            "cells": {
             "fill": {
              "color": "#EBF0F8"
             },
             "line": {
              "color": "white"
             }
            },
            "header": {
             "fill": {
              "color": "#C8D4E3"
             },
             "line": {
              "color": "white"
             }
            },
            "type": "table"
           }
          ]
         },
         "layout": {
          "annotationdefaults": {
           "arrowcolor": "#2a3f5f",
           "arrowhead": 0,
           "arrowwidth": 1
          },
          "autotypenumbers": "strict",
          "coloraxis": {
           "colorbar": {
            "outlinewidth": 0,
            "ticks": ""
           }
          },
          "colorscale": {
           "diverging": [
            [
             0,
             "#8e0152"
            ],
            [
             0.1,
             "#c51b7d"
            ],
            [
             0.2,
             "#de77ae"
            ],
            [
             0.3,
             "#f1b6da"
            ],
            [
             0.4,
             "#fde0ef"
            ],
            [
             0.5,
             "#f7f7f7"
            ],
            [
             0.6,
             "#e6f5d0"
            ],
            [
             0.7,
             "#b8e186"
            ],
            [
             0.8,
             "#7fbc41"
            ],
            [
             0.9,
             "#4d9221"
            ],
            [
             1,
             "#276419"
            ]
           ],
           "sequential": [
            [
             0,
             "#0d0887"
            ],
            [
             0.1111111111111111,
             "#46039f"
            ],
            [
             0.2222222222222222,
             "#7201a8"
            ],
            [
             0.3333333333333333,
             "#9c179e"
            ],
            [
             0.4444444444444444,
             "#bd3786"
            ],
            [
             0.5555555555555556,
             "#d8576b"
            ],
            [
             0.6666666666666666,
             "#ed7953"
            ],
            [
             0.7777777777777778,
             "#fb9f3a"
            ],
            [
             0.8888888888888888,
             "#fdca26"
            ],
            [
             1,
             "#f0f921"
            ]
           ],
           "sequentialminus": [
            [
             0,
             "#0d0887"
            ],
            [
             0.1111111111111111,
             "#46039f"
            ],
            [
             0.2222222222222222,
             "#7201a8"
            ],
            [
             0.3333333333333333,
             "#9c179e"
            ],
            [
             0.4444444444444444,
             "#bd3786"
            ],
            [
             0.5555555555555556,
             "#d8576b"
            ],
            [
             0.6666666666666666,
             "#ed7953"
            ],
            [
             0.7777777777777778,
             "#fb9f3a"
            ],
            [
             0.8888888888888888,
             "#fdca26"
            ],
            [
             1,
             "#f0f921"
            ]
           ]
          },
          "colorway": [
           "#636efa",
           "#EF553B",
           "#00cc96",
           "#ab63fa",
           "#FFA15A",
           "#19d3f3",
           "#FF6692",
           "#B6E880",
           "#FF97FF",
           "#FECB52"
          ],
          "font": {
           "color": "#2a3f5f"
          },
          "geo": {
           "bgcolor": "white",
           "lakecolor": "white",
           "landcolor": "#E5ECF6",
           "showlakes": true,
           "showland": true,
           "subunitcolor": "white"
          },
          "hoverlabel": {
           "align": "left"
          },
          "hovermode": "closest",
          "mapbox": {
           "style": "light"
          },
          "paper_bgcolor": "white",
          "plot_bgcolor": "#E5ECF6",
          "polar": {
           "angularaxis": {
            "gridcolor": "white",
            "linecolor": "white",
            "ticks": ""
           },
           "bgcolor": "#E5ECF6",
           "radialaxis": {
            "gridcolor": "white",
            "linecolor": "white",
            "ticks": ""
           }
          },
          "scene": {
           "xaxis": {
            "backgroundcolor": "#E5ECF6",
            "gridcolor": "white",
            "gridwidth": 2,
            "linecolor": "white",
            "showbackground": true,
            "ticks": "",
            "zerolinecolor": "white"
           },
           "yaxis": {
            "backgroundcolor": "#E5ECF6",
            "gridcolor": "white",
            "gridwidth": 2,
            "linecolor": "white",
            "showbackground": true,
            "ticks": "",
            "zerolinecolor": "white"
           },
           "zaxis": {
            "backgroundcolor": "#E5ECF6",
            "gridcolor": "white",
            "gridwidth": 2,
            "linecolor": "white",
            "showbackground": true,
            "ticks": "",
            "zerolinecolor": "white"
           }
          },
          "shapedefaults": {
           "line": {
            "color": "#2a3f5f"
           }
          },
          "ternary": {
           "aaxis": {
            "gridcolor": "white",
            "linecolor": "white",
            "ticks": ""
           },
           "baxis": {
            "gridcolor": "white",
            "linecolor": "white",
            "ticks": ""
           },
           "bgcolor": "#E5ECF6",
           "caxis": {
            "gridcolor": "white",
            "linecolor": "white",
            "ticks": ""
           }
          },
          "title": {
           "x": 0.05
          },
          "xaxis": {
           "automargin": true,
           "gridcolor": "white",
           "linecolor": "white",
           "ticks": "",
           "title": {
            "standoff": 15
           },
           "zerolinecolor": "white",
           "zerolinewidth": 2
          },
          "yaxis": {
           "automargin": true,
           "gridcolor": "white",
           "linecolor": "white",
           "ticks": "",
           "title": {
            "standoff": 15
           },
           "zerolinecolor": "white",
           "zerolinewidth": 2
          }
         }
        },
        "width": 1200,
        "xaxis": {
         "anchor": "y",
         "domain": [
          0,
          1
         ],
         "type": "date"
        },
        "yaxis": {
         "anchor": "x",
         "autorange": "reversed",
         "domain": [
          0,
          1
         ],
         "title": {
          "text": "ECV"
         }
        }
       }
      }
     },
     "metadata": {},
     "output_type": "display_data"
    }
   ],
   "source": [
    "df2 = datasets_df.copy()\n",
    "\n",
    "sdates=df2.groupby(['ECV'])['startdate'].min()\n",
    "edates=df2.groupby(['ECV'])['enddate'].max()\n",
    "lots = df2.groupby(['ECV'])['Lot'].max()\n",
    "\n",
    "df3 =pd.concat([sdates,edates,lots],axis=1)\n",
    "df3.sort_values(['Lot','ECV'])\n",
    "print(df3.to_markdown())\n",
    "\n",
    "# fig = px.timeline(df3, x_start=\"startdate\", x_end=\"enddate\", y=df3.index,color=df3.index)\n",
    "fig = px.timeline(df3, x_start=\"startdate\", x_end=\"enddate\", y=df3.index,color=lots)\n",
    "# fig = px.timeline(datasets_df, x_start=\"startdate\", x_end=\"enddate\", y='ECV')\n",
    "fig.update_yaxes(autorange=\"reversed\")\n",
    "fig.update_layout(\n",
    "    autosize=False,\n",
    "    width=1200,\n",
    "    height=800,\n",
    ")\n",
    "fig.show()"
   ]
  }
 ],
 "metadata": {
  "kernelspec": {
   "display_name": "base",
   "language": "python",
   "name": "python3"
  },
  "language_info": {
   "codemirror_mode": {
    "name": "ipython",
    "version": 3
   },
   "file_extension": ".py",
   "mimetype": "text/x-python",
   "name": "python",
   "nbconvert_exporter": "python",
   "pygments_lexer": "ipython3",
   "version": "3.11.4"
  },
  "orig_nbformat": 4
 },
 "nbformat": 4,
 "nbformat_minor": 2
}
