{
 "cells": [
  {
   "cell_type": "code",
   "execution_count": 2,
   "metadata": {},
   "outputs": [
    {
     "name": "stdout",
     "output_type": "stream",
     "text": [
      "{'precipitation': {'startdate': datetime.date(1979, 1, 1), 'enddate': datetime.date(2022, 6, 30), 'ECV': 'Precipitation', 'Product': 'Precipitation'}, 'precipitation-microwave': {'startdate': datetime.date(2000, 1, 1), 'enddate': datetime.date(2017, 12, 31), 'ECV': 'Precipitation', 'Product': 'Precipitation-Microwave'}, 'CLARA': {'startdate': datetime.date(1982, 1, 1), 'enddate': datetime.date(2018, 12, 31), 'ECV': 'Surface Radiation Budget', 'Product': 'CLARA (SRB)'}, 'CCI': {'startdate': datetime.date(1995, 6, 1), 'enddate': datetime.date(2012, 4, 30), 'ECV': 'Surface Radiation Budget', 'Product': 'CCI (SRB)'}, 'CCI2': {'startdate': datetime.date(2017, 1, 1), 'enddate': datetime.date(2021, 12, 31), 'ECV': 'Surface Radiation Budget', 'Product': 'CCI (SRB)'}}\n",
      "{'precipitation': {'startdate': datetime.date(1979, 1, 1), 'enddate': datetime.date(2022, 6, 30), 'ECV': 'Precipitation', 'Product': 'Precipitation'}, 'precipitation-microwave': {'startdate': datetime.date(2000, 1, 1), 'enddate': datetime.date(2017, 12, 31), 'ECV': 'Precipitation', 'Product': 'Precipitation-Microwave'}, 'CLARA': {'startdate': datetime.date(1982, 1, 1), 'enddate': datetime.date(2018, 12, 31), 'ECV': 'Surface Radiation Budget', 'Product': 'CLARA (SRB)'}, 'CCI': {'startdate': datetime.date(1995, 6, 1), 'enddate': datetime.date(2012, 4, 30), 'ECV': 'Surface Radiation Budget', 'Product': 'CCI (SRB)'}, 'CCI2': {'startdate': datetime.date(2017, 1, 1), 'enddate': datetime.date(2021, 12, 31), 'ECV': 'Surface Radiation Budget', 'Product': 'CCI (SRB)'}, 'tcwv_meris_ssmi': {'startdate': datetime.date(2002, 5, 1), 'enddate': datetime.date(2012, 3, 31), 'ECV': 'Upper air water vapour', 'Product': 'Total Column Water Vapour (MERIS/SSMI)'}, 'tcwv_hoaps': {'startdate': datetime.date(1988, 1, 1), 'enddate': datetime.date(2020, 12, 31), 'ECV': 'Upper air water vapour', 'Product': 'Total Column Water Vapour (HOAPS)'}, 'UTH': {'startdate': datetime.date(1999, 1, 1), 'enddate': datetime.date(2021, 4, 28), 'ECV': 'Upper air water vapour', 'Product': 'Upper Tropospheric Humidity'}, 'THP': {'startdate': datetime.date(2006, 12, 1), 'enddate': datetime.date(2023, 2, 28), 'ECV': 'Upper air water vapour', 'Product': 'Tropospheric Humidity Profiles (RO)'}, 'NASA_CERES': {'startdate': datetime.date(2000, 3, 1), 'enddate': datetime.date(2022, 3, 31), 'ECV': 'Earth Radiation Budget', 'Product': 'NASA CERES EBAF (ERB)'}, 'NOAA_HIRS': {'startdate': datetime.date(1979, 1, 1), 'enddate': datetime.date(2023, 3, 31), 'ECV': 'Earth Radiation Budget', 'Product': 'NOAA/NCEI HIRS (ERB)'}, 'ESA_CLOUD_CCI_SRB': {'startdate': datetime.date(1995, 6, 1), 'enddate': datetime.date(2012, 4, 30), 'ECV': 'Earth Radiation Budget', 'Product': 'ESA CLOUD CCI (ERB)'}, 'C3S_CCI_SRB': {'startdate': datetime.date(2017, 1, 1), 'enddate': datetime.date(2021, 1, 31), 'ECV': 'Earth Radiation Budget', 'Product': 'C3S CCI (ERB)'}, 'C3S_RMIB_SRB': {'startdate': datetime.date(1979, 1, 1), 'enddate': datetime.date(2022, 6, 30), 'ECV': 'Earth Radiation Budget', 'Product': 'C3S RMIB (ERB)'}, 'aerosol': {'startdate': datetime.date(1995, 6, 1), 'enddate': datetime.date(2022, 12, 30), 'ECV': 'Aerosols', 'Product': 'Aerosols'}, 'CH4': {'startdate': datetime.date(2002, 10, 1), 'enddate': datetime.date(2021, 12, 31), 'ECV': 'GHG', 'Product': 'Methane'}, 'CO2': {'startdate': datetime.date(2002, 10, 1), 'enddate': datetime.date(2021, 12, 31), 'ECV': 'GHG', 'Product': 'CO2'}, 'Ozone': {'startdate': datetime.date(1970, 4, 1), 'enddate': datetime.date(2023, 7, 30), 'ECV': 'Ozone', 'Product': 'Ozone'}, 'OC': {'startdate': datetime.date(1997, 9, 1), 'enddate': datetime.date(2023, 3, 31), 'ECV': 'Ocean Colour', 'Product': 'Ocean Colour'}, 'SIC': {'startdate': datetime.date(1979, 1, 1), 'enddate': datetime.date(2023, 4, 30), 'ECV': 'Sea Ice', 'Product': 'Sea Ice Concentration'}, 'SIEaT': {'startdate': datetime.date(1978, 10, 1), 'enddate': datetime.date(2023, 8, 31), 'ECV': 'Sea Ice', 'Product': 'Sea Ice Edge and Type'}, 'SIT': {'startdate': datetime.date(2002, 10, 1), 'enddate': datetime.date(2022, 4, 30), 'ECV': 'Sea Ice', 'Product': 'Sea Ice Thickness'}, 'GIS_velocity': {'startdate': datetime.date(2017, 1, 1), 'enddate': datetime.date(2021, 12, 31), 'ECV': 'Sea Ice', 'Product': 'Greenland Ice Sheet Velocity'}, 'SL_Med': {'startdate': datetime.date(1993, 1, 1), 'enddate': datetime.date(2020, 6, 30), 'ECV': 'Sea Level', 'Product': 'Sea Level - Mediterranean'}, 'SL_Black': {'startdate': datetime.date(1993, 1, 1), 'enddate': datetime.date(2020, 6, 30), 'ECV': 'Sea Level', 'Product': 'Sea Level - Black Sea'}, 'SL_Global': {'startdate': datetime.date(1993, 1, 1), 'enddate': datetime.date(2022, 8, 31), 'ECV': 'Sea Level', 'Product': 'Sea Level - Global'}, 'gmpesst': {'startdate': datetime.date(1981, 9, 1), 'enddate': datetime.date(2016, 12, 31), 'ECV': 'SST', 'Product': 'GMPE SST'}, 'sst': {'startdate': datetime.date(1981, 8, 24), 'enddate': datetime.date(2022, 12, 31), 'ECV': 'SST', 'Product': 'SST'}, 'smois': {'startdate': datetime.date(1978, 11, 1), 'enddate': datetime.date(2023, 9, 30), 'ECV': 'Soil Moisture', 'Product': 'Soil Moisture'}, 'gravIS': {'startdate': datetime.date(2003, 1, 1), 'enddate': datetime.date(2020, 12, 31), 'ECV': 'Ice Sheets', 'Product': 'Gravimetric Mass Balance (Ice Sheets)'}, 'GreenISvel': {'startdate': datetime.date(2017, 1, 1), 'enddate': datetime.date(2021, 12, 31), 'ECV': 'Ice Sheets', 'Product': 'Greenland Ice Sheet Velocity'}, 'ISSurfElev': {'startdate': datetime.date(1992, 1, 1), 'enddate': datetime.date(2023, 3, 1), 'ECV': 'Ice Sheets', 'Product': 'Ice Sheet Surface Elevation change rate'}, 'Randolph': {'startdate': datetime.date(1990, 1, 1), 'enddate': datetime.date(2010, 12, 31), 'ECV': 'Glaciers', 'Product': 'Randolph Glacier Inventory for the year 2000'}, 'Glaciers_elevation': {'startdate': datetime.date(1990, 1, 1), 'enddate': datetime.date(2019, 12, 31), 'ECV': 'Glaciers', 'Product': 'Glaciers elevation and mass change data'}, 'lakes': {'startdate': datetime.date(1992, 1, 1), 'enddate': datetime.date(2022, 12, 31), 'ECV': 'Lakes', 'Product': 'Lake water levels'}, 'FRP': {'startdate': datetime.date(2020, 3, 1), 'enddate': datetime.date(2021, 2, 28), 'ECV': 'Fire', 'Product': 'Fire Radiative Power'}, 'Burned_area': {'startdate': datetime.date(2001, 1, 1), 'enddate': datetime.date(2022, 4, 30), 'ECV': 'Fire', 'Product': 'Fire Burned Areas'}, 'Albedo': {'startdate': datetime.date(1981, 9, 1), 'enddate': datetime.date(2020, 6, 30), 'ECV': 'Albedo', 'Product': 'Surface Albedo 10-daily'}, 'Fapar': {'startdate': datetime.date(1981, 9, 1), 'enddate': datetime.date(2020, 6, 30), 'ECV': 'FAPAR', 'Product': 'FAPAR'}, 'LAI': {'startdate': datetime.date(1981, 9, 1), 'enddate': datetime.date(2020, 6, 30), 'ECV': 'LAI', 'Product': 'LAI'}, 'LandCover': {'startdate': datetime.date(1992, 1, 1), 'enddate': datetime.date(2020, 12, 31), 'ECV': 'Land Cover', 'Product': 'Land Cover'}}\n",
      "                          startdate     enddate                       ECV  \\\n",
      "precipitation            1979-01-01  2022-06-30             Precipitation   \n",
      "precipitation-microwave  2000-01-01  2017-12-31             Precipitation   \n",
      "CLARA                    1982-01-01  2018-12-31  Surface Radiation Budget   \n",
      "CCI                      1995-06-01  2012-04-30  Surface Radiation Budget   \n",
      "CCI2                     2017-01-01  2021-12-31  Surface Radiation Budget   \n",
      "tcwv_meris_ssmi          2002-05-01  2012-03-31    Upper air water vapour   \n",
      "tcwv_hoaps               1988-01-01  2020-12-31    Upper air water vapour   \n",
      "UTH                      1999-01-01  2021-04-28    Upper air water vapour   \n",
      "THP                      2006-12-01  2023-02-28    Upper air water vapour   \n",
      "NASA_CERES               2000-03-01  2022-03-31    Earth Radiation Budget   \n",
      "NOAA_HIRS                1979-01-01  2023-03-31    Earth Radiation Budget   \n",
      "ESA_CLOUD_CCI_SRB        1995-06-01  2012-04-30    Earth Radiation Budget   \n",
      "C3S_CCI_SRB              2017-01-01  2021-01-31    Earth Radiation Budget   \n",
      "C3S_RMIB_SRB             1979-01-01  2022-06-30    Earth Radiation Budget   \n",
      "aerosol                  1995-06-01  2022-12-30                  Aerosols   \n",
      "CH4                      2002-10-01  2021-12-31                       GHG   \n",
      "CO2                      2002-10-01  2021-12-31                       GHG   \n",
      "Ozone                    1970-04-01  2023-07-30                     Ozone   \n",
      "OC                       1997-09-01  2023-03-31              Ocean Colour   \n",
      "SIC                      1979-01-01  2023-04-30                   Sea Ice   \n",
      "SIEaT                    1978-10-01  2023-08-31                   Sea Ice   \n",
      "SIT                      2002-10-01  2022-04-30                   Sea Ice   \n",
      "GIS_velocity             2017-01-01  2021-12-31                   Sea Ice   \n",
      "SL_Med                   1993-01-01  2020-06-30                 Sea Level   \n",
      "SL_Black                 1993-01-01  2020-06-30                 Sea Level   \n",
      "SL_Global                1993-01-01  2022-08-31                 Sea Level   \n",
      "gmpesst                  1981-09-01  2016-12-31                       SST   \n",
      "sst                      1981-08-24  2022-12-31                       SST   \n",
      "smois                    1978-11-01  2023-09-30             Soil Moisture   \n",
      "gravIS                   2003-01-01  2020-12-31                Ice Sheets   \n",
      "GreenISvel               2017-01-01  2021-12-31                Ice Sheets   \n",
      "ISSurfElev               1992-01-01  2023-03-01                Ice Sheets   \n",
      "Randolph                 1990-01-01  2010-12-31                  Glaciers   \n",
      "Glaciers_elevation       1990-01-01  2019-12-31                  Glaciers   \n",
      "lakes                    1992-01-01  2022-12-31                     Lakes   \n",
      "FRP                      2020-03-01  2021-02-28                      Fire   \n",
      "Burned_area              2001-01-01  2022-04-30                      Fire   \n",
      "Albedo                   1981-09-01  2020-06-30                    Albedo   \n",
      "Fapar                    1981-09-01  2020-06-30                     FAPAR   \n",
      "LAI                      1981-09-01  2020-06-30                       LAI   \n",
      "LandCover                1992-01-01  2020-12-31                Land Cover   \n",
      "\n",
      "                                                              Product  \n",
      "precipitation                                           Precipitation  \n",
      "precipitation-microwave                       Precipitation-Microwave  \n",
      "CLARA                                                     CLARA (SRB)  \n",
      "CCI                                                         CCI (SRB)  \n",
      "CCI2                                                        CCI (SRB)  \n",
      "tcwv_meris_ssmi                Total Column Water Vapour (MERIS/SSMI)  \n",
      "tcwv_hoaps                          Total Column Water Vapour (HOAPS)  \n",
      "UTH                                       Upper Tropospheric Humidity  \n",
      "THP                               Tropospheric Humidity Profiles (RO)  \n",
      "NASA_CERES                                      NASA CERES EBAF (ERB)  \n",
      "NOAA_HIRS                                        NOAA/NCEI HIRS (ERB)  \n",
      "ESA_CLOUD_CCI_SRB                                 ESA CLOUD CCI (ERB)  \n",
      "C3S_CCI_SRB                                             C3S CCI (ERB)  \n",
      "C3S_RMIB_SRB                                           C3S RMIB (ERB)  \n",
      "aerosol                                                      Aerosols  \n",
      "CH4                                                           Methane  \n",
      "CO2                                                               CO2  \n",
      "Ozone                                                           Ozone  \n",
      "OC                                                       Ocean Colour  \n",
      "SIC                                             Sea Ice Concentration  \n",
      "SIEaT                                           Sea Ice Edge and Type  \n",
      "SIT                                                 Sea Ice Thickness  \n",
      "GIS_velocity                             Greenland Ice Sheet Velocity  \n",
      "SL_Med                                      Sea Level - Mediterranean  \n",
      "SL_Black                                        Sea Level - Black Sea  \n",
      "SL_Global                                          Sea Level - Global  \n",
      "gmpesst                                                      GMPE SST  \n",
      "sst                                                               SST  \n",
      "smois                                                   Soil Moisture  \n",
      "gravIS                          Gravimetric Mass Balance (Ice Sheets)  \n",
      "GreenISvel                               Greenland Ice Sheet Velocity  \n",
      "ISSurfElev                    Ice Sheet Surface Elevation change rate  \n",
      "Randolph                 Randolph Glacier Inventory for the year 2000  \n",
      "Glaciers_elevation            Glaciers elevation and mass change data  \n",
      "lakes                                               Lake water levels  \n",
      "FRP                                              Fire Radiative Power  \n",
      "Burned_area                                         Fire Burned Areas  \n",
      "Albedo                                        Surface Albedo 10-daily  \n",
      "Fapar                                                           FAPAR  \n",
      "LAI                                                               LAI  \n",
      "LandCover                                                  Land Cover  \n"
     ]
    },
    {
     "data": {
      "application/vnd.plotly.v1+json": {
       "config": {
        "plotlyServerURL": "https://plot.ly"
       },
       "data": [
        {
         "alignmentgroup": "True",
         "base": [
          "1979-01-01",
          "2000-01-01"
         ],
         "hovertemplate": "ECV=Precipitation<br>startdate=%{base}<br>enddate=%{x}<br>Product=%{y}<extra></extra>",
         "legendgroup": "Precipitation",
         "marker": {
          "color": "#636efa",
          "pattern": {
           "shape": ""
          }
         },
         "name": "Precipitation",
         "offsetgroup": "Precipitation",
         "orientation": "h",
         "showlegend": true,
         "textposition": "auto",
         "type": "bar",
         "x": [
          1372550400000,
          567993600000
         ],
         "xaxis": "x",
         "y": [
          "Precipitation",
          "Precipitation-Microwave"
         ],
         "yaxis": "y"
        },
        {
         "alignmentgroup": "True",
         "base": [
          "1982-01-01",
          "1995-06-01",
          "2017-01-01"
         ],
         "hovertemplate": "ECV=Surface Radiation Budget<br>startdate=%{base}<br>enddate=%{x}<br>Product=%{y}<extra></extra>",
         "legendgroup": "Surface Radiation Budget",
         "marker": {
          "color": "#EF553B",
          "pattern": {
           "shape": ""
          }
         },
         "name": "Surface Radiation Budget",
         "offsetgroup": "Surface Radiation Budget",
         "orientation": "h",
         "showlegend": true,
         "textposition": "auto",
         "type": "bar",
         "x": [
          1167523200000,
          533779200000,
          157680000000
         ],
         "xaxis": "x",
         "y": [
          "CLARA (SRB)",
          "CCI (SRB)",
          "CCI (SRB)"
         ],
         "yaxis": "y"
        },
        {
         "alignmentgroup": "True",
         "base": [
          "2002-05-01",
          "1988-01-01",
          "1999-01-01",
          "2006-12-01"
         ],
         "hovertemplate": "ECV=Upper air water vapour<br>startdate=%{base}<br>enddate=%{x}<br>Product=%{y}<extra></extra>",
         "legendgroup": "Upper air water vapour",
         "marker": {
          "color": "#00cc96",
          "pattern": {
           "shape": ""
          }
         },
         "name": "Upper air water vapour",
         "offsetgroup": "Upper air water vapour",
         "orientation": "h",
         "showlegend": true,
         "textposition": "auto",
         "type": "bar",
         "x": [
          312940800000,
          1041379200000,
          704419200000,
          512611200000
         ],
         "xaxis": "x",
         "y": [
          "Total Column Water Vapour (MERIS/SSMI)",
          "Total Column Water Vapour (HOAPS)",
          "Upper Tropospheric Humidity",
          "Tropospheric Humidity Profiles (RO)"
         ],
         "yaxis": "y"
        },
        {
         "alignmentgroup": "True",
         "base": [
          "2000-03-01",
          "1979-01-01",
          "1995-06-01",
          "2017-01-01",
          "1979-01-01"
         ],
         "hovertemplate": "ECV=Earth Radiation Budget<br>startdate=%{base}<br>enddate=%{x}<br>Product=%{y}<extra></extra>",
         "legendgroup": "Earth Radiation Budget",
         "marker": {
          "color": "#ab63fa",
          "pattern": {
           "shape": ""
          }
         },
         "name": "Earth Radiation Budget",
         "offsetgroup": "Earth Radiation Budget",
         "orientation": "h",
         "showlegend": true,
         "textposition": "auto",
         "type": "bar",
         "x": [
          696816000000,
          1396224000000,
          533779200000,
          128822400000,
          1372550400000
         ],
         "xaxis": "x",
         "y": [
          "NASA CERES EBAF (ERB)",
          "NOAA/NCEI HIRS (ERB)",
          "ESA CLOUD CCI (ERB)",
          "C3S CCI (ERB)",
          "C3S RMIB (ERB)"
         ],
         "yaxis": "y"
        },
        {
         "alignmentgroup": "True",
         "base": [
          "1995-06-01"
         ],
         "hovertemplate": "ECV=Aerosols<br>startdate=%{base}<br>enddate=%{x}<br>Product=%{y}<extra></extra>",
         "legendgroup": "Aerosols",
         "marker": {
          "color": "#FFA15A",
          "pattern": {
           "shape": ""
          }
         },
         "name": "Aerosols",
         "offsetgroup": "Aerosols",
         "orientation": "h",
         "showlegend": true,
         "textposition": "auto",
         "type": "bar",
         "x": [
          870393600000
         ],
         "xaxis": "x",
         "y": [
          "Aerosols"
         ],
         "yaxis": "y"
        },
        {
         "alignmentgroup": "True",
         "base": [
          "2002-10-01",
          "2002-10-01"
         ],
         "hovertemplate": "ECV=GHG<br>startdate=%{base}<br>enddate=%{x}<br>Product=%{y}<extra></extra>",
         "legendgroup": "GHG",
         "marker": {
          "color": "#19d3f3",
          "pattern": {
           "shape": ""
          }
         },
         "name": "GHG",
         "offsetgroup": "GHG",
         "orientation": "h",
         "showlegend": true,
         "textposition": "auto",
         "type": "bar",
         "x": [
          607478400000,
          607478400000
         ],
         "xaxis": "x",
         "y": [
          "Methane",
          "CO2"
         ],
         "yaxis": "y"
        },
        {
         "alignmentgroup": "True",
         "base": [
          "1970-04-01"
         ],
         "hovertemplate": "ECV=Ozone<br>startdate=%{base}<br>enddate=%{x}<br>Product=%{y}<extra></extra>",
         "legendgroup": "Ozone",
         "marker": {
          "color": "#FF6692",
          "pattern": {
           "shape": ""
          }
         },
         "name": "Ozone",
         "offsetgroup": "Ozone",
         "orientation": "h",
         "showlegend": true,
         "textposition": "auto",
         "type": "bar",
         "x": [
          1682899200000
         ],
         "xaxis": "x",
         "y": [
          "Ozone"
         ],
         "yaxis": "y"
        },
        {
         "alignmentgroup": "True",
         "base": [
          "1997-09-01"
         ],
         "hovertemplate": "ECV=Ocean Colour<br>startdate=%{base}<br>enddate=%{x}<br>Product=%{y}<extra></extra>",
         "legendgroup": "Ocean Colour",
         "marker": {
          "color": "#B6E880",
          "pattern": {
           "shape": ""
          }
         },
         "name": "Ocean Colour",
         "offsetgroup": "Ocean Colour",
         "orientation": "h",
         "showlegend": true,
         "textposition": "auto",
         "type": "bar",
         "x": [
          807148800000
         ],
         "xaxis": "x",
         "y": [
          "Ocean Colour"
         ],
         "yaxis": "y"
        },
        {
         "alignmentgroup": "True",
         "base": [
          "1979-01-01",
          "1978-10-01",
          "2002-10-01",
          "2017-01-01"
         ],
         "hovertemplate": "ECV=Sea Ice<br>startdate=%{base}<br>enddate=%{x}<br>Product=%{y}<extra></extra>",
         "legendgroup": "Sea Ice",
         "marker": {
          "color": "#FF97FF",
          "pattern": {
           "shape": ""
          }
         },
         "name": "Sea Ice",
         "offsetgroup": "Sea Ice",
         "orientation": "h",
         "showlegend": true,
         "textposition": "auto",
         "type": "bar",
         "x": [
          1398816000000,
          1417392000000,
          617846400000,
          157680000000
         ],
         "xaxis": "x",
         "y": [
          "Sea Ice Concentration",
          "Sea Ice Edge and Type",
          "Sea Ice Thickness",
          "Greenland Ice Sheet Velocity"
         ],
         "yaxis": "y"
        },
        {
         "alignmentgroup": "True",
         "base": [
          "1993-01-01",
          "1993-01-01",
          "1993-01-01"
         ],
         "hovertemplate": "ECV=Sea Level<br>startdate=%{base}<br>enddate=%{x}<br>Product=%{y}<extra></extra>",
         "legendgroup": "Sea Level",
         "marker": {
          "color": "#FECB52",
          "pattern": {
           "shape": ""
          }
         },
         "name": "Sea Level",
         "offsetgroup": "Sea Level",
         "orientation": "h",
         "showlegend": true,
         "textposition": "auto",
         "type": "bar",
         "x": [
          867628800000,
          867628800000,
          936057600000
         ],
         "xaxis": "x",
         "y": [
          "Sea Level - Mediterranean",
          "Sea Level - Black Sea",
          "Sea Level - Global"
         ],
         "yaxis": "y"
        },
        {
         "alignmentgroup": "True",
         "base": [
          "1981-09-01",
          "1981-08-24"
         ],
         "hovertemplate": "ECV=SST<br>startdate=%{base}<br>enddate=%{x}<br>Product=%{y}<extra></extra>",
         "legendgroup": "SST",
         "marker": {
          "color": "#636efa",
          "pattern": {
           "shape": ""
          }
         },
         "name": "SST",
         "offsetgroup": "SST",
         "orientation": "h",
         "showlegend": true,
         "textposition": "auto",
         "type": "bar",
         "x": [
          1114992000000,
          1304985600000
         ],
         "xaxis": "x",
         "y": [
          "GMPE SST",
          "SST"
         ],
         "yaxis": "y"
        },
        {
         "alignmentgroup": "True",
         "base": [
          "1978-11-01"
         ],
         "hovertemplate": "ECV=Soil Moisture<br>startdate=%{base}<br>enddate=%{x}<br>Product=%{y}<extra></extra>",
         "legendgroup": "Soil Moisture",
         "marker": {
          "color": "#EF553B",
          "pattern": {
           "shape": ""
          }
         },
         "name": "Soil Moisture",
         "offsetgroup": "Soil Moisture",
         "orientation": "h",
         "showlegend": true,
         "textposition": "auto",
         "type": "bar",
         "x": [
          1417305600000
         ],
         "xaxis": "x",
         "y": [
          "Soil Moisture"
         ],
         "yaxis": "y"
        },
        {
         "alignmentgroup": "True",
         "base": [
          "2003-01-01",
          "2017-01-01",
          "1992-01-01"
         ],
         "hovertemplate": "ECV=Ice Sheets<br>startdate=%{base}<br>enddate=%{x}<br>Product=%{y}<extra></extra>",
         "legendgroup": "Ice Sheets",
         "marker": {
          "color": "#00cc96",
          "pattern": {
           "shape": ""
          }
         },
         "name": "Ice Sheets",
         "offsetgroup": "Ice Sheets",
         "orientation": "h",
         "showlegend": true,
         "textposition": "auto",
         "type": "bar",
         "x": [
          567993600000,
          157680000000,
          983404800000
         ],
         "xaxis": "x",
         "y": [
          "Gravimetric Mass Balance (Ice Sheets)",
          "Greenland Ice Sheet Velocity",
          "Ice Sheet Surface Elevation change rate"
         ],
         "yaxis": "y"
        },
        {
         "alignmentgroup": "True",
         "base": [
          "1990-01-01",
          "1990-01-01"
         ],
         "hovertemplate": "ECV=Glaciers<br>startdate=%{base}<br>enddate=%{x}<br>Product=%{y}<extra></extra>",
         "legendgroup": "Glaciers",
         "marker": {
          "color": "#ab63fa",
          "pattern": {
           "shape": ""
          }
         },
         "name": "Glaciers",
         "offsetgroup": "Glaciers",
         "orientation": "h",
         "showlegend": true,
         "textposition": "auto",
         "type": "bar",
         "x": [
          662601600000,
          946598400000
         ],
         "xaxis": "x",
         "y": [
          "Randolph Glacier Inventory for the year 2000",
          "Glaciers elevation and mass change data"
         ],
         "yaxis": "y"
        },
        {
         "alignmentgroup": "True",
         "base": [
          "1992-01-01"
         ],
         "hovertemplate": "ECV=Lakes<br>startdate=%{base}<br>enddate=%{x}<br>Product=%{y}<extra></extra>",
         "legendgroup": "Lakes",
         "marker": {
          "color": "#FFA15A",
          "pattern": {
           "shape": ""
          }
         },
         "name": "Lakes",
         "offsetgroup": "Lakes",
         "orientation": "h",
         "showlegend": true,
         "textposition": "auto",
         "type": "bar",
         "x": [
          978220800000
         ],
         "xaxis": "x",
         "y": [
          "Lake water levels"
         ],
         "yaxis": "y"
        },
        {
         "alignmentgroup": "True",
         "base": [
          "2020-03-01",
          "2001-01-01"
         ],
         "hovertemplate": "ECV=Fire<br>startdate=%{base}<br>enddate=%{x}<br>Product=%{y}<extra></extra>",
         "legendgroup": "Fire",
         "marker": {
          "color": "#19d3f3",
          "pattern": {
           "shape": ""
          }
         },
         "name": "Fire",
         "offsetgroup": "Fire",
         "orientation": "h",
         "showlegend": true,
         "textposition": "auto",
         "type": "bar",
         "x": [
          31449600000,
          672969600000
         ],
         "xaxis": "x",
         "y": [
          "Fire Radiative Power",
          "Fire Burned Areas"
         ],
         "yaxis": "y"
        },
        {
         "alignmentgroup": "True",
         "base": [
          "1981-09-01"
         ],
         "hovertemplate": "ECV=Albedo<br>startdate=%{base}<br>enddate=%{x}<br>Product=%{y}<extra></extra>",
         "legendgroup": "Albedo",
         "marker": {
          "color": "#FF6692",
          "pattern": {
           "shape": ""
          }
         },
         "name": "Albedo",
         "offsetgroup": "Albedo",
         "orientation": "h",
         "showlegend": true,
         "textposition": "auto",
         "type": "bar",
         "x": [
          1225324800000
         ],
         "xaxis": "x",
         "y": [
          "Surface Albedo 10-daily"
         ],
         "yaxis": "y"
        },
        {
         "alignmentgroup": "True",
         "base": [
          "1981-09-01"
         ],
         "hovertemplate": "ECV=FAPAR<br>startdate=%{base}<br>enddate=%{x}<br>Product=%{y}<extra></extra>",
         "legendgroup": "FAPAR",
         "marker": {
          "color": "#B6E880",
          "pattern": {
           "shape": ""
          }
         },
         "name": "FAPAR",
         "offsetgroup": "FAPAR",
         "orientation": "h",
         "showlegend": true,
         "textposition": "auto",
         "type": "bar",
         "x": [
          1225324800000
         ],
         "xaxis": "x",
         "y": [
          "FAPAR"
         ],
         "yaxis": "y"
        },
        {
         "alignmentgroup": "True",
         "base": [
          "1981-09-01"
         ],
         "hovertemplate": "ECV=LAI<br>startdate=%{base}<br>enddate=%{x}<br>Product=%{y}<extra></extra>",
         "legendgroup": "LAI",
         "marker": {
          "color": "#FF97FF",
          "pattern": {
           "shape": ""
          }
         },
         "name": "LAI",
         "offsetgroup": "LAI",
         "orientation": "h",
         "showlegend": true,
         "textposition": "auto",
         "type": "bar",
         "x": [
          1225324800000
         ],
         "xaxis": "x",
         "y": [
          "LAI"
         ],
         "yaxis": "y"
        },
        {
         "alignmentgroup": "True",
         "base": [
          "1992-01-01"
         ],
         "hovertemplate": "ECV=Land Cover<br>startdate=%{base}<br>enddate=%{x}<br>Product=%{y}<extra></extra>",
         "legendgroup": "Land Cover",
         "marker": {
          "color": "#FECB52",
          "pattern": {
           "shape": ""
          }
         },
         "name": "Land Cover",
         "offsetgroup": "Land Cover",
         "orientation": "h",
         "showlegend": true,
         "textposition": "auto",
         "type": "bar",
         "x": [
          915148800000
         ],
         "xaxis": "x",
         "y": [
          "Land Cover"
         ],
         "yaxis": "y"
        }
       ],
       "layout": {
        "autosize": false,
        "barmode": "overlay",
        "height": 800,
        "legend": {
         "title": {
          "text": "ECV"
         },
         "tracegroupgap": 0
        },
        "margin": {
         "t": 60
        },
        "template": {
         "data": {
          "bar": [
           {
            "error_x": {
             "color": "#2a3f5f"
            },
            "error_y": {
             "color": "#2a3f5f"
            },
            "marker": {
             "line": {
              "color": "#E5ECF6",
              "width": 0.5
             },
             "pattern": {
              "fillmode": "overlay",
              "size": 10,
              "solidity": 0.2
             }
            },
            "type": "bar"
           }
          ],
          "barpolar": [
           {
            "marker": {
             "line": {
              "color": "#E5ECF6",
              "width": 0.5
             },
             "pattern": {
              "fillmode": "overlay",
              "size": 10,
              "solidity": 0.2
             }
            },
            "type": "barpolar"
           }
          ],
          "carpet": [
           {
            "aaxis": {
             "endlinecolor": "#2a3f5f",
             "gridcolor": "white",
             "linecolor": "white",
             "minorgridcolor": "white",
             "startlinecolor": "#2a3f5f"
            },
            "baxis": {
             "endlinecolor": "#2a3f5f",
             "gridcolor": "white",
             "linecolor": "white",
             "minorgridcolor": "white",
             "startlinecolor": "#2a3f5f"
            },
            "type": "carpet"
           }
          ],
          "choropleth": [
           {
            "colorbar": {
             "outlinewidth": 0,
             "ticks": ""
            },
            "type": "choropleth"
           }
          ],
          "contour": [
           {
            "colorbar": {
             "outlinewidth": 0,
             "ticks": ""
            },
            "colorscale": [
             [
              0,
              "#0d0887"
             ],
             [
              0.1111111111111111,
              "#46039f"
             ],
             [
              0.2222222222222222,
              "#7201a8"
             ],
             [
              0.3333333333333333,
              "#9c179e"
             ],
             [
              0.4444444444444444,
              "#bd3786"
             ],
             [
              0.5555555555555556,
              "#d8576b"
             ],
             [
              0.6666666666666666,
              "#ed7953"
             ],
             [
              0.7777777777777778,
              "#fb9f3a"
             ],
             [
              0.8888888888888888,
              "#fdca26"
             ],
             [
              1,
              "#f0f921"
             ]
            ],
            "type": "contour"
           }
          ],
          "contourcarpet": [
           {
            "colorbar": {
             "outlinewidth": 0,
             "ticks": ""
            },
            "type": "contourcarpet"
           }
          ],
          "heatmap": [
           {
            "colorbar": {
             "outlinewidth": 0,
             "ticks": ""
            },
            "colorscale": [
             [
              0,
              "#0d0887"
             ],
             [
              0.1111111111111111,
              "#46039f"
             ],
             [
              0.2222222222222222,
              "#7201a8"
             ],
             [
              0.3333333333333333,
              "#9c179e"
             ],
             [
              0.4444444444444444,
              "#bd3786"
             ],
             [
              0.5555555555555556,
              "#d8576b"
             ],
             [
              0.6666666666666666,
              "#ed7953"
             ],
             [
              0.7777777777777778,
              "#fb9f3a"
             ],
             [
              0.8888888888888888,
              "#fdca26"
             ],
             [
              1,
              "#f0f921"
             ]
            ],
            "type": "heatmap"
           }
          ],
          "heatmapgl": [
           {
            "colorbar": {
             "outlinewidth": 0,
             "ticks": ""
            },
            "colorscale": [
             [
              0,
              "#0d0887"
             ],
             [
              0.1111111111111111,
              "#46039f"
             ],
             [
              0.2222222222222222,
              "#7201a8"
             ],
             [
              0.3333333333333333,
              "#9c179e"
             ],
             [
              0.4444444444444444,
              "#bd3786"
             ],
             [
              0.5555555555555556,
              "#d8576b"
             ],
             [
              0.6666666666666666,
              "#ed7953"
             ],
             [
              0.7777777777777778,
              "#fb9f3a"
             ],
             [
              0.8888888888888888,
              "#fdca26"
             ],
             [
              1,
              "#f0f921"
             ]
            ],
            "type": "heatmapgl"
           }
          ],
          "histogram": [
           {
            "marker": {
             "pattern": {
              "fillmode": "overlay",
              "size": 10,
              "solidity": 0.2
             }
            },
            "type": "histogram"
           }
          ],
          "histogram2d": [
           {
            "colorbar": {
             "outlinewidth": 0,
             "ticks": ""
            },
            "colorscale": [
             [
              0,
              "#0d0887"
             ],
             [
              0.1111111111111111,
              "#46039f"
             ],
             [
              0.2222222222222222,
              "#7201a8"
             ],
             [
              0.3333333333333333,
              "#9c179e"
             ],
             [
              0.4444444444444444,
              "#bd3786"
             ],
             [
              0.5555555555555556,
              "#d8576b"
             ],
             [
              0.6666666666666666,
              "#ed7953"
             ],
             [
              0.7777777777777778,
              "#fb9f3a"
             ],
             [
              0.8888888888888888,
              "#fdca26"
             ],
             [
              1,
              "#f0f921"
             ]
            ],
            "type": "histogram2d"
           }
          ],
          "histogram2dcontour": [
           {
            "colorbar": {
             "outlinewidth": 0,
             "ticks": ""
            },
            "colorscale": [
             [
              0,
              "#0d0887"
             ],
             [
              0.1111111111111111,
              "#46039f"
             ],
             [
              0.2222222222222222,
              "#7201a8"
             ],
             [
              0.3333333333333333,
              "#9c179e"
             ],
             [
              0.4444444444444444,
              "#bd3786"
             ],
             [
              0.5555555555555556,
              "#d8576b"
             ],
             [
              0.6666666666666666,
              "#ed7953"
             ],
             [
              0.7777777777777778,
              "#fb9f3a"
             ],
             [
              0.8888888888888888,
              "#fdca26"
             ],
             [
              1,
              "#f0f921"
             ]
            ],
            "type": "histogram2dcontour"
           }
          ],
          "mesh3d": [
           {
            "colorbar": {
             "outlinewidth": 0,
             "ticks": ""
            },
            "type": "mesh3d"
           }
          ],
          "parcoords": [
           {
            "line": {
             "colorbar": {
              "outlinewidth": 0,
              "ticks": ""
             }
            },
            "type": "parcoords"
           }
          ],
          "pie": [
           {
            "automargin": true,
            "type": "pie"
           }
          ],
          "scatter": [
           {
            "fillpattern": {
             "fillmode": "overlay",
             "size": 10,
             "solidity": 0.2
            },
            "type": "scatter"
           }
          ],
          "scatter3d": [
           {
            "line": {
             "colorbar": {
              "outlinewidth": 0,
              "ticks": ""
             }
            },
            "marker": {
             "colorbar": {
              "outlinewidth": 0,
              "ticks": ""
             }
            },
            "type": "scatter3d"
           }
          ],
          "scattercarpet": [
           {
            "marker": {
             "colorbar": {
              "outlinewidth": 0,
              "ticks": ""
             }
            },
            "type": "scattercarpet"
           }
          ],
          "scattergeo": [
           {
            "marker": {
             "colorbar": {
              "outlinewidth": 0,
              "ticks": ""
             }
            },
            "type": "scattergeo"
           }
          ],
          "scattergl": [
           {
            "marker": {
             "colorbar": {
              "outlinewidth": 0,
              "ticks": ""
             }
            },
            "type": "scattergl"
           }
          ],
          "scattermapbox": [
           {
            "marker": {
             "colorbar": {
              "outlinewidth": 0,
              "ticks": ""
             }
            },
            "type": "scattermapbox"
           }
          ],
          "scatterpolar": [
           {
            "marker": {
             "colorbar": {
              "outlinewidth": 0,
              "ticks": ""
             }
            },
            "type": "scatterpolar"
           }
          ],
          "scatterpolargl": [
           {
            "marker": {
             "colorbar": {
              "outlinewidth": 0,
              "ticks": ""
             }
            },
            "type": "scatterpolargl"
           }
          ],
          "scatterternary": [
           {
            "marker": {
             "colorbar": {
              "outlinewidth": 0,
              "ticks": ""
             }
            },
            "type": "scatterternary"
           }
          ],
          "surface": [
           {
            "colorbar": {
             "outlinewidth": 0,
             "ticks": ""
            },
            "colorscale": [
             [
              0,
              "#0d0887"
             ],
             [
              0.1111111111111111,
              "#46039f"
             ],
             [
              0.2222222222222222,
              "#7201a8"
             ],
             [
              0.3333333333333333,
              "#9c179e"
             ],
             [
              0.4444444444444444,
              "#bd3786"
             ],
             [
              0.5555555555555556,
              "#d8576b"
             ],
             [
              0.6666666666666666,
              "#ed7953"
             ],
             [
              0.7777777777777778,
              "#fb9f3a"
             ],
             [
              0.8888888888888888,
              "#fdca26"
             ],
             [
              1,
              "#f0f921"
             ]
            ],
            "type": "surface"
           }
          ],
          "table": [
           {
            "cells": {
             "fill": {
              "color": "#EBF0F8"
             },
             "line": {
              "color": "white"
             }
            },
            "header": {
             "fill": {
              "color": "#C8D4E3"
             },
             "line": {
              "color": "white"
             }
            },
            "type": "table"
           }
          ]
         },
         "layout": {
          "annotationdefaults": {
           "arrowcolor": "#2a3f5f",
           "arrowhead": 0,
           "arrowwidth": 1
          },
          "autotypenumbers": "strict",
          "coloraxis": {
           "colorbar": {
            "outlinewidth": 0,
            "ticks": ""
           }
          },
          "colorscale": {
           "diverging": [
            [
             0,
             "#8e0152"
            ],
            [
             0.1,
             "#c51b7d"
            ],
            [
             0.2,
             "#de77ae"
            ],
            [
             0.3,
             "#f1b6da"
            ],
            [
             0.4,
             "#fde0ef"
            ],
            [
             0.5,
             "#f7f7f7"
            ],
            [
             0.6,
             "#e6f5d0"
            ],
            [
             0.7,
             "#b8e186"
            ],
            [
             0.8,
             "#7fbc41"
            ],
            [
             0.9,
             "#4d9221"
            ],
            [
             1,
             "#276419"
            ]
           ],
           "sequential": [
            [
             0,
             "#0d0887"
            ],
            [
             0.1111111111111111,
             "#46039f"
            ],
            [
             0.2222222222222222,
             "#7201a8"
            ],
            [
             0.3333333333333333,
             "#9c179e"
            ],
            [
             0.4444444444444444,
             "#bd3786"
            ],
            [
             0.5555555555555556,
             "#d8576b"
            ],
            [
             0.6666666666666666,
             "#ed7953"
            ],
            [
             0.7777777777777778,
             "#fb9f3a"
            ],
            [
             0.8888888888888888,
             "#fdca26"
            ],
            [
             1,
             "#f0f921"
            ]
           ],
           "sequentialminus": [
            [
             0,
             "#0d0887"
            ],
            [
             0.1111111111111111,
             "#46039f"
            ],
            [
             0.2222222222222222,
             "#7201a8"
            ],
            [
             0.3333333333333333,
             "#9c179e"
            ],
            [
             0.4444444444444444,
             "#bd3786"
            ],
            [
             0.5555555555555556,
             "#d8576b"
            ],
            [
             0.6666666666666666,
             "#ed7953"
            ],
            [
             0.7777777777777778,
             "#fb9f3a"
            ],
            [
             0.8888888888888888,
             "#fdca26"
            ],
            [
             1,
             "#f0f921"
            ]
           ]
          },
          "colorway": [
           "#636efa",
           "#EF553B",
           "#00cc96",
           "#ab63fa",
           "#FFA15A",
           "#19d3f3",
           "#FF6692",
           "#B6E880",
           "#FF97FF",
           "#FECB52"
          ],
          "font": {
           "color": "#2a3f5f"
          },
          "geo": {
           "bgcolor": "white",
           "lakecolor": "white",
           "landcolor": "#E5ECF6",
           "showlakes": true,
           "showland": true,
           "subunitcolor": "white"
          },
          "hoverlabel": {
           "align": "left"
          },
          "hovermode": "closest",
          "mapbox": {
           "style": "light"
          },
          "paper_bgcolor": "white",
          "plot_bgcolor": "#E5ECF6",
          "polar": {
           "angularaxis": {
            "gridcolor": "white",
            "linecolor": "white",
            "ticks": ""
           },
           "bgcolor": "#E5ECF6",
           "radialaxis": {
            "gridcolor": "white",
            "linecolor": "white",
            "ticks": ""
           }
          },
          "scene": {
           "xaxis": {
            "backgroundcolor": "#E5ECF6",
            "gridcolor": "white",
            "gridwidth": 2,
            "linecolor": "white",
            "showbackground": true,
            "ticks": "",
            "zerolinecolor": "white"
           },
           "yaxis": {
            "backgroundcolor": "#E5ECF6",
            "gridcolor": "white",
            "gridwidth": 2,
            "linecolor": "white",
            "showbackground": true,
            "ticks": "",
            "zerolinecolor": "white"
           },
           "zaxis": {
            "backgroundcolor": "#E5ECF6",
            "gridcolor": "white",
            "gridwidth": 2,
            "linecolor": "white",
            "showbackground": true,
            "ticks": "",
            "zerolinecolor": "white"
           }
          },
          "shapedefaults": {
           "line": {
            "color": "#2a3f5f"
           }
          },
          "ternary": {
           "aaxis": {
            "gridcolor": "white",
            "linecolor": "white",
            "ticks": ""
           },
           "baxis": {
            "gridcolor": "white",
            "linecolor": "white",
            "ticks": ""
           },
           "bgcolor": "#E5ECF6",
           "caxis": {
            "gridcolor": "white",
            "linecolor": "white",
            "ticks": ""
           }
          },
          "title": {
           "x": 0.05
          },
          "xaxis": {
           "automargin": true,
           "gridcolor": "white",
           "linecolor": "white",
           "ticks": "",
           "title": {
            "standoff": 15
           },
           "zerolinecolor": "white",
           "zerolinewidth": 2
          },
          "yaxis": {
           "automargin": true,
           "gridcolor": "white",
           "linecolor": "white",
           "ticks": "",
           "title": {
            "standoff": 15
           },
           "zerolinecolor": "white",
           "zerolinewidth": 2
          }
         }
        },
        "width": 1200,
        "xaxis": {
         "anchor": "y",
         "domain": [
          0,
          1
         ],
         "type": "date"
        },
        "yaxis": {
         "anchor": "x",
         "autorange": "reversed",
         "domain": [
          0,
          1
         ],
         "title": {
          "text": "Product"
         }
        }
       }
      }
     },
     "metadata": {},
     "output_type": "display_data"
    }
   ],
   "source": [
    "import plotly.express as px\n",
    "import pandas as pd\n",
    "import yaml\n",
    "\n",
    "# Precipitation: 1979 - 2021\n",
    "# Surface radiation budget: 1983 - 2020\n",
    "# Upper air water vapour: 1988 - 2021\n",
    "# Earth radiation budget: 1979 - 2021\n",
    "# Aerosol - 1995-2020\n",
    "# GHG: 2002- 2020 \n",
    "# Ozone: 1970-2021\n",
    "# Ocean colour: 1997 - 2021\n",
    "# Sea Ice: 1978-2022\n",
    "# Sea level - 1993 - 2020\n",
    "# Sea surface temp: 1981 - 2022\n",
    "# Soil moisture: 1978 - 2022\n",
    "# Ice sheets: 1992- 2021\n",
    "# Glaciers: 1850 - 2019\n",
    "# Lakes 1992 - 2020\n",
    "# Fire - 2001-2021\n",
    "# Albedo: 1981 - 2020\n",
    "# FAPAR: 1981 -2020\n",
    "# Leaf Area Index: 1981 - 2020\n",
    "# Land cover: 1992-2020 \n",
    "\n",
    "datasets = {}\n",
    "\n",
    "# read precip data\n",
    "with open('product_coverages/precipitation.yml','r') as file:\n",
    "    datasets.update(yaml.safe_load(file))\n",
    "\n",
    "with open('product_coverages/SRB.yml','r') as file:\n",
    "    datasets.update(yaml.safe_load(file))\n",
    "print(datasets)\n",
    "\n",
    "with open('product_coverages/UpperAirWV.yml','r') as file:\n",
    "    datasets.update(yaml.safe_load(file))\n",
    "\n",
    "with open('product_coverages/ERB.yml','r') as file:\n",
    "    datasets.update(yaml.safe_load(file))\n",
    "\n",
    "with open('product_coverages/Aerosol.yml','r') as file:\n",
    "    datasets.update(yaml.safe_load(file))\n",
    "\n",
    "with open('product_coverages/GHG.yml','r') as file:\n",
    "    datasets.update(yaml.safe_load(file))\n",
    "\n",
    "with open('product_coverages/Ozone.yml','r') as file:\n",
    "    datasets.update(yaml.safe_load(file))\n",
    "\n",
    "with open('product_coverages/OceanColour.yml','r') as file:\n",
    "    datasets.update(yaml.safe_load(file))\n",
    "\n",
    "with open('product_coverages/SeaIce.yml','r') as file:\n",
    "    datasets.update(yaml.safe_load(file))\n",
    "\n",
    "with open('product_coverages/SeaLevel.yml','r') as file:\n",
    "    datasets.update(yaml.safe_load(file))\n",
    "\n",
    "with open('product_coverages/SST.yml','r') as file:\n",
    "    datasets.update(yaml.safe_load(file))\n",
    "\n",
    "with open('product_coverages/SoilMoisture.yml','r') as file:\n",
    "    datasets.update(yaml.safe_load(file))\n",
    "\n",
    "with open('product_coverages/IceSheets.yml','r') as file:\n",
    "    datasets.update(yaml.safe_load(file))\n",
    "\n",
    "with open('product_coverages/Glaciers.yml','r') as file:\n",
    "    datasets.update(yaml.safe_load(file))\n",
    "\n",
    "with open('product_coverages/Lakes.yml','r') as file:\n",
    "    datasets.update(yaml.safe_load(file))\n",
    "\n",
    "with open('product_coverages/Fire.yml','r') as file:\n",
    "    datasets.update(yaml.safe_load(file))\n",
    "\n",
    "with open('product_coverages/Albedo.yml','r') as file:\n",
    "    datasets.update(yaml.safe_load(file))\n",
    "\n",
    "with open('product_coverages/Fapar.yml','r') as file:\n",
    "    datasets.update(yaml.safe_load(file))\n",
    "\n",
    "with open('product_coverages/LAI.yml','r') as file:\n",
    "    datasets.update(yaml.safe_load(file))\n",
    "\n",
    "with open('product_coverages/LandCover.yml','r') as file:\n",
    "    datasets.update(yaml.safe_load(file))\n",
    "\n",
    "print(datasets)\n",
    "\n",
    "datasets_df=pd.DataFrame.from_dict(datasets,orient='index')\n",
    "print(datasets_df)\n",
    "\n",
    "\n",
    "fig = px.timeline(datasets_df, x_start=\"startdate\", x_end=\"enddate\", y='Product',color='ECV')\n",
    "# fig = px.timeline(datasets_df, x_start=\"startdate\", x_end=\"enddate\", y='ECV')\n",
    "fig.update_yaxes(autorange=\"reversed\")\n",
    "fig.update_layout(\n",
    "    autosize=False,\n",
    "    width=1200,\n",
    "    height=800,\n",
    ")\n",
    "fig.show()"
   ]
  },
  {
   "cell_type": "code",
   "execution_count": 3,
   "metadata": {},
   "outputs": [
    {
     "name": "stdout",
     "output_type": "stream",
     "text": [
      "| ECV                      | startdate   | enddate    |\n",
      "|:-------------------------|:------------|:-----------|\n",
      "| Aerosols                 | 1995-06-01  | 2022-12-30 |\n",
      "| Albedo                   | 1981-09-01  | 2020-06-30 |\n",
      "| Earth Radiation Budget   | 1979-01-01  | 2023-03-31 |\n",
      "| FAPAR                    | 1981-09-01  | 2020-06-30 |\n",
      "| Fire                     | 2001-01-01  | 2022-04-30 |\n",
      "| GHG                      | 2002-10-01  | 2021-12-31 |\n",
      "| Glaciers                 | 1990-01-01  | 2019-12-31 |\n",
      "| Ice Sheets               | 1992-01-01  | 2023-03-01 |\n",
      "| LAI                      | 1981-09-01  | 2020-06-30 |\n",
      "| Lakes                    | 1992-01-01  | 2022-12-31 |\n",
      "| Land Cover               | 1992-01-01  | 2020-12-31 |\n",
      "| Ocean Colour             | 1997-09-01  | 2023-03-31 |\n",
      "| Ozone                    | 1970-04-01  | 2023-07-30 |\n",
      "| Precipitation            | 1979-01-01  | 2022-06-30 |\n",
      "| SST                      | 1981-08-24  | 2022-12-31 |\n",
      "| Sea Ice                  | 1978-10-01  | 2023-08-31 |\n",
      "| Sea Level                | 1993-01-01  | 2022-08-31 |\n",
      "| Soil Moisture            | 1978-11-01  | 2023-09-30 |\n",
      "| Surface Radiation Budget | 1982-01-01  | 2021-12-31 |\n",
      "| Upper air water vapour   | 1988-01-01  | 2023-02-28 |\n"
     ]
    },
    {
     "data": {
      "application/vnd.plotly.v1+json": {
       "config": {
        "plotlyServerURL": "https://plot.ly"
       },
       "data": [
        {
         "alignmentgroup": "True",
         "base": [
          "1995-06-01"
         ],
         "hovertemplate": "ECV=%{y}<br>startdate=%{base}<br>enddate=%{x}<extra></extra>",
         "legendgroup": "Aerosols",
         "marker": {
          "color": "#636efa",
          "pattern": {
           "shape": ""
          }
         },
         "name": "Aerosols",
         "offsetgroup": "Aerosols",
         "orientation": "h",
         "showlegend": true,
         "textposition": "auto",
         "type": "bar",
         "x": [
          870393600000
         ],
         "xaxis": "x",
         "y": [
          "Aerosols"
         ],
         "yaxis": "y"
        },
        {
         "alignmentgroup": "True",
         "base": [
          "1981-09-01"
         ],
         "hovertemplate": "ECV=%{y}<br>startdate=%{base}<br>enddate=%{x}<extra></extra>",
         "legendgroup": "Albedo",
         "marker": {
          "color": "#EF553B",
          "pattern": {
           "shape": ""
          }
         },
         "name": "Albedo",
         "offsetgroup": "Albedo",
         "orientation": "h",
         "showlegend": true,
         "textposition": "auto",
         "type": "bar",
         "x": [
          1225324800000
         ],
         "xaxis": "x",
         "y": [
          "Albedo"
         ],
         "yaxis": "y"
        },
        {
         "alignmentgroup": "True",
         "base": [
          "1979-01-01"
         ],
         "hovertemplate": "ECV=%{y}<br>startdate=%{base}<br>enddate=%{x}<extra></extra>",
         "legendgroup": "Earth Radiation Budget",
         "marker": {
          "color": "#00cc96",
          "pattern": {
           "shape": ""
          }
         },
         "name": "Earth Radiation Budget",
         "offsetgroup": "Earth Radiation Budget",
         "orientation": "h",
         "showlegend": true,
         "textposition": "auto",
         "type": "bar",
         "x": [
          1396224000000
         ],
         "xaxis": "x",
         "y": [
          "Earth Radiation Budget"
         ],
         "yaxis": "y"
        },
        {
         "alignmentgroup": "True",
         "base": [
          "1981-09-01"
         ],
         "hovertemplate": "ECV=%{y}<br>startdate=%{base}<br>enddate=%{x}<extra></extra>",
         "legendgroup": "FAPAR",
         "marker": {
          "color": "#ab63fa",
          "pattern": {
           "shape": ""
          }
         },
         "name": "FAPAR",
         "offsetgroup": "FAPAR",
         "orientation": "h",
         "showlegend": true,
         "textposition": "auto",
         "type": "bar",
         "x": [
          1225324800000
         ],
         "xaxis": "x",
         "y": [
          "FAPAR"
         ],
         "yaxis": "y"
        },
        {
         "alignmentgroup": "True",
         "base": [
          "2001-01-01"
         ],
         "hovertemplate": "ECV=%{y}<br>startdate=%{base}<br>enddate=%{x}<extra></extra>",
         "legendgroup": "Fire",
         "marker": {
          "color": "#FFA15A",
          "pattern": {
           "shape": ""
          }
         },
         "name": "Fire",
         "offsetgroup": "Fire",
         "orientation": "h",
         "showlegend": true,
         "textposition": "auto",
         "type": "bar",
         "x": [
          672969600000
         ],
         "xaxis": "x",
         "y": [
          "Fire"
         ],
         "yaxis": "y"
        },
        {
         "alignmentgroup": "True",
         "base": [
          "2002-10-01"
         ],
         "hovertemplate": "ECV=%{y}<br>startdate=%{base}<br>enddate=%{x}<extra></extra>",
         "legendgroup": "GHG",
         "marker": {
          "color": "#19d3f3",
          "pattern": {
           "shape": ""
          }
         },
         "name": "GHG",
         "offsetgroup": "GHG",
         "orientation": "h",
         "showlegend": true,
         "textposition": "auto",
         "type": "bar",
         "x": [
          607478400000
         ],
         "xaxis": "x",
         "y": [
          "GHG"
         ],
         "yaxis": "y"
        },
        {
         "alignmentgroup": "True",
         "base": [
          "1990-01-01"
         ],
         "hovertemplate": "ECV=%{y}<br>startdate=%{base}<br>enddate=%{x}<extra></extra>",
         "legendgroup": "Glaciers",
         "marker": {
          "color": "#FF6692",
          "pattern": {
           "shape": ""
          }
         },
         "name": "Glaciers",
         "offsetgroup": "Glaciers",
         "orientation": "h",
         "showlegend": true,
         "textposition": "auto",
         "type": "bar",
         "x": [
          946598400000
         ],
         "xaxis": "x",
         "y": [
          "Glaciers"
         ],
         "yaxis": "y"
        },
        {
         "alignmentgroup": "True",
         "base": [
          "1992-01-01"
         ],
         "hovertemplate": "ECV=%{y}<br>startdate=%{base}<br>enddate=%{x}<extra></extra>",
         "legendgroup": "Ice Sheets",
         "marker": {
          "color": "#B6E880",
          "pattern": {
           "shape": ""
          }
         },
         "name": "Ice Sheets",
         "offsetgroup": "Ice Sheets",
         "orientation": "h",
         "showlegend": true,
         "textposition": "auto",
         "type": "bar",
         "x": [
          983404800000
         ],
         "xaxis": "x",
         "y": [
          "Ice Sheets"
         ],
         "yaxis": "y"
        },
        {
         "alignmentgroup": "True",
         "base": [
          "1981-09-01"
         ],
         "hovertemplate": "ECV=%{y}<br>startdate=%{base}<br>enddate=%{x}<extra></extra>",
         "legendgroup": "LAI",
         "marker": {
          "color": "#FF97FF",
          "pattern": {
           "shape": ""
          }
         },
         "name": "LAI",
         "offsetgroup": "LAI",
         "orientation": "h",
         "showlegend": true,
         "textposition": "auto",
         "type": "bar",
         "x": [
          1225324800000
         ],
         "xaxis": "x",
         "y": [
          "LAI"
         ],
         "yaxis": "y"
        },
        {
         "alignmentgroup": "True",
         "base": [
          "1992-01-01"
         ],
         "hovertemplate": "ECV=%{y}<br>startdate=%{base}<br>enddate=%{x}<extra></extra>",
         "legendgroup": "Lakes",
         "marker": {
          "color": "#FECB52",
          "pattern": {
           "shape": ""
          }
         },
         "name": "Lakes",
         "offsetgroup": "Lakes",
         "orientation": "h",
         "showlegend": true,
         "textposition": "auto",
         "type": "bar",
         "x": [
          978220800000
         ],
         "xaxis": "x",
         "y": [
          "Lakes"
         ],
         "yaxis": "y"
        },
        {
         "alignmentgroup": "True",
         "base": [
          "1992-01-01"
         ],
         "hovertemplate": "ECV=%{y}<br>startdate=%{base}<br>enddate=%{x}<extra></extra>",
         "legendgroup": "Land Cover",
         "marker": {
          "color": "#636efa",
          "pattern": {
           "shape": ""
          }
         },
         "name": "Land Cover",
         "offsetgroup": "Land Cover",
         "orientation": "h",
         "showlegend": true,
         "textposition": "auto",
         "type": "bar",
         "x": [
          915148800000
         ],
         "xaxis": "x",
         "y": [
          "Land Cover"
         ],
         "yaxis": "y"
        },
        {
         "alignmentgroup": "True",
         "base": [
          "1997-09-01"
         ],
         "hovertemplate": "ECV=%{y}<br>startdate=%{base}<br>enddate=%{x}<extra></extra>",
         "legendgroup": "Ocean Colour",
         "marker": {
          "color": "#EF553B",
          "pattern": {
           "shape": ""
          }
         },
         "name": "Ocean Colour",
         "offsetgroup": "Ocean Colour",
         "orientation": "h",
         "showlegend": true,
         "textposition": "auto",
         "type": "bar",
         "x": [
          807148800000
         ],
         "xaxis": "x",
         "y": [
          "Ocean Colour"
         ],
         "yaxis": "y"
        },
        {
         "alignmentgroup": "True",
         "base": [
          "1970-04-01"
         ],
         "hovertemplate": "ECV=%{y}<br>startdate=%{base}<br>enddate=%{x}<extra></extra>",
         "legendgroup": "Ozone",
         "marker": {
          "color": "#00cc96",
          "pattern": {
           "shape": ""
          }
         },
         "name": "Ozone",
         "offsetgroup": "Ozone",
         "orientation": "h",
         "showlegend": true,
         "textposition": "auto",
         "type": "bar",
         "x": [
          1682899200000
         ],
         "xaxis": "x",
         "y": [
          "Ozone"
         ],
         "yaxis": "y"
        },
        {
         "alignmentgroup": "True",
         "base": [
          "1979-01-01"
         ],
         "hovertemplate": "ECV=%{y}<br>startdate=%{base}<br>enddate=%{x}<extra></extra>",
         "legendgroup": "Precipitation",
         "marker": {
          "color": "#ab63fa",
          "pattern": {
           "shape": ""
          }
         },
         "name": "Precipitation",
         "offsetgroup": "Precipitation",
         "orientation": "h",
         "showlegend": true,
         "textposition": "auto",
         "type": "bar",
         "x": [
          1372550400000
         ],
         "xaxis": "x",
         "y": [
          "Precipitation"
         ],
         "yaxis": "y"
        },
        {
         "alignmentgroup": "True",
         "base": [
          "1981-08-24"
         ],
         "hovertemplate": "ECV=%{y}<br>startdate=%{base}<br>enddate=%{x}<extra></extra>",
         "legendgroup": "SST",
         "marker": {
          "color": "#FFA15A",
          "pattern": {
           "shape": ""
          }
         },
         "name": "SST",
         "offsetgroup": "SST",
         "orientation": "h",
         "showlegend": true,
         "textposition": "auto",
         "type": "bar",
         "x": [
          1304985600000
         ],
         "xaxis": "x",
         "y": [
          "SST"
         ],
         "yaxis": "y"
        },
        {
         "alignmentgroup": "True",
         "base": [
          "1978-10-01"
         ],
         "hovertemplate": "ECV=%{y}<br>startdate=%{base}<br>enddate=%{x}<extra></extra>",
         "legendgroup": "Sea Ice",
         "marker": {
          "color": "#19d3f3",
          "pattern": {
           "shape": ""
          }
         },
         "name": "Sea Ice",
         "offsetgroup": "Sea Ice",
         "orientation": "h",
         "showlegend": true,
         "textposition": "auto",
         "type": "bar",
         "x": [
          1417392000000
         ],
         "xaxis": "x",
         "y": [
          "Sea Ice"
         ],
         "yaxis": "y"
        },
        {
         "alignmentgroup": "True",
         "base": [
          "1993-01-01"
         ],
         "hovertemplate": "ECV=%{y}<br>startdate=%{base}<br>enddate=%{x}<extra></extra>",
         "legendgroup": "Sea Level",
         "marker": {
          "color": "#FF6692",
          "pattern": {
           "shape": ""
          }
         },
         "name": "Sea Level",
         "offsetgroup": "Sea Level",
         "orientation": "h",
         "showlegend": true,
         "textposition": "auto",
         "type": "bar",
         "x": [
          936057600000
         ],
         "xaxis": "x",
         "y": [
          "Sea Level"
         ],
         "yaxis": "y"
        },
        {
         "alignmentgroup": "True",
         "base": [
          "1978-11-01"
         ],
         "hovertemplate": "ECV=%{y}<br>startdate=%{base}<br>enddate=%{x}<extra></extra>",
         "legendgroup": "Soil Moisture",
         "marker": {
          "color": "#B6E880",
          "pattern": {
           "shape": ""
          }
         },
         "name": "Soil Moisture",
         "offsetgroup": "Soil Moisture",
         "orientation": "h",
         "showlegend": true,
         "textposition": "auto",
         "type": "bar",
         "x": [
          1417305600000
         ],
         "xaxis": "x",
         "y": [
          "Soil Moisture"
         ],
         "yaxis": "y"
        },
        {
         "alignmentgroup": "True",
         "base": [
          "1982-01-01"
         ],
         "hovertemplate": "ECV=%{y}<br>startdate=%{base}<br>enddate=%{x}<extra></extra>",
         "legendgroup": "Surface Radiation Budget",
         "marker": {
          "color": "#FF97FF",
          "pattern": {
           "shape": ""
          }
         },
         "name": "Surface Radiation Budget",
         "offsetgroup": "Surface Radiation Budget",
         "orientation": "h",
         "showlegend": true,
         "textposition": "auto",
         "type": "bar",
         "x": [
          1262217600000
         ],
         "xaxis": "x",
         "y": [
          "Surface Radiation Budget"
         ],
         "yaxis": "y"
        },
        {
         "alignmentgroup": "True",
         "base": [
          "1988-01-01"
         ],
         "hovertemplate": "ECV=%{y}<br>startdate=%{base}<br>enddate=%{x}<extra></extra>",
         "legendgroup": "Upper air water vapour",
         "marker": {
          "color": "#FECB52",
          "pattern": {
           "shape": ""
          }
         },
         "name": "Upper air water vapour",
         "offsetgroup": "Upper air water vapour",
         "orientation": "h",
         "showlegend": true,
         "textposition": "auto",
         "type": "bar",
         "x": [
          1109548800000
         ],
         "xaxis": "x",
         "y": [
          "Upper air water vapour"
         ],
         "yaxis": "y"
        }
       ],
       "layout": {
        "autosize": false,
        "barmode": "overlay",
        "height": 800,
        "legend": {
         "title": {
          "text": "ECV"
         },
         "tracegroupgap": 0
        },
        "margin": {
         "t": 60
        },
        "template": {
         "data": {
          "bar": [
           {
            "error_x": {
             "color": "#2a3f5f"
            },
            "error_y": {
             "color": "#2a3f5f"
            },
            "marker": {
             "line": {
              "color": "#E5ECF6",
              "width": 0.5
             },
             "pattern": {
              "fillmode": "overlay",
              "size": 10,
              "solidity": 0.2
             }
            },
            "type": "bar"
           }
          ],
          "barpolar": [
           {
            "marker": {
             "line": {
              "color": "#E5ECF6",
              "width": 0.5
             },
             "pattern": {
              "fillmode": "overlay",
              "size": 10,
              "solidity": 0.2
             }
            },
            "type": "barpolar"
           }
          ],
          "carpet": [
           {
            "aaxis": {
             "endlinecolor": "#2a3f5f",
             "gridcolor": "white",
             "linecolor": "white",
             "minorgridcolor": "white",
             "startlinecolor": "#2a3f5f"
            },
            "baxis": {
             "endlinecolor": "#2a3f5f",
             "gridcolor": "white",
             "linecolor": "white",
             "minorgridcolor": "white",
             "startlinecolor": "#2a3f5f"
            },
            "type": "carpet"
           }
          ],
          "choropleth": [
           {
            "colorbar": {
             "outlinewidth": 0,
             "ticks": ""
            },
            "type": "choropleth"
           }
          ],
          "contour": [
           {
            "colorbar": {
             "outlinewidth": 0,
             "ticks": ""
            },
            "colorscale": [
             [
              0,
              "#0d0887"
             ],
             [
              0.1111111111111111,
              "#46039f"
             ],
             [
              0.2222222222222222,
              "#7201a8"
             ],
             [
              0.3333333333333333,
              "#9c179e"
             ],
             [
              0.4444444444444444,
              "#bd3786"
             ],
             [
              0.5555555555555556,
              "#d8576b"
             ],
             [
              0.6666666666666666,
              "#ed7953"
             ],
             [
              0.7777777777777778,
              "#fb9f3a"
             ],
             [
              0.8888888888888888,
              "#fdca26"
             ],
             [
              1,
              "#f0f921"
             ]
            ],
            "type": "contour"
           }
          ],
          "contourcarpet": [
           {
            "colorbar": {
             "outlinewidth": 0,
             "ticks": ""
            },
            "type": "contourcarpet"
           }
          ],
          "heatmap": [
           {
            "colorbar": {
             "outlinewidth": 0,
             "ticks": ""
            },
            "colorscale": [
             [
              0,
              "#0d0887"
             ],
             [
              0.1111111111111111,
              "#46039f"
             ],
             [
              0.2222222222222222,
              "#7201a8"
             ],
             [
              0.3333333333333333,
              "#9c179e"
             ],
             [
              0.4444444444444444,
              "#bd3786"
             ],
             [
              0.5555555555555556,
              "#d8576b"
             ],
             [
              0.6666666666666666,
              "#ed7953"
             ],
             [
              0.7777777777777778,
              "#fb9f3a"
             ],
             [
              0.8888888888888888,
              "#fdca26"
             ],
             [
              1,
              "#f0f921"
             ]
            ],
            "type": "heatmap"
           }
          ],
          "heatmapgl": [
           {
            "colorbar": {
             "outlinewidth": 0,
             "ticks": ""
            },
            "colorscale": [
             [
              0,
              "#0d0887"
             ],
             [
              0.1111111111111111,
              "#46039f"
             ],
             [
              0.2222222222222222,
              "#7201a8"
             ],
             [
              0.3333333333333333,
              "#9c179e"
             ],
             [
              0.4444444444444444,
              "#bd3786"
             ],
             [
              0.5555555555555556,
              "#d8576b"
             ],
             [
              0.6666666666666666,
              "#ed7953"
             ],
             [
              0.7777777777777778,
              "#fb9f3a"
             ],
             [
              0.8888888888888888,
              "#fdca26"
             ],
             [
              1,
              "#f0f921"
             ]
            ],
            "type": "heatmapgl"
           }
          ],
          "histogram": [
           {
            "marker": {
             "pattern": {
              "fillmode": "overlay",
              "size": 10,
              "solidity": 0.2
             }
            },
            "type": "histogram"
           }
          ],
          "histogram2d": [
           {
            "colorbar": {
             "outlinewidth": 0,
             "ticks": ""
            },
            "colorscale": [
             [
              0,
              "#0d0887"
             ],
             [
              0.1111111111111111,
              "#46039f"
             ],
             [
              0.2222222222222222,
              "#7201a8"
             ],
             [
              0.3333333333333333,
              "#9c179e"
             ],
             [
              0.4444444444444444,
              "#bd3786"
             ],
             [
              0.5555555555555556,
              "#d8576b"
             ],
             [
              0.6666666666666666,
              "#ed7953"
             ],
             [
              0.7777777777777778,
              "#fb9f3a"
             ],
             [
              0.8888888888888888,
              "#fdca26"
             ],
             [
              1,
              "#f0f921"
             ]
            ],
            "type": "histogram2d"
           }
          ],
          "histogram2dcontour": [
           {
            "colorbar": {
             "outlinewidth": 0,
             "ticks": ""
            },
            "colorscale": [
             [
              0,
              "#0d0887"
             ],
             [
              0.1111111111111111,
              "#46039f"
             ],
             [
              0.2222222222222222,
              "#7201a8"
             ],
             [
              0.3333333333333333,
              "#9c179e"
             ],
             [
              0.4444444444444444,
              "#bd3786"
             ],
             [
              0.5555555555555556,
              "#d8576b"
             ],
             [
              0.6666666666666666,
              "#ed7953"
             ],
             [
              0.7777777777777778,
              "#fb9f3a"
             ],
             [
              0.8888888888888888,
              "#fdca26"
             ],
             [
              1,
              "#f0f921"
             ]
            ],
            "type": "histogram2dcontour"
           }
          ],
          "mesh3d": [
           {
            "colorbar": {
             "outlinewidth": 0,
             "ticks": ""
            },
            "type": "mesh3d"
           }
          ],
          "parcoords": [
           {
            "line": {
             "colorbar": {
              "outlinewidth": 0,
              "ticks": ""
             }
            },
            "type": "parcoords"
           }
          ],
          "pie": [
           {
            "automargin": true,
            "type": "pie"
           }
          ],
          "scatter": [
           {
            "fillpattern": {
             "fillmode": "overlay",
             "size": 10,
             "solidity": 0.2
            },
            "type": "scatter"
           }
          ],
          "scatter3d": [
           {
            "line": {
             "colorbar": {
              "outlinewidth": 0,
              "ticks": ""
             }
            },
            "marker": {
             "colorbar": {
              "outlinewidth": 0,
              "ticks": ""
             }
            },
            "type": "scatter3d"
           }
          ],
          "scattercarpet": [
           {
            "marker": {
             "colorbar": {
              "outlinewidth": 0,
              "ticks": ""
             }
            },
            "type": "scattercarpet"
           }
          ],
          "scattergeo": [
           {
            "marker": {
             "colorbar": {
              "outlinewidth": 0,
              "ticks": ""
             }
            },
            "type": "scattergeo"
           }
          ],
          "scattergl": [
           {
            "marker": {
             "colorbar": {
              "outlinewidth": 0,
              "ticks": ""
             }
            },
            "type": "scattergl"
           }
          ],
          "scattermapbox": [
           {
            "marker": {
             "colorbar": {
              "outlinewidth": 0,
              "ticks": ""
             }
            },
            "type": "scattermapbox"
           }
          ],
          "scatterpolar": [
           {
            "marker": {
             "colorbar": {
              "outlinewidth": 0,
              "ticks": ""
             }
            },
            "type": "scatterpolar"
           }
          ],
          "scatterpolargl": [
           {
            "marker": {
             "colorbar": {
              "outlinewidth": 0,
              "ticks": ""
             }
            },
            "type": "scatterpolargl"
           }
          ],
          "scatterternary": [
           {
            "marker": {
             "colorbar": {
              "outlinewidth": 0,
              "ticks": ""
             }
            },
            "type": "scatterternary"
           }
          ],
          "surface": [
           {
            "colorbar": {
             "outlinewidth": 0,
             "ticks": ""
            },
            "colorscale": [
             [
              0,
              "#0d0887"
             ],
             [
              0.1111111111111111,
              "#46039f"
             ],
             [
              0.2222222222222222,
              "#7201a8"
             ],
             [
              0.3333333333333333,
              "#9c179e"
             ],
             [
              0.4444444444444444,
              "#bd3786"
             ],
             [
              0.5555555555555556,
              "#d8576b"
             ],
             [
              0.6666666666666666,
              "#ed7953"
             ],
             [
              0.7777777777777778,
              "#fb9f3a"
             ],
             [
              0.8888888888888888,
              "#fdca26"
             ],
             [
              1,
              "#f0f921"
             ]
            ],
            "type": "surface"
           }
          ],
          "table": [
           {
            "cells": {
             "fill": {
              "color": "#EBF0F8"
             },
             "line": {
              "color": "white"
             }
            },
            "header": {
             "fill": {
              "color": "#C8D4E3"
             },
             "line": {
              "color": "white"
             }
            },
            "type": "table"
           }
          ]
         },
         "layout": {
          "annotationdefaults": {
           "arrowcolor": "#2a3f5f",
           "arrowhead": 0,
           "arrowwidth": 1
          },
          "autotypenumbers": "strict",
          "coloraxis": {
           "colorbar": {
            "outlinewidth": 0,
            "ticks": ""
           }
          },
          "colorscale": {
           "diverging": [
            [
             0,
             "#8e0152"
            ],
            [
             0.1,
             "#c51b7d"
            ],
            [
             0.2,
             "#de77ae"
            ],
            [
             0.3,
             "#f1b6da"
            ],
            [
             0.4,
             "#fde0ef"
            ],
            [
             0.5,
             "#f7f7f7"
            ],
            [
             0.6,
             "#e6f5d0"
            ],
            [
             0.7,
             "#b8e186"
            ],
            [
             0.8,
             "#7fbc41"
            ],
            [
             0.9,
             "#4d9221"
            ],
            [
             1,
             "#276419"
            ]
           ],
           "sequential": [
            [
             0,
             "#0d0887"
            ],
            [
             0.1111111111111111,
             "#46039f"
            ],
            [
             0.2222222222222222,
             "#7201a8"
            ],
            [
             0.3333333333333333,
             "#9c179e"
            ],
            [
             0.4444444444444444,
             "#bd3786"
            ],
            [
             0.5555555555555556,
             "#d8576b"
            ],
            [
             0.6666666666666666,
             "#ed7953"
            ],
            [
             0.7777777777777778,
             "#fb9f3a"
            ],
            [
             0.8888888888888888,
             "#fdca26"
            ],
            [
             1,
             "#f0f921"
            ]
           ],
           "sequentialminus": [
            [
             0,
             "#0d0887"
            ],
            [
             0.1111111111111111,
             "#46039f"
            ],
            [
             0.2222222222222222,
             "#7201a8"
            ],
            [
             0.3333333333333333,
             "#9c179e"
            ],
            [
             0.4444444444444444,
             "#bd3786"
            ],
            [
             0.5555555555555556,
             "#d8576b"
            ],
            [
             0.6666666666666666,
             "#ed7953"
            ],
            [
             0.7777777777777778,
             "#fb9f3a"
            ],
            [
             0.8888888888888888,
             "#fdca26"
            ],
            [
             1,
             "#f0f921"
            ]
           ]
          },
          "colorway": [
           "#636efa",
           "#EF553B",
           "#00cc96",
           "#ab63fa",
           "#FFA15A",
           "#19d3f3",
           "#FF6692",
           "#B6E880",
           "#FF97FF",
           "#FECB52"
          ],
          "font": {
           "color": "#2a3f5f"
          },
          "geo": {
           "bgcolor": "white",
           "lakecolor": "white",
           "landcolor": "#E5ECF6",
           "showlakes": true,
           "showland": true,
           "subunitcolor": "white"
          },
          "hoverlabel": {
           "align": "left"
          },
          "hovermode": "closest",
          "mapbox": {
           "style": "light"
          },
          "paper_bgcolor": "white",
          "plot_bgcolor": "#E5ECF6",
          "polar": {
           "angularaxis": {
            "gridcolor": "white",
            "linecolor": "white",
            "ticks": ""
           },
           "bgcolor": "#E5ECF6",
           "radialaxis": {
            "gridcolor": "white",
            "linecolor": "white",
            "ticks": ""
           }
          },
          "scene": {
           "xaxis": {
            "backgroundcolor": "#E5ECF6",
            "gridcolor": "white",
            "gridwidth": 2,
            "linecolor": "white",
            "showbackground": true,
            "ticks": "",
            "zerolinecolor": "white"
           },
           "yaxis": {
            "backgroundcolor": "#E5ECF6",
            "gridcolor": "white",
            "gridwidth": 2,
            "linecolor": "white",
            "showbackground": true,
            "ticks": "",
            "zerolinecolor": "white"
           },
           "zaxis": {
            "backgroundcolor": "#E5ECF6",
            "gridcolor": "white",
            "gridwidth": 2,
            "linecolor": "white",
            "showbackground": true,
            "ticks": "",
            "zerolinecolor": "white"
           }
          },
          "shapedefaults": {
           "line": {
            "color": "#2a3f5f"
           }
          },
          "ternary": {
           "aaxis": {
            "gridcolor": "white",
            "linecolor": "white",
            "ticks": ""
           },
           "baxis": {
            "gridcolor": "white",
            "linecolor": "white",
            "ticks": ""
           },
           "bgcolor": "#E5ECF6",
           "caxis": {
            "gridcolor": "white",
            "linecolor": "white",
            "ticks": ""
           }
          },
          "title": {
           "x": 0.05
          },
          "xaxis": {
           "automargin": true,
           "gridcolor": "white",
           "linecolor": "white",
           "ticks": "",
           "title": {
            "standoff": 15
           },
           "zerolinecolor": "white",
           "zerolinewidth": 2
          },
          "yaxis": {
           "automargin": true,
           "gridcolor": "white",
           "linecolor": "white",
           "ticks": "",
           "title": {
            "standoff": 15
           },
           "zerolinecolor": "white",
           "zerolinewidth": 2
          }
         }
        },
        "width": 1200,
        "xaxis": {
         "anchor": "y",
         "domain": [
          0,
          1
         ],
         "type": "date"
        },
        "yaxis": {
         "anchor": "x",
         "categoryarray": [
          "Upper air water vapour",
          "Surface Radiation Budget",
          "Soil Moisture",
          "Sea Level",
          "Sea Ice",
          "SST",
          "Precipitation",
          "Ozone",
          "Ocean Colour",
          "Land Cover",
          "Lakes",
          "LAI",
          "Ice Sheets",
          "Glaciers",
          "GHG",
          "Fire",
          "FAPAR",
          "Earth Radiation Budget",
          "Albedo",
          "Aerosols"
         ],
         "categoryorder": "array",
         "domain": [
          0,
          1
         ],
         "title": {
          "text": "ECV"
         }
        }
       }
      }
     },
     "metadata": {},
     "output_type": "display_data"
    }
   ],
   "source": [
    "df2 = datasets_df.copy()\n",
    "\n",
    "sdates=df2.groupby(['ECV'])['startdate'].min()\n",
    "edates=df2.groupby(['ECV'])['enddate'].max()\n",
    "\n",
    "df3 =pd.concat([sdates,edates],axis=1)\n",
    "print(df3.to_markdown())\n",
    "\n",
    "fig = px.timeline(df3, x_start=\"startdate\", x_end=\"enddate\", y=df3.index,color=df3.index)\n",
    "# fig = px.timeline(datasets_df, x_start=\"startdate\", x_end=\"enddate\", y='ECV')\n",
    "# fig.update_yaxes(autorange=\"reversed\")\n",
    "fig.update_layout(\n",
    "    autosize=False,\n",
    "    width=1200,\n",
    "    height=800,\n",
    ")\n",
    "fig.show()"
   ]
  }
 ],
 "metadata": {
  "kernelspec": {
   "display_name": "base",
   "language": "python",
   "name": "python3"
  },
  "language_info": {
   "codemirror_mode": {
    "name": "ipython",
    "version": 3
   },
   "file_extension": ".py",
   "mimetype": "text/x-python",
   "name": "python",
   "nbconvert_exporter": "python",
   "pygments_lexer": "ipython3",
   "version": "3.11.4"
  },
  "orig_nbformat": 4
 },
 "nbformat": 4,
 "nbformat_minor": 2
}
